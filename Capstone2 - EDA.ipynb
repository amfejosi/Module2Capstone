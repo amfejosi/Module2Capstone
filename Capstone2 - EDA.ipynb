{
 "cells": [
  {
   "cell_type": "markdown",
   "metadata": {},
   "source": [
    "Import Libraries"
   ]
  },
  {
   "cell_type": "code",
   "execution_count": 244,
   "metadata": {},
   "outputs": [],
   "source": [
    "import pandas as pd\n",
    "import numpy as np\n",
    "import seaborn as sns\n",
    "import matplotlib.pyplot as plt \n",
    "import folium"
   ]
  },
  {
   "cell_type": "code",
   "execution_count": 245,
   "metadata": {},
   "outputs": [
    {
     "data": {
      "text/html": [
       "<div>\n",
       "<style scoped>\n",
       "    .dataframe tbody tr th:only-of-type {\n",
       "        vertical-align: middle;\n",
       "    }\n",
       "\n",
       "    .dataframe tbody tr th {\n",
       "        vertical-align: top;\n",
       "    }\n",
       "\n",
       "    .dataframe thead th {\n",
       "        text-align: right;\n",
       "    }\n",
       "</style>\n",
       "<table border=\"1\" class=\"dataframe\">\n",
       "  <thead>\n",
       "    <tr style=\"text-align: right;\">\n",
       "      <th></th>\n",
       "      <th>Unnamed: 0</th>\n",
       "      <th>id</th>\n",
       "      <th>host_id</th>\n",
       "      <th>neighbourhood</th>\n",
       "      <th>region</th>\n",
       "      <th>room_type</th>\n",
       "      <th>price</th>\n",
       "      <th>minimum_nights</th>\n",
       "      <th>reviews_count_bc</th>\n",
       "      <th>reviews_activity</th>\n",
       "      <th>reviews_month_bc</th>\n",
       "      <th>reviews_engagement</th>\n",
       "    </tr>\n",
       "  </thead>\n",
       "  <tbody>\n",
       "    <tr>\n",
       "      <th>0</th>\n",
       "      <td>0</td>\n",
       "      <td>27934</td>\n",
       "      <td>120437</td>\n",
       "      <td>Ratchathewi</td>\n",
       "      <td>Central</td>\n",
       "      <td>Entire home/apt</td>\n",
       "      <td>1905</td>\n",
       "      <td>3</td>\n",
       "      <td>2.928458</td>\n",
       "      <td>High</td>\n",
       "      <td>0.301359</td>\n",
       "      <td>Moderate</td>\n",
       "    </tr>\n",
       "    <tr>\n",
       "      <th>1</th>\n",
       "      <td>1</td>\n",
       "      <td>959254</td>\n",
       "      <td>5153476</td>\n",
       "      <td>Khlong Toei</td>\n",
       "      <td>Central</td>\n",
       "      <td>Entire home/apt</td>\n",
       "      <td>1400</td>\n",
       "      <td>30</td>\n",
       "      <td>0.000000</td>\n",
       "      <td>Low</td>\n",
       "      <td>0.000000</td>\n",
       "      <td>Low</td>\n",
       "    </tr>\n",
       "    <tr>\n",
       "      <th>2</th>\n",
       "      <td>2</td>\n",
       "      <td>1791481</td>\n",
       "      <td>9399478</td>\n",
       "      <td>Khlong Toei</td>\n",
       "      <td>Central</td>\n",
       "      <td>Entire home/apt</td>\n",
       "      <td>1577</td>\n",
       "      <td>30</td>\n",
       "      <td>3.010781</td>\n",
       "      <td>High</td>\n",
       "      <td>0.381783</td>\n",
       "      <td>High</td>\n",
       "    </tr>\n",
       "    <tr>\n",
       "      <th>3</th>\n",
       "      <td>3</td>\n",
       "      <td>1793000</td>\n",
       "      <td>9407280</td>\n",
       "      <td>Vadhana</td>\n",
       "      <td>Central</td>\n",
       "      <td>Entire home/apt</td>\n",
       "      <td>5034</td>\n",
       "      <td>21</td>\n",
       "      <td>3.529709</td>\n",
       "      <td>High</td>\n",
       "      <td>0.557674</td>\n",
       "      <td>High</td>\n",
       "    </tr>\n",
       "    <tr>\n",
       "      <th>4</th>\n",
       "      <td>4</td>\n",
       "      <td>1808600</td>\n",
       "      <td>9478184</td>\n",
       "      <td>Khlong Toei</td>\n",
       "      <td>Central</td>\n",
       "      <td>Entire home/apt</td>\n",
       "      <td>2078</td>\n",
       "      <td>60</td>\n",
       "      <td>3.038267</td>\n",
       "      <td>High</td>\n",
       "      <td>0.374712</td>\n",
       "      <td>High</td>\n",
       "    </tr>\n",
       "  </tbody>\n",
       "</table>\n",
       "</div>"
      ],
      "text/plain": [
       "   Unnamed: 0       id  host_id neighbourhood   region        room_type  \\\n",
       "0           0    27934   120437   Ratchathewi  Central  Entire home/apt   \n",
       "1           1   959254  5153476   Khlong Toei  Central  Entire home/apt   \n",
       "2           2  1791481  9399478   Khlong Toei  Central  Entire home/apt   \n",
       "3           3  1793000  9407280       Vadhana  Central  Entire home/apt   \n",
       "4           4  1808600  9478184   Khlong Toei  Central  Entire home/apt   \n",
       "\n",
       "   price  minimum_nights  reviews_count_bc reviews_activity  reviews_month_bc  \\\n",
       "0   1905               3          2.928458             High          0.301359   \n",
       "1   1400              30          0.000000              Low          0.000000   \n",
       "2   1577              30          3.010781             High          0.381783   \n",
       "3   5034              21          3.529709             High          0.557674   \n",
       "4   2078              60          3.038267             High          0.374712   \n",
       "\n",
       "  reviews_engagement  \n",
       "0           Moderate  \n",
       "1                Low  \n",
       "2               High  \n",
       "3               High  \n",
       "4               High  "
      ]
     },
     "execution_count": 245,
     "metadata": {},
     "output_type": "execute_result"
    }
   ],
   "source": [
    "# read csv file and save into dataframe df\n",
    "df = pd.read_csv(\"Airbnb Listings Bangkok Clean.csv\")\n",
    "df.head()"
   ]
  },
  {
   "cell_type": "code",
   "execution_count": 246,
   "metadata": {},
   "outputs": [
    {
     "data": {
      "text/plain": [
       "Text(0.5, 1.0, 'Mean Price of Room Types by Region')"
      ]
     },
     "execution_count": 246,
     "metadata": {},
     "output_type": "execute_result"
    },
    {
     "data": {
      "image/png": "[encoded data removed]",
      "text/plain": [
       "<Figure size 1000x600 with 1 Axes>"
      ]
     },
     "metadata": {},
     "output_type": "display_data"
    }
   ],
   "source": [
    "# bar graph showing the difference in price for each room_type in the different regions\n",
    "plt.figure(figsize=(10, 6))\n",
    "sns.barplot(x = \"room_type\", y = \"price\", data = df, hue = \"region\", estimator=np.mean, errorbar= None, palette=\"viridis\")\n",
    "plt.title(\"Mean Price of Room Types by Region\")"
   ]
  },
  {
   "cell_type": "code",
   "execution_count": 247,
   "metadata": {},
   "outputs": [],
   "source": [
    "df[\"reviews_activity\"] = pd.Categorical(\n",
    "    df[\"reviews_activity\"],\n",
    "    categories=[\"Low\", \"Moderate\", \"High\"],\n",
    "    ordered=True\n",
    ")"
   ]
  },
  {
   "cell_type": "code",
   "execution_count": 248,
   "metadata": {},
   "outputs": [],
   "source": [
    "# # separate dataframes into different room_type\n",
    "# eha_df = df[df[\"room_type\"] == \"Entire home/apt\"]\n",
    "# hr_df = df[df[\"room_type\"] == \"Hotel room\"]\n",
    "# pr_df = df[df[\"room_type\"] == \"Private room\"]\n",
    "# sr_df = df[df[\"room_type\"] == \"Shared room\"]"
   ]
  },
  {
   "cell_type": "markdown",
   "metadata": {},
   "source": [
    "summary statistics for price across each reviews_activity category"
   ]
  },
  {
   "cell_type": "code",
   "execution_count": 249,
   "metadata": {},
   "outputs": [
    {
     "name": "stderr",
     "output_type": "stream",
     "text": [
      "C:\\Users\\amfed\\AppData\\Local\\Temp\\ipykernel_6600\\1330745961.py:2: FutureWarning: The default of observed=False is deprecated and will be changed to True in a future version of pandas. Pass observed=False to retain current behavior or observed=True to adopt the future default and silence this warning.\n",
      "  df.groupby([\"room_type\", \"reviews_activity\"])[\"price\"].describe()\n"
     ]
    },
    {
     "data": {
      "text/html": [
       "<div>\n",
       "<style scoped>\n",
       "    .dataframe tbody tr th:only-of-type {\n",
       "        vertical-align: middle;\n",
       "    }\n",
       "\n",
       "    .dataframe tbody tr th {\n",
       "        vertical-align: top;\n",
       "    }\n",
       "\n",
       "    .dataframe thead th {\n",
       "        text-align: right;\n",
       "    }\n",
       "</style>\n",
       "<table border=\"1\" class=\"dataframe\">\n",
       "  <thead>\n",
       "    <tr style=\"text-align: right;\">\n",
       "      <th></th>\n",
       "      <th></th>\n",
       "      <th>count</th>\n",
       "      <th>mean</th>\n",
       "      <th>std</th>\n",
       "      <th>min</th>\n",
       "      <th>25%</th>\n",
       "      <th>50%</th>\n",
       "      <th>75%</th>\n",
       "      <th>max</th>\n",
       "    </tr>\n",
       "    <tr>\n",
       "      <th>room_type</th>\n",
       "      <th>reviews_activity</th>\n",
       "      <th></th>\n",
       "      <th></th>\n",
       "      <th></th>\n",
       "      <th></th>\n",
       "      <th></th>\n",
       "      <th></th>\n",
       "      <th></th>\n",
       "      <th></th>\n",
       "    </tr>\n",
       "  </thead>\n",
       "  <tbody>\n",
       "    <tr>\n",
       "      <th rowspan=\"3\" valign=\"top\">Entire home/apt</th>\n",
       "      <th>Low</th>\n",
       "      <td>3610.0</td>\n",
       "      <td>1651.878393</td>\n",
       "      <td>1001.439765</td>\n",
       "      <td>313.0</td>\n",
       "      <td>900.0</td>\n",
       "      <td>1400.0</td>\n",
       "      <td>2078.00</td>\n",
       "      <td>5431.0</td>\n",
       "    </tr>\n",
       "    <tr>\n",
       "      <th>Moderate</th>\n",
       "      <td>2580.0</td>\n",
       "      <td>1587.387984</td>\n",
       "      <td>947.479722</td>\n",
       "      <td>346.0</td>\n",
       "      <td>930.0</td>\n",
       "      <td>1333.5</td>\n",
       "      <td>2000.00</td>\n",
       "      <td>5449.0</td>\n",
       "    </tr>\n",
       "    <tr>\n",
       "      <th>High</th>\n",
       "      <td>3156.0</td>\n",
       "      <td>1728.653676</td>\n",
       "      <td>1000.882668</td>\n",
       "      <td>322.0</td>\n",
       "      <td>1000.0</td>\n",
       "      <td>1485.5</td>\n",
       "      <td>2124.00</td>\n",
       "      <td>5429.0</td>\n",
       "    </tr>\n",
       "    <tr>\n",
       "      <th rowspan=\"3\" valign=\"top\">Hotel room</th>\n",
       "      <th>Low</th>\n",
       "      <td>322.0</td>\n",
       "      <td>2058.251553</td>\n",
       "      <td>1302.924923</td>\n",
       "      <td>0.0</td>\n",
       "      <td>1118.5</td>\n",
       "      <td>1600.0</td>\n",
       "      <td>2735.00</td>\n",
       "      <td>6603.0</td>\n",
       "    </tr>\n",
       "    <tr>\n",
       "      <th>Moderate</th>\n",
       "      <td>192.0</td>\n",
       "      <td>2071.348958</td>\n",
       "      <td>1362.627946</td>\n",
       "      <td>360.0</td>\n",
       "      <td>1199.0</td>\n",
       "      <td>1600.0</td>\n",
       "      <td>2600.00</td>\n",
       "      <td>6513.0</td>\n",
       "    </tr>\n",
       "    <tr>\n",
       "      <th>High</th>\n",
       "      <td>247.0</td>\n",
       "      <td>1872.611336</td>\n",
       "      <td>1281.318237</td>\n",
       "      <td>350.0</td>\n",
       "      <td>979.0</td>\n",
       "      <td>1496.0</td>\n",
       "      <td>2329.00</td>\n",
       "      <td>6612.0</td>\n",
       "    </tr>\n",
       "    <tr>\n",
       "      <th rowspan=\"3\" valign=\"top\">Private room</th>\n",
       "      <th>Low</th>\n",
       "      <td>1747.0</td>\n",
       "      <td>1555.101889</td>\n",
       "      <td>954.910159</td>\n",
       "      <td>278.0</td>\n",
       "      <td>850.0</td>\n",
       "      <td>1280.0</td>\n",
       "      <td>2000.00</td>\n",
       "      <td>5800.0</td>\n",
       "    </tr>\n",
       "    <tr>\n",
       "      <th>Moderate</th>\n",
       "      <td>817.0</td>\n",
       "      <td>1379.436965</td>\n",
       "      <td>872.053218</td>\n",
       "      <td>300.0</td>\n",
       "      <td>800.0</td>\n",
       "      <td>1100.0</td>\n",
       "      <td>1723.00</td>\n",
       "      <td>5500.0</td>\n",
       "    </tr>\n",
       "    <tr>\n",
       "      <th>High</th>\n",
       "      <td>1077.0</td>\n",
       "      <td>1313.522748</td>\n",
       "      <td>918.472703</td>\n",
       "      <td>304.0</td>\n",
       "      <td>700.0</td>\n",
       "      <td>990.0</td>\n",
       "      <td>1529.00</td>\n",
       "      <td>5800.0</td>\n",
       "    </tr>\n",
       "    <tr>\n",
       "      <th rowspan=\"3\" valign=\"top\">Shared room</th>\n",
       "      <th>Low</th>\n",
       "      <td>330.0</td>\n",
       "      <td>747.293939</td>\n",
       "      <td>449.440295</td>\n",
       "      <td>280.0</td>\n",
       "      <td>450.0</td>\n",
       "      <td>550.0</td>\n",
       "      <td>900.00</td>\n",
       "      <td>2340.0</td>\n",
       "    </tr>\n",
       "    <tr>\n",
       "      <th>Moderate</th>\n",
       "      <td>132.0</td>\n",
       "      <td>685.575758</td>\n",
       "      <td>421.900103</td>\n",
       "      <td>295.0</td>\n",
       "      <td>390.0</td>\n",
       "      <td>550.0</td>\n",
       "      <td>834.25</td>\n",
       "      <td>2300.0</td>\n",
       "    </tr>\n",
       "    <tr>\n",
       "      <th>High</th>\n",
       "      <td>177.0</td>\n",
       "      <td>606.570621</td>\n",
       "      <td>305.249948</td>\n",
       "      <td>313.0</td>\n",
       "      <td>400.0</td>\n",
       "      <td>486.0</td>\n",
       "      <td>735.00</td>\n",
       "      <td>1800.0</td>\n",
       "    </tr>\n",
       "  </tbody>\n",
       "</table>\n",
       "</div>"
      ],
      "text/plain": [
       "                                   count         mean          std    min  \\\n",
       "room_type       reviews_activity                                            \n",
       "Entire home/apt Low               3610.0  1651.878393  1001.439765  313.0   \n",
       "                Moderate          2580.0  1587.387984   947.479722  346.0   \n",
       "                High              3156.0  1728.653676  1000.882668  322.0   \n",
       "Hotel room      Low                322.0  2058.251553  1302.924923    0.0   \n",
       "                Moderate           192.0  2071.348958  1362.627946  360.0   \n",
       "                High               247.0  1872.611336  1281.318237  350.0   \n",
       "Private room    Low               1747.0  1555.101889   954.910159  278.0   \n",
       "                Moderate           817.0  1379.436965   872.053218  300.0   \n",
       "                High              1077.0  1313.522748   918.472703  304.0   \n",
       "Shared room     Low                330.0   747.293939   449.440295  280.0   \n",
       "                Moderate           132.0   685.575758   421.900103  295.0   \n",
       "                High               177.0   606.570621   305.249948  313.0   \n",
       "\n",
       "                                     25%     50%      75%     max  \n",
       "room_type       reviews_activity                                   \n",
       "Entire home/apt Low                900.0  1400.0  2078.00  5431.0  \n",
       "                Moderate           930.0  1333.5  2000.00  5449.0  \n",
       "                High              1000.0  1485.5  2124.00  5429.0  \n",
       "Hotel room      Low               1118.5  1600.0  2735.00  6603.0  \n",
       "                Moderate          1199.0  1600.0  2600.00  6513.0  \n",
       "                High               979.0  1496.0  2329.00  6612.0  \n",
       "Private room    Low                850.0  1280.0  2000.00  5800.0  \n",
       "                Moderate           800.0  1100.0  1723.00  5500.0  \n",
       "                High               700.0   990.0  1529.00  5800.0  \n",
       "Shared room     Low                450.0   550.0   900.00  2340.0  \n",
       "                Moderate           390.0   550.0   834.25  2300.0  \n",
       "                High               400.0   486.0   735.00  1800.0  "
      ]
     },
     "execution_count": 249,
     "metadata": {},
     "output_type": "execute_result"
    }
   ],
   "source": [
    "# descriptive statistics\n",
    "df.groupby([\"room_type\", \"reviews_activity\"])[\"price\"].describe()"
   ]
  },
  {
   "cell_type": "code",
   "execution_count": 250,
   "metadata": {},
   "outputs": [
    {
     "name": "stderr",
     "output_type": "stream",
     "text": [
      "C:\\Users\\amfed\\AppData\\Local\\Temp\\ipykernel_6600\\1152924905.py:2: FutureWarning: The default of observed=False is deprecated and will be changed to True in a future version of pandas. Pass observed=False to retain current behavior or observed=True to adopt the future default and silence this warning.\n",
      "  df.groupby([\"room_type\", \"reviews_activity\"])[\"price\"].mean()\n"
     ]
    },
    {
     "data": {
      "text/plain": [
       "room_type        reviews_activity\n",
       "Entire home/apt  Low                 1651.878393\n",
       "                 Moderate            1587.387984\n",
       "                 High                1728.653676\n",
       "Hotel room       Low                 2058.251553\n",
       "                 Moderate            2071.348958\n",
       "                 High                1872.611336\n",
       "Private room     Low                 1555.101889\n",
       "                 Moderate            1379.436965\n",
       "                 High                1313.522748\n",
       "Shared room      Low                  747.293939\n",
       "                 Moderate             685.575758\n",
       "                 High                 606.570621\n",
       "Name: price, dtype: float64"
      ]
     },
     "execution_count": 250,
     "metadata": {},
     "output_type": "execute_result"
    }
   ],
   "source": [
    "# average price by reviews activity\n",
    "df.groupby([\"room_type\", \"reviews_activity\"])[\"price\"].mean()"
   ]
  },
  {
   "cell_type": "code",
   "execution_count": 251,
   "metadata": {},
   "outputs": [],
   "source": [
    "# create numerical values for the ordinal values in reviews_activity and reviews_engagement\n",
    "df[\"reviews_activity_num\"] = df[\"reviews_activity\"].map({\"Low\": 1, \"Moderate\": 2, \"High\": 3})\n",
    "df[\"reviews_activity_num\"] = df[\"reviews_activity_num\"].astype(int)"
   ]
  },
  {
   "cell_type": "code",
   "execution_count": 252,
   "metadata": {},
   "outputs": [],
   "source": [
    "df[\"reviews_engagement_num\"] = df[\"reviews_engagement\"].map({\"Low\": 1, \"Moderate\": 2, \"High\": 3})"
   ]
  },
  {
   "cell_type": "code",
   "execution_count": 253,
   "metadata": {},
   "outputs": [],
   "source": [
    "df = df[[\"id\", \"host_id\", \"neighbourhood\", \"region\", \"room_type\", \"price\", \"minimum_nights\", \"reviews_count_bc\", \"reviews_activity\", \"reviews_activity_num\", \"reviews_month_bc\", \"reviews_engagement\", \"reviews_engagement_num\"]]"
   ]
  },
  {
   "cell_type": "code",
   "execution_count": 254,
   "metadata": {},
   "outputs": [],
   "source": [
    "# revenue potential estimation\n",
    "df[\"revenue_potential\"] = df[\"price\"] * df[\"reviews_activity_num\"]"
   ]
  },
  {
   "cell_type": "code",
   "execution_count": 255,
   "metadata": {},
   "outputs": [
    {
     "data": {
      "text/html": [
       "<div>\n",
       "<style scoped>\n",
       "    .dataframe tbody tr th:only-of-type {\n",
       "        vertical-align: middle;\n",
       "    }\n",
       "\n",
       "    .dataframe tbody tr th {\n",
       "        vertical-align: top;\n",
       "    }\n",
       "\n",
       "    .dataframe thead th {\n",
       "        text-align: right;\n",
       "    }\n",
       "</style>\n",
       "<table border=\"1\" class=\"dataframe\">\n",
       "  <thead>\n",
       "    <tr style=\"text-align: right;\">\n",
       "      <th></th>\n",
       "      <th>id</th>\n",
       "      <th>host_id</th>\n",
       "      <th>neighbourhood</th>\n",
       "      <th>region</th>\n",
       "      <th>room_type</th>\n",
       "      <th>price</th>\n",
       "      <th>minimum_nights</th>\n",
       "      <th>reviews_count_bc</th>\n",
       "      <th>reviews_activity</th>\n",
       "      <th>reviews_activity_num</th>\n",
       "      <th>reviews_month_bc</th>\n",
       "      <th>reviews_engagement</th>\n",
       "      <th>reviews_engagement_num</th>\n",
       "      <th>revenue_potential</th>\n",
       "    </tr>\n",
       "  </thead>\n",
       "  <tbody>\n",
       "    <tr>\n",
       "      <th>0</th>\n",
       "      <td>27934</td>\n",
       "      <td>120437</td>\n",
       "      <td>Ratchathewi</td>\n",
       "      <td>Central</td>\n",
       "      <td>Entire home/apt</td>\n",
       "      <td>1905</td>\n",
       "      <td>3</td>\n",
       "      <td>2.928458</td>\n",
       "      <td>High</td>\n",
       "      <td>3</td>\n",
       "      <td>0.301359</td>\n",
       "      <td>Moderate</td>\n",
       "      <td>2</td>\n",
       "      <td>5715</td>\n",
       "    </tr>\n",
       "    <tr>\n",
       "      <th>1</th>\n",
       "      <td>959254</td>\n",
       "      <td>5153476</td>\n",
       "      <td>Khlong Toei</td>\n",
       "      <td>Central</td>\n",
       "      <td>Entire home/apt</td>\n",
       "      <td>1400</td>\n",
       "      <td>30</td>\n",
       "      <td>0.000000</td>\n",
       "      <td>Low</td>\n",
       "      <td>1</td>\n",
       "      <td>0.000000</td>\n",
       "      <td>Low</td>\n",
       "      <td>1</td>\n",
       "      <td>1400</td>\n",
       "    </tr>\n",
       "    <tr>\n",
       "      <th>2</th>\n",
       "      <td>1791481</td>\n",
       "      <td>9399478</td>\n",
       "      <td>Khlong Toei</td>\n",
       "      <td>Central</td>\n",
       "      <td>Entire home/apt</td>\n",
       "      <td>1577</td>\n",
       "      <td>30</td>\n",
       "      <td>3.010781</td>\n",
       "      <td>High</td>\n",
       "      <td>3</td>\n",
       "      <td>0.381783</td>\n",
       "      <td>High</td>\n",
       "      <td>3</td>\n",
       "      <td>4731</td>\n",
       "    </tr>\n",
       "    <tr>\n",
       "      <th>3</th>\n",
       "      <td>1793000</td>\n",
       "      <td>9407280</td>\n",
       "      <td>Vadhana</td>\n",
       "      <td>Central</td>\n",
       "      <td>Entire home/apt</td>\n",
       "      <td>5034</td>\n",
       "      <td>21</td>\n",
       "      <td>3.529709</td>\n",
       "      <td>High</td>\n",
       "      <td>3</td>\n",
       "      <td>0.557674</td>\n",
       "      <td>High</td>\n",
       "      <td>3</td>\n",
       "      <td>15102</td>\n",
       "    </tr>\n",
       "    <tr>\n",
       "      <th>4</th>\n",
       "      <td>1808600</td>\n",
       "      <td>9478184</td>\n",
       "      <td>Khlong Toei</td>\n",
       "      <td>Central</td>\n",
       "      <td>Entire home/apt</td>\n",
       "      <td>2078</td>\n",
       "      <td>60</td>\n",
       "      <td>3.038267</td>\n",
       "      <td>High</td>\n",
       "      <td>3</td>\n",
       "      <td>0.374712</td>\n",
       "      <td>High</td>\n",
       "      <td>3</td>\n",
       "      <td>6234</td>\n",
       "    </tr>\n",
       "  </tbody>\n",
       "</table>\n",
       "</div>"
      ],
      "text/plain": [
       "        id  host_id neighbourhood   region        room_type  price  \\\n",
       "0    27934   120437   Ratchathewi  Central  Entire home/apt   1905   \n",
       "1   959254  5153476   Khlong Toei  Central  Entire home/apt   1400   \n",
       "2  1791481  9399478   Khlong Toei  Central  Entire home/apt   1577   \n",
       "3  1793000  9407280       Vadhana  Central  Entire home/apt   5034   \n",
       "4  1808600  9478184   Khlong Toei  Central  Entire home/apt   2078   \n",
       "\n",
       "   minimum_nights  reviews_count_bc reviews_activity  reviews_activity_num  \\\n",
       "0               3          2.928458             High                     3   \n",
       "1              30          0.000000              Low                     1   \n",
       "2              30          3.010781             High                     3   \n",
       "3              21          3.529709             High                     3   \n",
       "4              60          3.038267             High                     3   \n",
       "\n",
       "   reviews_month_bc reviews_engagement  reviews_engagement_num  \\\n",
       "0          0.301359           Moderate                       2   \n",
       "1          0.000000                Low                       1   \n",
       "2          0.381783               High                       3   \n",
       "3          0.557674               High                       3   \n",
       "4          0.374712               High                       3   \n",
       "\n",
       "   revenue_potential  \n",
       "0               5715  \n",
       "1               1400  \n",
       "2               4731  \n",
       "3              15102  \n",
       "4               6234  "
      ]
     },
     "execution_count": 255,
     "metadata": {},
     "output_type": "execute_result"
    }
   ],
   "source": [
    "df.head()"
   ]
  },
  {
   "cell_type": "code",
   "execution_count": 287,
   "metadata": {},
   "outputs": [
    {
     "data": {
      "text/plain": [
       "room_type        region   \n",
       "Entire home/apt  Central      3513.0\n",
       "                 Northeast    1800.0\n",
       "                 Northwest    2068.0\n",
       "                 Southeast    1700.0\n",
       "                 Southwest    2574.0\n",
       "Hotel room       Central      3600.0\n",
       "                 Northeast    2000.0\n",
       "                 Northwest    2550.0\n",
       "                 Southeast    2101.0\n",
       "                 Southwest    2627.0\n",
       "Private room     Central      2500.0\n",
       "                 Northeast    1500.0\n",
       "                 Northwest    2379.0\n",
       "                 Southeast    1500.0\n",
       "                 Southwest    2000.0\n",
       "Shared room      Central      1170.0\n",
       "                 Northeast     829.0\n",
       "                 Northwest     697.5\n",
       "                 Southeast     600.0\n",
       "                 Southwest    1146.0\n",
       "Name: revenue_potential, dtype: float64"
      ]
     },
     "execution_count": 287,
     "metadata": {},
     "output_type": "execute_result"
    }
   ],
   "source": [
    "# average revenue_potential by room_type and region\n",
    "df.groupby([\"room_type\", \"region\"])[\"revenue_potential\"].median()"
   ]
  },
  {
   "cell_type": "code",
   "execution_count": 315,
   "metadata": {},
   "outputs": [
    {
     "data": {
      "text/plain": [
       "room_type        region   \n",
       "Entire home/apt  Central      3810\n",
       "                 Northeast    1865\n",
       "                 Northwest     828\n",
       "                 Southeast     970\n",
       "                 Southwest    1873\n",
       "Hotel room       Central       329\n",
       "                 Northeast     103\n",
       "                 Northwest     121\n",
       "                 Southeast      52\n",
       "                 Southwest     156\n",
       "Private room     Central       983\n",
       "                 Northeast     888\n",
       "                 Northwest     573\n",
       "                 Southeast     457\n",
       "                 Southwest     740\n",
       "Shared room      Central       177\n",
       "                 Northeast      72\n",
       "                 Northwest     216\n",
       "                 Southeast      41\n",
       "                 Southwest     133\n",
       "Name: id, dtype: int64"
      ]
     },
     "execution_count": 315,
     "metadata": {},
     "output_type": "execute_result"
    }
   ],
   "source": [
    "df.groupby([\"room_type\", \"region\"])[\"id\"].count()"
   ]
  },
  {
   "cell_type": "code",
   "execution_count": 284,
   "metadata": {},
   "outputs": [
    {
     "data": {
      "text/plain": [
       "Text(0.5, 1.0, 'Median Revenue Potential of Room Types by Region')"
      ]
     },
     "execution_count": 284,
     "metadata": {},
     "output_type": "execute_result"
    },
    {
     "data": {
      "image/png": "[encoded data removed]",
      "text/plain": [
       "<Figure size 1000x600 with 1 Axes>"
      ]
     },
     "metadata": {},
     "output_type": "display_data"
    }
   ],
   "source": [
    "# bar graph showing the difference in revenue potential for each room_type in the different regions\n",
    "plt.figure(figsize=(10, 6))\n",
    "sns.barplot(x = \"room_type\", y = \"revenue_potential\", data = df, hue = \"region\", estimator=np.median, errorbar= None, palette=\"viridis\")\n",
    "plt.title(\"Median Revenue Potential of Room Types by Region\")"
   ]
  },
  {
   "cell_type": "markdown",
   "metadata": {},
   "source": [
    "### Inferential statistics - by room_type"
   ]
  },
  {
   "cell_type": "markdown",
   "metadata": {},
   "source": [
    "Ho: there is *no significant difference* in revenue potential across regions for the specific room type\n",
    "<br>\n",
    "Ha: there is *siginificant difference* in revenue potential across regions for the specific room type\n",
    "<br><br>\n",
    "Statistical test: Kurskal wallis test\n",
    "<br>\n",
    "Because the distribution is not normal and logging/boxcox did not help normalising\n"
   ]
  },
  {
   "cell_type": "code",
   "execution_count": 258,
   "metadata": {},
   "outputs": [
    {
     "data": {
      "text/plain": [
       "Text(0.5, 1.0, 'Shared Room')"
      ]
     },
     "execution_count": 258,
     "metadata": {},
     "output_type": "execute_result"
    },
    {
     "data": {
      "image/png": "[encoded data removed]",
      "text/plain": [
       "<Figure size 2000x1000 with 5 Axes>"
      ]
     },
     "metadata": {},
     "output_type": "display_data"
    }
   ],
   "source": [
    "# histplot to see distribution of revenue potential\n",
    "plt.figure(figsize=(20, 10))\n",
    "plt.title(\"Distribution of Revenue Potential for Each Room Type by Region\\n\")\n",
    "plt.box(on= None)\n",
    "plt.axis(\"off\")\n",
    "\n",
    "plt.subplot(2, 2, 1)\n",
    "sns.histplot(x = \"revenue_potential\", data = df[df[\"room_type\"] == \"Entire home/apt\"], hue = \"region\", palette=\"viridis\")\n",
    "plt.title(\"Entire Home/Apt\")\n",
    "\n",
    "plt.subplot(2, 2, 2)\n",
    "sns.histplot(x = \"revenue_potential\", data = df[df[\"room_type\"] == \"Hotel room\"], hue = \"region\", palette=\"viridis\")\n",
    "plt.title(\"Hotel Room\")\n",
    "\n",
    "plt.subplot(2, 2, 3)\n",
    "sns.histplot(x = \"revenue_potential\", data = df[df[\"room_type\"] == \"Private room\"], hue = \"region\", palette=\"viridis\")\n",
    "plt.title(\"Private Room\")\n",
    "\n",
    "plt.subplot(2, 2, 4)\n",
    "sns.histplot(x = \"revenue_potential\", data = df[df[\"room_type\"] == \"Shared room\"], hue = \"region\", palette=\"viridis\")\n",
    "plt.title(\"Shared Room\")"
   ]
  },
  {
   "cell_type": "code",
   "execution_count": 271,
   "metadata": {},
   "outputs": [],
   "source": [
    "# test for normality\n",
    "from scipy.stats import shapiro\n",
    "from scipy import stats\n",
    "from scipy.stats import kruskal"
   ]
  },
  {
   "cell_type": "code",
   "execution_count": 274,
   "metadata": {},
   "outputs": [
    {
     "name": "stdout",
     "output_type": "stream",
     "text": [
      "Room Type: Entire home/apt, Region: Central, P-Value: 9.55423557831046e-49\n",
      "Room Type: Entire home/apt, Region: Northwest, P-Value: 1.013122975678248e-25\n",
      "Room Type: Entire home/apt, Region: Northeast, P-Value: 8.574655418580596e-42\n",
      "Room Type: Entire home/apt, Region: Southwest, P-Value: 4.909864507177628e-40\n",
      "Room Type: Entire home/apt, Region: Southeast, P-Value: 8.391836244648111e-26\n",
      "Room Type: Hotel room, Region: Central, P-Value: 3.808202211119599e-17\n",
      "Room Type: Hotel room, Region: Northwest, P-Value: 7.852402405157741e-13\n",
      "Room Type: Hotel room, Region: Northeast, P-Value: 0.00021031278275183252\n",
      "Room Type: Hotel room, Region: Southwest, P-Value: 1.6237521761595434e-10\n",
      "Room Type: Hotel room, Region: Southeast, P-Value: 0.06794193191883834\n",
      "Room Type: Private room, Region: Central, P-Value: 1.2172938772422902e-35\n",
      "Room Type: Private room, Region: Northwest, P-Value: 2.795554165220901e-25\n",
      "Room Type: Private room, Region: Northeast, P-Value: 1.4935631376887515e-25\n",
      "Room Type: Private room, Region: Southwest, P-Value: 1.1227525460624469e-27\n",
      "Room Type: Private room, Region: Southeast, P-Value: 1.8255351840617478e-23\n",
      "Room Type: Shared room, Region: Central, P-Value: 3.2893882877350084e-14\n",
      "Room Type: Shared room, Region: Northwest, P-Value: 3.2131912304249225e-14\n",
      "Room Type: Shared room, Region: Northeast, P-Value: 1.3845326056496827e-05\n",
      "Room Type: Shared room, Region: Southwest, P-Value: 9.846686007746168e-10\n",
      "Room Type: Shared room, Region: Southeast, P-Value: 4.103134677073471e-06\n"
     ]
    }
   ],
   "source": [
    "room_types = df[\"room_type\"].unique()\n",
    "regions = df[\"region\"].unique()\n",
    "\n",
    "for room in room_types:\n",
    "    for region in regions:\n",
    "          subset = df[(df[\"room_type\"] == room) & (df[\"region\"] == region)]\n",
    "          stat, p = shapiro(subset[\"revenue_potential\"])\n",
    "          print(f\"Room Type: {room}, Region: {region}, P-Value: {p}\")\n",
    "\n",
    "# all pval falls under 0.05 --> none follows the normal distribution (except hotel room in southeast)\n"
   ]
  },
  {
   "cell_type": "code",
   "execution_count": 262,
   "metadata": {},
   "outputs": [],
   "source": [
    "# # logging\n",
    "# df.loc[:, \"log_rev_pot\"] = np.log1p(df[\"revenue_potential\"])"
   ]
  },
  {
   "cell_type": "code",
   "execution_count": null,
   "metadata": {},
   "outputs": [],
   "source": [
    "# # test for normality after logging\n",
    "# room_types = df[\"room_type\"].unique()\n",
    "# regions = df[\"region\"].unique()\n",
    "\n",
    "# for room in room_types:\n",
    "#     for region in regions:\n",
    "#           subset = df[(df[\"room_type\"] == room) & (df[\"region\"] == region)]\n",
    "#           stat, p = shapiro(subset[\"log_rev_pot\"])\n",
    "#           print(f\"Room Type: {room}, Region: {region}, P-Value: {p}\")\n"
   ]
  },
  {
   "cell_type": "code",
   "execution_count": null,
   "metadata": {},
   "outputs": [],
   "source": [
    "### logging didnt work"
   ]
  },
  {
   "cell_type": "code",
   "execution_count": null,
   "metadata": {},
   "outputs": [],
   "source": [
    "# # use boxcox\n",
    "# df.loc[:, \"boxcox_rev_pot\"], _ = stats.boxcox(df[\"revenue_potential\"] + 1)"
   ]
  },
  {
   "cell_type": "code",
   "execution_count": 273,
   "metadata": {},
   "outputs": [],
   "source": [
    "# # test for normality after boxcox\n",
    "# room_types = df[\"room_type\"].unique()\n",
    "# regions = df[\"region\"].unique()\n",
    "\n",
    "# for room in room_types:\n",
    "#     for region in regions:\n",
    "#           subset = df[(df[\"room_type\"] == room) & (df[\"region\"] == region)]\n",
    "#           stat, p = shapiro(subset[\"boxcox_rev_pot\"])\n",
    "#           print(f\"Room Type: {room}, Region: {region}, P-Value: {p}\")"
   ]
  },
  {
   "cell_type": "code",
   "execution_count": null,
   "metadata": {},
   "outputs": [],
   "source": [
    "### boxcox didnt work"
   ]
  },
  {
   "cell_type": "code",
   "execution_count": 288,
   "metadata": {},
   "outputs": [
    {
     "name": "stdout",
     "output_type": "stream",
     "text": [
      "Entire home/apt statistic: 1339.391247131315, pval: 9.581016832520638e-289\n",
      "Reject Ho as revenue potential varies significantly by region for Entire home/apt.\n",
      "There is significant difference in revenue potential.\n",
      "\n",
      "Hotel room statistic: 53.234330252803986, pval: 7.611866421047902e-11\n",
      "Reject Ho as revenue potential varies significantly by region for Hotel room.\n",
      "There is significant difference in revenue potential.\n",
      "\n",
      "Private room statistic: 392.80620415489597, pval: 9.967138937165714e-84\n",
      "Reject Ho as revenue potential varies significantly by region for Private room.\n",
      "There is significant difference in revenue potential.\n",
      "\n",
      "Shared room statistic: 49.59759901439944, pval: 4.3814485235628787e-10\n",
      "Reject Ho as revenue potential varies significantly by region for Shared room.\n",
      "There is significant difference in revenue potential.\n",
      "\n"
     ]
    }
   ],
   "source": [
    "room_types = [\"Entire home/apt\", \"Hotel room\", \"Private room\", \"Shared room\"]\n",
    "results = {}\n",
    "for room in room_types:\n",
    "    subset = df[df[\"room_type\"] == room]\n",
    "    \n",
    "    # Separate regions within room type\n",
    "    Central = subset[subset[\"region\"] == \"Central\"][\"revenue_potential\"]\n",
    "    Northwest = subset[subset[\"region\"] == \"Northwest\"][\"revenue_potential\"]\n",
    "    Northeast = subset[subset[\"region\"] == \"Northeast\"][\"revenue_potential\"]\n",
    "    Southwest = subset[subset[\"region\"] == \"Southwest\"][\"revenue_potential\"]\n",
    "    Southeast = subset[subset[\"region\"] == \"Southeast\"][\"revenue_potential\"]\n",
    "\n",
    "    # Run Kruskal-Wallis test\n",
    "    stat, p_val = kruskal(Central, Northwest, Northeast, Southwest, Southeast)\n",
    "    results[room] = {\"statistic\": stat, \"p_value\": p_val}\n",
    "\n",
    "    print(f\"{room} statistic: {stat}, pval: {p_val}\")\n",
    "\n",
    "    if p_val < 0.05:\n",
    "        print(f\"Reject Ho as revenue potential varies significantly by region for {room}.\")\n",
    "        print(\"There is significant difference in revenue potential.\\n\")\n",
    "    else:\n",
    "        print(f\"Fail to reject Ho. There is no significant difference in revenue potential.\")\n"
   ]
  },
  {
   "cell_type": "code",
   "execution_count": 313,
   "metadata": {},
   "outputs": [
    {
     "name": "stdout",
     "output_type": "stream",
     "text": [
      "Median revenue potential for Entire home/apt\n",
      " region\n",
      "Central      3513.0\n",
      "Southwest    2574.0\n",
      "Northwest    2068.0\n",
      "Northeast    1800.0\n",
      "Southeast    1700.0\n",
      "Name: revenue_potential, dtype: float64\n",
      "\n",
      "Median revenue potential for Hotel room\n",
      " region\n",
      "Central      3600.0\n",
      "Southwest    2627.0\n",
      "Northwest    2550.0\n",
      "Southeast    2101.0\n",
      "Northeast    2000.0\n",
      "Name: revenue_potential, dtype: float64\n",
      "\n",
      "Median revenue potential for Private room\n",
      " region\n",
      "Central      2500.0\n",
      "Northwest    2379.0\n",
      "Southwest    2000.0\n",
      "Northeast    1500.0\n",
      "Southeast    1500.0\n",
      "Name: revenue_potential, dtype: float64\n",
      "\n",
      "Median revenue potential for Shared room\n",
      " region\n",
      "Central      1170.0\n",
      "Southwest    1146.0\n",
      "Northeast     829.0\n",
      "Northwest     697.5\n",
      "Southeast     600.0\n",
      "Name: revenue_potential, dtype: float64\n",
      "\n"
     ]
    }
   ],
   "source": [
    "room_types = [\"Entire home/apt\", \"Hotel room\", \"Private room\", \"Shared room\"]\n",
    "for room in room_types:\n",
    "    medians = df[df[\"room_type\"] == room].groupby(\"region\")[\"revenue_potential\"].median().sort_values(ascending=False)\n",
    "\n",
    "    print(f\"\"\"Median revenue potential for {room}\\n {medians}\\n\"\"\")"
   ]
  },
  {
   "cell_type": "code",
   "execution_count": null,
   "metadata": {},
   "outputs": [],
   "source": []
  }
 ],
 "metadata": {
  "kernelspec": {
   "display_name": "Python 3",
   "language": "python",
   "name": "python3"
  },
  "language_info": {
   "codemirror_mode": {
    "name": "ipython",
    "version": 3
   },
   "file_extension": ".py",
   "mimetype": "text/x-python",
   "name": "python",
   "nbconvert_exporter": "python",
   "pygments_lexer": "ipython3",
   "version": "3.11.9"
  }
 },
 "nbformat": 4,
 "nbformat_minor": 2
}
