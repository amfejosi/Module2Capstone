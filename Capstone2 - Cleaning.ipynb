{
 "cells": [
  {
   "cell_type": "markdown",
   "metadata": {},
   "source": [
    "import libraries"
   ]
  },
  {
   "cell_type": "code",
   "execution_count": 2369,
   "metadata": {},
   "outputs": [],
   "source": [
    "import pandas as pd\n",
    "import numpy as np\n",
    "import seaborn as sns\n",
    "import matplotlib.pyplot as plt \n",
    "import folium"
   ]
  },
  {
   "cell_type": "code",
   "execution_count": 2370,
   "metadata": {},
   "outputs": [],
   "source": [
    "# read csv file and save into dataframe df\n",
    "df = pd.read_csv(\"Airbnb Listings Bangkok.csv\")\n",
    "# df.head()"
   ]
  },
  {
   "cell_type": "code",
   "execution_count": 2371,
   "metadata": {},
   "outputs": [
    {
     "name": "stdout",
     "output_type": "stream",
     "text": [
      "<class 'pandas.core.frame.DataFrame'>\n",
      "RangeIndex: 15854 entries, 0 to 15853\n",
      "Data columns (total 17 columns):\n",
      " #   Column                          Non-Null Count  Dtype  \n",
      "---  ------                          --------------  -----  \n",
      " 0   Unnamed: 0                      15854 non-null  int64  \n",
      " 1   id                              15854 non-null  int64  \n",
      " 2   name                            15846 non-null  object \n",
      " 3   host_id                         15854 non-null  int64  \n",
      " 4   host_name                       15853 non-null  object \n",
      " 5   neighbourhood                   15854 non-null  object \n",
      " 6   latitude                        15854 non-null  float64\n",
      " 7   longitude                       15854 non-null  float64\n",
      " 8   room_type                       15854 non-null  object \n",
      " 9   price                           15854 non-null  int64  \n",
      " 10  minimum_nights                  15854 non-null  int64  \n",
      " 11  number_of_reviews               15854 non-null  int64  \n",
      " 12  last_review                     10064 non-null  object \n",
      " 13  reviews_per_month               10064 non-null  float64\n",
      " 14  calculated_host_listings_count  15854 non-null  int64  \n",
      " 15  availability_365                15854 non-null  int64  \n",
      " 16  number_of_reviews_ltm           15854 non-null  int64  \n",
      "dtypes: float64(3), int64(9), object(5)\n",
      "memory usage: 2.1+ MB\n"
     ]
    }
   ],
   "source": [
    "# basic dataset information\n",
    "df.info()"
   ]
  },
  {
   "cell_type": "markdown",
   "metadata": {},
   "source": [
    "Cleaning missing values"
   ]
  },
  {
   "cell_type": "code",
   "execution_count": 2372,
   "metadata": {},
   "outputs": [
    {
     "data": {
      "text/html": [
       "<div>\n",
       "<style scoped>\n",
       "    .dataframe tbody tr th:only-of-type {\n",
       "        vertical-align: middle;\n",
       "    }\n",
       "\n",
       "    .dataframe tbody tr th {\n",
       "        vertical-align: top;\n",
       "    }\n",
       "\n",
       "    .dataframe thead th {\n",
       "        text-align: right;\n",
       "    }\n",
       "</style>\n",
       "<table border=\"1\" class=\"dataframe\">\n",
       "  <thead>\n",
       "    <tr style=\"text-align: right;\">\n",
       "      <th></th>\n",
       "      <th>id</th>\n",
       "      <th>name</th>\n",
       "      <th>host_id</th>\n",
       "      <th>host_name</th>\n",
       "      <th>neighbourhood</th>\n",
       "      <th>latitude</th>\n",
       "      <th>longitude</th>\n",
       "      <th>room_type</th>\n",
       "      <th>price</th>\n",
       "      <th>minimum_nights</th>\n",
       "      <th>number_of_reviews</th>\n",
       "      <th>last_review</th>\n",
       "      <th>reviews_per_month</th>\n",
       "      <th>calculated_host_listings_count</th>\n",
       "      <th>availability_365</th>\n",
       "      <th>number_of_reviews_ltm</th>\n",
       "    </tr>\n",
       "  </thead>\n",
       "  <tbody>\n",
       "    <tr>\n",
       "      <th>0</th>\n",
       "      <td>27934</td>\n",
       "      <td>Nice room with superb city view</td>\n",
       "      <td>120437</td>\n",
       "      <td>Nuttee</td>\n",
       "      <td>Ratchathewi</td>\n",
       "      <td>13.75983</td>\n",
       "      <td>100.54134</td>\n",
       "      <td>Entire home/apt</td>\n",
       "      <td>1905</td>\n",
       "      <td>3</td>\n",
       "      <td>65</td>\n",
       "      <td>2020-01-06</td>\n",
       "      <td>0.50</td>\n",
       "      <td>2</td>\n",
       "      <td>353</td>\n",
       "      <td>0</td>\n",
       "    </tr>\n",
       "    <tr>\n",
       "      <th>1</th>\n",
       "      <td>27979</td>\n",
       "      <td>Easy going landlord,easy place</td>\n",
       "      <td>120541</td>\n",
       "      <td>Emy</td>\n",
       "      <td>Bang Na</td>\n",
       "      <td>13.66818</td>\n",
       "      <td>100.61674</td>\n",
       "      <td>Private room</td>\n",
       "      <td>1316</td>\n",
       "      <td>1</td>\n",
       "      <td>0</td>\n",
       "      <td>NaN</td>\n",
       "      <td>NaN</td>\n",
       "      <td>2</td>\n",
       "      <td>358</td>\n",
       "      <td>0</td>\n",
       "    </tr>\n",
       "    <tr>\n",
       "      <th>2</th>\n",
       "      <td>28745</td>\n",
       "      <td>modern-style apartment in Bangkok</td>\n",
       "      <td>123784</td>\n",
       "      <td>Familyroom</td>\n",
       "      <td>Bang Kapi</td>\n",
       "      <td>13.75232</td>\n",
       "      <td>100.62402</td>\n",
       "      <td>Private room</td>\n",
       "      <td>800</td>\n",
       "      <td>60</td>\n",
       "      <td>0</td>\n",
       "      <td>NaN</td>\n",
       "      <td>NaN</td>\n",
       "      <td>1</td>\n",
       "      <td>365</td>\n",
       "      <td>0</td>\n",
       "    </tr>\n",
       "    <tr>\n",
       "      <th>3</th>\n",
       "      <td>35780</td>\n",
       "      <td>Spacious one bedroom at The Kris Condo Bldg. 3</td>\n",
       "      <td>153730</td>\n",
       "      <td>Sirilak</td>\n",
       "      <td>Din Daeng</td>\n",
       "      <td>13.78823</td>\n",
       "      <td>100.57256</td>\n",
       "      <td>Private room</td>\n",
       "      <td>1286</td>\n",
       "      <td>7</td>\n",
       "      <td>2</td>\n",
       "      <td>2022-04-01</td>\n",
       "      <td>0.03</td>\n",
       "      <td>1</td>\n",
       "      <td>323</td>\n",
       "      <td>1</td>\n",
       "    </tr>\n",
       "    <tr>\n",
       "      <th>4</th>\n",
       "      <td>941865</td>\n",
       "      <td>Suite Room 3 at MetroPoint</td>\n",
       "      <td>610315</td>\n",
       "      <td>Kasem</td>\n",
       "      <td>Bang Kapi</td>\n",
       "      <td>13.76872</td>\n",
       "      <td>100.63338</td>\n",
       "      <td>Private room</td>\n",
       "      <td>1905</td>\n",
       "      <td>1</td>\n",
       "      <td>0</td>\n",
       "      <td>NaN</td>\n",
       "      <td>NaN</td>\n",
       "      <td>3</td>\n",
       "      <td>365</td>\n",
       "      <td>0</td>\n",
       "    </tr>\n",
       "  </tbody>\n",
       "</table>\n",
       "</div>"
      ],
      "text/plain": [
       "       id                                            name  host_id  \\\n",
       "0   27934                 Nice room with superb city view   120437   \n",
       "1   27979                  Easy going landlord,easy place   120541   \n",
       "2   28745               modern-style apartment in Bangkok   123784   \n",
       "3   35780  Spacious one bedroom at The Kris Condo Bldg. 3   153730   \n",
       "4  941865                      Suite Room 3 at MetroPoint   610315   \n",
       "\n",
       "    host_name neighbourhood  latitude  longitude        room_type  price  \\\n",
       "0      Nuttee   Ratchathewi  13.75983  100.54134  Entire home/apt   1905   \n",
       "1         Emy       Bang Na  13.66818  100.61674     Private room   1316   \n",
       "2  Familyroom     Bang Kapi  13.75232  100.62402     Private room    800   \n",
       "3     Sirilak     Din Daeng  13.78823  100.57256     Private room   1286   \n",
       "4       Kasem     Bang Kapi  13.76872  100.63338     Private room   1905   \n",
       "\n",
       "   minimum_nights  number_of_reviews last_review  reviews_per_month  \\\n",
       "0               3                 65  2020-01-06               0.50   \n",
       "1               1                  0         NaN                NaN   \n",
       "2              60                  0         NaN                NaN   \n",
       "3               7                  2  2022-04-01               0.03   \n",
       "4               1                  0         NaN                NaN   \n",
       "\n",
       "   calculated_host_listings_count  availability_365  number_of_reviews_ltm  \n",
       "0                               2               353                      0  \n",
       "1                               2               358                      0  \n",
       "2                               1               365                      0  \n",
       "3                               1               323                      1  \n",
       "4                               3               365                      0  "
      ]
     },
     "execution_count": 2372,
     "metadata": {},
     "output_type": "execute_result"
    }
   ],
   "source": [
    "# dropping redundant unnamed column\n",
    "df = df.drop(columns=[\"Unnamed: 0\"])\n",
    "df.head()"
   ]
  },
  {
   "cell_type": "code",
   "execution_count": 2373,
   "metadata": {},
   "outputs": [
    {
     "data": {
      "text/plain": [
       "np.int64(0)"
      ]
     },
     "execution_count": 2373,
     "metadata": {},
     "output_type": "execute_result"
    }
   ],
   "source": [
    "# find duplicates and handle accordingly\n",
    "df.duplicated().sum()\n",
    "# no duplicates"
   ]
  },
  {
   "cell_type": "code",
   "execution_count": 2374,
   "metadata": {},
   "outputs": [
    {
     "data": {
      "text/plain": [
       "id                                   0\n",
       "name                                 8\n",
       "host_id                              0\n",
       "host_name                            1\n",
       "neighbourhood                        0\n",
       "latitude                             0\n",
       "longitude                            0\n",
       "room_type                            0\n",
       "price                                0\n",
       "minimum_nights                       0\n",
       "number_of_reviews                    0\n",
       "last_review                       5790\n",
       "reviews_per_month                 5790\n",
       "calculated_host_listings_count       0\n",
       "availability_365                     0\n",
       "number_of_reviews_ltm                0\n",
       "dtype: int64"
      ]
     },
     "execution_count": 2374,
     "metadata": {},
     "output_type": "execute_result"
    }
   ],
   "source": [
    "# find missing values and handle accordingly\n",
    "df.isnull().sum()"
   ]
  },
  {
   "cell_type": "code",
   "execution_count": 2375,
   "metadata": {},
   "outputs": [],
   "source": [
    "# check name column missing values\n",
    "# df[df[\"name\"].isna()]"
   ]
  },
  {
   "cell_type": "code",
   "execution_count": 2376,
   "metadata": {},
   "outputs": [],
   "source": [
    "# since name are descrptive titles, replace them with placeholder value of \"Unknown\"\n",
    "# df[\"name\"].fillna(\"Unknown\", inplace=True)\n",
    "df.fillna({\"name\": \"Unknown\"}, inplace=True)"
   ]
  },
  {
   "cell_type": "code",
   "execution_count": 2377,
   "metadata": {},
   "outputs": [],
   "source": [
    "# double check name column missing values\n",
    "# df[df[\"name\"].isna()]\n",
    "# no more name column missing values"
   ]
  },
  {
   "cell_type": "code",
   "execution_count": 2378,
   "metadata": {},
   "outputs": [],
   "source": [
    "# check host_name column missing values\n",
    "# df[df[\"host_name\"].isna()]"
   ]
  },
  {
   "cell_type": "code",
   "execution_count": 2379,
   "metadata": {},
   "outputs": [],
   "source": [
    "# since host_name is not too important in the analysis, replace them with placeholder value of \"Unknown\"\n",
    "df.fillna({\"host_name\": \"Unknown\"}, inplace=True)"
   ]
  },
  {
   "cell_type": "code",
   "execution_count": 2380,
   "metadata": {},
   "outputs": [],
   "source": [
    "# double check host_name column missing values\n",
    "# df[df[\"host_name\"].isna()]\n",
    "# no more host_name column missing values"
   ]
  },
  {
   "cell_type": "code",
   "execution_count": 2381,
   "metadata": {},
   "outputs": [],
   "source": [
    "# check last_review and reviews_per_month column\n",
    "# df[df[\"last_review\"].isna() & df[\"reviews_per_month\"].isna()]\n",
    "# 5790 missing values --> equal"
   ]
  },
  {
   "cell_type": "code",
   "execution_count": 2382,
   "metadata": {},
   "outputs": [],
   "source": [
    "# len(df[df[\"number_of_reviews\"] == 0])"
   ]
  },
  {
   "cell_type": "code",
   "execution_count": 2383,
   "metadata": {},
   "outputs": [],
   "source": [
    "# last_review column has 5790 missing values\n",
    "# reviews_per_month column has 5790 missing values\n",
    "# above shows 5790 missing values --> btoh last_review and reviews_per_month column falls under the same rows\n",
    "# last_review can be replaced with placeholder value of \"No review\" --> since last_review is an object format\n",
    "# reviews_per_month can be replaced with 0 (no last_review means no reviews were made in any month)\n",
    "\n",
    "df.fillna({\"last_review\": \"No Review\"}, inplace=True)\n",
    "df.fillna({\"reviews_per_month\": 0}, inplace=True)"
   ]
  },
  {
   "cell_type": "code",
   "execution_count": 2384,
   "metadata": {},
   "outputs": [],
   "source": [
    "# double check last_review and reviews_per_month column\n",
    "# df[df[\"last_review\"].isna() & df[\"reviews_per_month\"].isna()]\n",
    "# no more missing values"
   ]
  },
  {
   "cell_type": "code",
   "execution_count": 2385,
   "metadata": {},
   "outputs": [
    {
     "data": {
      "text/plain": [
       "id                                0\n",
       "name                              0\n",
       "host_id                           0\n",
       "host_name                         0\n",
       "neighbourhood                     0\n",
       "latitude                          0\n",
       "longitude                         0\n",
       "room_type                         0\n",
       "price                             0\n",
       "minimum_nights                    0\n",
       "number_of_reviews                 0\n",
       "last_review                       0\n",
       "reviews_per_month                 0\n",
       "calculated_host_listings_count    0\n",
       "availability_365                  0\n",
       "number_of_reviews_ltm             0\n",
       "dtype: int64"
      ]
     },
     "execution_count": 2385,
     "metadata": {},
     "output_type": "execute_result"
    }
   ],
   "source": [
    "# double check all columns for missing values\n",
    "df.isnull().sum()"
   ]
  },
  {
   "cell_type": "markdown",
   "metadata": {},
   "source": [
    "Dataset information after cleaning values"
   ]
  },
  {
   "cell_type": "code",
   "execution_count": 2386,
   "metadata": {},
   "outputs": [
    {
     "data": {
      "text/html": [
       "<div>\n",
       "<style scoped>\n",
       "    .dataframe tbody tr th:only-of-type {\n",
       "        vertical-align: middle;\n",
       "    }\n",
       "\n",
       "    .dataframe tbody tr th {\n",
       "        vertical-align: top;\n",
       "    }\n",
       "\n",
       "    .dataframe thead th {\n",
       "        text-align: right;\n",
       "    }\n",
       "</style>\n",
       "<table border=\"1\" class=\"dataframe\">\n",
       "  <thead>\n",
       "    <tr style=\"text-align: right;\">\n",
       "      <th></th>\n",
       "      <th>id</th>\n",
       "      <th>host_id</th>\n",
       "      <th>latitude</th>\n",
       "      <th>longitude</th>\n",
       "      <th>price</th>\n",
       "      <th>minimum_nights</th>\n",
       "      <th>number_of_reviews</th>\n",
       "      <th>reviews_per_month</th>\n",
       "      <th>calculated_host_listings_count</th>\n",
       "      <th>availability_365</th>\n",
       "      <th>number_of_reviews_ltm</th>\n",
       "    </tr>\n",
       "  </thead>\n",
       "  <tbody>\n",
       "    <tr>\n",
       "      <th>count</th>\n",
       "      <td>1.585400e+04</td>\n",
       "      <td>1.585400e+04</td>\n",
       "      <td>15854.000000</td>\n",
       "      <td>15854.000000</td>\n",
       "      <td>1.585400e+04</td>\n",
       "      <td>15854.000000</td>\n",
       "      <td>15854.000000</td>\n",
       "      <td>15854.000000</td>\n",
       "      <td>15854.000000</td>\n",
       "      <td>15854.000000</td>\n",
       "      <td>15854.000000</td>\n",
       "    </tr>\n",
       "    <tr>\n",
       "      <th>mean</th>\n",
       "      <td>1.579397e+17</td>\n",
       "      <td>1.541058e+08</td>\n",
       "      <td>13.745144</td>\n",
       "      <td>100.559903</td>\n",
       "      <td>3.217704e+03</td>\n",
       "      <td>15.292355</td>\n",
       "      <td>16.654157</td>\n",
       "      <td>0.516178</td>\n",
       "      <td>13.889618</td>\n",
       "      <td>244.378643</td>\n",
       "      <td>3.481519</td>\n",
       "    </tr>\n",
       "    <tr>\n",
       "      <th>std</th>\n",
       "      <td>2.946015e+17</td>\n",
       "      <td>1.318726e+08</td>\n",
       "      <td>0.043040</td>\n",
       "      <td>0.050911</td>\n",
       "      <td>2.497212e+04</td>\n",
       "      <td>50.815020</td>\n",
       "      <td>40.613331</td>\n",
       "      <td>0.952753</td>\n",
       "      <td>30.269848</td>\n",
       "      <td>125.843224</td>\n",
       "      <td>8.916937</td>\n",
       "    </tr>\n",
       "    <tr>\n",
       "      <th>min</th>\n",
       "      <td>2.793400e+04</td>\n",
       "      <td>5.892000e+04</td>\n",
       "      <td>13.527300</td>\n",
       "      <td>100.329550</td>\n",
       "      <td>0.000000e+00</td>\n",
       "      <td>1.000000</td>\n",
       "      <td>0.000000</td>\n",
       "      <td>0.000000</td>\n",
       "      <td>1.000000</td>\n",
       "      <td>0.000000</td>\n",
       "      <td>0.000000</td>\n",
       "    </tr>\n",
       "    <tr>\n",
       "      <th>25%</th>\n",
       "      <td>2.104509e+07</td>\n",
       "      <td>3.974431e+07</td>\n",
       "      <td>13.720090</td>\n",
       "      <td>100.529690</td>\n",
       "      <td>9.000000e+02</td>\n",
       "      <td>1.000000</td>\n",
       "      <td>0.000000</td>\n",
       "      <td>0.000000</td>\n",
       "      <td>1.000000</td>\n",
       "      <td>138.000000</td>\n",
       "      <td>0.000000</td>\n",
       "    </tr>\n",
       "    <tr>\n",
       "      <th>50%</th>\n",
       "      <td>3.503734e+07</td>\n",
       "      <td>1.224556e+08</td>\n",
       "      <td>13.738490</td>\n",
       "      <td>100.561415</td>\n",
       "      <td>1.429000e+03</td>\n",
       "      <td>1.000000</td>\n",
       "      <td>2.000000</td>\n",
       "      <td>0.090000</td>\n",
       "      <td>4.000000</td>\n",
       "      <td>309.000000</td>\n",
       "      <td>0.000000</td>\n",
       "    </tr>\n",
       "    <tr>\n",
       "      <th>75%</th>\n",
       "      <td>5.256154e+07</td>\n",
       "      <td>2.390547e+08</td>\n",
       "      <td>13.759497</td>\n",
       "      <td>100.585150</td>\n",
       "      <td>2.429000e+03</td>\n",
       "      <td>7.000000</td>\n",
       "      <td>13.000000</td>\n",
       "      <td>0.670000</td>\n",
       "      <td>13.000000</td>\n",
       "      <td>360.000000</td>\n",
       "      <td>3.000000</td>\n",
       "    </tr>\n",
       "    <tr>\n",
       "      <th>max</th>\n",
       "      <td>7.908162e+17</td>\n",
       "      <td>4.926659e+08</td>\n",
       "      <td>13.953540</td>\n",
       "      <td>100.923440</td>\n",
       "      <td>1.100000e+06</td>\n",
       "      <td>1125.000000</td>\n",
       "      <td>1224.000000</td>\n",
       "      <td>19.130000</td>\n",
       "      <td>228.000000</td>\n",
       "      <td>365.000000</td>\n",
       "      <td>325.000000</td>\n",
       "    </tr>\n",
       "  </tbody>\n",
       "</table>\n",
       "</div>"
      ],
      "text/plain": [
       "                 id       host_id      latitude     longitude         price  \\\n",
       "count  1.585400e+04  1.585400e+04  15854.000000  15854.000000  1.585400e+04   \n",
       "mean   1.579397e+17  1.541058e+08     13.745144    100.559903  3.217704e+03   \n",
       "std    2.946015e+17  1.318726e+08      0.043040      0.050911  2.497212e+04   \n",
       "min    2.793400e+04  5.892000e+04     13.527300    100.329550  0.000000e+00   \n",
       "25%    2.104509e+07  3.974431e+07     13.720090    100.529690  9.000000e+02   \n",
       "50%    3.503734e+07  1.224556e+08     13.738490    100.561415  1.429000e+03   \n",
       "75%    5.256154e+07  2.390547e+08     13.759497    100.585150  2.429000e+03   \n",
       "max    7.908162e+17  4.926659e+08     13.953540    100.923440  1.100000e+06   \n",
       "\n",
       "       minimum_nights  number_of_reviews  reviews_per_month  \\\n",
       "count    15854.000000       15854.000000       15854.000000   \n",
       "mean        15.292355          16.654157           0.516178   \n",
       "std         50.815020          40.613331           0.952753   \n",
       "min          1.000000           0.000000           0.000000   \n",
       "25%          1.000000           0.000000           0.000000   \n",
       "50%          1.000000           2.000000           0.090000   \n",
       "75%          7.000000          13.000000           0.670000   \n",
       "max       1125.000000        1224.000000          19.130000   \n",
       "\n",
       "       calculated_host_listings_count  availability_365  number_of_reviews_ltm  \n",
       "count                    15854.000000      15854.000000           15854.000000  \n",
       "mean                        13.889618        244.378643               3.481519  \n",
       "std                         30.269848        125.843224               8.916937  \n",
       "min                          1.000000          0.000000               0.000000  \n",
       "25%                          1.000000        138.000000               0.000000  \n",
       "50%                          4.000000        309.000000               0.000000  \n",
       "75%                         13.000000        360.000000               3.000000  \n",
       "max                        228.000000        365.000000             325.000000  "
      ]
     },
     "execution_count": 2386,
     "metadata": {},
     "output_type": "execute_result"
    }
   ],
   "source": [
    "df.describe()"
   ]
  },
  {
   "cell_type": "markdown",
   "metadata": {},
   "source": [
    "# Main Topic\n",
    "Analysing which type of accomodation would be the most fitting for each region based on price, availability, and number of reviews."
   ]
  },
  {
   "cell_type": "code",
   "execution_count": 2387,
   "metadata": {},
   "outputs": [
    {
     "data": {
      "text/plain": [
       "50"
      ]
     },
     "execution_count": 2387,
     "metadata": {},
     "output_type": "execute_result"
    }
   ],
   "source": [
    "# number of different neighbourhood\n",
    "df[\"neighbourhood\"].nunique()"
   ]
  },
  {
   "cell_type": "code",
   "execution_count": 2388,
   "metadata": {},
   "outputs": [
    {
     "data": {
      "text/plain": [
       "4"
      ]
     },
     "execution_count": 2388,
     "metadata": {},
     "output_type": "execute_result"
    }
   ],
   "source": [
    "# number of different room_type\n",
    "df[\"room_type\"].nunique()"
   ]
  },
  {
   "cell_type": "markdown",
   "metadata": {},
   "source": [
    "- want to check the difference in prices between the different types of rooms in different neighbourhoods\n",
    "- logically, the different types of rooms would have different pricings"
   ]
  },
  {
   "cell_type": "code",
   "execution_count": 2389,
   "metadata": {},
   "outputs": [
    {
     "data": {
      "image/png": "[encoded data removed]",
      "text/plain": [
       "<Figure size 3000x1000 with 1 Axes>"
      ]
     },
     "metadata": {},
     "output_type": "display_data"
    }
   ],
   "source": [
    "# create graph to see the mean prices of each room_type in each neighbourhood\n",
    "plt.figure(figsize=(30, 10))\n",
    "sns.barplot(x = \"neighbourhood\", y = \"price\", data = df, hue = \"room_type\", estimator=np.mean, errorbar= None, palette=\"viridis\")\n",
    "plt.title(\"Mean Price of Room Types by Neighborhood\")\n",
    "plt.xticks(rotation=45, ha=\"right\");"
   ]
  },
  {
   "cell_type": "code",
   "execution_count": 2390,
   "metadata": {},
   "outputs": [
    {
     "data": {
      "image/png": "[encoded data removed]",
      "text/plain": [
       "<Figure size 3000x1000 with 1 Axes>"
      ]
     },
     "metadata": {},
     "output_type": "display_data"
    }
   ],
   "source": [
    "# create graph to see the median prices of each room_type in each neighbourhood\n",
    "plt.figure(figsize=(30, 10))\n",
    "sns.barplot(x = \"neighbourhood\", y = \"price\", data = df, hue = \"room_type\", estimator=np.median, errorbar= None, palette=\"viridis\")\n",
    "plt.title(\"Mean Price of Room Types by Neighborhood\")\n",
    "plt.xticks(rotation=45, ha=\"right\");"
   ]
  },
  {
   "cell_type": "markdown",
   "metadata": {},
   "source": [
    "- too many neighbourhoods --> difficult to visualise\n",
    "- separate into different zones based on neighbourhood median longitude & latitude\n",
    "- central, northeast, northwest, southeast, southwest"
   ]
  },
  {
   "cell_type": "code",
   "execution_count": 2391,
   "metadata": {},
   "outputs": [],
   "source": [
    "neighborhood_medians = df.groupby(\"neighbourhood\")[[\"latitude\", \"longitude\"]].median().reset_index()\n",
    "# neighborhood_medians"
   ]
  },
  {
   "cell_type": "code",
   "execution_count": 2392,
   "metadata": {},
   "outputs": [],
   "source": [
    "# find the median of latitude and longitude separately\n",
    "median_lat = df[\"latitude\"].median()   \n",
    "median_lon = df[\"longitude\"].median()  \n",
    "\n",
    "# create function to assign regions based on lat lon\n",
    "def assign_region(lat, lon):\n",
    "\n",
    "    lat_q1, lat_q3 = df[\"latitude\"].quantile([0.25, 0.75])\n",
    "    lon_q1, lon_q3 = df[\"longitude\"].quantile([0.25, 0.75])\n",
    "    iqr_lat = lat_q3 - lat_q1\n",
    "    iqr_lon = lon_q3 - lon_q1\n",
    "    \n",
    "    # Adjust Central Region\n",
    "    central_lat_min = lat_q1\n",
    "    central_lat_max = lat_q3\n",
    "    central_lon_min = lon_q1\n",
    "    central_lon_max = lon_q3\n",
    "    \n",
    "    if central_lat_min <= lat <= central_lat_max and central_lon_min <= lon <= central_lon_max: # central area range\n",
    "        return \"Central\"\n",
    "    elif lat >= median_lat and lon > median_lon:\n",
    "        return \"Northeast\"\n",
    "    elif lat >= median_lat and lon <= median_lon:\n",
    "        return \"Northwest\"\n",
    "    elif lat < median_lat and lon > median_lon:\n",
    "        return \"Southeast\"\n",
    "    elif lat < median_lat and lon <= median_lon:\n",
    "        return \"Southwest\""
   ]
  },
  {
   "cell_type": "code",
   "execution_count": 2393,
   "metadata": {},
   "outputs": [],
   "source": [
    "neighborhood_medians[\"region\"] = neighborhood_medians.apply(\n",
    "    lambda row: assign_region(row[\"latitude\"], row[\"longitude\"]), axis=1\n",
    ")"
   ]
  },
  {
   "cell_type": "code",
   "execution_count": 2394,
   "metadata": {},
   "outputs": [],
   "source": [
    "df = df.merge(neighborhood_medians[[\"neighbourhood\", \"region\"]], on=\"neighbourhood\", how=\"left\")\n",
    "# df.head()"
   ]
  },
  {
   "cell_type": "code",
   "execution_count": 2395,
   "metadata": {},
   "outputs": [
    {
     "data": {
      "text/plain": [
       "region\n",
       "Central      5819\n",
       "Northeast    3245\n",
       "Southwest    3151\n",
       "Northwest    1936\n",
       "Southeast    1703\n",
       "Name: count, dtype: int64"
      ]
     },
     "execution_count": 2395,
     "metadata": {},
     "output_type": "execute_result"
    }
   ],
   "source": [
    "# check number of entries for each region\n",
    "df[\"region\"].value_counts()"
   ]
  },
  {
   "cell_type": "code",
   "execution_count": 2396,
   "metadata": {},
   "outputs": [
    {
     "data": {
      "text/plain": [
       "neighbourhood\n",
       "Vadhana                 2153\n",
       "Khlong Toei             2097\n",
       "Huai Khwang             1125\n",
       "Ratchathewi             1114\n",
       "Bang Rak                 827\n",
       "Sathon                   809\n",
       "Phra Nakhon              619\n",
       "Phra Khanong             558\n",
       "Chatu Chak               548\n",
       "Bang Na                  458\n",
       "Parthum Wan              455\n",
       "Din Daeng                444\n",
       "Phaya Thai               422\n",
       "Suanluang                382\n",
       "Khlong San               357\n",
       "Bang Kapi                260\n",
       "Bang Sue                 250\n",
       "Bang Phlat               217\n",
       "Yan na wa                200\n",
       "Thon buri                182\n",
       "Don Mueang               167\n",
       "Pra Wet                  156\n",
       "Phasi Charoen            155\n",
       "Bangkok Noi              152\n",
       "Lat Krabang              149\n",
       "Bang Kho laen            140\n",
       "Lak Si                   126\n",
       "Pom Prap Sattru Phai     123\n",
       "Bang Khen                116\n",
       "Samphanthawong           114\n",
       "Wang Thong Lang          100\n",
       "Bang Khae                 92\n",
       "Dusit                     91\n",
       "Bangkok Yai               90\n",
       "Chom Thong                74\n",
       "Min Buri                  62\n",
       "Lat Phrao                 57\n",
       "Khan Na Yao               55\n",
       "Bueng Kum                 54\n",
       "Rat Burana                53\n",
       "Taling Chan               50\n",
       "Saphan Sung               45\n",
       "Sai Mai                   40\n",
       "Khlong Sam Wa             32\n",
       "Thung khru                23\n",
       "Bang Khun thain           21\n",
       "Nong Chok                 14\n",
       "Thawi Watthana            12\n",
       "Nong Khaem                 9\n",
       "Bang Bon                   5\n",
       "Name: count, dtype: int64"
      ]
     },
     "execution_count": 2396,
     "metadata": {},
     "output_type": "execute_result"
    }
   ],
   "source": [
    "df[\"neighbourhood\"].value_counts()"
   ]
  },
  {
   "cell_type": "markdown",
   "metadata": {},
   "source": [
    "create map for distribution of listings per region"
   ]
  },
  {
   "cell_type": "code",
   "execution_count": 2397,
   "metadata": {},
   "outputs": [],
   "source": [
    "# Define a color mapping for your regions\n",
    "region_colors = {\n",
    "    \"Central\": \"red\",\n",
    "    \"Northeast\": \"blue\",\n",
    "    \"Southwest\": \"green\",\n",
    "    \"Northwest\": \"purple\",\n",
    "    \"Southeast\": \"orange\"\n",
    "}\n",
    "\n",
    "# Create a base map centered around the average coordinates\n",
    "map_center = [df[\"latitude\"].mean(), df[\"longitude\"].mean()]\n",
    "bangkok_airbnb = folium.Map(location=map_center, zoom_start=12)\n",
    "\n",
    "# Add points for each listing\n",
    "for _, row in df.iterrows():\n",
    "    folium.CircleMarker(\n",
    "        location=[row[\"latitude\"], row[\"longitude\"]],\n",
    "        radius=2,\n",
    "        color=region_colors.get(row[\"region\"], \"black\"),\n",
    "        fill=True,\n",
    "        fill_color=region_colors.get(row[\"region\"], \"black\"),\n",
    "        fill_opacity=0.6,\n",
    "    ).add_to(bangkok_airbnb)\n",
    "\n",
    "# Show the map\n",
    "# bangkok_airbnb"
   ]
  },
  {
   "cell_type": "code",
   "execution_count": 2398,
   "metadata": {},
   "outputs": [
    {
     "data": {
      "text/plain": [
       "room_type\n",
       "Entire home/apt    8912\n",
       "Private room       5770\n",
       "Hotel room          649\n",
       "Shared room         523\n",
       "Name: count, dtype: int64"
      ]
     },
     "execution_count": 2398,
     "metadata": {},
     "output_type": "execute_result"
    }
   ],
   "source": [
    "df[\"room_type\"].value_counts()"
   ]
  },
  {
   "cell_type": "markdown",
   "metadata": {},
   "source": [
    "some listings are miscategorized for room type"
   ]
  },
  {
   "cell_type": "code",
   "execution_count": 2399,
   "metadata": {},
   "outputs": [],
   "source": [
    "# list keywords to access the name column\n",
    "eha_keywords = [\"house\", \"home\", \"apartment\", \"apt\", \"condo\", \"villa\"] # keywords for entire home/apt\n",
    "hr_keywords = [\"hotel\"]    # keywords for hotel room\n",
    "sr_keywords = [\"dorm\", \"hostel\", \"capsule\"] # keywords for shared room\n",
    "# private room will logically be the rest"
   ]
  },
  {
   "cell_type": "code",
   "execution_count": 2400,
   "metadata": {},
   "outputs": [],
   "source": [
    "# recategorize the listings based on keywords\n",
    "for index, row in df.iterrows():\n",
    "    if any(keyword in row[\"name\"].lower() for keyword in eha_keywords):  # Entire home/apt\n",
    "        df.loc[index, \"room_type\"] = \"Entire home/apt\"\n",
    "    elif any(keyword in row[\"name\"].lower() for keyword in hr_keywords):  # Hotel room\n",
    "        df.loc[index, \"room_type\"] = \"Hotel room\"\n",
    "    elif any(keyword in row[\"name\"].lower() for keyword in sr_keywords):  # Shared room\n",
    "        df.loc[index, \"room_type\"] = \"Shared room\"\n",
    "    else:  \n",
    "        pass"
   ]
  },
  {
   "cell_type": "code",
   "execution_count": 2401,
   "metadata": {},
   "outputs": [],
   "source": [
    "# double check\n",
    "# df[(df[\"name\"].str.contains(\"Apartment\", case=False, na=False)) & (df[\"room_type\"] != \"Entire home/apt\")]"
   ]
  },
  {
   "cell_type": "code",
   "execution_count": 2402,
   "metadata": {},
   "outputs": [
    {
     "data": {
      "text/plain": [
       "room_type\n",
       "Entire home/apt    10280\n",
       "Private room        4013\n",
       "Hotel room           838\n",
       "Shared room          723\n",
       "Name: count, dtype: int64"
      ]
     },
     "execution_count": 2402,
     "metadata": {},
     "output_type": "execute_result"
    }
   ],
   "source": [
    "df[\"room_type\"].value_counts()\n",
    "# note that the amount for hotel increased mostly because some hotel rooms are incorrectly miscategorised as a private room"
   ]
  },
  {
   "cell_type": "code",
   "execution_count": 2403,
   "metadata": {},
   "outputs": [
    {
     "data": {
      "text/plain": [
       "Text(0.5, 1.0, 'Mean Price of Room Types by Neighborhood')"
      ]
     },
     "execution_count": 2403,
     "metadata": {},
     "output_type": "execute_result"
    },
    {
     "data": {
      "image/png": "[encoded data removed]",
      "text/plain": [
       "<Figure size 1000x700 with 1 Axes>"
      ]
     },
     "metadata": {},
     "output_type": "display_data"
    }
   ],
   "source": [
    "# create graph to see the mean prices of each room_type in each zonal area - for cleaning purposes\n",
    "plt.figure(figsize=(10, 7))\n",
    "sns.barplot(x = \"region\", y = \"price\", data = df, hue = \"room_type\", estimator=np.mean, errorbar= None, palette=\"viridis\")\n",
    "plt.title(\"Mean Price of Room Types by Neighborhood\")"
   ]
  },
  {
   "cell_type": "code",
   "execution_count": 2404,
   "metadata": {},
   "outputs": [
    {
     "data": {
      "text/plain": [
       "Text(0.5, 1.0, 'Median Price of Room Types by Neighborhood')"
      ]
     },
     "execution_count": 2404,
     "metadata": {},
     "output_type": "execute_result"
    },
    {
     "data": {
      "image/png": "[encoded data removed]",
      "text/plain": [
       "<Figure size 1000x700 with 1 Axes>"
      ]
     },
     "metadata": {},
     "output_type": "display_data"
    }
   ],
   "source": [
    "# create graph to see the median prices of each room_type in each zonal area - for cleaning purposes\n",
    "plt.figure(figsize=(10, 7))\n",
    "sns.barplot(x = \"region\", y = \"price\", data = df, hue = \"room_type\", estimator=np.median, errorbar= None, palette=\"viridis\")\n",
    "plt.title(\"Median Price of Room Types by Neighborhood\")"
   ]
  },
  {
   "cell_type": "markdown",
   "metadata": {},
   "source": [
    "handle outliers per region per room_type"
   ]
  },
  {
   "cell_type": "code",
   "execution_count": 2405,
   "metadata": {},
   "outputs": [],
   "source": [
    "# create sub dataframes based on region\n",
    "central = df[df[\"region\"] == \"Central\"]\n",
    "ne = df[df[\"region\"] == \"Northeast\"]\n",
    "nw = df[df[\"region\"] == \"Northwest\"]\n",
    "se = df[df[\"region\"] == \"Southeast\"]\n",
    "sw = df[df[\"region\"] == \"Southwest\"]"
   ]
  },
  {
   "cell_type": "markdown",
   "metadata": {},
   "source": [
    "## central"
   ]
  },
  {
   "cell_type": "code",
   "execution_count": 2406,
   "metadata": {},
   "outputs": [],
   "source": [
    "# central[\"neighbourhood\"].value_counts()"
   ]
  },
  {
   "cell_type": "code",
   "execution_count": 2407,
   "metadata": {},
   "outputs": [],
   "source": [
    "# central[\"room_type\"].value_counts()"
   ]
  },
  {
   "cell_type": "code",
   "execution_count": 2408,
   "metadata": {},
   "outputs": [],
   "source": [
    "# # create histplot to see distribution of room_type price side by side in central area\n",
    "# plt.figure(figsize=(20, 10))\n",
    "# plt.title(\"Distribution of Prices by Room Types in Central Area\\n\")\n",
    "# plt.box(on= None)\n",
    "# plt.axis(\"off\")\n",
    "\n",
    "# plt.subplot(2, 2, 1)\n",
    "# sns.boxplot(x = \"price\", data = central[central[\"room_type\"] == \"Entire home/apt\"])\n",
    "# plt.title(\"Entire Home/Apt\")\n",
    "\n",
    "# plt.subplot(2, 2, 2)\n",
    "# sns.boxplot(x = \"price\", data = central[central[\"room_type\"] == \"Hotel room\"])\n",
    "# plt.title(\"Hotel Room\")\n",
    "\n",
    "# plt.subplot(2, 2, 3)\n",
    "# sns.boxplot(x = \"price\", data = central[central[\"room_type\"] == \"Private room\"])\n",
    "# plt.title(\"Private Room\")\n",
    "\n",
    "# plt.subplot(2, 2, 4)\n",
    "# sns.boxplot(x = \"price\", data = central[central[\"room_type\"] == \"Shared room\"])\n",
    "# plt.title(\"Shared Room\")"
   ]
  },
  {
   "cell_type": "markdown",
   "metadata": {},
   "source": [
    "- none are normally distributed\n",
    "- there are outliers that need to be addressed"
   ]
  },
  {
   "cell_type": "markdown",
   "metadata": {},
   "source": [
    "remove outliers from entire home/apt"
   ]
  },
  {
   "cell_type": "code",
   "execution_count": 2409,
   "metadata": {},
   "outputs": [],
   "source": [
    "# central[central[\"room_type\"] == \"Entire home/apt\"].sort_values(by = \"price\", ascending=False).head(10)\n",
    "# extreme outliers start from 1000000 and up"
   ]
  },
  {
   "cell_type": "code",
   "execution_count": 2410,
   "metadata": {},
   "outputs": [],
   "source": [
    "central = central.loc[~((central[\"room_type\"] == \"Entire home/apt\") & (central[\"price\"] >= 1000000))]"
   ]
  },
  {
   "cell_type": "code",
   "execution_count": 2411,
   "metadata": {},
   "outputs": [],
   "source": [
    "# create function to calculate iqr and outliers\n",
    "def price_outlier(df):\n",
    "    Q1 = df[\"price\"].quantile(0.25)\n",
    "    Q3 = df[\"price\"].quantile(0.75)\n",
    "    IQR = Q3 - Q1\n",
    "\n",
    "    lower_bound = Q1 - 1.5 * IQR\n",
    "    upper_bound = Q3 + 1.5 * IQR\n",
    "\n",
    "    lower_outliers = df[df[\"price\"] < lower_bound]\n",
    "    upper_outliers = df[df[\"price\"] > upper_bound]\n",
    "\n",
    "    return lower_outliers, upper_outliers, lower_bound, upper_bound"
   ]
  },
  {
   "cell_type": "code",
   "execution_count": 2412,
   "metadata": {},
   "outputs": [],
   "source": [
    "len(price_outlier(central[central[\"room_type\"] == \"Entire home/apt\"])[0])\n",
    "len(price_outlier(central[central[\"room_type\"] == \"Entire home/apt\"])[1])\n",
    "value = price_outlier(central[central[\"room_type\"] == \"Entire home/apt\"])[-1]"
   ]
  },
  {
   "cell_type": "code",
   "execution_count": 2413,
   "metadata": {},
   "outputs": [],
   "source": [
    "central = central.loc[~((central[\"room_type\"] == \"Entire home/apt\") & (central[\"price\"] >= value))]"
   ]
  },
  {
   "cell_type": "markdown",
   "metadata": {},
   "source": [
    "remove outliers from hotel room"
   ]
  },
  {
   "cell_type": "code",
   "execution_count": 2414,
   "metadata": {},
   "outputs": [],
   "source": [
    "# central[central[\"room_type\"] == \"Hotel room\"].sort_values(by = \"price\", ascending=False).head(10)\n",
    "# extreme outliers start from 15000 and up"
   ]
  },
  {
   "cell_type": "code",
   "execution_count": 2415,
   "metadata": {},
   "outputs": [],
   "source": [
    "central = central.loc[~((central[\"room_type\"] == \"Hotel room\") & (central[\"price\"] >= 15000))]"
   ]
  },
  {
   "cell_type": "code",
   "execution_count": 2416,
   "metadata": {},
   "outputs": [],
   "source": [
    "len(price_outlier(central[central[\"room_type\"] == \"Hotel room\"])[0])\n",
    "len(price_outlier(central[central[\"room_type\"] == \"Hotel room\"])[1])\n",
    "value = price_outlier(central[central[\"room_type\"] == \"Hotel room\"])[-1]"
   ]
  },
  {
   "cell_type": "code",
   "execution_count": 2417,
   "metadata": {},
   "outputs": [],
   "source": [
    "central = central.loc[~((central[\"room_type\"] == \"Hotel room\") & (central[\"price\"] >= value))]"
   ]
  },
  {
   "cell_type": "markdown",
   "metadata": {},
   "source": [
    "remove outliers from private room"
   ]
  },
  {
   "cell_type": "code",
   "execution_count": 2418,
   "metadata": {},
   "outputs": [],
   "source": [
    "# central[central[\"room_type\"] == \"Private room\"].sort_values(by = \"price\", ascending=False).head(10)\n",
    "# extreme outliers start from 100000 and up"
   ]
  },
  {
   "cell_type": "code",
   "execution_count": 2419,
   "metadata": {},
   "outputs": [],
   "source": [
    "central = central.loc[~((central[\"room_type\"] == \"Private room\") & (central[\"price\"] >= 100000))]"
   ]
  },
  {
   "cell_type": "code",
   "execution_count": 2420,
   "metadata": {},
   "outputs": [],
   "source": [
    "len(price_outlier(central[central[\"room_type\"] == \"Private room\"])[0])\n",
    "len(price_outlier(central[central[\"room_type\"] == \"Private room\"])[1])\n",
    "value = price_outlier(central[central[\"room_type\"] == \"Private room\"])[-1]"
   ]
  },
  {
   "cell_type": "code",
   "execution_count": 2421,
   "metadata": {},
   "outputs": [],
   "source": [
    "central = central.loc[~((central[\"room_type\"] == \"Private room\") & (central[\"price\"] >= value))]"
   ]
  },
  {
   "cell_type": "markdown",
   "metadata": {},
   "source": [
    "remove outliers from shared room"
   ]
  },
  {
   "cell_type": "code",
   "execution_count": 2422,
   "metadata": {},
   "outputs": [],
   "source": [
    "# central[central[\"room_type\"] == \"Shared room\"].sort_values(by = \"price\", ascending=False).head(10)\n",
    "# extreme outliers start from 300000 and up"
   ]
  },
  {
   "cell_type": "code",
   "execution_count": 2423,
   "metadata": {},
   "outputs": [],
   "source": [
    "central = central.loc[~((central[\"room_type\"] == \"Shared room\") & (central[\"price\"] >= 300000))]"
   ]
  },
  {
   "cell_type": "code",
   "execution_count": 2424,
   "metadata": {},
   "outputs": [],
   "source": [
    "len(price_outlier(central[central[\"room_type\"] == \"Shared room\"])[0])\n",
    "len(price_outlier(central[central[\"room_type\"] == \"Shared room\"])[1])\n",
    "value = price_outlier(central[central[\"room_type\"] == \"Shared room\"])[-1]"
   ]
  },
  {
   "cell_type": "code",
   "execution_count": 2425,
   "metadata": {},
   "outputs": [],
   "source": [
    "central = central.loc[~((central[\"room_type\"] == \"Shared room\") & (central[\"price\"] >= value))]"
   ]
  },
  {
   "cell_type": "code",
   "execution_count": 2426,
   "metadata": {},
   "outputs": [],
   "source": [
    "# # create histplot to see distribution of room_type price side by side in central area - after removing outliers\n",
    "# plt.figure(figsize=(20, 10))\n",
    "# plt.title(\"Distribution of Prices by Room Types in Central Area\\n\")\n",
    "# plt.box(on= None)\n",
    "# plt.axis(\"off\")\n",
    "\n",
    "# plt.subplot(2, 2, 1)\n",
    "# sns.boxplot(x = \"price\", data = central[central[\"room_type\"] == \"Entire home/apt\"])\n",
    "# plt.title(\"Entire Home/Apt\")\n",
    "\n",
    "# plt.subplot(2, 2, 2)\n",
    "# sns.boxplot(x = \"price\", data = central[central[\"room_type\"] == \"Hotel room\"])\n",
    "# plt.title(\"Hotel Room\")\n",
    "\n",
    "# plt.subplot(2, 2, 3)\n",
    "# sns.boxplot(x = \"price\", data = central[central[\"room_type\"] == \"Private room\"])\n",
    "# plt.title(\"Private Room\")\n",
    "\n",
    "# plt.subplot(2, 2, 4)\n",
    "# sns.boxplot(x = \"price\", data = central[central[\"room_type\"] == \"Shared room\"])\n",
    "# plt.title(\"Shared Room\")"
   ]
  },
  {
   "cell_type": "markdown",
   "metadata": {},
   "source": [
    "## Northeast"
   ]
  },
  {
   "cell_type": "code",
   "execution_count": 2427,
   "metadata": {},
   "outputs": [],
   "source": [
    "# ne[\"neighbourhood\"].value_counts()"
   ]
  },
  {
   "cell_type": "code",
   "execution_count": 2428,
   "metadata": {},
   "outputs": [],
   "source": [
    "# ne[\"room_type\"].value_counts()"
   ]
  },
  {
   "cell_type": "code",
   "execution_count": 2429,
   "metadata": {},
   "outputs": [],
   "source": [
    "# # create histplot to see distribution of room_type price side by side in northeast area\n",
    "# plt.figure(figsize=(20, 10))\n",
    "# plt.title(\"Distribution of Prices by Room Types in Northeast Area\\n\")\n",
    "# plt.box(on= None)\n",
    "# plt.axis(\"off\")\n",
    "\n",
    "# plt.subplot(2, 2, 1)\n",
    "# sns.boxplot(x = \"price\", data = ne[ne[\"room_type\"] == \"Entire home/apt\"])\n",
    "# plt.title(\"Entire Home/Apt\")\n",
    "\n",
    "# plt.subplot(2, 2, 2)\n",
    "# sns.boxplot(x = \"price\", data = ne[ne[\"room_type\"] == \"Hotel room\"])\n",
    "# plt.title(\"Hotel Room\")\n",
    "\n",
    "# plt.subplot(2, 2, 3)\n",
    "# sns.boxplot(x = \"price\", data = ne[ne[\"room_type\"] == \"Private room\"])\n",
    "# plt.title(\"Private Room\")\n",
    "\n",
    "# plt.subplot(2, 2, 4)\n",
    "# sns.boxplot(x = \"price\", data = ne[ne[\"room_type\"] == \"Shared room\"])\n",
    "# plt.title(\"Shared Room\")"
   ]
  },
  {
   "cell_type": "markdown",
   "metadata": {},
   "source": [
    "- none are normally distributed\n",
    "- need to handle outliers"
   ]
  },
  {
   "cell_type": "markdown",
   "metadata": {},
   "source": [
    "remove outliers from entire home/apt"
   ]
  },
  {
   "cell_type": "code",
   "execution_count": 2430,
   "metadata": {},
   "outputs": [],
   "source": [
    "# ne[ne[\"room_type\"] == \"Entire home/apt\"].sort_values(by = \"price\", ascending=False).head(20)\n",
    "# extreme outliers start from 60000 and up"
   ]
  },
  {
   "cell_type": "code",
   "execution_count": 2431,
   "metadata": {},
   "outputs": [],
   "source": [
    "ne = ne.loc[~((ne[\"room_type\"] == \"Entire home/apt\") & (ne[\"price\"] >= 60000))]"
   ]
  },
  {
   "cell_type": "code",
   "execution_count": 2432,
   "metadata": {},
   "outputs": [],
   "source": [
    "len(price_outlier(ne[ne[\"room_type\"] == \"Entire home/apt\"])[0])\n",
    "len(price_outlier(ne[ne[\"room_type\"] == \"Entire home/apt\"])[1])\n",
    "value = price_outlier(ne[ne[\"room_type\"] == \"Entire home/apt\"])[-1]"
   ]
  },
  {
   "cell_type": "code",
   "execution_count": 2433,
   "metadata": {},
   "outputs": [],
   "source": [
    "ne = ne.loc[~((ne[\"room_type\"] == \"Entire home/apt\") & (ne[\"price\"] >= value))]"
   ]
  },
  {
   "cell_type": "markdown",
   "metadata": {},
   "source": [
    "remove outliers from hotel room"
   ]
  },
  {
   "cell_type": "code",
   "execution_count": 2434,
   "metadata": {},
   "outputs": [],
   "source": [
    "# ne[ne[\"room_type\"] == \"Hotel room\"].sort_values(by = \"price\", ascending=False).head(10)\n",
    "# extreme outliers start from 9500 and up"
   ]
  },
  {
   "cell_type": "code",
   "execution_count": 2435,
   "metadata": {},
   "outputs": [],
   "source": [
    "ne = ne.loc[~((ne[\"room_type\"] == \"Hotel room\") & (ne[\"price\"] >= 9500))]"
   ]
  },
  {
   "cell_type": "code",
   "execution_count": 2436,
   "metadata": {},
   "outputs": [],
   "source": [
    "len(price_outlier(ne[ne[\"room_type\"] == \"Hotel room\"])[0])\n",
    "len(price_outlier(ne[ne[\"room_type\"] == \"Hotel room\"])[1])\n",
    "value = price_outlier(ne[ne[\"room_type\"] == \"Hotel room\"])[-1]"
   ]
  },
  {
   "cell_type": "code",
   "execution_count": 2437,
   "metadata": {},
   "outputs": [],
   "source": [
    "ne = ne.loc[~((ne[\"room_type\"] == \"Hotel room\") & (ne[\"price\"] >= value))]"
   ]
  },
  {
   "cell_type": "markdown",
   "metadata": {},
   "source": [
    "remove outliers from private room"
   ]
  },
  {
   "cell_type": "code",
   "execution_count": 2438,
   "metadata": {},
   "outputs": [],
   "source": [
    "# ne[ne[\"room_type\"] == \"Private room\"].sort_values(by = \"price\", ascending=False).head(15)\n",
    "# extreme outliers start from 300000 and up"
   ]
  },
  {
   "cell_type": "code",
   "execution_count": 2439,
   "metadata": {},
   "outputs": [],
   "source": [
    "ne = ne.loc[~((ne[\"room_type\"] == \"Private room\") & (ne[\"price\"] >= 300000))]"
   ]
  },
  {
   "cell_type": "code",
   "execution_count": 2440,
   "metadata": {},
   "outputs": [],
   "source": [
    "len(price_outlier(ne[ne[\"room_type\"] == \"Private room\"])[0])\n",
    "len(price_outlier(ne[ne[\"room_type\"] == \"Private room\"])[1])\n",
    "value = price_outlier(ne[ne[\"room_type\"] == \"Private room\"])[-1]"
   ]
  },
  {
   "cell_type": "code",
   "execution_count": 2441,
   "metadata": {},
   "outputs": [],
   "source": [
    "ne = ne.loc[~((ne[\"room_type\"] == \"Private room\") & (ne[\"price\"] >= value))]"
   ]
  },
  {
   "cell_type": "markdown",
   "metadata": {},
   "source": [
    "remove outliers from shared room"
   ]
  },
  {
   "cell_type": "code",
   "execution_count": 2442,
   "metadata": {},
   "outputs": [],
   "source": [
    "# ne[ne[\"room_type\"] == \"Shared room\"].sort_values(by = \"price\", ascending=False).head(10)\n",
    "# extreme outliers start from 4400 and up"
   ]
  },
  {
   "cell_type": "code",
   "execution_count": 2443,
   "metadata": {},
   "outputs": [],
   "source": [
    "ne = ne.loc[~((ne[\"room_type\"] == \"Shared room\") & (ne[\"price\"] >= 4400))]"
   ]
  },
  {
   "cell_type": "code",
   "execution_count": 2444,
   "metadata": {},
   "outputs": [],
   "source": [
    "len(price_outlier(ne[ne[\"room_type\"] == \"Shared room\"])[0])\n",
    "len(price_outlier(ne[ne[\"room_type\"] == \"Shared room\"])[1])\n",
    "value = price_outlier(ne[ne[\"room_type\"] == \"Shared room\"])[-1]"
   ]
  },
  {
   "cell_type": "code",
   "execution_count": 2445,
   "metadata": {},
   "outputs": [],
   "source": [
    "ne = ne.loc[~((ne[\"room_type\"] == \"Shared room\") & (ne[\"price\"] >= value))]"
   ]
  },
  {
   "cell_type": "code",
   "execution_count": 2446,
   "metadata": {},
   "outputs": [],
   "source": [
    "# # create histplot to see distribution of room_type price side by side in northeast area - after removing outliers\n",
    "# plt.figure(figsize=(20, 10))\n",
    "# plt.title(\"Distribution of Prices by Room Types in Northeast Area\\n\")\n",
    "# plt.box(on= None)\n",
    "# plt.axis(\"off\")\n",
    "\n",
    "# plt.subplot(2, 2, 1)\n",
    "# sns.boxplot(x = \"price\", data = ne[ne[\"room_type\"] == \"Entire home/apt\"])\n",
    "# plt.title(\"Entire Home/Apt\")\n",
    "\n",
    "# plt.subplot(2, 2, 2)\n",
    "# sns.boxplot(x = \"price\", data = ne[ne[\"room_type\"] == \"Hotel room\"])\n",
    "# plt.title(\"Hotel Room\")\n",
    "\n",
    "# plt.subplot(2, 2, 3)\n",
    "# sns.boxplot(x = \"price\", data = ne[ne[\"room_type\"] == \"Private room\"])\n",
    "# plt.title(\"Private Room\")\n",
    "\n",
    "# plt.subplot(2, 2, 4)\n",
    "# sns.boxplot(x = \"price\", data = ne[ne[\"room_type\"] == \"Shared room\"])\n",
    "# plt.title(\"Shared Room\")"
   ]
  },
  {
   "cell_type": "markdown",
   "metadata": {},
   "source": [
    "## Southeast"
   ]
  },
  {
   "cell_type": "code",
   "execution_count": 2447,
   "metadata": {},
   "outputs": [],
   "source": [
    "# se[\"neighbourhood\"].value_counts()"
   ]
  },
  {
   "cell_type": "code",
   "execution_count": 2448,
   "metadata": {},
   "outputs": [],
   "source": [
    "# se[\"room_type\"].value_counts()"
   ]
  },
  {
   "cell_type": "code",
   "execution_count": 2449,
   "metadata": {},
   "outputs": [],
   "source": [
    "# # create histplot to see distribution of room_type price side by side in southeast area\n",
    "# plt.figure(figsize=(20, 10))\n",
    "# plt.title(\"Distribution of Prices by Room Types in Southeast Area\\n\")\n",
    "# plt.box(on= None)\n",
    "# plt.axis(\"off\")\n",
    "\n",
    "# plt.subplot(2, 2, 1)\n",
    "# sns.boxplot(x = \"price\", data = se[se[\"room_type\"] == \"Entire home/apt\"])\n",
    "# plt.title(\"Entire Home/Apt\")\n",
    "\n",
    "# plt.subplot(2, 2, 2)\n",
    "# sns.boxplot(x = \"price\", data = se[se[\"room_type\"] == \"Hotel room\"])\n",
    "# plt.title(\"Hotel Room\")\n",
    "\n",
    "# plt.subplot(2, 2, 3)\n",
    "# sns.boxplot(x = \"price\", data = se[se[\"room_type\"] == \"Private room\"])\n",
    "# plt.title(\"Private Room\")\n",
    "\n",
    "# plt.subplot(2, 2, 4)\n",
    "# sns.boxplot(x = \"price\", data = se[se[\"room_type\"] == \"Shared room\"])\n",
    "# plt.title(\"Shared Room\")"
   ]
  },
  {
   "cell_type": "markdown",
   "metadata": {},
   "source": [
    "remove outliers from entire home/apt"
   ]
  },
  {
   "cell_type": "code",
   "execution_count": 2450,
   "metadata": {},
   "outputs": [
    {
     "data": {
      "text/html": [
       "<div>\n",
       "<style scoped>\n",
       "    .dataframe tbody tr th:only-of-type {\n",
       "        vertical-align: middle;\n",
       "    }\n",
       "\n",
       "    .dataframe tbody tr th {\n",
       "        vertical-align: top;\n",
       "    }\n",
       "\n",
       "    .dataframe thead th {\n",
       "        text-align: right;\n",
       "    }\n",
       "</style>\n",
       "<table border=\"1\" class=\"dataframe\">\n",
       "  <thead>\n",
       "    <tr style=\"text-align: right;\">\n",
       "      <th></th>\n",
       "      <th>id</th>\n",
       "      <th>name</th>\n",
       "      <th>host_id</th>\n",
       "      <th>host_name</th>\n",
       "      <th>neighbourhood</th>\n",
       "      <th>latitude</th>\n",
       "      <th>longitude</th>\n",
       "      <th>room_type</th>\n",
       "      <th>price</th>\n",
       "      <th>minimum_nights</th>\n",
       "      <th>number_of_reviews</th>\n",
       "      <th>last_review</th>\n",
       "      <th>reviews_per_month</th>\n",
       "      <th>calculated_host_listings_count</th>\n",
       "      <th>availability_365</th>\n",
       "      <th>number_of_reviews_ltm</th>\n",
       "      <th>region</th>\n",
       "    </tr>\n",
       "  </thead>\n",
       "  <tbody>\n",
       "    <tr>\n",
       "      <th>5061</th>\n",
       "      <td>24882757</td>\n",
       "      <td>Detached House for rent in bangkok \\n\\n$1200/m...</td>\n",
       "      <td>188113892</td>\n",
       "      <td>Preeyawadee</td>\n",
       "      <td>Pra Wet</td>\n",
       "      <td>13.658080</td>\n",
       "      <td>100.693950</td>\n",
       "      <td>Entire home/apt</td>\n",
       "      <td>41557</td>\n",
       "      <td>1</td>\n",
       "      <td>0</td>\n",
       "      <td>No Review</td>\n",
       "      <td>0.00</td>\n",
       "      <td>1</td>\n",
       "      <td>365</td>\n",
       "      <td>0</td>\n",
       "      <td>Southeast</td>\n",
       "    </tr>\n",
       "    <tr>\n",
       "      <th>8812</th>\n",
       "      <td>38003654</td>\n",
       "      <td>[Staycation]Near Rot Fai Train Night Market Condo</td>\n",
       "      <td>263356033</td>\n",
       "      <td>Elements</td>\n",
       "      <td>Pra Wet</td>\n",
       "      <td>13.696550</td>\n",
       "      <td>100.646920</td>\n",
       "      <td>Entire home/apt</td>\n",
       "      <td>36950</td>\n",
       "      <td>1</td>\n",
       "      <td>8</td>\n",
       "      <td>2020-03-02</td>\n",
       "      <td>0.20</td>\n",
       "      <td>6</td>\n",
       "      <td>365</td>\n",
       "      <td>0</td>\n",
       "      <td>Southeast</td>\n",
       "    </tr>\n",
       "    <tr>\n",
       "      <th>1200</th>\n",
       "      <td>8801560</td>\n",
       "      <td>30th floor, 10 min to BTS, Seaview</td>\n",
       "      <td>4517723</td>\n",
       "      <td>Kannicha</td>\n",
       "      <td>Bang Na</td>\n",
       "      <td>13.664170</td>\n",
       "      <td>100.649550</td>\n",
       "      <td>Entire home/apt</td>\n",
       "      <td>35000</td>\n",
       "      <td>998</td>\n",
       "      <td>20</td>\n",
       "      <td>2022-10-30</td>\n",
       "      <td>0.26</td>\n",
       "      <td>7</td>\n",
       "      <td>365</td>\n",
       "      <td>5</td>\n",
       "      <td>Southeast</td>\n",
       "    </tr>\n",
       "    <tr>\n",
       "      <th>13878</th>\n",
       "      <td>709796043409681676</td>\n",
       "      <td>4 Br Villa with Private Plunge Pool, On Nut bts</td>\n",
       "      <td>477497744</td>\n",
       "      <td>Vichak</td>\n",
       "      <td>Suanluang</td>\n",
       "      <td>13.709420</td>\n",
       "      <td>100.611170</td>\n",
       "      <td>Entire home/apt</td>\n",
       "      <td>31910</td>\n",
       "      <td>1</td>\n",
       "      <td>0</td>\n",
       "      <td>No Review</td>\n",
       "      <td>0.00</td>\n",
       "      <td>6</td>\n",
       "      <td>347</td>\n",
       "      <td>0</td>\n",
       "      <td>Southeast</td>\n",
       "    </tr>\n",
       "    <tr>\n",
       "      <th>13062</th>\n",
       "      <td>650615715315613350</td>\n",
       "      <td>Pool Villa 107A</td>\n",
       "      <td>351309638</td>\n",
       "      <td>Smirah</td>\n",
       "      <td>Bang Na</td>\n",
       "      <td>13.662210</td>\n",
       "      <td>100.602340</td>\n",
       "      <td>Entire home/apt</td>\n",
       "      <td>23900</td>\n",
       "      <td>1</td>\n",
       "      <td>4</td>\n",
       "      <td>2022-12-18</td>\n",
       "      <td>0.77</td>\n",
       "      <td>5</td>\n",
       "      <td>360</td>\n",
       "      <td>4</td>\n",
       "      <td>Southeast</td>\n",
       "    </tr>\n",
       "    <tr>\n",
       "      <th>3963</th>\n",
       "      <td>20792684</td>\n",
       "      <td>ให้เช่า ทาวน์โฮม 4 ชั้น สุขุมวิท 101/1 ใกล้ BTS</td>\n",
       "      <td>147034553</td>\n",
       "      <td>ปฏิคม</td>\n",
       "      <td>Bang Na</td>\n",
       "      <td>13.681760</td>\n",
       "      <td>100.614310</td>\n",
       "      <td>Entire home/apt</td>\n",
       "      <td>19000</td>\n",
       "      <td>1</td>\n",
       "      <td>0</td>\n",
       "      <td>No Review</td>\n",
       "      <td>0.00</td>\n",
       "      <td>1</td>\n",
       "      <td>365</td>\n",
       "      <td>0</td>\n",
       "      <td>Southeast</td>\n",
       "    </tr>\n",
       "    <tr>\n",
       "      <th>13063</th>\n",
       "      <td>650615903512188048</td>\n",
       "      <td>Pool Villa 103</td>\n",
       "      <td>351309638</td>\n",
       "      <td>Smirah</td>\n",
       "      <td>Bang Na</td>\n",
       "      <td>13.678675</td>\n",
       "      <td>100.609256</td>\n",
       "      <td>Entire home/apt</td>\n",
       "      <td>18714</td>\n",
       "      <td>1</td>\n",
       "      <td>6</td>\n",
       "      <td>2022-12-07</td>\n",
       "      <td>0.96</td>\n",
       "      <td>5</td>\n",
       "      <td>340</td>\n",
       "      <td>6</td>\n",
       "      <td>Southeast</td>\n",
       "    </tr>\n",
       "    <tr>\n",
       "      <th>5171</th>\n",
       "      <td>25548273</td>\n",
       "      <td>2Houses+10Bed+10Bath, Daily Cleaning, Free Pic...</td>\n",
       "      <td>6906718</td>\n",
       "      <td>Anne Araya</td>\n",
       "      <td>Phra Khanong</td>\n",
       "      <td>13.698800</td>\n",
       "      <td>100.606990</td>\n",
       "      <td>Entire home/apt</td>\n",
       "      <td>18000</td>\n",
       "      <td>1</td>\n",
       "      <td>3</td>\n",
       "      <td>2020-01-28</td>\n",
       "      <td>0.06</td>\n",
       "      <td>25</td>\n",
       "      <td>302</td>\n",
       "      <td>0</td>\n",
       "      <td>Southeast</td>\n",
       "    </tr>\n",
       "    <tr>\n",
       "      <th>11805</th>\n",
       "      <td>50802053</td>\n",
       "      <td>Private Plunge Pool Villa 4 BR for Dinner Party!</td>\n",
       "      <td>240603715</td>\n",
       "      <td>Sasikarn</td>\n",
       "      <td>Suanluang</td>\n",
       "      <td>13.712410</td>\n",
       "      <td>100.635390</td>\n",
       "      <td>Entire home/apt</td>\n",
       "      <td>17286</td>\n",
       "      <td>1</td>\n",
       "      <td>1</td>\n",
       "      <td>2022-04-17</td>\n",
       "      <td>0.12</td>\n",
       "      <td>31</td>\n",
       "      <td>159</td>\n",
       "      <td>1</td>\n",
       "      <td>Southeast</td>\n",
       "    </tr>\n",
       "    <tr>\n",
       "      <th>12725</th>\n",
       "      <td>608356358644561446</td>\n",
       "      <td>Shan : Private Plunge Pool Villa 4 BR , Free WIFI</td>\n",
       "      <td>240603715</td>\n",
       "      <td>Sasikarn</td>\n",
       "      <td>Suanluang</td>\n",
       "      <td>13.708510</td>\n",
       "      <td>100.613270</td>\n",
       "      <td>Entire home/apt</td>\n",
       "      <td>17286</td>\n",
       "      <td>1</td>\n",
       "      <td>0</td>\n",
       "      <td>No Review</td>\n",
       "      <td>0.00</td>\n",
       "      <td>31</td>\n",
       "      <td>348</td>\n",
       "      <td>0</td>\n",
       "      <td>Southeast</td>\n",
       "    </tr>\n",
       "  </tbody>\n",
       "</table>\n",
       "</div>"
      ],
      "text/plain": [
       "                       id                                               name  \\\n",
       "5061             24882757  Detached House for rent in bangkok \\n\\n$1200/m...   \n",
       "8812             38003654  [Staycation]Near Rot Fai Train Night Market Condo   \n",
       "1200              8801560                 30th floor, 10 min to BTS, Seaview   \n",
       "13878  709796043409681676    4 Br Villa with Private Plunge Pool, On Nut bts   \n",
       "13062  650615715315613350                                    Pool Villa 107A   \n",
       "3963             20792684    ให้เช่า ทาวน์โฮม 4 ชั้น สุขุมวิท 101/1 ใกล้ BTS   \n",
       "13063  650615903512188048                                     Pool Villa 103   \n",
       "5171             25548273  2Houses+10Bed+10Bath, Daily Cleaning, Free Pic...   \n",
       "11805            50802053   Private Plunge Pool Villa 4 BR for Dinner Party!   \n",
       "12725  608356358644561446  Shan : Private Plunge Pool Villa 4 BR , Free WIFI   \n",
       "\n",
       "         host_id    host_name neighbourhood   latitude   longitude  \\\n",
       "5061   188113892  Preeyawadee       Pra Wet  13.658080  100.693950   \n",
       "8812   263356033     Elements       Pra Wet  13.696550  100.646920   \n",
       "1200     4517723     Kannicha       Bang Na  13.664170  100.649550   \n",
       "13878  477497744       Vichak     Suanluang  13.709420  100.611170   \n",
       "13062  351309638       Smirah       Bang Na  13.662210  100.602340   \n",
       "3963   147034553        ปฏิคม       Bang Na  13.681760  100.614310   \n",
       "13063  351309638       Smirah       Bang Na  13.678675  100.609256   \n",
       "5171     6906718   Anne Araya  Phra Khanong  13.698800  100.606990   \n",
       "11805  240603715     Sasikarn     Suanluang  13.712410  100.635390   \n",
       "12725  240603715     Sasikarn     Suanluang  13.708510  100.613270   \n",
       "\n",
       "             room_type  price  minimum_nights  number_of_reviews last_review  \\\n",
       "5061   Entire home/apt  41557               1                  0   No Review   \n",
       "8812   Entire home/apt  36950               1                  8  2020-03-02   \n",
       "1200   Entire home/apt  35000             998                 20  2022-10-30   \n",
       "13878  Entire home/apt  31910               1                  0   No Review   \n",
       "13062  Entire home/apt  23900               1                  4  2022-12-18   \n",
       "3963   Entire home/apt  19000               1                  0   No Review   \n",
       "13063  Entire home/apt  18714               1                  6  2022-12-07   \n",
       "5171   Entire home/apt  18000               1                  3  2020-01-28   \n",
       "11805  Entire home/apt  17286               1                  1  2022-04-17   \n",
       "12725  Entire home/apt  17286               1                  0   No Review   \n",
       "\n",
       "       reviews_per_month  calculated_host_listings_count  availability_365  \\\n",
       "5061                0.00                               1               365   \n",
       "8812                0.20                               6               365   \n",
       "1200                0.26                               7               365   \n",
       "13878               0.00                               6               347   \n",
       "13062               0.77                               5               360   \n",
       "3963                0.00                               1               365   \n",
       "13063               0.96                               5               340   \n",
       "5171                0.06                              25               302   \n",
       "11805               0.12                              31               159   \n",
       "12725               0.00                              31               348   \n",
       "\n",
       "       number_of_reviews_ltm     region  \n",
       "5061                       0  Southeast  \n",
       "8812                       0  Southeast  \n",
       "1200                       5  Southeast  \n",
       "13878                      0  Southeast  \n",
       "13062                      4  Southeast  \n",
       "3963                       0  Southeast  \n",
       "13063                      6  Southeast  \n",
       "5171                       0  Southeast  \n",
       "11805                      1  Southeast  \n",
       "12725                      0  Southeast  "
      ]
     },
     "execution_count": 2450,
     "metadata": {},
     "output_type": "execute_result"
    }
   ],
   "source": [
    "se[se[\"room_type\"] == \"Entire home/apt\"].sort_values(by = \"price\", ascending=False).head(10)\n",
    "# extreme outliers start from 23900 and up"
   ]
  },
  {
   "cell_type": "code",
   "execution_count": 2451,
   "metadata": {},
   "outputs": [],
   "source": [
    "se = se.loc[~((se[\"room_type\"] == \"Entire home/apt\") & (se[\"price\"] >= 23900))]"
   ]
  },
  {
   "cell_type": "code",
   "execution_count": 2452,
   "metadata": {},
   "outputs": [],
   "source": [
    "len(price_outlier(se[se[\"room_type\"] == \"Entire home/apt\"])[0])\n",
    "len(price_outlier(se[se[\"room_type\"] == \"Entire home/apt\"])[1])\n",
    "value = price_outlier(se[se[\"room_type\"] == \"Entire home/apt\"])[-1]"
   ]
  },
  {
   "cell_type": "code",
   "execution_count": 2453,
   "metadata": {},
   "outputs": [],
   "source": [
    "se = se.loc[~((se[\"room_type\"] == \"Entire home/apt\") & (se[\"price\"] >= value))]"
   ]
  },
  {
   "cell_type": "markdown",
   "metadata": {},
   "source": [
    "remove outliers from hotel room"
   ]
  },
  {
   "cell_type": "code",
   "execution_count": 2454,
   "metadata": {},
   "outputs": [],
   "source": [
    "# se[se[\"room_type\"] == \"Hotel room\"].sort_values(by = \"price\", ascending=False).head(10)\n",
    "# extreme outliers start from 5000 and up"
   ]
  },
  {
   "cell_type": "code",
   "execution_count": 2455,
   "metadata": {},
   "outputs": [],
   "source": [
    "se = se.loc[~((se[\"room_type\"] == \"Hotel room\") & (se[\"price\"] >= 5000))]"
   ]
  },
  {
   "cell_type": "code",
   "execution_count": 2456,
   "metadata": {},
   "outputs": [],
   "source": [
    "len(price_outlier(se[se[\"room_type\"] == \"Hotel room\"])[0])\n",
    "len(price_outlier(se[se[\"room_type\"] == \"Hotel room\"])[1])\n",
    "value = price_outlier(se[se[\"room_type\"] == \"Hotel room\"])[-1]"
   ]
  },
  {
   "cell_type": "code",
   "execution_count": 2457,
   "metadata": {},
   "outputs": [],
   "source": [
    "se = se.loc[~((se[\"room_type\"] == \"Hotel room\") & (se[\"price\"] >= value))]"
   ]
  },
  {
   "cell_type": "markdown",
   "metadata": {},
   "source": [
    "remove outliers from private room"
   ]
  },
  {
   "cell_type": "code",
   "execution_count": 2458,
   "metadata": {},
   "outputs": [],
   "source": [
    "# se[se[\"room_type\"] == \"Private room\"].sort_values(by = \"price\", ascending=False).head(10)\n",
    "# extreme outliers start from 80000 and up"
   ]
  },
  {
   "cell_type": "code",
   "execution_count": 2459,
   "metadata": {},
   "outputs": [],
   "source": [
    "se = se.loc[~((se[\"room_type\"] == \"Private room\") & (se[\"price\"] >= 80000))]"
   ]
  },
  {
   "cell_type": "code",
   "execution_count": 2460,
   "metadata": {},
   "outputs": [],
   "source": [
    "len(price_outlier(se[se[\"room_type\"] == \"Private room\"])[0])\n",
    "len(price_outlier(se[se[\"room_type\"] == \"Private room\"])[1])\n",
    "value = price_outlier(se[se[\"room_type\"] == \"Private room\"])[-1]"
   ]
  },
  {
   "cell_type": "code",
   "execution_count": 2461,
   "metadata": {},
   "outputs": [],
   "source": [
    "se = se.loc[~((se[\"room_type\"] == \"Private room\") & (se[\"price\"] >= value))]"
   ]
  },
  {
   "cell_type": "markdown",
   "metadata": {},
   "source": [
    "remove outliers from shared room"
   ]
  },
  {
   "cell_type": "code",
   "execution_count": 2462,
   "metadata": {},
   "outputs": [],
   "source": [
    "# se[se[\"room_type\"] == \"Shared room\"].sort_values(by = \"price\", ascending=False).head(10)\n",
    "# extreme outliers start from 13000 and up"
   ]
  },
  {
   "cell_type": "code",
   "execution_count": 2463,
   "metadata": {},
   "outputs": [],
   "source": [
    "se = se.loc[~((se[\"room_type\"] == \"Shared room\") & (se[\"price\"] >= 13000))]"
   ]
  },
  {
   "cell_type": "code",
   "execution_count": 2464,
   "metadata": {},
   "outputs": [],
   "source": [
    "len(price_outlier(se[se[\"room_type\"] == \"Shared room\"])[0])\n",
    "len(price_outlier(se[se[\"room_type\"] == \"Shared room\"])[1])\n",
    "value = price_outlier(se[se[\"room_type\"] == \"Shared room\"])[-1]"
   ]
  },
  {
   "cell_type": "code",
   "execution_count": 2465,
   "metadata": {},
   "outputs": [],
   "source": [
    "se = se.loc[~((se[\"room_type\"] == \"Shared room\") & (se[\"price\"] >= value))]"
   ]
  },
  {
   "cell_type": "code",
   "execution_count": 2466,
   "metadata": {},
   "outputs": [],
   "source": [
    "# # create histplot to see distribution of room_type price side by side in southeast area - after removing outliers\n",
    "# plt.figure(figsize=(20, 10))\n",
    "# plt.title(\"Distribution of Prices by Room Types in Southeast Area\\n\")\n",
    "# plt.box(on= None)\n",
    "# plt.axis(\"off\")\n",
    "\n",
    "# plt.subplot(2, 2, 1)\n",
    "# sns.boxplot(x = \"price\", data = se[se[\"room_type\"] == \"Entire home/apt\"])\n",
    "# plt.title(\"Entire Home/Apt\")\n",
    "\n",
    "# plt.subplot(2, 2, 2)\n",
    "# sns.boxplot(x = \"price\", data = se[se[\"room_type\"] == \"Hotel room\"])\n",
    "# plt.title(\"Hotel Room\")\n",
    "\n",
    "# plt.subplot(2, 2, 3)\n",
    "# sns.boxplot(x = \"price\", data = se[se[\"room_type\"] == \"Private room\"])\n",
    "# plt.title(\"Private Room\")\n",
    "\n",
    "# plt.subplot(2, 2, 4)\n",
    "# sns.boxplot(x = \"price\", data = se[se[\"room_type\"] == \"Shared room\"])\n",
    "# plt.title(\"Shared Room\")"
   ]
  },
  {
   "cell_type": "markdown",
   "metadata": {},
   "source": [
    "## Northwest"
   ]
  },
  {
   "cell_type": "code",
   "execution_count": 2467,
   "metadata": {},
   "outputs": [],
   "source": [
    "# nw[\"neighbourhood\"].value_counts()"
   ]
  },
  {
   "cell_type": "code",
   "execution_count": 2468,
   "metadata": {},
   "outputs": [],
   "source": [
    "# nw[\"room_type\"].value_counts()"
   ]
  },
  {
   "cell_type": "code",
   "execution_count": 2469,
   "metadata": {},
   "outputs": [],
   "source": [
    "# # create histplot to see distribution of room_type price side by side in northwest area\n",
    "# plt.figure(figsize=(20, 10))\n",
    "# plt.title(\"Distribution of Prices by Room Types in Northwest Area\\n\")\n",
    "# plt.box(on= None)\n",
    "# plt.axis(\"off\")\n",
    "\n",
    "# plt.subplot(2, 2, 1)\n",
    "# sns.boxplot(x = \"price\", data = nw[nw[\"room_type\"] == \"Entire home/apt\"])\n",
    "# plt.title(\"Entire Home/Apt\")\n",
    "\n",
    "# plt.subplot(2, 2, 2)\n",
    "# sns.boxplot(x = \"price\", data = nw[nw[\"room_type\"] == \"Hotel room\"])\n",
    "# plt.title(\"Hotel Room\")\n",
    "\n",
    "# plt.subplot(2, 2, 3)\n",
    "# sns.boxplot(x = \"price\", data = nw[nw[\"room_type\"] == \"Private room\"])\n",
    "# plt.title(\"Private Room\")\n",
    "\n",
    "# plt.subplot(2, 2, 4)\n",
    "# sns.boxplot(x = \"price\", data = nw[nw[\"room_type\"] == \"Shared room\"])\n",
    "# plt.title(\"Shared Room\")"
   ]
  },
  {
   "cell_type": "markdown",
   "metadata": {},
   "source": [
    "- not normally distributed\n",
    "- need to handle outliers"
   ]
  },
  {
   "cell_type": "markdown",
   "metadata": {},
   "source": [
    "remove outliers from entire home/apt"
   ]
  },
  {
   "cell_type": "code",
   "execution_count": 2470,
   "metadata": {},
   "outputs": [],
   "source": [
    "# nw[nw[\"room_type\"] == \"Entire home/apt\"].sort_values(by = \"price\", ascending=False).head(10)\n",
    "# extreme outliers start from 25000 and up"
   ]
  },
  {
   "cell_type": "code",
   "execution_count": 2471,
   "metadata": {},
   "outputs": [],
   "source": [
    "nw = nw.loc[~((nw[\"room_type\"] == \"Entire home/apt\") & (nw[\"price\"] >= 25000))]"
   ]
  },
  {
   "cell_type": "code",
   "execution_count": 2472,
   "metadata": {},
   "outputs": [],
   "source": [
    "len(price_outlier(nw[nw[\"room_type\"] == \"Entire home/apt\"])[0])\n",
    "len(price_outlier(nw[nw[\"room_type\"] == \"Entire home/apt\"])[1])\n",
    "value = price_outlier(nw[nw[\"room_type\"] == \"Entire home/apt\"])[-1]"
   ]
  },
  {
   "cell_type": "code",
   "execution_count": 2473,
   "metadata": {},
   "outputs": [],
   "source": [
    "nw = nw.loc[~((nw[\"room_type\"] == \"Entire home/apt\") & (nw[\"price\"] >= value))]"
   ]
  },
  {
   "cell_type": "markdown",
   "metadata": {},
   "source": [
    "remove outlier from hotel room"
   ]
  },
  {
   "cell_type": "code",
   "execution_count": 2474,
   "metadata": {},
   "outputs": [],
   "source": [
    "# nw[nw[\"room_type\"] == \"Hotel room\"].sort_values(by = \"price\", ascending=False).head(10)\n",
    "# extreme outliers start from 12000 and up"
   ]
  },
  {
   "cell_type": "code",
   "execution_count": 2475,
   "metadata": {},
   "outputs": [],
   "source": [
    "nw = nw.loc[~((nw[\"room_type\"] == \"Hotel room\") & (nw[\"price\"] >= 12000))]"
   ]
  },
  {
   "cell_type": "code",
   "execution_count": 2476,
   "metadata": {},
   "outputs": [],
   "source": [
    "len(price_outlier(nw[nw[\"room_type\"] == \"Hotel room\"])[0])\n",
    "len(price_outlier(nw[nw[\"room_type\"] == \"Hotel room\"])[1])\n",
    "value = price_outlier(nw[nw[\"room_type\"] == \"Hotel room\"])[-1]"
   ]
  },
  {
   "cell_type": "code",
   "execution_count": 2477,
   "metadata": {},
   "outputs": [],
   "source": [
    "nw = nw.loc[~((nw[\"room_type\"] == \"Hotel room\") & (nw[\"price\"] >= value))]"
   ]
  },
  {
   "cell_type": "markdown",
   "metadata": {},
   "source": [
    "remove outliers from private room"
   ]
  },
  {
   "cell_type": "code",
   "execution_count": 2478,
   "metadata": {},
   "outputs": [],
   "source": [
    "# nw[nw[\"room_type\"] == \"Private room\"].sort_values(by = \"price\", ascending=False).head(10)\n",
    "# extreme outliers start from 100000 and up"
   ]
  },
  {
   "cell_type": "code",
   "execution_count": 2479,
   "metadata": {},
   "outputs": [],
   "source": [
    "nw = nw.loc[~((nw[\"room_type\"] == \"Private room\") & (nw[\"price\"] >= 100000))]"
   ]
  },
  {
   "cell_type": "code",
   "execution_count": 2480,
   "metadata": {},
   "outputs": [],
   "source": [
    "len(price_outlier(nw[nw[\"room_type\"] == \"Private room\"])[0])\n",
    "len(price_outlier(nw[nw[\"room_type\"] == \"Private room\"])[1])\n",
    "value = price_outlier(nw[nw[\"room_type\"] == \"Private room\"])[-1]"
   ]
  },
  {
   "cell_type": "code",
   "execution_count": 2481,
   "metadata": {},
   "outputs": [],
   "source": [
    "nw = nw.loc[~((nw[\"room_type\"] == \"Private room\") & (nw[\"price\"] >= value))]"
   ]
  },
  {
   "cell_type": "markdown",
   "metadata": {},
   "source": [
    "remove outliers from shared room"
   ]
  },
  {
   "cell_type": "code",
   "execution_count": 2482,
   "metadata": {},
   "outputs": [],
   "source": [
    "# nw[nw[\"room_type\"] == \"Shared room\"].sort_values(by = \"price\", ascending=False).head(10)\n",
    "# extreme outliers start from 5195 and up"
   ]
  },
  {
   "cell_type": "code",
   "execution_count": 2483,
   "metadata": {},
   "outputs": [],
   "source": [
    "nw = nw.loc[~((nw[\"room_type\"] == \"Shared room\") & (nw[\"price\"] >= 5195))]"
   ]
  },
  {
   "cell_type": "code",
   "execution_count": 2484,
   "metadata": {},
   "outputs": [],
   "source": [
    "len(price_outlier(nw[nw[\"room_type\"] == \"Shared room\"])[0])\n",
    "len(price_outlier(nw[nw[\"room_type\"] == \"Shared room\"])[1])\n",
    "value = price_outlier(nw[nw[\"room_type\"] == \"Shared room\"])[-1]"
   ]
  },
  {
   "cell_type": "code",
   "execution_count": 2485,
   "metadata": {},
   "outputs": [],
   "source": [
    "nw = nw.loc[~((nw[\"room_type\"] == \"Shared room\") & (nw[\"price\"] >= value))]"
   ]
  },
  {
   "cell_type": "code",
   "execution_count": 2486,
   "metadata": {},
   "outputs": [],
   "source": [
    "# # create histplot to see distribution of room_type price side by side in northwest area - after removing outliers\n",
    "# plt.figure(figsize=(20, 10))\n",
    "# plt.title(\"Distribution of Prices by Room Types in Northwest Area\\n\")\n",
    "# plt.box(on= None)\n",
    "# plt.axis(\"off\")\n",
    "\n",
    "# plt.subplot(2, 2, 1)\n",
    "# sns.boxplot(x = \"price\", data = nw[nw[\"room_type\"] == \"Entire home/apt\"])\n",
    "# plt.title(\"Entire Home/Apt\")\n",
    "\n",
    "# plt.subplot(2, 2, 2)\n",
    "# sns.boxplot(x = \"price\", data = nw[nw[\"room_type\"] == \"Hotel room\"])\n",
    "# plt.title(\"Hotel Room\")\n",
    "\n",
    "# plt.subplot(2, 2, 3)\n",
    "# sns.boxplot(x = \"price\", data = nw[nw[\"room_type\"] == \"Private room\"])\n",
    "# plt.title(\"Private Room\")\n",
    "\n",
    "# plt.subplot(2, 2, 4)\n",
    "# sns.boxplot(x = \"price\", data = nw[nw[\"room_type\"] == \"Shared room\"])\n",
    "# plt.title(\"Shared Room\")"
   ]
  },
  {
   "cell_type": "markdown",
   "metadata": {},
   "source": [
    "## Southwest"
   ]
  },
  {
   "cell_type": "code",
   "execution_count": 2487,
   "metadata": {},
   "outputs": [],
   "source": [
    "# sw[\"neighbourhood\"].value_counts()"
   ]
  },
  {
   "cell_type": "code",
   "execution_count": 2488,
   "metadata": {},
   "outputs": [],
   "source": [
    "# sw[\"room_type\"].value_counts()"
   ]
  },
  {
   "cell_type": "code",
   "execution_count": 2489,
   "metadata": {},
   "outputs": [],
   "source": [
    "# # create histplot to see distribution of room_type price side by side in northwest area\n",
    "# plt.figure(figsize=(20, 10))\n",
    "# plt.title(\"Distribution of Prices by Room Types in Southwest Area\\n\")\n",
    "# plt.box(on= None)\n",
    "# plt.axis(\"off\")\n",
    "\n",
    "# plt.subplot(2, 2, 1)\n",
    "# sns.boxplot(x = \"price\", data = sw[sw[\"room_type\"] == \"Entire home/apt\"])\n",
    "# plt.title(\"Entire Home/Apt\")\n",
    "\n",
    "# plt.subplot(2, 2, 2)\n",
    "# sns.boxplot(x = \"price\", data = sw[sw[\"room_type\"] == \"Hotel room\"])\n",
    "# plt.title(\"Hotel Room\")\n",
    "\n",
    "# plt.subplot(2, 2, 3)\n",
    "# sns.boxplot(x = \"price\", data = sw[sw[\"room_type\"] == \"Private room\"])\n",
    "# plt.title(\"Private Room\")\n",
    "\n",
    "# plt.subplot(2, 2, 4)\n",
    "# sns.boxplot(x = \"price\", data = sw[sw[\"room_type\"] == \"Shared room\"])\n",
    "# plt.title(\"Shared Room\")"
   ]
  },
  {
   "cell_type": "markdown",
   "metadata": {},
   "source": [
    "remove outliers from entire home/apt"
   ]
  },
  {
   "cell_type": "code",
   "execution_count": 2490,
   "metadata": {},
   "outputs": [],
   "source": [
    "# sw[sw[\"room_type\"] == \"Entire home/apt\"].sort_values(by = \"price\", ascending=False).head(10)\n",
    "# extreme outliers start from 160000 and up"
   ]
  },
  {
   "cell_type": "code",
   "execution_count": 2491,
   "metadata": {},
   "outputs": [],
   "source": [
    "sw = sw.loc[~((sw[\"room_type\"] == \"Entire home/apt\") & (sw[\"price\"] >= 160000))]"
   ]
  },
  {
   "cell_type": "code",
   "execution_count": 2492,
   "metadata": {},
   "outputs": [],
   "source": [
    "len(price_outlier(sw[sw[\"room_type\"] == \"Entire home/apt\"])[0])\n",
    "len(price_outlier(sw[sw[\"room_type\"] == \"Entire home/apt\"])[1])\n",
    "value = price_outlier(sw[sw[\"room_type\"] == \"Entire home/apt\"])[-1]"
   ]
  },
  {
   "cell_type": "code",
   "execution_count": 2493,
   "metadata": {},
   "outputs": [],
   "source": [
    "sw = sw.loc[~((sw[\"room_type\"] == \"Entire home/apt\") & (sw[\"price\"] >= value))]"
   ]
  },
  {
   "cell_type": "markdown",
   "metadata": {},
   "source": [
    "remove outliers from hotel room"
   ]
  },
  {
   "cell_type": "code",
   "execution_count": 2494,
   "metadata": {},
   "outputs": [],
   "source": [
    "# sw[sw[\"room_type\"] == \"Hotel room\"].sort_values(by = \"price\", ascending=False).head(10)\n",
    "# extreme outliers start from 10313 and up"
   ]
  },
  {
   "cell_type": "code",
   "execution_count": 2495,
   "metadata": {},
   "outputs": [],
   "source": [
    "sw = sw.loc[~((sw[\"room_type\"] == \"Hotel room\") & (sw[\"price\"] >= 160000))]"
   ]
  },
  {
   "cell_type": "code",
   "execution_count": 2496,
   "metadata": {},
   "outputs": [],
   "source": [
    "len(price_outlier(sw[sw[\"room_type\"] == \"Hotel room\"])[0])\n",
    "len(price_outlier(sw[sw[\"room_type\"] == \"Hotel room\"])[1])\n",
    "value = price_outlier(sw[sw[\"room_type\"] == \"Hotel room\"])[-1]"
   ]
  },
  {
   "cell_type": "code",
   "execution_count": 2497,
   "metadata": {},
   "outputs": [],
   "source": [
    "sw = sw.loc[~((sw[\"room_type\"] == \"Hotel room\") & (sw[\"price\"] >= value))]"
   ]
  },
  {
   "cell_type": "markdown",
   "metadata": {},
   "source": [
    "remove outliers from private room"
   ]
  },
  {
   "cell_type": "code",
   "execution_count": 2498,
   "metadata": {},
   "outputs": [],
   "source": [
    "# sw[sw[\"room_type\"] == \"Private room\"].sort_values(by = \"price\", ascending=False).head(10)\n",
    "# extreme outliers start from 50000 and up"
   ]
  },
  {
   "cell_type": "code",
   "execution_count": 2499,
   "metadata": {},
   "outputs": [],
   "source": [
    "sw = sw.loc[~((sw[\"room_type\"] == \"Private room\") & (sw[\"price\"] >= 50000))]"
   ]
  },
  {
   "cell_type": "code",
   "execution_count": 2500,
   "metadata": {},
   "outputs": [],
   "source": [
    "len(price_outlier(sw[sw[\"room_type\"] == \"Private room\"])[0])\n",
    "len(price_outlier(sw[sw[\"room_type\"] == \"Private room\"])[1])\n",
    "value = price_outlier(sw[sw[\"room_type\"] == \"Private room\"])[-1]"
   ]
  },
  {
   "cell_type": "code",
   "execution_count": 2501,
   "metadata": {},
   "outputs": [],
   "source": [
    "sw = sw.loc[~((sw[\"room_type\"] == \"Private room\") & (sw[\"price\"] >= value))]"
   ]
  },
  {
   "cell_type": "markdown",
   "metadata": {},
   "source": [
    "remove outliers from shared room"
   ]
  },
  {
   "cell_type": "code",
   "execution_count": 2502,
   "metadata": {},
   "outputs": [],
   "source": [
    "# sw[sw[\"room_type\"] == \"Shared room\"].sort_values(by = \"price\", ascending=False).head(10)\n",
    "# extreme outliers start from 8000 and up"
   ]
  },
  {
   "cell_type": "code",
   "execution_count": 2503,
   "metadata": {},
   "outputs": [],
   "source": [
    "sw = sw.loc[~((sw[\"room_type\"] == \"Shared room\") & (sw[\"price\"] >= 50000))]"
   ]
  },
  {
   "cell_type": "code",
   "execution_count": 2504,
   "metadata": {},
   "outputs": [],
   "source": [
    "len(price_outlier(sw[sw[\"room_type\"] == \"Shared room\"])[0])\n",
    "len(price_outlier(sw[sw[\"room_type\"] == \"Shared room\"])[1])\n",
    "value = price_outlier(sw[sw[\"room_type\"] == \"Shared room\"])[-1]"
   ]
  },
  {
   "cell_type": "code",
   "execution_count": 2505,
   "metadata": {},
   "outputs": [],
   "source": [
    "sw = sw.loc[~((sw[\"room_type\"] == \"Shared room\") & (sw[\"price\"] >= value))]"
   ]
  },
  {
   "cell_type": "code",
   "execution_count": 2506,
   "metadata": {},
   "outputs": [],
   "source": [
    "# # create histplot to see distribution of room_type price side by side in northwest area - after removing outliers\n",
    "# plt.figure(figsize=(20, 10))\n",
    "# plt.title(\"Distribution of Prices by Room Types in Southwest Area\\n\")\n",
    "# plt.box(on= None)\n",
    "# plt.axis(\"off\")\n",
    "\n",
    "# plt.subplot(2, 2, 1)\n",
    "# sns.boxplot(x = \"price\", data = sw[sw[\"room_type\"] == \"Entire home/apt\"])\n",
    "# plt.title(\"Entire Home/Apt\")\n",
    "\n",
    "# plt.subplot(2, 2, 2)\n",
    "# sns.boxplot(x = \"price\", data = sw[sw[\"room_type\"] == \"Hotel room\"])\n",
    "# plt.title(\"Hotel Room\")\n",
    "\n",
    "# plt.subplot(2, 2, 3)\n",
    "# sns.boxplot(x = \"price\", data = sw[sw[\"room_type\"] == \"Private room\"])\n",
    "# plt.title(\"Private Room\")\n",
    "\n",
    "# plt.subplot(2, 2, 4)\n",
    "# sns.boxplot(x = \"price\", data = sw[sw[\"room_type\"] == \"Shared room\"])\n",
    "# plt.title(\"Shared Room\")"
   ]
  },
  {
   "cell_type": "code",
   "execution_count": 2507,
   "metadata": {},
   "outputs": [],
   "source": [
    "df2 = pd.concat([central, nw, sw, ne, se])"
   ]
  },
  {
   "cell_type": "code",
   "execution_count": 2508,
   "metadata": {},
   "outputs": [],
   "source": [
    "# df2.head()"
   ]
  },
  {
   "cell_type": "code",
   "execution_count": 2509,
   "metadata": {},
   "outputs": [],
   "source": [
    "df2 = df2[[\"id\", \"region\", \"neighbourhood\", \"room_type\", \"price\", \"number_of_reviews\", \"availability_365\"]]"
   ]
  },
  {
   "cell_type": "code",
   "execution_count": 2510,
   "metadata": {},
   "outputs": [
    {
     "data": {
      "text/html": [
       "<div>\n",
       "<style scoped>\n",
       "    .dataframe tbody tr th:only-of-type {\n",
       "        vertical-align: middle;\n",
       "    }\n",
       "\n",
       "    .dataframe tbody tr th {\n",
       "        vertical-align: top;\n",
       "    }\n",
       "\n",
       "    .dataframe thead th {\n",
       "        text-align: right;\n",
       "    }\n",
       "</style>\n",
       "<table border=\"1\" class=\"dataframe\">\n",
       "  <thead>\n",
       "    <tr style=\"text-align: right;\">\n",
       "      <th></th>\n",
       "      <th>id</th>\n",
       "      <th>region</th>\n",
       "      <th>neighbourhood</th>\n",
       "      <th>room_type</th>\n",
       "      <th>price</th>\n",
       "      <th>number_of_reviews</th>\n",
       "      <th>availability_365</th>\n",
       "    </tr>\n",
       "  </thead>\n",
       "  <tbody>\n",
       "    <tr>\n",
       "      <th>0</th>\n",
       "      <td>27934</td>\n",
       "      <td>Central</td>\n",
       "      <td>Ratchathewi</td>\n",
       "      <td>Entire home/apt</td>\n",
       "      <td>1905</td>\n",
       "      <td>65</td>\n",
       "      <td>353</td>\n",
       "    </tr>\n",
       "    <tr>\n",
       "      <th>14</th>\n",
       "      <td>959254</td>\n",
       "      <td>Central</td>\n",
       "      <td>Khlong Toei</td>\n",
       "      <td>Entire home/apt</td>\n",
       "      <td>1400</td>\n",
       "      <td>0</td>\n",
       "      <td>365</td>\n",
       "    </tr>\n",
       "    <tr>\n",
       "      <th>16</th>\n",
       "      <td>1791481</td>\n",
       "      <td>Central</td>\n",
       "      <td>Khlong Toei</td>\n",
       "      <td>Entire home/apt</td>\n",
       "      <td>1577</td>\n",
       "      <td>78</td>\n",
       "      <td>330</td>\n",
       "    </tr>\n",
       "    <tr>\n",
       "      <th>19</th>\n",
       "      <td>1793000</td>\n",
       "      <td>Central</td>\n",
       "      <td>Vadhana</td>\n",
       "      <td>Entire home/apt</td>\n",
       "      <td>5034</td>\n",
       "      <td>287</td>\n",
       "      <td>349</td>\n",
       "    </tr>\n",
       "    <tr>\n",
       "      <th>22</th>\n",
       "      <td>965722</td>\n",
       "      <td>Central</td>\n",
       "      <td>Vadhana</td>\n",
       "      <td>Private room</td>\n",
       "      <td>3775</td>\n",
       "      <td>3</td>\n",
       "      <td>364</td>\n",
       "    </tr>\n",
       "  </tbody>\n",
       "</table>\n",
       "</div>"
      ],
      "text/plain": [
       "         id   region neighbourhood        room_type  price  number_of_reviews  \\\n",
       "0     27934  Central   Ratchathewi  Entire home/apt   1905                 65   \n",
       "14   959254  Central   Khlong Toei  Entire home/apt   1400                  0   \n",
       "16  1791481  Central   Khlong Toei  Entire home/apt   1577                 78   \n",
       "19  1793000  Central       Vadhana  Entire home/apt   5034                287   \n",
       "22   965722  Central       Vadhana     Private room   3775                  3   \n",
       "\n",
       "    availability_365  \n",
       "0                353  \n",
       "14               365  \n",
       "16               330  \n",
       "19               349  \n",
       "22               364  "
      ]
     },
     "execution_count": 2510,
     "metadata": {},
     "output_type": "execute_result"
    }
   ],
   "source": [
    "df2.head()"
   ]
  },
  {
   "cell_type": "code",
   "execution_count": 2511,
   "metadata": {},
   "outputs": [
    {
     "data": {
      "text/plain": [
       "Text(0.5, 1.0, 'Median Price of Room Types by Neighborhood')"
      ]
     },
     "execution_count": 2511,
     "metadata": {},
     "output_type": "execute_result"
    },
    {
     "data": {
      "image/png": "[encoded data removed]",
      "text/plain": [
       "<Figure size 1000x700 with 1 Axes>"
      ]
     },
     "metadata": {},
     "output_type": "display_data"
    }
   ],
   "source": [
    "# create graph to see the median prices of each room_type in each zonal area - after removing outliers\n",
    "plt.figure(figsize=(10, 7))\n",
    "sns.barplot(x = \"region\", y = \"price\", data = df2, hue = \"room_type\", estimator=np.median, errorbar= None, palette=\"viridis\")\n",
    "plt.title(\"Median Price of Room Types by Neighborhood\")"
   ]
  },
  {
   "cell_type": "code",
   "execution_count": 2512,
   "metadata": {},
   "outputs": [
    {
     "data": {
      "text/plain": [
       "Text(0.5, 1.0, 'Median Numer of Reviews of by Region')"
      ]
     },
     "execution_count": 2512,
     "metadata": {},
     "output_type": "execute_result"
    },
    {
     "data": {
      "image/png": "[encoded data removed]",
      "text/plain": [
       "<Figure size 1000x700 with 1 Axes>"
      ]
     },
     "metadata": {},
     "output_type": "display_data"
    }
   ],
   "source": [
    "# create graph to see the median prices of each room_type in each zonal area - after removing outliers\n",
    "plt.figure(figsize=(10, 7))\n",
    "sns.barplot(x = \"region\", y = \"number_of_reviews\", data = df2, hue = \"region\", estimator=np.median, errorbar= None, palette=\"viridis\")\n",
    "plt.title(\"Median Numer of Reviews of by Region\")"
   ]
  },
  {
   "cell_type": "code",
   "execution_count": 2513,
   "metadata": {},
   "outputs": [
    {
     "data": {
      "text/plain": [
       "Text(0.5, 1.0, 'Median Number of Reviews of by Region')"
      ]
     },
     "execution_count": 2513,
     "metadata": {},
     "output_type": "execute_result"
    },
    {
     "data": {
      "image/png": "[encoded data removed]",
      "text/plain": [
       "<Figure size 1000x700 with 1 Axes>"
      ]
     },
     "metadata": {},
     "output_type": "display_data"
    }
   ],
   "source": [
    "# create graph to see the median prices of each room_type in each zonal area - after removing outliers\n",
    "plt.figure(figsize=(10, 7))\n",
    "sns.barplot(x = \"region\", y = \"number_of_reviews\", data = df2, hue = \"room_type\", estimator=np.median, errorbar= None, palette=\"viridis\")\n",
    "plt.title(\"Median Number of Reviews of by Region\")"
   ]
  },
  {
   "cell_type": "code",
   "execution_count": 2514,
   "metadata": {},
   "outputs": [],
   "source": [
    "df2[\"booking_activity\"] = 365 - df2[\"availability_365\"]"
   ]
  },
  {
   "cell_type": "code",
   "execution_count": 2515,
   "metadata": {},
   "outputs": [
    {
     "data": {
      "text/plain": [
       "Text(0.5, 1.0, 'Median Booking Activity of by Region')"
      ]
     },
     "execution_count": 2515,
     "metadata": {},
     "output_type": "execute_result"
    },
    {
     "data": {
      "image/png": "[encoded data removed]",
      "text/plain": [
       "<Figure size 1000x700 with 1 Axes>"
      ]
     },
     "metadata": {},
     "output_type": "display_data"
    }
   ],
   "source": [
    "# create graph to see the median prices of each room_type in each zonal area - after removing outliers\n",
    "plt.figure(figsize=(10, 7))\n",
    "sns.barplot(x = \"region\", y = \"booking_activity\", data = df2, hue = \"room_type\", estimator=np.median, errorbar= None, palette=\"viridis\")\n",
    "plt.title(\"Median Booking Activity of by Region\")"
   ]
  },
  {
   "cell_type": "code",
   "execution_count": 2516,
   "metadata": {},
   "outputs": [
    {
     "data": {
      "text/html": [
       "<div>\n",
       "<style scoped>\n",
       "    .dataframe tbody tr th:only-of-type {\n",
       "        vertical-align: middle;\n",
       "    }\n",
       "\n",
       "    .dataframe tbody tr th {\n",
       "        vertical-align: top;\n",
       "    }\n",
       "\n",
       "    .dataframe thead th {\n",
       "        text-align: right;\n",
       "    }\n",
       "</style>\n",
       "<table border=\"1\" class=\"dataframe\">\n",
       "  <thead>\n",
       "    <tr style=\"text-align: right;\">\n",
       "      <th></th>\n",
       "      <th>id</th>\n",
       "      <th>region</th>\n",
       "      <th>neighbourhood</th>\n",
       "      <th>room_type</th>\n",
       "      <th>price</th>\n",
       "      <th>number_of_reviews</th>\n",
       "      <th>availability_365</th>\n",
       "      <th>booking_activity</th>\n",
       "    </tr>\n",
       "  </thead>\n",
       "  <tbody>\n",
       "    <tr>\n",
       "      <th>0</th>\n",
       "      <td>27934</td>\n",
       "      <td>Central</td>\n",
       "      <td>Ratchathewi</td>\n",
       "      <td>Entire home/apt</td>\n",
       "      <td>1905</td>\n",
       "      <td>65</td>\n",
       "      <td>353</td>\n",
       "      <td>12</td>\n",
       "    </tr>\n",
       "    <tr>\n",
       "      <th>14</th>\n",
       "      <td>959254</td>\n",
       "      <td>Central</td>\n",
       "      <td>Khlong Toei</td>\n",
       "      <td>Entire home/apt</td>\n",
       "      <td>1400</td>\n",
       "      <td>0</td>\n",
       "      <td>365</td>\n",
       "      <td>0</td>\n",
       "    </tr>\n",
       "    <tr>\n",
       "      <th>16</th>\n",
       "      <td>1791481</td>\n",
       "      <td>Central</td>\n",
       "      <td>Khlong Toei</td>\n",
       "      <td>Entire home/apt</td>\n",
       "      <td>1577</td>\n",
       "      <td>78</td>\n",
       "      <td>330</td>\n",
       "      <td>35</td>\n",
       "    </tr>\n",
       "    <tr>\n",
       "      <th>19</th>\n",
       "      <td>1793000</td>\n",
       "      <td>Central</td>\n",
       "      <td>Vadhana</td>\n",
       "      <td>Entire home/apt</td>\n",
       "      <td>5034</td>\n",
       "      <td>287</td>\n",
       "      <td>349</td>\n",
       "      <td>16</td>\n",
       "    </tr>\n",
       "    <tr>\n",
       "      <th>22</th>\n",
       "      <td>965722</td>\n",
       "      <td>Central</td>\n",
       "      <td>Vadhana</td>\n",
       "      <td>Private room</td>\n",
       "      <td>3775</td>\n",
       "      <td>3</td>\n",
       "      <td>364</td>\n",
       "      <td>1</td>\n",
       "    </tr>\n",
       "  </tbody>\n",
       "</table>\n",
       "</div>"
      ],
      "text/plain": [
       "         id   region neighbourhood        room_type  price  number_of_reviews  \\\n",
       "0     27934  Central   Ratchathewi  Entire home/apt   1905                 65   \n",
       "14   959254  Central   Khlong Toei  Entire home/apt   1400                  0   \n",
       "16  1791481  Central   Khlong Toei  Entire home/apt   1577                 78   \n",
       "19  1793000  Central       Vadhana  Entire home/apt   5034                287   \n",
       "22   965722  Central       Vadhana     Private room   3775                  3   \n",
       "\n",
       "    availability_365  booking_activity  \n",
       "0                353                12  \n",
       "14               365                 0  \n",
       "16               330                35  \n",
       "19               349                16  \n",
       "22               364                 1  "
      ]
     },
     "execution_count": 2516,
     "metadata": {},
     "output_type": "execute_result"
    }
   ],
   "source": [
    "df2.head()"
   ]
  },
  {
   "cell_type": "code",
   "execution_count": 2517,
   "metadata": {},
   "outputs": [
    {
     "data": {
      "text/plain": [
       "Text(0.5, 1.0, 'Distribution of Number of Reviews')"
      ]
     },
     "execution_count": 2517,
     "metadata": {},
     "output_type": "execute_result"
    },
    {
     "data": {
      "image/png": "[encoded data removed]",
      "text/plain": [
       "<Figure size 1000x700 with 1 Axes>"
      ]
     },
     "metadata": {},
     "output_type": "display_data"
    }
   ],
   "source": [
    "plt.figure(figsize=(10, 7))\n",
    "sns.histplot(x = \"number_of_reviews\",  data = df2)\n",
    "plt.title(\"Distribution of Number of Reviews\")"
   ]
  },
  {
   "cell_type": "code",
   "execution_count": 2518,
   "metadata": {},
   "outputs": [],
   "source": [
    "def ordinal_reviews_count(df):\n",
    "    q1 = df2[\"number_of_reviews\"].quantile(0.33)\n",
    "    q2 = df2[\"number_of_reviews\"].quantile(0.66)\n",
    "\n",
    "    bins = [df2[\"number_of_reviews\"].min(), q1 + 0.01, q2, df2[\"number_of_reviews\"].max()]\n",
    "    labels = [1, 2, 3]\n",
    "\n",
    "    df = df.copy()  # Ensure we're working with a copy to avoid SettingWithCopyWarning\n",
    "    df.loc[:, \"reviews_activity\"] = pd.cut(df2[\"number_of_reviews\"], bins=bins, labels=labels, include_lowest=True)\n",
    "\n",
    "    return df  # Return the modified DataFrame"
   ]
  },
  {
   "cell_type": "code",
   "execution_count": 2519,
   "metadata": {},
   "outputs": [],
   "source": [
    "df2 = ordinal_reviews_count(df2)"
   ]
  },
  {
   "cell_type": "code",
   "execution_count": 2520,
   "metadata": {},
   "outputs": [
    {
     "data": {
      "text/html": [
       "<div>\n",
       "<style scoped>\n",
       "    .dataframe tbody tr th:only-of-type {\n",
       "        vertical-align: middle;\n",
       "    }\n",
       "\n",
       "    .dataframe tbody tr th {\n",
       "        vertical-align: top;\n",
       "    }\n",
       "\n",
       "    .dataframe thead th {\n",
       "        text-align: right;\n",
       "    }\n",
       "</style>\n",
       "<table border=\"1\" class=\"dataframe\">\n",
       "  <thead>\n",
       "    <tr style=\"text-align: right;\">\n",
       "      <th></th>\n",
       "      <th>id</th>\n",
       "      <th>region</th>\n",
       "      <th>neighbourhood</th>\n",
       "      <th>room_type</th>\n",
       "      <th>price</th>\n",
       "      <th>number_of_reviews</th>\n",
       "      <th>availability_365</th>\n",
       "      <th>booking_activity</th>\n",
       "      <th>reviews_activity</th>\n",
       "    </tr>\n",
       "  </thead>\n",
       "  <tbody>\n",
       "    <tr>\n",
       "      <th>0</th>\n",
       "      <td>27934</td>\n",
       "      <td>Central</td>\n",
       "      <td>Ratchathewi</td>\n",
       "      <td>Entire home/apt</td>\n",
       "      <td>1905</td>\n",
       "      <td>65</td>\n",
       "      <td>353</td>\n",
       "      <td>12</td>\n",
       "      <td>3</td>\n",
       "    </tr>\n",
       "    <tr>\n",
       "      <th>14</th>\n",
       "      <td>959254</td>\n",
       "      <td>Central</td>\n",
       "      <td>Khlong Toei</td>\n",
       "      <td>Entire home/apt</td>\n",
       "      <td>1400</td>\n",
       "      <td>0</td>\n",
       "      <td>365</td>\n",
       "      <td>0</td>\n",
       "      <td>1</td>\n",
       "    </tr>\n",
       "    <tr>\n",
       "      <th>16</th>\n",
       "      <td>1791481</td>\n",
       "      <td>Central</td>\n",
       "      <td>Khlong Toei</td>\n",
       "      <td>Entire home/apt</td>\n",
       "      <td>1577</td>\n",
       "      <td>78</td>\n",
       "      <td>330</td>\n",
       "      <td>35</td>\n",
       "      <td>3</td>\n",
       "    </tr>\n",
       "    <tr>\n",
       "      <th>19</th>\n",
       "      <td>1793000</td>\n",
       "      <td>Central</td>\n",
       "      <td>Vadhana</td>\n",
       "      <td>Entire home/apt</td>\n",
       "      <td>5034</td>\n",
       "      <td>287</td>\n",
       "      <td>349</td>\n",
       "      <td>16</td>\n",
       "      <td>3</td>\n",
       "    </tr>\n",
       "    <tr>\n",
       "      <th>22</th>\n",
       "      <td>965722</td>\n",
       "      <td>Central</td>\n",
       "      <td>Vadhana</td>\n",
       "      <td>Private room</td>\n",
       "      <td>3775</td>\n",
       "      <td>3</td>\n",
       "      <td>364</td>\n",
       "      <td>1</td>\n",
       "      <td>2</td>\n",
       "    </tr>\n",
       "  </tbody>\n",
       "</table>\n",
       "</div>"
      ],
      "text/plain": [
       "         id   region neighbourhood        room_type  price  number_of_reviews  \\\n",
       "0     27934  Central   Ratchathewi  Entire home/apt   1905                 65   \n",
       "14   959254  Central   Khlong Toei  Entire home/apt   1400                  0   \n",
       "16  1791481  Central   Khlong Toei  Entire home/apt   1577                 78   \n",
       "19  1793000  Central       Vadhana  Entire home/apt   5034                287   \n",
       "22   965722  Central       Vadhana     Private room   3775                  3   \n",
       "\n",
       "    availability_365  booking_activity reviews_activity  \n",
       "0                353                12                3  \n",
       "14               365                 0                1  \n",
       "16               330                35                3  \n",
       "19               349                16                3  \n",
       "22               364                 1                2  "
      ]
     },
     "execution_count": 2520,
     "metadata": {},
     "output_type": "execute_result"
    }
   ],
   "source": [
    "df2.head()"
   ]
  },
  {
   "cell_type": "code",
   "execution_count": 2521,
   "metadata": {},
   "outputs": [],
   "source": [
    "def ordinal_booking_count(df):\n",
    "    q1 = df2[\"booking_activity\"].quantile(0.33)\n",
    "    q2 = df2[\"booking_activity\"].quantile(0.66)\n",
    "\n",
    "    bins = [df2[\"booking_activity\"].min(), q1 + 0.01, q2, df2[\"booking_activity\"].max()]\n",
    "    labels = [1, 2, 3]\n",
    "\n",
    "    df = df.copy()  # Ensure we're working with a copy to avoid SettingWithCopyWarning\n",
    "    df.loc[:, \"booking_activity_ord\"] = pd.cut(df2[\"booking_activity\"], bins=bins, labels=labels, include_lowest=True)\n",
    "\n",
    "    return df  # Return the modified DataFrame"
   ]
  },
  {
   "cell_type": "code",
   "execution_count": 2522,
   "metadata": {},
   "outputs": [],
   "source": [
    "df2 = ordinal_booking_count(df2)"
   ]
  },
  {
   "cell_type": "code",
   "execution_count": 2523,
   "metadata": {},
   "outputs": [
    {
     "data": {
      "text/html": [
       "<div>\n",
       "<style scoped>\n",
       "    .dataframe tbody tr th:only-of-type {\n",
       "        vertical-align: middle;\n",
       "    }\n",
       "\n",
       "    .dataframe tbody tr th {\n",
       "        vertical-align: top;\n",
       "    }\n",
       "\n",
       "    .dataframe thead th {\n",
       "        text-align: right;\n",
       "    }\n",
       "</style>\n",
       "<table border=\"1\" class=\"dataframe\">\n",
       "  <thead>\n",
       "    <tr style=\"text-align: right;\">\n",
       "      <th></th>\n",
       "      <th>id</th>\n",
       "      <th>region</th>\n",
       "      <th>neighbourhood</th>\n",
       "      <th>room_type</th>\n",
       "      <th>price</th>\n",
       "      <th>number_of_reviews</th>\n",
       "      <th>availability_365</th>\n",
       "      <th>booking_activity</th>\n",
       "      <th>reviews_activity</th>\n",
       "      <th>booking_activity_ord</th>\n",
       "    </tr>\n",
       "  </thead>\n",
       "  <tbody>\n",
       "    <tr>\n",
       "      <th>0</th>\n",
       "      <td>27934</td>\n",
       "      <td>Central</td>\n",
       "      <td>Ratchathewi</td>\n",
       "      <td>Entire home/apt</td>\n",
       "      <td>1905</td>\n",
       "      <td>65</td>\n",
       "      <td>353</td>\n",
       "      <td>12</td>\n",
       "      <td>3</td>\n",
       "      <td>1</td>\n",
       "    </tr>\n",
       "    <tr>\n",
       "      <th>14</th>\n",
       "      <td>959254</td>\n",
       "      <td>Central</td>\n",
       "      <td>Khlong Toei</td>\n",
       "      <td>Entire home/apt</td>\n",
       "      <td>1400</td>\n",
       "      <td>0</td>\n",
       "      <td>365</td>\n",
       "      <td>0</td>\n",
       "      <td>1</td>\n",
       "      <td>1</td>\n",
       "    </tr>\n",
       "    <tr>\n",
       "      <th>16</th>\n",
       "      <td>1791481</td>\n",
       "      <td>Central</td>\n",
       "      <td>Khlong Toei</td>\n",
       "      <td>Entire home/apt</td>\n",
       "      <td>1577</td>\n",
       "      <td>78</td>\n",
       "      <td>330</td>\n",
       "      <td>35</td>\n",
       "      <td>3</td>\n",
       "      <td>2</td>\n",
       "    </tr>\n",
       "    <tr>\n",
       "      <th>19</th>\n",
       "      <td>1793000</td>\n",
       "      <td>Central</td>\n",
       "      <td>Vadhana</td>\n",
       "      <td>Entire home/apt</td>\n",
       "      <td>5034</td>\n",
       "      <td>287</td>\n",
       "      <td>349</td>\n",
       "      <td>16</td>\n",
       "      <td>3</td>\n",
       "      <td>2</td>\n",
       "    </tr>\n",
       "    <tr>\n",
       "      <th>22</th>\n",
       "      <td>965722</td>\n",
       "      <td>Central</td>\n",
       "      <td>Vadhana</td>\n",
       "      <td>Private room</td>\n",
       "      <td>3775</td>\n",
       "      <td>3</td>\n",
       "      <td>364</td>\n",
       "      <td>1</td>\n",
       "      <td>2</td>\n",
       "      <td>1</td>\n",
       "    </tr>\n",
       "  </tbody>\n",
       "</table>\n",
       "</div>"
      ],
      "text/plain": [
       "         id   region neighbourhood        room_type  price  number_of_reviews  \\\n",
       "0     27934  Central   Ratchathewi  Entire home/apt   1905                 65   \n",
       "14   959254  Central   Khlong Toei  Entire home/apt   1400                  0   \n",
       "16  1791481  Central   Khlong Toei  Entire home/apt   1577                 78   \n",
       "19  1793000  Central       Vadhana  Entire home/apt   5034                287   \n",
       "22   965722  Central       Vadhana     Private room   3775                  3   \n",
       "\n",
       "    availability_365  booking_activity reviews_activity booking_activity_ord  \n",
       "0                353                12                3                    1  \n",
       "14               365                 0                1                    1  \n",
       "16               330                35                3                    2  \n",
       "19               349                16                3                    2  \n",
       "22               364                 1                2                    1  "
      ]
     },
     "execution_count": 2523,
     "metadata": {},
     "output_type": "execute_result"
    }
   ],
   "source": [
    "df2.head()"
   ]
  },
  {
   "cell_type": "code",
   "execution_count": 2524,
   "metadata": {},
   "outputs": [],
   "source": [
    "df2[\"reviews_activity\"] = df2[\"reviews_activity\"].astype(int)\n",
    "df2[\"booking_activity_ord\"] = df2[\"booking_activity_ord\"].astype(int)"
   ]
  },
  {
   "cell_type": "code",
   "execution_count": 2525,
   "metadata": {},
   "outputs": [],
   "source": [
    "df2[\"popularity\"] = df2[\"reviews_activity\"] + df2[\"booking_activity_ord\"]"
   ]
  },
  {
   "cell_type": "code",
   "execution_count": 2526,
   "metadata": {},
   "outputs": [
    {
     "data": {
      "text/html": [
       "<div>\n",
       "<style scoped>\n",
       "    .dataframe tbody tr th:only-of-type {\n",
       "        vertical-align: middle;\n",
       "    }\n",
       "\n",
       "    .dataframe tbody tr th {\n",
       "        vertical-align: top;\n",
       "    }\n",
       "\n",
       "    .dataframe thead th {\n",
       "        text-align: right;\n",
       "    }\n",
       "</style>\n",
       "<table border=\"1\" class=\"dataframe\">\n",
       "  <thead>\n",
       "    <tr style=\"text-align: right;\">\n",
       "      <th></th>\n",
       "      <th>id</th>\n",
       "      <th>region</th>\n",
       "      <th>neighbourhood</th>\n",
       "      <th>room_type</th>\n",
       "      <th>price</th>\n",
       "      <th>number_of_reviews</th>\n",
       "      <th>availability_365</th>\n",
       "      <th>booking_activity</th>\n",
       "      <th>reviews_activity</th>\n",
       "      <th>booking_activity_ord</th>\n",
       "      <th>popularity</th>\n",
       "    </tr>\n",
       "  </thead>\n",
       "  <tbody>\n",
       "    <tr>\n",
       "      <th>0</th>\n",
       "      <td>27934</td>\n",
       "      <td>Central</td>\n",
       "      <td>Ratchathewi</td>\n",
       "      <td>Entire home/apt</td>\n",
       "      <td>1905</td>\n",
       "      <td>65</td>\n",
       "      <td>353</td>\n",
       "      <td>12</td>\n",
       "      <td>3</td>\n",
       "      <td>1</td>\n",
       "      <td>4</td>\n",
       "    </tr>\n",
       "    <tr>\n",
       "      <th>14</th>\n",
       "      <td>959254</td>\n",
       "      <td>Central</td>\n",
       "      <td>Khlong Toei</td>\n",
       "      <td>Entire home/apt</td>\n",
       "      <td>1400</td>\n",
       "      <td>0</td>\n",
       "      <td>365</td>\n",
       "      <td>0</td>\n",
       "      <td>1</td>\n",
       "      <td>1</td>\n",
       "      <td>2</td>\n",
       "    </tr>\n",
       "    <tr>\n",
       "      <th>16</th>\n",
       "      <td>1791481</td>\n",
       "      <td>Central</td>\n",
       "      <td>Khlong Toei</td>\n",
       "      <td>Entire home/apt</td>\n",
       "      <td>1577</td>\n",
       "      <td>78</td>\n",
       "      <td>330</td>\n",
       "      <td>35</td>\n",
       "      <td>3</td>\n",
       "      <td>2</td>\n",
       "      <td>5</td>\n",
       "    </tr>\n",
       "    <tr>\n",
       "      <th>19</th>\n",
       "      <td>1793000</td>\n",
       "      <td>Central</td>\n",
       "      <td>Vadhana</td>\n",
       "      <td>Entire home/apt</td>\n",
       "      <td>5034</td>\n",
       "      <td>287</td>\n",
       "      <td>349</td>\n",
       "      <td>16</td>\n",
       "      <td>3</td>\n",
       "      <td>2</td>\n",
       "      <td>5</td>\n",
       "    </tr>\n",
       "    <tr>\n",
       "      <th>22</th>\n",
       "      <td>965722</td>\n",
       "      <td>Central</td>\n",
       "      <td>Vadhana</td>\n",
       "      <td>Private room</td>\n",
       "      <td>3775</td>\n",
       "      <td>3</td>\n",
       "      <td>364</td>\n",
       "      <td>1</td>\n",
       "      <td>2</td>\n",
       "      <td>1</td>\n",
       "      <td>3</td>\n",
       "    </tr>\n",
       "  </tbody>\n",
       "</table>\n",
       "</div>"
      ],
      "text/plain": [
       "         id   region neighbourhood        room_type  price  number_of_reviews  \\\n",
       "0     27934  Central   Ratchathewi  Entire home/apt   1905                 65   \n",
       "14   959254  Central   Khlong Toei  Entire home/apt   1400                  0   \n",
       "16  1791481  Central   Khlong Toei  Entire home/apt   1577                 78   \n",
       "19  1793000  Central       Vadhana  Entire home/apt   5034                287   \n",
       "22   965722  Central       Vadhana     Private room   3775                  3   \n",
       "\n",
       "    availability_365  booking_activity  reviews_activity  \\\n",
       "0                353                12                 3   \n",
       "14               365                 0                 1   \n",
       "16               330                35                 3   \n",
       "19               349                16                 3   \n",
       "22               364                 1                 2   \n",
       "\n",
       "    booking_activity_ord  popularity  \n",
       "0                      1           4  \n",
       "14                     1           2  \n",
       "16                     2           5  \n",
       "19                     2           5  \n",
       "22                     1           3  "
      ]
     },
     "execution_count": 2526,
     "metadata": {},
     "output_type": "execute_result"
    }
   ],
   "source": [
    "df2.head()"
   ]
  },
  {
   "cell_type": "code",
   "execution_count": 2527,
   "metadata": {},
   "outputs": [
    {
     "data": {
      "text/plain": [
       "Text(0.5, 1.0, 'Median Popularity of Room Types by Neighborhood')"
      ]
     },
     "execution_count": 2527,
     "metadata": {},
     "output_type": "execute_result"
    },
    {
     "data": {
      "image/png": "[encoded data removed]",
      "text/plain": [
       "<Figure size 1000x700 with 1 Axes>"
      ]
     },
     "metadata": {},
     "output_type": "display_data"
    }
   ],
   "source": [
    "# create graph to see the median prices of each room_type in each zonal area - after removing outliers\n",
    "plt.figure(figsize=(10, 7))\n",
    "sns.barplot(x = \"region\", y = \"popularity\", data = df2, hue = \"room_type\", estimator=np.median, errorbar= None, palette=\"viridis\")\n",
    "plt.title(\"Median Popularity of Room Types by Neighborhood\")"
   ]
  },
  {
   "cell_type": "code",
   "execution_count": 2528,
   "metadata": {},
   "outputs": [],
   "source": [
    "df2[\"revenue_potential\"] = df2[\"price\"] * df2[\"popularity\"]"
   ]
  },
  {
   "cell_type": "code",
   "execution_count": 2529,
   "metadata": {},
   "outputs": [
    {
     "data": {
      "text/html": [
       "<div>\n",
       "<style scoped>\n",
       "    .dataframe tbody tr th:only-of-type {\n",
       "        vertical-align: middle;\n",
       "    }\n",
       "\n",
       "    .dataframe tbody tr th {\n",
       "        vertical-align: top;\n",
       "    }\n",
       "\n",
       "    .dataframe thead th {\n",
       "        text-align: right;\n",
       "    }\n",
       "</style>\n",
       "<table border=\"1\" class=\"dataframe\">\n",
       "  <thead>\n",
       "    <tr style=\"text-align: right;\">\n",
       "      <th></th>\n",
       "      <th>id</th>\n",
       "      <th>region</th>\n",
       "      <th>neighbourhood</th>\n",
       "      <th>room_type</th>\n",
       "      <th>price</th>\n",
       "      <th>number_of_reviews</th>\n",
       "      <th>availability_365</th>\n",
       "      <th>booking_activity</th>\n",
       "      <th>reviews_activity</th>\n",
       "      <th>booking_activity_ord</th>\n",
       "      <th>popularity</th>\n",
       "      <th>revenue_potential</th>\n",
       "    </tr>\n",
       "  </thead>\n",
       "  <tbody>\n",
       "    <tr>\n",
       "      <th>0</th>\n",
       "      <td>27934</td>\n",
       "      <td>Central</td>\n",
       "      <td>Ratchathewi</td>\n",
       "      <td>Entire home/apt</td>\n",
       "      <td>1905</td>\n",
       "      <td>65</td>\n",
       "      <td>353</td>\n",
       "      <td>12</td>\n",
       "      <td>3</td>\n",
       "      <td>1</td>\n",
       "      <td>4</td>\n",
       "      <td>7620</td>\n",
       "    </tr>\n",
       "    <tr>\n",
       "      <th>14</th>\n",
       "      <td>959254</td>\n",
       "      <td>Central</td>\n",
       "      <td>Khlong Toei</td>\n",
       "      <td>Entire home/apt</td>\n",
       "      <td>1400</td>\n",
       "      <td>0</td>\n",
       "      <td>365</td>\n",
       "      <td>0</td>\n",
       "      <td>1</td>\n",
       "      <td>1</td>\n",
       "      <td>2</td>\n",
       "      <td>2800</td>\n",
       "    </tr>\n",
       "    <tr>\n",
       "      <th>16</th>\n",
       "      <td>1791481</td>\n",
       "      <td>Central</td>\n",
       "      <td>Khlong Toei</td>\n",
       "      <td>Entire home/apt</td>\n",
       "      <td>1577</td>\n",
       "      <td>78</td>\n",
       "      <td>330</td>\n",
       "      <td>35</td>\n",
       "      <td>3</td>\n",
       "      <td>2</td>\n",
       "      <td>5</td>\n",
       "      <td>7885</td>\n",
       "    </tr>\n",
       "    <tr>\n",
       "      <th>19</th>\n",
       "      <td>1793000</td>\n",
       "      <td>Central</td>\n",
       "      <td>Vadhana</td>\n",
       "      <td>Entire home/apt</td>\n",
       "      <td>5034</td>\n",
       "      <td>287</td>\n",
       "      <td>349</td>\n",
       "      <td>16</td>\n",
       "      <td>3</td>\n",
       "      <td>2</td>\n",
       "      <td>5</td>\n",
       "      <td>25170</td>\n",
       "    </tr>\n",
       "    <tr>\n",
       "      <th>22</th>\n",
       "      <td>965722</td>\n",
       "      <td>Central</td>\n",
       "      <td>Vadhana</td>\n",
       "      <td>Private room</td>\n",
       "      <td>3775</td>\n",
       "      <td>3</td>\n",
       "      <td>364</td>\n",
       "      <td>1</td>\n",
       "      <td>2</td>\n",
       "      <td>1</td>\n",
       "      <td>3</td>\n",
       "      <td>11325</td>\n",
       "    </tr>\n",
       "  </tbody>\n",
       "</table>\n",
       "</div>"
      ],
      "text/plain": [
       "         id   region neighbourhood        room_type  price  number_of_reviews  \\\n",
       "0     27934  Central   Ratchathewi  Entire home/apt   1905                 65   \n",
       "14   959254  Central   Khlong Toei  Entire home/apt   1400                  0   \n",
       "16  1791481  Central   Khlong Toei  Entire home/apt   1577                 78   \n",
       "19  1793000  Central       Vadhana  Entire home/apt   5034                287   \n",
       "22   965722  Central       Vadhana     Private room   3775                  3   \n",
       "\n",
       "    availability_365  booking_activity  reviews_activity  \\\n",
       "0                353                12                 3   \n",
       "14               365                 0                 1   \n",
       "16               330                35                 3   \n",
       "19               349                16                 3   \n",
       "22               364                 1                 2   \n",
       "\n",
       "    booking_activity_ord  popularity  revenue_potential  \n",
       "0                      1           4               7620  \n",
       "14                     1           2               2800  \n",
       "16                     2           5               7885  \n",
       "19                     2           5              25170  \n",
       "22                     1           3              11325  "
      ]
     },
     "execution_count": 2529,
     "metadata": {},
     "output_type": "execute_result"
    }
   ],
   "source": [
    "df2.head()"
   ]
  },
  {
   "cell_type": "code",
   "execution_count": 2530,
   "metadata": {},
   "outputs": [
    {
     "data": {
      "text/plain": [
       "Text(0.5, 1.0, 'Median Rev Pot of Room Types by Neighborhood')"
      ]
     },
     "execution_count": 2530,
     "metadata": {},
     "output_type": "execute_result"
    },
    {
     "data": {
      "image/png": "[encoded data removed]",
      "text/plain": [
       "<Figure size 1000x700 with 1 Axes>"
      ]
     },
     "metadata": {},
     "output_type": "display_data"
    }
   ],
   "source": [
    "# create graph to see the median prices of each room_type in each zonal area - after removing outliers\n",
    "plt.figure(figsize=(10, 7))\n",
    "sns.barplot(x = \"region\", y = \"revenue_potential\", data = df2, hue = \"room_type\", estimator=np.median, errorbar= None, palette=\"viridis\")\n",
    "plt.title(\"Median Rev Pot of Room Types by Neighborhood\")"
   ]
  },
  {
   "cell_type": "code",
   "execution_count": 2531,
   "metadata": {},
   "outputs": [],
   "source": [
    "df3 = pd.concat([central, nw, sw, ne, se])"
   ]
  },
  {
   "cell_type": "code",
   "execution_count": 2532,
   "metadata": {},
   "outputs": [
    {
     "data": {
      "text/html": [
       "<div>\n",
       "<style scoped>\n",
       "    .dataframe tbody tr th:only-of-type {\n",
       "        vertical-align: middle;\n",
       "    }\n",
       "\n",
       "    .dataframe tbody tr th {\n",
       "        vertical-align: top;\n",
       "    }\n",
       "\n",
       "    .dataframe thead th {\n",
       "        text-align: right;\n",
       "    }\n",
       "</style>\n",
       "<table border=\"1\" class=\"dataframe\">\n",
       "  <thead>\n",
       "    <tr style=\"text-align: right;\">\n",
       "      <th></th>\n",
       "      <th>id</th>\n",
       "      <th>name</th>\n",
       "      <th>host_id</th>\n",
       "      <th>host_name</th>\n",
       "      <th>neighbourhood</th>\n",
       "      <th>latitude</th>\n",
       "      <th>longitude</th>\n",
       "      <th>room_type</th>\n",
       "      <th>price</th>\n",
       "      <th>minimum_nights</th>\n",
       "      <th>number_of_reviews</th>\n",
       "      <th>last_review</th>\n",
       "      <th>reviews_per_month</th>\n",
       "      <th>calculated_host_listings_count</th>\n",
       "      <th>availability_365</th>\n",
       "      <th>number_of_reviews_ltm</th>\n",
       "      <th>region</th>\n",
       "    </tr>\n",
       "  </thead>\n",
       "  <tbody>\n",
       "    <tr>\n",
       "      <th>0</th>\n",
       "      <td>27934</td>\n",
       "      <td>Nice room with superb city view</td>\n",
       "      <td>120437</td>\n",
       "      <td>Nuttee</td>\n",
       "      <td>Ratchathewi</td>\n",
       "      <td>13.75983</td>\n",
       "      <td>100.54134</td>\n",
       "      <td>Entire home/apt</td>\n",
       "      <td>1905</td>\n",
       "      <td>3</td>\n",
       "      <td>65</td>\n",
       "      <td>2020-01-06</td>\n",
       "      <td>0.50</td>\n",
       "      <td>2</td>\n",
       "      <td>353</td>\n",
       "      <td>0</td>\n",
       "      <td>Central</td>\n",
       "    </tr>\n",
       "    <tr>\n",
       "      <th>14</th>\n",
       "      <td>959254</td>\n",
       "      <td>Deluxe Condo, Nana, Pool/GYM/Sauna</td>\n",
       "      <td>5153476</td>\n",
       "      <td>Natcha</td>\n",
       "      <td>Khlong Toei</td>\n",
       "      <td>13.71516</td>\n",
       "      <td>100.56806</td>\n",
       "      <td>Entire home/apt</td>\n",
       "      <td>1400</td>\n",
       "      <td>30</td>\n",
       "      <td>0</td>\n",
       "      <td>No Review</td>\n",
       "      <td>0.00</td>\n",
       "      <td>1</td>\n",
       "      <td>365</td>\n",
       "      <td>0</td>\n",
       "      <td>Central</td>\n",
       "    </tr>\n",
       "    <tr>\n",
       "      <th>16</th>\n",
       "      <td>1791481</td>\n",
       "      <td>Nice and Quiet condo near BTS Onnut</td>\n",
       "      <td>9399478</td>\n",
       "      <td>Piyakorn</td>\n",
       "      <td>Khlong Toei</td>\n",
       "      <td>13.70719</td>\n",
       "      <td>100.59936</td>\n",
       "      <td>Entire home/apt</td>\n",
       "      <td>1577</td>\n",
       "      <td>30</td>\n",
       "      <td>78</td>\n",
       "      <td>2019-05-31</td>\n",
       "      <td>0.78</td>\n",
       "      <td>1</td>\n",
       "      <td>330</td>\n",
       "      <td>0</td>\n",
       "      <td>Central</td>\n",
       "    </tr>\n",
       "    <tr>\n",
       "      <th>19</th>\n",
       "      <td>1793000</td>\n",
       "      <td>The Duplex - Asoke- Luxury 92sqm</td>\n",
       "      <td>9407280</td>\n",
       "      <td>Timo</td>\n",
       "      <td>Vadhana</td>\n",
       "      <td>13.74668</td>\n",
       "      <td>100.56137</td>\n",
       "      <td>Entire home/apt</td>\n",
       "      <td>5034</td>\n",
       "      <td>21</td>\n",
       "      <td>287</td>\n",
       "      <td>2022-11-22</td>\n",
       "      <td>2.59</td>\n",
       "      <td>1</td>\n",
       "      <td>349</td>\n",
       "      <td>3</td>\n",
       "      <td>Central</td>\n",
       "    </tr>\n",
       "    <tr>\n",
       "      <th>22</th>\n",
       "      <td>965722</td>\n",
       "      <td>Siamese Gioia on Sukhumvit 31</td>\n",
       "      <td>5265861</td>\n",
       "      <td>Chuchart</td>\n",
       "      <td>Vadhana</td>\n",
       "      <td>13.74444</td>\n",
       "      <td>100.57003</td>\n",
       "      <td>Private room</td>\n",
       "      <td>3775</td>\n",
       "      <td>30</td>\n",
       "      <td>3</td>\n",
       "      <td>2018-12-24</td>\n",
       "      <td>0.05</td>\n",
       "      <td>1</td>\n",
       "      <td>364</td>\n",
       "      <td>0</td>\n",
       "      <td>Central</td>\n",
       "    </tr>\n",
       "  </tbody>\n",
       "</table>\n",
       "</div>"
      ],
      "text/plain": [
       "         id                                 name  host_id host_name  \\\n",
       "0     27934      Nice room with superb city view   120437    Nuttee   \n",
       "14   959254   Deluxe Condo, Nana, Pool/GYM/Sauna  5153476    Natcha   \n",
       "16  1791481  Nice and Quiet condo near BTS Onnut  9399478  Piyakorn   \n",
       "19  1793000     The Duplex - Asoke- Luxury 92sqm  9407280      Timo   \n",
       "22   965722        Siamese Gioia on Sukhumvit 31  5265861  Chuchart   \n",
       "\n",
       "   neighbourhood  latitude  longitude        room_type  price  minimum_nights  \\\n",
       "0    Ratchathewi  13.75983  100.54134  Entire home/apt   1905               3   \n",
       "14   Khlong Toei  13.71516  100.56806  Entire home/apt   1400              30   \n",
       "16   Khlong Toei  13.70719  100.59936  Entire home/apt   1577              30   \n",
       "19       Vadhana  13.74668  100.56137  Entire home/apt   5034              21   \n",
       "22       Vadhana  13.74444  100.57003     Private room   3775              30   \n",
       "\n",
       "    number_of_reviews last_review  reviews_per_month  \\\n",
       "0                  65  2020-01-06               0.50   \n",
       "14                  0   No Review               0.00   \n",
       "16                 78  2019-05-31               0.78   \n",
       "19                287  2022-11-22               2.59   \n",
       "22                  3  2018-12-24               0.05   \n",
       "\n",
       "    calculated_host_listings_count  availability_365  number_of_reviews_ltm  \\\n",
       "0                                2               353                      0   \n",
       "14                               1               365                      0   \n",
       "16                               1               330                      0   \n",
       "19                               1               349                      3   \n",
       "22                               1               364                      0   \n",
       "\n",
       "     region  \n",
       "0   Central  \n",
       "14  Central  \n",
       "16  Central  \n",
       "19  Central  \n",
       "22  Central  "
      ]
     },
     "execution_count": 2532,
     "metadata": {},
     "output_type": "execute_result"
    }
   ],
   "source": [
    "df3.head()"
   ]
  },
  {
   "cell_type": "code",
   "execution_count": 2533,
   "metadata": {},
   "outputs": [],
   "source": [
    "df3 = df3[[\"id\", \"region\", \"neighbourhood\", \"room_type\", \"price\", \"number_of_reviews\", \"availability_365\"]]"
   ]
  },
  {
   "cell_type": "code",
   "execution_count": 2534,
   "metadata": {},
   "outputs": [],
   "source": [
    "def ordinal_reviews_count(df):\n",
    "    q1 = df3[\"number_of_reviews\"].quantile(0.33)\n",
    "    q2 = df3[\"number_of_reviews\"].quantile(0.66)\n",
    "\n",
    "    bins = [df3[\"number_of_reviews\"].min(), q1 + 0.01, q2, df3[\"number_of_reviews\"].max()]\n",
    "    labels = [1, 2, 3]\n",
    "\n",
    "    df = df.copy()  # Ensure we're working with a copy to avoid SettingWithCopyWarning\n",
    "    df.loc[:, \"popularity\"] = pd.cut(df3[\"number_of_reviews\"], bins=bins, labels=labels, include_lowest=True)\n",
    "\n",
    "    return df  # Return the modified DataFrame"
   ]
  },
  {
   "cell_type": "code",
   "execution_count": 2535,
   "metadata": {},
   "outputs": [],
   "source": [
    "df3 = ordinal_reviews_count(df3)"
   ]
  },
  {
   "cell_type": "code",
   "execution_count": 2536,
   "metadata": {},
   "outputs": [],
   "source": [
    "df3[\"occupancy_rate\"] = 1 - (df3[\"availability_365\"] / 365)"
   ]
  },
  {
   "cell_type": "code",
   "execution_count": 2537,
   "metadata": {},
   "outputs": [
    {
     "data": {
      "text/html": [
       "<div>\n",
       "<style scoped>\n",
       "    .dataframe tbody tr th:only-of-type {\n",
       "        vertical-align: middle;\n",
       "    }\n",
       "\n",
       "    .dataframe tbody tr th {\n",
       "        vertical-align: top;\n",
       "    }\n",
       "\n",
       "    .dataframe thead th {\n",
       "        text-align: right;\n",
       "    }\n",
       "</style>\n",
       "<table border=\"1\" class=\"dataframe\">\n",
       "  <thead>\n",
       "    <tr style=\"text-align: right;\">\n",
       "      <th></th>\n",
       "      <th>id</th>\n",
       "      <th>region</th>\n",
       "      <th>neighbourhood</th>\n",
       "      <th>room_type</th>\n",
       "      <th>price</th>\n",
       "      <th>number_of_reviews</th>\n",
       "      <th>availability_365</th>\n",
       "      <th>popularity</th>\n",
       "      <th>occupancy_rate</th>\n",
       "    </tr>\n",
       "  </thead>\n",
       "  <tbody>\n",
       "    <tr>\n",
       "      <th>0</th>\n",
       "      <td>27934</td>\n",
       "      <td>Central</td>\n",
       "      <td>Ratchathewi</td>\n",
       "      <td>Entire home/apt</td>\n",
       "      <td>1905</td>\n",
       "      <td>65</td>\n",
       "      <td>353</td>\n",
       "      <td>3</td>\n",
       "      <td>0.032877</td>\n",
       "    </tr>\n",
       "    <tr>\n",
       "      <th>14</th>\n",
       "      <td>959254</td>\n",
       "      <td>Central</td>\n",
       "      <td>Khlong Toei</td>\n",
       "      <td>Entire home/apt</td>\n",
       "      <td>1400</td>\n",
       "      <td>0</td>\n",
       "      <td>365</td>\n",
       "      <td>1</td>\n",
       "      <td>0.000000</td>\n",
       "    </tr>\n",
       "    <tr>\n",
       "      <th>16</th>\n",
       "      <td>1791481</td>\n",
       "      <td>Central</td>\n",
       "      <td>Khlong Toei</td>\n",
       "      <td>Entire home/apt</td>\n",
       "      <td>1577</td>\n",
       "      <td>78</td>\n",
       "      <td>330</td>\n",
       "      <td>3</td>\n",
       "      <td>0.095890</td>\n",
       "    </tr>\n",
       "    <tr>\n",
       "      <th>19</th>\n",
       "      <td>1793000</td>\n",
       "      <td>Central</td>\n",
       "      <td>Vadhana</td>\n",
       "      <td>Entire home/apt</td>\n",
       "      <td>5034</td>\n",
       "      <td>287</td>\n",
       "      <td>349</td>\n",
       "      <td>3</td>\n",
       "      <td>0.043836</td>\n",
       "    </tr>\n",
       "    <tr>\n",
       "      <th>22</th>\n",
       "      <td>965722</td>\n",
       "      <td>Central</td>\n",
       "      <td>Vadhana</td>\n",
       "      <td>Private room</td>\n",
       "      <td>3775</td>\n",
       "      <td>3</td>\n",
       "      <td>364</td>\n",
       "      <td>2</td>\n",
       "      <td>0.002740</td>\n",
       "    </tr>\n",
       "  </tbody>\n",
       "</table>\n",
       "</div>"
      ],
      "text/plain": [
       "         id   region neighbourhood        room_type  price  number_of_reviews  \\\n",
       "0     27934  Central   Ratchathewi  Entire home/apt   1905                 65   \n",
       "14   959254  Central   Khlong Toei  Entire home/apt   1400                  0   \n",
       "16  1791481  Central   Khlong Toei  Entire home/apt   1577                 78   \n",
       "19  1793000  Central       Vadhana  Entire home/apt   5034                287   \n",
       "22   965722  Central       Vadhana     Private room   3775                  3   \n",
       "\n",
       "    availability_365 popularity  occupancy_rate  \n",
       "0                353          3        0.032877  \n",
       "14               365          1        0.000000  \n",
       "16               330          3        0.095890  \n",
       "19               349          3        0.043836  \n",
       "22               364          2        0.002740  "
      ]
     },
     "execution_count": 2537,
     "metadata": {},
     "output_type": "execute_result"
    }
   ],
   "source": [
    "df3.head()"
   ]
  },
  {
   "cell_type": "code",
   "execution_count": 2538,
   "metadata": {},
   "outputs": [
    {
     "data": {
      "text/plain": [
       "region     room_type      \n",
       "Central    Entire home/apt    1736.5\n",
       "           Hotel room         1860.0\n",
       "           Private room       1500.0\n",
       "           Shared room         519.0\n",
       "Northeast  Entire home/apt    1080.0\n",
       "           Hotel room         1264.5\n",
       "           Private room        900.0\n",
       "           Shared room         550.0\n",
       "Northwest  Entire home/apt    1091.5\n",
       "           Hotel room         1290.0\n",
       "           Private room       1214.0\n",
       "           Shared room         550.0\n",
       "Southeast  Entire home/apt     977.0\n",
       "           Hotel room         1200.0\n",
       "           Private room        929.0\n",
       "           Shared room         390.0\n",
       "Southwest  Entire home/apt    1344.0\n",
       "           Hotel room         1596.0\n",
       "           Private room       1200.0\n",
       "           Shared room         776.0\n",
       "Name: price, dtype: float64"
      ]
     },
     "execution_count": 2538,
     "metadata": {},
     "output_type": "execute_result"
    }
   ],
   "source": [
    "df3.groupby([\"region\", \"room_type\"])[\"price\"].median()"
   ]
  },
  {
   "cell_type": "code",
   "execution_count": 2539,
   "metadata": {},
   "outputs": [],
   "source": [
    "def ordinal_occupancy_rate(df):\n",
    "    q1 = df3[\"occupancy_rate\"].quantile(0.33)\n",
    "    q2 = df3[\"occupancy_rate\"].quantile(0.66)\n",
    "\n",
    "    bins = [df3[\"occupancy_rate\"].min(), q1 + 0.001, q2, df3[\"occupancy_rate\"].max()]\n",
    "    labels = [1, 2, 3]\n",
    "\n",
    "    df = df.copy()  # Ensure we're working with a copy to avoid SettingWithCopyWarning\n",
    "    df.loc[:, \"occupancy_proxy\"] = pd.cut(df3[\"occupancy_rate\"], bins=bins, labels=labels, include_lowest=True)\n",
    "\n",
    "    return df  # Return the modified DataFrame"
   ]
  },
  {
   "cell_type": "code",
   "execution_count": 2540,
   "metadata": {},
   "outputs": [],
   "source": [
    "df3 = ordinal_occupancy_rate(df3)"
   ]
  },
  {
   "cell_type": "code",
   "execution_count": 2541,
   "metadata": {},
   "outputs": [
    {
     "data": {
      "text/html": [
       "<div>\n",
       "<style scoped>\n",
       "    .dataframe tbody tr th:only-of-type {\n",
       "        vertical-align: middle;\n",
       "    }\n",
       "\n",
       "    .dataframe tbody tr th {\n",
       "        vertical-align: top;\n",
       "    }\n",
       "\n",
       "    .dataframe thead th {\n",
       "        text-align: right;\n",
       "    }\n",
       "</style>\n",
       "<table border=\"1\" class=\"dataframe\">\n",
       "  <thead>\n",
       "    <tr style=\"text-align: right;\">\n",
       "      <th></th>\n",
       "      <th>id</th>\n",
       "      <th>region</th>\n",
       "      <th>neighbourhood</th>\n",
       "      <th>room_type</th>\n",
       "      <th>price</th>\n",
       "      <th>number_of_reviews</th>\n",
       "      <th>availability_365</th>\n",
       "      <th>popularity</th>\n",
       "      <th>occupancy_rate</th>\n",
       "      <th>occupancy_proxy</th>\n",
       "    </tr>\n",
       "  </thead>\n",
       "  <tbody>\n",
       "    <tr>\n",
       "      <th>0</th>\n",
       "      <td>27934</td>\n",
       "      <td>Central</td>\n",
       "      <td>Ratchathewi</td>\n",
       "      <td>Entire home/apt</td>\n",
       "      <td>1905</td>\n",
       "      <td>65</td>\n",
       "      <td>353</td>\n",
       "      <td>3</td>\n",
       "      <td>0.032877</td>\n",
       "      <td>1</td>\n",
       "    </tr>\n",
       "    <tr>\n",
       "      <th>14</th>\n",
       "      <td>959254</td>\n",
       "      <td>Central</td>\n",
       "      <td>Khlong Toei</td>\n",
       "      <td>Entire home/apt</td>\n",
       "      <td>1400</td>\n",
       "      <td>0</td>\n",
       "      <td>365</td>\n",
       "      <td>1</td>\n",
       "      <td>0.000000</td>\n",
       "      <td>1</td>\n",
       "    </tr>\n",
       "    <tr>\n",
       "      <th>16</th>\n",
       "      <td>1791481</td>\n",
       "      <td>Central</td>\n",
       "      <td>Khlong Toei</td>\n",
       "      <td>Entire home/apt</td>\n",
       "      <td>1577</td>\n",
       "      <td>78</td>\n",
       "      <td>330</td>\n",
       "      <td>3</td>\n",
       "      <td>0.095890</td>\n",
       "      <td>2</td>\n",
       "    </tr>\n",
       "    <tr>\n",
       "      <th>19</th>\n",
       "      <td>1793000</td>\n",
       "      <td>Central</td>\n",
       "      <td>Vadhana</td>\n",
       "      <td>Entire home/apt</td>\n",
       "      <td>5034</td>\n",
       "      <td>287</td>\n",
       "      <td>349</td>\n",
       "      <td>3</td>\n",
       "      <td>0.043836</td>\n",
       "      <td>2</td>\n",
       "    </tr>\n",
       "    <tr>\n",
       "      <th>22</th>\n",
       "      <td>965722</td>\n",
       "      <td>Central</td>\n",
       "      <td>Vadhana</td>\n",
       "      <td>Private room</td>\n",
       "      <td>3775</td>\n",
       "      <td>3</td>\n",
       "      <td>364</td>\n",
       "      <td>2</td>\n",
       "      <td>0.002740</td>\n",
       "      <td>1</td>\n",
       "    </tr>\n",
       "  </tbody>\n",
       "</table>\n",
       "</div>"
      ],
      "text/plain": [
       "         id   region neighbourhood        room_type  price  number_of_reviews  \\\n",
       "0     27934  Central   Ratchathewi  Entire home/apt   1905                 65   \n",
       "14   959254  Central   Khlong Toei  Entire home/apt   1400                  0   \n",
       "16  1791481  Central   Khlong Toei  Entire home/apt   1577                 78   \n",
       "19  1793000  Central       Vadhana  Entire home/apt   5034                287   \n",
       "22   965722  Central       Vadhana     Private room   3775                  3   \n",
       "\n",
       "    availability_365 popularity  occupancy_rate occupancy_proxy  \n",
       "0                353          3        0.032877               1  \n",
       "14               365          1        0.000000               1  \n",
       "16               330          3        0.095890               2  \n",
       "19               349          3        0.043836               2  \n",
       "22               364          2        0.002740               1  "
      ]
     },
     "execution_count": 2541,
     "metadata": {},
     "output_type": "execute_result"
    }
   ],
   "source": [
    "df3.head()"
   ]
  },
  {
   "cell_type": "code",
   "execution_count": 2545,
   "metadata": {},
   "outputs": [],
   "source": [
    "df3[\"popularity\"] = df3[\"popularity\"].astype(int)\n",
    "df3[\"occupancy_proxy\"] = df3[\"occupancy_proxy\"].astype(int)"
   ]
  },
  {
   "cell_type": "code",
   "execution_count": 2549,
   "metadata": {},
   "outputs": [
    {
     "data": {
      "text/plain": [
       "<Axes: xlabel='popularity', ylabel='count'>"
      ]
     },
     "execution_count": 2549,
     "metadata": {},
     "output_type": "execute_result"
    },
    {
     "data": {
      "image/png": "[encoded data removed]",
      "text/plain": [
       "<Figure size 640x480 with 1 Axes>"
      ]
     },
     "metadata": {},
     "output_type": "display_data"
    }
   ],
   "source": [
    "sns.countplot(data = df3, x = \"popularity\", hue = \"region\", palette=\"viridis\")"
   ]
  },
  {
   "cell_type": "code",
   "execution_count": 2548,
   "metadata": {},
   "outputs": [
    {
     "data": {
      "text/plain": [
       "<Axes: xlabel='occupancy_proxy', ylabel='count'>"
      ]
     },
     "execution_count": 2548,
     "metadata": {},
     "output_type": "execute_result"
    },
    {
     "data": {
      "image/png": "[encoded data removed]",
      "text/plain": [
       "<Figure size 640x480 with 1 Axes>"
      ]
     },
     "metadata": {},
     "output_type": "display_data"
    }
   ],
   "source": [
    "sns.countplot(data = df3, x = \"occupancy_proxy\", hue = \"region\", palette=\"viridis\")"
   ]
  },
  {
   "cell_type": "code",
   "execution_count": 2552,
   "metadata": {},
   "outputs": [],
   "source": [
    "df3[\"median_price\"] = df3.groupby([\"region\", \"room_type\"])[\"price\"].transform(\"median\")"
   ]
  },
  {
   "cell_type": "code",
   "execution_count": 2553,
   "metadata": {},
   "outputs": [
    {
     "data": {
      "text/html": [
       "<div>\n",
       "<style scoped>\n",
       "    .dataframe tbody tr th:only-of-type {\n",
       "        vertical-align: middle;\n",
       "    }\n",
       "\n",
       "    .dataframe tbody tr th {\n",
       "        vertical-align: top;\n",
       "    }\n",
       "\n",
       "    .dataframe thead th {\n",
       "        text-align: right;\n",
       "    }\n",
       "</style>\n",
       "<table border=\"1\" class=\"dataframe\">\n",
       "  <thead>\n",
       "    <tr style=\"text-align: right;\">\n",
       "      <th></th>\n",
       "      <th>id</th>\n",
       "      <th>region</th>\n",
       "      <th>neighbourhood</th>\n",
       "      <th>room_type</th>\n",
       "      <th>price</th>\n",
       "      <th>number_of_reviews</th>\n",
       "      <th>availability_365</th>\n",
       "      <th>popularity</th>\n",
       "      <th>occupancy_rate</th>\n",
       "      <th>occupancy_proxy</th>\n",
       "      <th>median_price</th>\n",
       "    </tr>\n",
       "  </thead>\n",
       "  <tbody>\n",
       "    <tr>\n",
       "      <th>0</th>\n",
       "      <td>27934</td>\n",
       "      <td>Central</td>\n",
       "      <td>Ratchathewi</td>\n",
       "      <td>Entire home/apt</td>\n",
       "      <td>1905</td>\n",
       "      <td>65</td>\n",
       "      <td>353</td>\n",
       "      <td>3</td>\n",
       "      <td>0.032877</td>\n",
       "      <td>1</td>\n",
       "      <td>1736.5</td>\n",
       "    </tr>\n",
       "    <tr>\n",
       "      <th>14</th>\n",
       "      <td>959254</td>\n",
       "      <td>Central</td>\n",
       "      <td>Khlong Toei</td>\n",
       "      <td>Entire home/apt</td>\n",
       "      <td>1400</td>\n",
       "      <td>0</td>\n",
       "      <td>365</td>\n",
       "      <td>1</td>\n",
       "      <td>0.000000</td>\n",
       "      <td>1</td>\n",
       "      <td>1736.5</td>\n",
       "    </tr>\n",
       "    <tr>\n",
       "      <th>16</th>\n",
       "      <td>1791481</td>\n",
       "      <td>Central</td>\n",
       "      <td>Khlong Toei</td>\n",
       "      <td>Entire home/apt</td>\n",
       "      <td>1577</td>\n",
       "      <td>78</td>\n",
       "      <td>330</td>\n",
       "      <td>3</td>\n",
       "      <td>0.095890</td>\n",
       "      <td>2</td>\n",
       "      <td>1736.5</td>\n",
       "    </tr>\n",
       "    <tr>\n",
       "      <th>19</th>\n",
       "      <td>1793000</td>\n",
       "      <td>Central</td>\n",
       "      <td>Vadhana</td>\n",
       "      <td>Entire home/apt</td>\n",
       "      <td>5034</td>\n",
       "      <td>287</td>\n",
       "      <td>349</td>\n",
       "      <td>3</td>\n",
       "      <td>0.043836</td>\n",
       "      <td>2</td>\n",
       "      <td>1736.5</td>\n",
       "    </tr>\n",
       "    <tr>\n",
       "      <th>22</th>\n",
       "      <td>965722</td>\n",
       "      <td>Central</td>\n",
       "      <td>Vadhana</td>\n",
       "      <td>Private room</td>\n",
       "      <td>3775</td>\n",
       "      <td>3</td>\n",
       "      <td>364</td>\n",
       "      <td>2</td>\n",
       "      <td>0.002740</td>\n",
       "      <td>1</td>\n",
       "      <td>1500.0</td>\n",
       "    </tr>\n",
       "  </tbody>\n",
       "</table>\n",
       "</div>"
      ],
      "text/plain": [
       "         id   region neighbourhood        room_type  price  number_of_reviews  \\\n",
       "0     27934  Central   Ratchathewi  Entire home/apt   1905                 65   \n",
       "14   959254  Central   Khlong Toei  Entire home/apt   1400                  0   \n",
       "16  1791481  Central   Khlong Toei  Entire home/apt   1577                 78   \n",
       "19  1793000  Central       Vadhana  Entire home/apt   5034                287   \n",
       "22   965722  Central       Vadhana     Private room   3775                  3   \n",
       "\n",
       "    availability_365  popularity  occupancy_rate  occupancy_proxy  \\\n",
       "0                353           3        0.032877                1   \n",
       "14               365           1        0.000000                1   \n",
       "16               330           3        0.095890                2   \n",
       "19               349           3        0.043836                2   \n",
       "22               364           2        0.002740                1   \n",
       "\n",
       "    median_price  \n",
       "0         1736.5  \n",
       "14        1736.5  \n",
       "16        1736.5  \n",
       "19        1736.5  \n",
       "22        1500.0  "
      ]
     },
     "execution_count": 2553,
     "metadata": {},
     "output_type": "execute_result"
    }
   ],
   "source": [
    "df3.head()"
   ]
  },
  {
   "cell_type": "code",
   "execution_count": 2554,
   "metadata": {},
   "outputs": [],
   "source": [
    "df3[\"rev_pot\"] = df3[\"median_price\"] * df3[\"occupancy_proxy\"] * df3[\"popularity\"]"
   ]
  },
  {
   "cell_type": "code",
   "execution_count": 2555,
   "metadata": {},
   "outputs": [
    {
     "data": {
      "text/html": [
       "<div>\n",
       "<style scoped>\n",
       "    .dataframe tbody tr th:only-of-type {\n",
       "        vertical-align: middle;\n",
       "    }\n",
       "\n",
       "    .dataframe tbody tr th {\n",
       "        vertical-align: top;\n",
       "    }\n",
       "\n",
       "    .dataframe thead th {\n",
       "        text-align: right;\n",
       "    }\n",
       "</style>\n",
       "<table border=\"1\" class=\"dataframe\">\n",
       "  <thead>\n",
       "    <tr style=\"text-align: right;\">\n",
       "      <th></th>\n",
       "      <th>id</th>\n",
       "      <th>region</th>\n",
       "      <th>neighbourhood</th>\n",
       "      <th>room_type</th>\n",
       "      <th>price</th>\n",
       "      <th>number_of_reviews</th>\n",
       "      <th>availability_365</th>\n",
       "      <th>popularity</th>\n",
       "      <th>occupancy_rate</th>\n",
       "      <th>occupancy_proxy</th>\n",
       "      <th>median_price</th>\n",
       "      <th>rev_pot</th>\n",
       "    </tr>\n",
       "  </thead>\n",
       "  <tbody>\n",
       "    <tr>\n",
       "      <th>0</th>\n",
       "      <td>27934</td>\n",
       "      <td>Central</td>\n",
       "      <td>Ratchathewi</td>\n",
       "      <td>Entire home/apt</td>\n",
       "      <td>1905</td>\n",
       "      <td>65</td>\n",
       "      <td>353</td>\n",
       "      <td>3</td>\n",
       "      <td>0.032877</td>\n",
       "      <td>1</td>\n",
       "      <td>1736.5</td>\n",
       "      <td>5209.5</td>\n",
       "    </tr>\n",
       "    <tr>\n",
       "      <th>14</th>\n",
       "      <td>959254</td>\n",
       "      <td>Central</td>\n",
       "      <td>Khlong Toei</td>\n",
       "      <td>Entire home/apt</td>\n",
       "      <td>1400</td>\n",
       "      <td>0</td>\n",
       "      <td>365</td>\n",
       "      <td>1</td>\n",
       "      <td>0.000000</td>\n",
       "      <td>1</td>\n",
       "      <td>1736.5</td>\n",
       "      <td>1736.5</td>\n",
       "    </tr>\n",
       "    <tr>\n",
       "      <th>16</th>\n",
       "      <td>1791481</td>\n",
       "      <td>Central</td>\n",
       "      <td>Khlong Toei</td>\n",
       "      <td>Entire home/apt</td>\n",
       "      <td>1577</td>\n",
       "      <td>78</td>\n",
       "      <td>330</td>\n",
       "      <td>3</td>\n",
       "      <td>0.095890</td>\n",
       "      <td>2</td>\n",
       "      <td>1736.5</td>\n",
       "      <td>10419.0</td>\n",
       "    </tr>\n",
       "    <tr>\n",
       "      <th>19</th>\n",
       "      <td>1793000</td>\n",
       "      <td>Central</td>\n",
       "      <td>Vadhana</td>\n",
       "      <td>Entire home/apt</td>\n",
       "      <td>5034</td>\n",
       "      <td>287</td>\n",
       "      <td>349</td>\n",
       "      <td>3</td>\n",
       "      <td>0.043836</td>\n",
       "      <td>2</td>\n",
       "      <td>1736.5</td>\n",
       "      <td>10419.0</td>\n",
       "    </tr>\n",
       "    <tr>\n",
       "      <th>22</th>\n",
       "      <td>965722</td>\n",
       "      <td>Central</td>\n",
       "      <td>Vadhana</td>\n",
       "      <td>Private room</td>\n",
       "      <td>3775</td>\n",
       "      <td>3</td>\n",
       "      <td>364</td>\n",
       "      <td>2</td>\n",
       "      <td>0.002740</td>\n",
       "      <td>1</td>\n",
       "      <td>1500.0</td>\n",
       "      <td>3000.0</td>\n",
       "    </tr>\n",
       "  </tbody>\n",
       "</table>\n",
       "</div>"
      ],
      "text/plain": [
       "         id   region neighbourhood        room_type  price  number_of_reviews  \\\n",
       "0     27934  Central   Ratchathewi  Entire home/apt   1905                 65   \n",
       "14   959254  Central   Khlong Toei  Entire home/apt   1400                  0   \n",
       "16  1791481  Central   Khlong Toei  Entire home/apt   1577                 78   \n",
       "19  1793000  Central       Vadhana  Entire home/apt   5034                287   \n",
       "22   965722  Central       Vadhana     Private room   3775                  3   \n",
       "\n",
       "    availability_365  popularity  occupancy_rate  occupancy_proxy  \\\n",
       "0                353           3        0.032877                1   \n",
       "14               365           1        0.000000                1   \n",
       "16               330           3        0.095890                2   \n",
       "19               349           3        0.043836                2   \n",
       "22               364           2        0.002740                1   \n",
       "\n",
       "    median_price  rev_pot  \n",
       "0         1736.5   5209.5  \n",
       "14        1736.5   1736.5  \n",
       "16        1736.5  10419.0  \n",
       "19        1736.5  10419.0  \n",
       "22        1500.0   3000.0  "
      ]
     },
     "execution_count": 2555,
     "metadata": {},
     "output_type": "execute_result"
    }
   ],
   "source": [
    "df3.head()"
   ]
  },
  {
   "cell_type": "code",
   "execution_count": 2556,
   "metadata": {},
   "outputs": [
    {
     "data": {
      "text/plain": [
       "Text(0.5, 1.0, 'Median Rev Pot of Room Types by Region')"
      ]
     },
     "execution_count": 2556,
     "metadata": {},
     "output_type": "execute_result"
    },
    {
     "data": {
      "image/png": "[encoded data removed]",
      "text/plain": [
       "<Figure size 1000x700 with 1 Axes>"
      ]
     },
     "metadata": {},
     "output_type": "display_data"
    }
   ],
   "source": [
    "# create graph to see the median prices of each room_type in each zonal area - after removing outliers\n",
    "plt.figure(figsize=(10, 7))\n",
    "sns.barplot(x = \"region\", y = \"rev_pot\", data = df3, hue = \"room_type\", estimator=np.median, errorbar= None, palette=\"viridis\")\n",
    "plt.title(\"Median Rev Pot of Room Types by Region\")"
   ]
  },
  {
   "cell_type": "code",
   "execution_count": null,
   "metadata": {},
   "outputs": [],
   "source": []
  }
 ],
 "metadata": {
  "kernelspec": {
   "display_name": "Python 3",
   "language": "python",
   "name": "python3"
  },
  "language_info": {
   "codemirror_mode": {
    "name": "ipython",
    "version": 3
   },
   "file_extension": ".py",
   "mimetype": "text/x-python",
   "name": "python",
   "nbconvert_exporter": "python",
   "pygments_lexer": "ipython3",
   "version": "3.11.9"
  }
 },
 "nbformat": 4,
 "nbformat_minor": 2
}
