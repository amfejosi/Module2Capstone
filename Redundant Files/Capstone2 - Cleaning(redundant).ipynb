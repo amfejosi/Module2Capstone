{
 "cells": [
  {
   "cell_type": "markdown",
   "metadata": {},
   "source": [
    "Import Libraries"
   ]
  },
  {
   "cell_type": "code",
   "execution_count": 346,
   "metadata": {},
   "outputs": [],
   "source": [
    "import pandas as pd\n",
    "import numpy as np\n",
    "import seaborn as sns\n",
    "import matplotlib.pyplot as plt \n",
    "import folium"
   ]
  },
  {
   "cell_type": "markdown",
   "metadata": {},
   "source": [
    "Load Dataset"
   ]
  },
  {
   "cell_type": "code",
   "execution_count": 347,
   "metadata": {},
   "outputs": [
    {
     "data": {
      "text/html": [
       "<div>\n",
       "<style scoped>\n",
       "    .dataframe tbody tr th:only-of-type {\n",
       "        vertical-align: middle;\n",
       "    }\n",
       "\n",
       "    .dataframe tbody tr th {\n",
       "        vertical-align: top;\n",
       "    }\n",
       "\n",
       "    .dataframe thead th {\n",
       "        text-align: right;\n",
       "    }\n",
       "</style>\n",
       "<table border=\"1\" class=\"dataframe\">\n",
       "  <thead>\n",
       "    <tr style=\"text-align: right;\">\n",
       "      <th></th>\n",
       "      <th>Unnamed: 0</th>\n",
       "      <th>id</th>\n",
       "      <th>name</th>\n",
       "      <th>host_id</th>\n",
       "      <th>host_name</th>\n",
       "      <th>neighbourhood</th>\n",
       "      <th>latitude</th>\n",
       "      <th>longitude</th>\n",
       "      <th>room_type</th>\n",
       "      <th>price</th>\n",
       "      <th>minimum_nights</th>\n",
       "      <th>number_of_reviews</th>\n",
       "      <th>last_review</th>\n",
       "      <th>reviews_per_month</th>\n",
       "      <th>calculated_host_listings_count</th>\n",
       "      <th>availability_365</th>\n",
       "      <th>number_of_reviews_ltm</th>\n",
       "    </tr>\n",
       "  </thead>\n",
       "  <tbody>\n",
       "    <tr>\n",
       "      <th>0</th>\n",
       "      <td>0</td>\n",
       "      <td>27934</td>\n",
       "      <td>Nice room with superb city view</td>\n",
       "      <td>120437</td>\n",
       "      <td>Nuttee</td>\n",
       "      <td>Ratchathewi</td>\n",
       "      <td>13.75983</td>\n",
       "      <td>100.54134</td>\n",
       "      <td>Entire home/apt</td>\n",
       "      <td>1905</td>\n",
       "      <td>3</td>\n",
       "      <td>65</td>\n",
       "      <td>2020-01-06</td>\n",
       "      <td>0.50</td>\n",
       "      <td>2</td>\n",
       "      <td>353</td>\n",
       "      <td>0</td>\n",
       "    </tr>\n",
       "    <tr>\n",
       "      <th>1</th>\n",
       "      <td>1</td>\n",
       "      <td>27979</td>\n",
       "      <td>Easy going landlord,easy place</td>\n",
       "      <td>120541</td>\n",
       "      <td>Emy</td>\n",
       "      <td>Bang Na</td>\n",
       "      <td>13.66818</td>\n",
       "      <td>100.61674</td>\n",
       "      <td>Private room</td>\n",
       "      <td>1316</td>\n",
       "      <td>1</td>\n",
       "      <td>0</td>\n",
       "      <td>NaN</td>\n",
       "      <td>NaN</td>\n",
       "      <td>2</td>\n",
       "      <td>358</td>\n",
       "      <td>0</td>\n",
       "    </tr>\n",
       "    <tr>\n",
       "      <th>2</th>\n",
       "      <td>2</td>\n",
       "      <td>28745</td>\n",
       "      <td>modern-style apartment in Bangkok</td>\n",
       "      <td>123784</td>\n",
       "      <td>Familyroom</td>\n",
       "      <td>Bang Kapi</td>\n",
       "      <td>13.75232</td>\n",
       "      <td>100.62402</td>\n",
       "      <td>Private room</td>\n",
       "      <td>800</td>\n",
       "      <td>60</td>\n",
       "      <td>0</td>\n",
       "      <td>NaN</td>\n",
       "      <td>NaN</td>\n",
       "      <td>1</td>\n",
       "      <td>365</td>\n",
       "      <td>0</td>\n",
       "    </tr>\n",
       "    <tr>\n",
       "      <th>3</th>\n",
       "      <td>3</td>\n",
       "      <td>35780</td>\n",
       "      <td>Spacious one bedroom at The Kris Condo Bldg. 3</td>\n",
       "      <td>153730</td>\n",
       "      <td>Sirilak</td>\n",
       "      <td>Din Daeng</td>\n",
       "      <td>13.78823</td>\n",
       "      <td>100.57256</td>\n",
       "      <td>Private room</td>\n",
       "      <td>1286</td>\n",
       "      <td>7</td>\n",
       "      <td>2</td>\n",
       "      <td>2022-04-01</td>\n",
       "      <td>0.03</td>\n",
       "      <td>1</td>\n",
       "      <td>323</td>\n",
       "      <td>1</td>\n",
       "    </tr>\n",
       "    <tr>\n",
       "      <th>4</th>\n",
       "      <td>4</td>\n",
       "      <td>941865</td>\n",
       "      <td>Suite Room 3 at MetroPoint</td>\n",
       "      <td>610315</td>\n",
       "      <td>Kasem</td>\n",
       "      <td>Bang Kapi</td>\n",
       "      <td>13.76872</td>\n",
       "      <td>100.63338</td>\n",
       "      <td>Private room</td>\n",
       "      <td>1905</td>\n",
       "      <td>1</td>\n",
       "      <td>0</td>\n",
       "      <td>NaN</td>\n",
       "      <td>NaN</td>\n",
       "      <td>3</td>\n",
       "      <td>365</td>\n",
       "      <td>0</td>\n",
       "    </tr>\n",
       "  </tbody>\n",
       "</table>\n",
       "</div>"
      ],
      "text/plain": [
       "   Unnamed: 0      id                                            name  \\\n",
       "0           0   27934                 Nice room with superb city view   \n",
       "1           1   27979                  Easy going landlord,easy place   \n",
       "2           2   28745               modern-style apartment in Bangkok   \n",
       "3           3   35780  Spacious one bedroom at The Kris Condo Bldg. 3   \n",
       "4           4  941865                      Suite Room 3 at MetroPoint   \n",
       "\n",
       "   host_id   host_name neighbourhood  latitude  longitude        room_type  \\\n",
       "0   120437      Nuttee   Ratchathewi  13.75983  100.54134  Entire home/apt   \n",
       "1   120541         Emy       Bang Na  13.66818  100.61674     Private room   \n",
       "2   123784  Familyroom     Bang Kapi  13.75232  100.62402     Private room   \n",
       "3   153730     Sirilak     Din Daeng  13.78823  100.57256     Private room   \n",
       "4   610315       Kasem     Bang Kapi  13.76872  100.63338     Private room   \n",
       "\n",
       "   price  minimum_nights  number_of_reviews last_review  reviews_per_month  \\\n",
       "0   1905               3                 65  2020-01-06               0.50   \n",
       "1   1316               1                  0         NaN                NaN   \n",
       "2    800              60                  0         NaN                NaN   \n",
       "3   1286               7                  2  2022-04-01               0.03   \n",
       "4   1905               1                  0         NaN                NaN   \n",
       "\n",
       "   calculated_host_listings_count  availability_365  number_of_reviews_ltm  \n",
       "0                               2               353                      0  \n",
       "1                               2               358                      0  \n",
       "2                               1               365                      0  \n",
       "3                               1               323                      1  \n",
       "4                               3               365                      0  "
      ]
     },
     "execution_count": 347,
     "metadata": {},
     "output_type": "execute_result"
    }
   ],
   "source": [
    "# read csv file and save into dataframe df\n",
    "df = pd.read_csv(\"Airbnb Listings Bangkok.csv\")\n",
    "\n",
    "df.head()"
   ]
  },
  {
   "cell_type": "markdown",
   "metadata": {},
   "source": [
    "Basic Dataset Information"
   ]
  },
  {
   "cell_type": "code",
   "execution_count": 348,
   "metadata": {},
   "outputs": [],
   "source": [
    "# df.info()"
   ]
  },
  {
   "cell_type": "markdown",
   "metadata": {},
   "source": [
    "Droping redundant \"Unnamed\" column"
   ]
  },
  {
   "cell_type": "code",
   "execution_count": 349,
   "metadata": {},
   "outputs": [],
   "source": [
    "df = df.drop(columns=[\"Unnamed: 0\"])\n",
    "# df.head()"
   ]
  },
  {
   "cell_type": "markdown",
   "metadata": {},
   "source": [
    "Find duplicates and handle accordingly"
   ]
  },
  {
   "cell_type": "code",
   "execution_count": 350,
   "metadata": {},
   "outputs": [
    {
     "data": {
      "text/plain": [
       "np.int64(0)"
      ]
     },
     "execution_count": 350,
     "metadata": {},
     "output_type": "execute_result"
    }
   ],
   "source": [
    "df.duplicated().sum()\n",
    "# no duplicates"
   ]
  },
  {
   "cell_type": "markdown",
   "metadata": {},
   "source": [
    "Find missing values and handle accordingly"
   ]
  },
  {
   "cell_type": "code",
   "execution_count": 351,
   "metadata": {},
   "outputs": [],
   "source": [
    "# df.isnull().sum()"
   ]
  },
  {
   "cell_type": "code",
   "execution_count": 352,
   "metadata": {},
   "outputs": [],
   "source": [
    "# len(df[df[\"number_of_reviews\"] == 0])"
   ]
  },
  {
   "cell_type": "code",
   "execution_count": 353,
   "metadata": {},
   "outputs": [],
   "source": [
    "# check name column missing values\n",
    "# df[df[\"name\"].isna()]"
   ]
  },
  {
   "cell_type": "code",
   "execution_count": 354,
   "metadata": {},
   "outputs": [],
   "source": [
    "# since name are descrptive titles, replace them with placeholder value of \"Unknown\"\n",
    "# df[\"name\"].fillna(\"Unknown\", inplace=True)\n",
    "df.fillna({\"name\": \"Unknown\"}, inplace=True)"
   ]
  },
  {
   "cell_type": "code",
   "execution_count": 355,
   "metadata": {},
   "outputs": [],
   "source": [
    "# double check name column missing values\n",
    "# df[df[\"name\"].isna()]\n",
    "\n",
    "# no more name column missing values"
   ]
  },
  {
   "cell_type": "code",
   "execution_count": 356,
   "metadata": {},
   "outputs": [],
   "source": [
    "# check host_name column missing values\n",
    "# df[df[\"host_name\"].isna()]"
   ]
  },
  {
   "cell_type": "code",
   "execution_count": 357,
   "metadata": {},
   "outputs": [],
   "source": [
    "# since host_name is not too important in the analysis, replace them with placeholder value of \"Unknown\"\n",
    "df.fillna({\"host_name\": \"Unknown\"}, inplace=True)"
   ]
  },
  {
   "cell_type": "code",
   "execution_count": 358,
   "metadata": {},
   "outputs": [],
   "source": [
    "# double check host_name column missing values\n",
    "# df[df[\"host_name\"].isna()]\n",
    "\n",
    "# no more host_name column missing values"
   ]
  },
  {
   "cell_type": "code",
   "execution_count": 359,
   "metadata": {},
   "outputs": [],
   "source": [
    "# check last_review and reviews_per_month column\n",
    "# df[df[\"last_review\"].isna() & df[\"reviews_per_month\"].isna()]"
   ]
  },
  {
   "cell_type": "code",
   "execution_count": 360,
   "metadata": {},
   "outputs": [],
   "source": [
    "# last_review column has 5790 missing values\n",
    "# reviews_per_month column has 5790 missing values\n",
    "# above shows 5790 missing values --> btoh last_review and reviews_per_month column falls under the same rows\n",
    "# last_review can be replaced with placeholder value of \"No review\" --> since last_review is an object format\n",
    "# reviews_per_month can be replaced with 0 (no last_review means no reviews were made in any month)\n",
    "\n",
    "df.fillna({\"last_review\": \"No Review\"}, inplace=True)\n",
    "df.fillna({\"reviews_per_month\": 0}, inplace=True)"
   ]
  },
  {
   "cell_type": "code",
   "execution_count": 361,
   "metadata": {},
   "outputs": [],
   "source": [
    "# double check last_review and reviews_per_month column\n",
    "# df[df[\"last_review\"].isna() & df[\"reviews_per_month\"].isna()]\n",
    "\n",
    "# no more missing values"
   ]
  },
  {
   "cell_type": "code",
   "execution_count": 362,
   "metadata": {},
   "outputs": [],
   "source": [
    "# double check all columns for missing values\n",
    "# df.isnull().sum()"
   ]
  },
  {
   "cell_type": "markdown",
   "metadata": {},
   "source": [
    "Dataset information after cleaning up missing values"
   ]
  },
  {
   "cell_type": "code",
   "execution_count": 363,
   "metadata": {},
   "outputs": [],
   "source": [
    "# df.describe()"
   ]
  },
  {
   "cell_type": "markdown",
   "metadata": {},
   "source": [
    "# Main Topic\n",
    "\n",
    "Best Areas for AirBnb Investment in Bangkok\n",
    "<br>\n",
    "Analyze which neighborhoods have the highest revenue potential"
   ]
  },
  {
   "cell_type": "code",
   "execution_count": 364,
   "metadata": {},
   "outputs": [],
   "source": [
    "# number of different neighbourhood\n",
    "# df[\"neighbourhood\"].nunique()"
   ]
  },
  {
   "cell_type": "code",
   "execution_count": 365,
   "metadata": {},
   "outputs": [],
   "source": [
    "# number of different room_type\n",
    "# df[\"room_type\"].nunique()"
   ]
  },
  {
   "cell_type": "markdown",
   "metadata": {},
   "source": [
    "- want to check the difference in prices between the different types of rooms in different neighbourhoods\n",
    "- logically, the different types of rooms would heva different pricings"
   ]
  },
  {
   "cell_type": "code",
   "execution_count": 366,
   "metadata": {},
   "outputs": [
    {
     "data": {
      "image/png": "[encoded data removed]",
      "text/plain": [
       "<Figure size 3000x1000 with 1 Axes>"
      ]
     },
     "metadata": {},
     "output_type": "display_data"
    }
   ],
   "source": [
    "# create graph to see the mean prices of each room_type in each neighbourhood\n",
    "\n",
    "plt.figure(figsize=(30, 10))\n",
    "sns.barplot(x = \"neighbourhood\", y = \"price\", data = df, hue = \"room_type\", estimator=np.mean, errorbar= None, palette=\"viridis\")\n",
    "plt.title(\"Mean Price of Room Types by Neighborhood\")\n",
    "plt.xticks(rotation=45, ha=\"right\");"
   ]
  },
  {
   "cell_type": "markdown",
   "metadata": {},
   "source": [
    "- too many neighbourhoods --> difficult to visualise\n",
    "- separate into different zones based on enighbourhood median longitude nad latitude (central, northeast, northwest, southeast, southwest)"
   ]
  },
  {
   "cell_type": "code",
   "execution_count": 367,
   "metadata": {},
   "outputs": [],
   "source": [
    "neighborhood_medians = df.groupby(\"neighbourhood\")[[\"latitude\", \"longitude\"]].median().reset_index()"
   ]
  },
  {
   "cell_type": "code",
   "execution_count": 368,
   "metadata": {},
   "outputs": [],
   "source": [
    "# find the median of latitude and longitude\n",
    "median_lat = df[\"latitude\"].median()    # to divide north vs south\n",
    "median_lon = df[\"longitude\"].median()   # to divide east vs west\n",
    "\n",
    "# create function to assign regions based on lat lon\n",
    "def assign_region(lat, lon):\n",
    "\n",
    "    lat_q1, lat_q3 = df[\"latitude\"].quantile([0.25, 0.75])\n",
    "    lon_q1, lon_q3 = df[\"longitude\"].quantile([0.25, 0.75])\n",
    "    iqr_lat = lat_q3 - lat_q1\n",
    "    iqr_lon = lon_q3 - lon_q1\n",
    "    \n",
    "    # Adjust Central Region\n",
    "    central_lat_min = lat_q1\n",
    "    central_lat_max = lat_q3\n",
    "    central_lon_min = lon_q1\n",
    "    central_lon_max = lon_q3\n",
    "    \n",
    "    if central_lat_min <= lat <= central_lat_max and central_lon_min <= lon <= central_lon_max: # central area range\n",
    "        return \"Central\"\n",
    "    elif lat >= median_lat and lon > median_lon:\n",
    "        return \"Northeast\"\n",
    "    elif lat >= median_lat and lon <= median_lon:\n",
    "        return \"Northwest\"\n",
    "    elif lat < median_lat and lon > median_lon:\n",
    "        return \"Southeast\"\n",
    "    elif lat < median_lat and lon <= median_lon:\n",
    "        return \"Southwest\"\n"
   ]
  },
  {
   "cell_type": "code",
   "execution_count": 369,
   "metadata": {},
   "outputs": [],
   "source": [
    "lat_q1, lat_q3 = df[\"latitude\"].quantile([0.25, 0.75])\n",
    "lon_q1, lon_q3 = df[\"longitude\"].quantile([0.25, 0.75])\n",
    "iqr_lat = lat_q3 - lat_q1\n",
    "iqr_lon = lon_q3 - lon_q1\n",
    "\n",
    "# print(\"Latitude IQR: \" + str(iqr_lat))\n",
    "# print(\"Longitude IQR: \" + str(iqr_lon))"
   ]
  },
  {
   "cell_type": "code",
   "execution_count": 370,
   "metadata": {},
   "outputs": [],
   "source": [
    "neighborhood_medians[\"region\"] = neighborhood_medians.apply(\n",
    "    lambda row: assign_region(row[\"latitude\"], row[\"longitude\"]), axis=1\n",
    ")\n"
   ]
  },
  {
   "cell_type": "code",
   "execution_count": 371,
   "metadata": {},
   "outputs": [],
   "source": [
    "df = df.merge(neighborhood_medians[[\"neighbourhood\", \"region\"]], on=\"neighbourhood\", how=\"left\")\n",
    "# df.head()"
   ]
  },
  {
   "cell_type": "code",
   "execution_count": 372,
   "metadata": {},
   "outputs": [
    {
     "data": {
      "text/plain": [
       "region\n",
       "Central      5819\n",
       "Northeast    3245\n",
       "Southwest    3151\n",
       "Northwest    1936\n",
       "Southeast    1703\n",
       "Name: count, dtype: int64"
      ]
     },
     "execution_count": 372,
     "metadata": {},
     "output_type": "execute_result"
    }
   ],
   "source": [
    "# check number of entries for each region\n",
    "df[\"region\"].value_counts()"
   ]
  },
  {
   "cell_type": "markdown",
   "metadata": {},
   "source": [
    "create map for distribution of listings per region"
   ]
  },
  {
   "cell_type": "code",
   "execution_count": 373,
   "metadata": {},
   "outputs": [],
   "source": [
    "# Define a color mapping for your regions\n",
    "region_colors = {\n",
    "    \"Central\": \"red\",\n",
    "    \"Northeast\": \"blue\",\n",
    "    \"Southwest\": \"green\",\n",
    "    \"Northwest\": \"purple\",\n",
    "    \"Southeast\": \"orange\"\n",
    "}\n",
    "\n",
    "# Create a base map centered around the average coordinates\n",
    "map_center = [df[\"latitude\"].mean(), df[\"longitude\"].mean()]\n",
    "m = folium.Map(location=map_center, zoom_start=12)\n",
    "\n",
    "# Add points for each listing\n",
    "for _, row in df.iterrows():\n",
    "    folium.CircleMarker(\n",
    "        location=[row[\"latitude\"], row[\"longitude\"]],\n",
    "        radius=2,\n",
    "        color=region_colors.get(row[\"region\"], \"black\"),\n",
    "        fill=True,\n",
    "        fill_color=region_colors.get(row[\"region\"], \"black\"),\n",
    "        fill_opacity=0.6,\n",
    "    ).add_to(m)\n",
    "\n",
    "# Show the map\n",
    "# m"
   ]
  },
  {
   "cell_type": "code",
   "execution_count": 374,
   "metadata": {},
   "outputs": [
    {
     "data": {
      "text/plain": [
       "neighbourhood\n",
       "Vadhana                 2153\n",
       "Khlong Toei             2097\n",
       "Huai Khwang             1125\n",
       "Ratchathewi             1114\n",
       "Bang Rak                 827\n",
       "Sathon                   809\n",
       "Phra Nakhon              619\n",
       "Phra Khanong             558\n",
       "Chatu Chak               548\n",
       "Bang Na                  458\n",
       "Parthum Wan              455\n",
       "Din Daeng                444\n",
       "Phaya Thai               422\n",
       "Suanluang                382\n",
       "Khlong San               357\n",
       "Bang Kapi                260\n",
       "Bang Sue                 250\n",
       "Bang Phlat               217\n",
       "Yan na wa                200\n",
       "Thon buri                182\n",
       "Don Mueang               167\n",
       "Pra Wet                  156\n",
       "Phasi Charoen            155\n",
       "Bangkok Noi              152\n",
       "Lat Krabang              149\n",
       "Bang Kho laen            140\n",
       "Lak Si                   126\n",
       "Pom Prap Sattru Phai     123\n",
       "Bang Khen                116\n",
       "Samphanthawong           114\n",
       "Wang Thong Lang          100\n",
       "Bang Khae                 92\n",
       "Dusit                     91\n",
       "Bangkok Yai               90\n",
       "Chom Thong                74\n",
       "Min Buri                  62\n",
       "Lat Phrao                 57\n",
       "Khan Na Yao               55\n",
       "Bueng Kum                 54\n",
       "Rat Burana                53\n",
       "Taling Chan               50\n",
       "Saphan Sung               45\n",
       "Sai Mai                   40\n",
       "Khlong Sam Wa             32\n",
       "Thung khru                23\n",
       "Bang Khun thain           21\n",
       "Nong Chok                 14\n",
       "Thawi Watthana            12\n",
       "Nong Khaem                 9\n",
       "Bang Bon                   5\n",
       "Name: count, dtype: int64"
      ]
     },
     "execution_count": 374,
     "metadata": {},
     "output_type": "execute_result"
    }
   ],
   "source": [
    "df[\"neighbourhood\"].value_counts()"
   ]
  },
  {
   "cell_type": "code",
   "execution_count": 375,
   "metadata": {},
   "outputs": [
    {
     "data": {
      "text/html": [
       "<div>\n",
       "<style scoped>\n",
       "    .dataframe tbody tr th:only-of-type {\n",
       "        vertical-align: middle;\n",
       "    }\n",
       "\n",
       "    .dataframe tbody tr th {\n",
       "        vertical-align: top;\n",
       "    }\n",
       "\n",
       "    .dataframe thead th {\n",
       "        text-align: right;\n",
       "    }\n",
       "</style>\n",
       "<table border=\"1\" class=\"dataframe\">\n",
       "  <thead>\n",
       "    <tr style=\"text-align: right;\">\n",
       "      <th></th>\n",
       "      <th>id</th>\n",
       "      <th>name</th>\n",
       "      <th>host_id</th>\n",
       "      <th>host_name</th>\n",
       "      <th>neighbourhood</th>\n",
       "      <th>latitude</th>\n",
       "      <th>longitude</th>\n",
       "      <th>room_type</th>\n",
       "      <th>price</th>\n",
       "      <th>minimum_nights</th>\n",
       "      <th>number_of_reviews</th>\n",
       "      <th>last_review</th>\n",
       "      <th>reviews_per_month</th>\n",
       "      <th>calculated_host_listings_count</th>\n",
       "      <th>availability_365</th>\n",
       "      <th>number_of_reviews_ltm</th>\n",
       "      <th>region</th>\n",
       "    </tr>\n",
       "  </thead>\n",
       "  <tbody>\n",
       "    <tr>\n",
       "      <th>0</th>\n",
       "      <td>27934</td>\n",
       "      <td>Nice room with superb city view</td>\n",
       "      <td>120437</td>\n",
       "      <td>Nuttee</td>\n",
       "      <td>Ratchathewi</td>\n",
       "      <td>13.75983</td>\n",
       "      <td>100.54134</td>\n",
       "      <td>Entire home/apt</td>\n",
       "      <td>1905</td>\n",
       "      <td>3</td>\n",
       "      <td>65</td>\n",
       "      <td>2020-01-06</td>\n",
       "      <td>0.50</td>\n",
       "      <td>2</td>\n",
       "      <td>353</td>\n",
       "      <td>0</td>\n",
       "      <td>Central</td>\n",
       "    </tr>\n",
       "    <tr>\n",
       "      <th>1</th>\n",
       "      <td>27979</td>\n",
       "      <td>Easy going landlord,easy place</td>\n",
       "      <td>120541</td>\n",
       "      <td>Emy</td>\n",
       "      <td>Bang Na</td>\n",
       "      <td>13.66818</td>\n",
       "      <td>100.61674</td>\n",
       "      <td>Private room</td>\n",
       "      <td>1316</td>\n",
       "      <td>1</td>\n",
       "      <td>0</td>\n",
       "      <td>No Review</td>\n",
       "      <td>0.00</td>\n",
       "      <td>2</td>\n",
       "      <td>358</td>\n",
       "      <td>0</td>\n",
       "      <td>Southeast</td>\n",
       "    </tr>\n",
       "    <tr>\n",
       "      <th>2</th>\n",
       "      <td>28745</td>\n",
       "      <td>modern-style apartment in Bangkok</td>\n",
       "      <td>123784</td>\n",
       "      <td>Familyroom</td>\n",
       "      <td>Bang Kapi</td>\n",
       "      <td>13.75232</td>\n",
       "      <td>100.62402</td>\n",
       "      <td>Private room</td>\n",
       "      <td>800</td>\n",
       "      <td>60</td>\n",
       "      <td>0</td>\n",
       "      <td>No Review</td>\n",
       "      <td>0.00</td>\n",
       "      <td>1</td>\n",
       "      <td>365</td>\n",
       "      <td>0</td>\n",
       "      <td>Northeast</td>\n",
       "    </tr>\n",
       "    <tr>\n",
       "      <th>3</th>\n",
       "      <td>35780</td>\n",
       "      <td>Spacious one bedroom at The Kris Condo Bldg. 3</td>\n",
       "      <td>153730</td>\n",
       "      <td>Sirilak</td>\n",
       "      <td>Din Daeng</td>\n",
       "      <td>13.78823</td>\n",
       "      <td>100.57256</td>\n",
       "      <td>Private room</td>\n",
       "      <td>1286</td>\n",
       "      <td>7</td>\n",
       "      <td>2</td>\n",
       "      <td>2022-04-01</td>\n",
       "      <td>0.03</td>\n",
       "      <td>1</td>\n",
       "      <td>323</td>\n",
       "      <td>1</td>\n",
       "      <td>Northeast</td>\n",
       "    </tr>\n",
       "    <tr>\n",
       "      <th>4</th>\n",
       "      <td>941865</td>\n",
       "      <td>Suite Room 3 at MetroPoint</td>\n",
       "      <td>610315</td>\n",
       "      <td>Kasem</td>\n",
       "      <td>Bang Kapi</td>\n",
       "      <td>13.76872</td>\n",
       "      <td>100.63338</td>\n",
       "      <td>Private room</td>\n",
       "      <td>1905</td>\n",
       "      <td>1</td>\n",
       "      <td>0</td>\n",
       "      <td>No Review</td>\n",
       "      <td>0.00</td>\n",
       "      <td>3</td>\n",
       "      <td>365</td>\n",
       "      <td>0</td>\n",
       "      <td>Northeast</td>\n",
       "    </tr>\n",
       "  </tbody>\n",
       "</table>\n",
       "</div>"
      ],
      "text/plain": [
       "       id                                            name  host_id  \\\n",
       "0   27934                 Nice room with superb city view   120437   \n",
       "1   27979                  Easy going landlord,easy place   120541   \n",
       "2   28745               modern-style apartment in Bangkok   123784   \n",
       "3   35780  Spacious one bedroom at The Kris Condo Bldg. 3   153730   \n",
       "4  941865                      Suite Room 3 at MetroPoint   610315   \n",
       "\n",
       "    host_name neighbourhood  latitude  longitude        room_type  price  \\\n",
       "0      Nuttee   Ratchathewi  13.75983  100.54134  Entire home/apt   1905   \n",
       "1         Emy       Bang Na  13.66818  100.61674     Private room   1316   \n",
       "2  Familyroom     Bang Kapi  13.75232  100.62402     Private room    800   \n",
       "3     Sirilak     Din Daeng  13.78823  100.57256     Private room   1286   \n",
       "4       Kasem     Bang Kapi  13.76872  100.63338     Private room   1905   \n",
       "\n",
       "   minimum_nights  number_of_reviews last_review  reviews_per_month  \\\n",
       "0               3                 65  2020-01-06               0.50   \n",
       "1               1                  0   No Review               0.00   \n",
       "2              60                  0   No Review               0.00   \n",
       "3               7                  2  2022-04-01               0.03   \n",
       "4               1                  0   No Review               0.00   \n",
       "\n",
       "   calculated_host_listings_count  availability_365  number_of_reviews_ltm  \\\n",
       "0                               2               353                      0   \n",
       "1                               2               358                      0   \n",
       "2                               1               365                      0   \n",
       "3                               1               323                      1   \n",
       "4                               3               365                      0   \n",
       "\n",
       "      region  \n",
       "0    Central  \n",
       "1  Southeast  \n",
       "2  Northeast  \n",
       "3  Northeast  \n",
       "4  Northeast  "
      ]
     },
     "execution_count": 375,
     "metadata": {},
     "output_type": "execute_result"
    }
   ],
   "source": [
    "df.head()"
   ]
  },
  {
   "cell_type": "markdown",
   "metadata": {},
   "source": [
    "clean up room_type categorisation"
   ]
  },
  {
   "cell_type": "code",
   "execution_count": 376,
   "metadata": {},
   "outputs": [
    {
     "data": {
      "text/plain": [
       "region\n",
       "Central      5819\n",
       "Northeast    3245\n",
       "Southwest    3151\n",
       "Northwest    1936\n",
       "Southeast    1703\n",
       "Name: count, dtype: int64"
      ]
     },
     "execution_count": 376,
     "metadata": {},
     "output_type": "execute_result"
    }
   ],
   "source": [
    "df[\"region\"].value_counts()"
   ]
  },
  {
   "cell_type": "code",
   "execution_count": 377,
   "metadata": {},
   "outputs": [],
   "source": [
    "# df[df[\"room_type\"] == \"Entire home/apt\"]"
   ]
  },
  {
   "cell_type": "code",
   "execution_count": 378,
   "metadata": {},
   "outputs": [],
   "source": [
    "# df[df[\"room_type\"] == \"Hotel room\"]"
   ]
  },
  {
   "cell_type": "code",
   "execution_count": 379,
   "metadata": {},
   "outputs": [],
   "source": [
    "# df[df[\"room_type\"] == \"Shared room\"]"
   ]
  },
  {
   "cell_type": "code",
   "execution_count": 380,
   "metadata": {},
   "outputs": [],
   "source": [
    "# df[df[\"room_type\"] == \"Private room\"]"
   ]
  },
  {
   "cell_type": "code",
   "execution_count": 381,
   "metadata": {},
   "outputs": [],
   "source": [
    "eha_keywords = [\"house\", \"home\", \"apartment\", \"apt\", \"condo\", \"villa\"] # keywords for entire home/apt\n",
    "hr_keywords = [\"hotel\"]    # keywords for hotel room\n",
    "sr_keywords = [\"dorm\", \"hostel\", \"capsule\"] # keywords for shared room\n",
    "# private room will logically be the rest"
   ]
  },
  {
   "cell_type": "code",
   "execution_count": 382,
   "metadata": {},
   "outputs": [],
   "source": [
    "for index, row in df.iterrows():\n",
    "    if any(keyword in row[\"name\"].lower() for keyword in eha_keywords):  # Entire home/apt\n",
    "        df.loc[index, \"room_type\"] = \"Entire home/apt\"\n",
    "    elif any(keyword in row[\"name\"].lower() for keyword in hr_keywords):  # Hotel room\n",
    "        df.loc[index, \"room_type\"] = \"Hotel room\"\n",
    "    elif any(keyword in row[\"name\"].lower() for keyword in sr_keywords):  # Shared room\n",
    "        df.loc[index, \"room_type\"] = \"Shared room\"\n",
    "    else:  \n",
    "        pass"
   ]
  },
  {
   "cell_type": "code",
   "execution_count": 383,
   "metadata": {},
   "outputs": [],
   "source": [
    "# df[(df[\"name\"].str.contains(\"Apartment\", case=False, na=False)) & (df[\"room_type\"] != \"Entire home/apt\")]"
   ]
  },
  {
   "cell_type": "code",
   "execution_count": 384,
   "metadata": {},
   "outputs": [
    {
     "data": {
      "text/plain": [
       "room_type\n",
       "Entire home/apt    10280\n",
       "Private room        4013\n",
       "Hotel room           838\n",
       "Shared room          723\n",
       "Name: count, dtype: int64"
      ]
     },
     "execution_count": 384,
     "metadata": {},
     "output_type": "execute_result"
    }
   ],
   "source": [
    "# check value counts\n",
    "df[\"room_type\"].value_counts()"
   ]
  },
  {
   "cell_type": "markdown",
   "metadata": {},
   "source": [
    "note that the amount for hotel increased mostly because some hotel rooms are incorrectly miscategorised as a private room"
   ]
  },
  {
   "cell_type": "code",
   "execution_count": 385,
   "metadata": {},
   "outputs": [],
   "source": [
    "# create sub dataframes based on region\n",
    "central_df = df[df[\"region\"] == \"Central\"]\n",
    "northeast_df = df[df[\"region\"] == \"Northeast\"]\n",
    "southwest_df = df[df[\"region\"] == \"Southwest\"]\n",
    "northwest_df = df[df[\"region\"] == \"Northwest\"]\n",
    "southeast_df = df[df[\"region\"] == \"Southeast\"]"
   ]
  },
  {
   "cell_type": "code",
   "execution_count": 386,
   "metadata": {},
   "outputs": [
    {
     "data": {
      "image/png": "[encoded data removed]",
      "text/plain": [
       "<Figure size 3000x1000 with 1 Axes>"
      ]
     },
     "metadata": {},
     "output_type": "display_data"
    }
   ],
   "source": [
    "# create graph to see the mean prices of each room_type in each zonal area - for cleaning purposes\n",
    "\n",
    "plt.figure(figsize=(30, 10))\n",
    "sns.barplot(x = \"region\", y = \"price\", data = df, hue = \"room_type\", estimator=np.mean, errorbar= None, palette=\"viridis\")\n",
    "plt.title(\"Mean Price of Room Types by Neighborhood\")\n",
    "plt.xticks(rotation=45, ha=\"right\");"
   ]
  },
  {
   "cell_type": "code",
   "execution_count": 387,
   "metadata": {},
   "outputs": [
    {
     "data": {
      "text/html": [
       "<div>\n",
       "<style scoped>\n",
       "    .dataframe tbody tr th:only-of-type {\n",
       "        vertical-align: middle;\n",
       "    }\n",
       "\n",
       "    .dataframe tbody tr th {\n",
       "        vertical-align: top;\n",
       "    }\n",
       "\n",
       "    .dataframe thead th {\n",
       "        text-align: right;\n",
       "    }\n",
       "</style>\n",
       "<table border=\"1\" class=\"dataframe\">\n",
       "  <thead>\n",
       "    <tr style=\"text-align: right;\">\n",
       "      <th></th>\n",
       "      <th>id</th>\n",
       "      <th>name</th>\n",
       "      <th>host_id</th>\n",
       "      <th>host_name</th>\n",
       "      <th>neighbourhood</th>\n",
       "      <th>latitude</th>\n",
       "      <th>longitude</th>\n",
       "      <th>room_type</th>\n",
       "      <th>price</th>\n",
       "      <th>minimum_nights</th>\n",
       "      <th>number_of_reviews</th>\n",
       "      <th>last_review</th>\n",
       "      <th>reviews_per_month</th>\n",
       "      <th>calculated_host_listings_count</th>\n",
       "      <th>availability_365</th>\n",
       "      <th>number_of_reviews_ltm</th>\n",
       "      <th>region</th>\n",
       "    </tr>\n",
       "  </thead>\n",
       "  <tbody>\n",
       "    <tr>\n",
       "      <th>0</th>\n",
       "      <td>27934</td>\n",
       "      <td>Nice room with superb city view</td>\n",
       "      <td>120437</td>\n",
       "      <td>Nuttee</td>\n",
       "      <td>Ratchathewi</td>\n",
       "      <td>13.759830</td>\n",
       "      <td>100.541340</td>\n",
       "      <td>Entire home/apt</td>\n",
       "      <td>1905</td>\n",
       "      <td>3</td>\n",
       "      <td>65</td>\n",
       "      <td>2020-01-06</td>\n",
       "      <td>0.50</td>\n",
       "      <td>2</td>\n",
       "      <td>353</td>\n",
       "      <td>0</td>\n",
       "      <td>Central</td>\n",
       "    </tr>\n",
       "    <tr>\n",
       "      <th>1</th>\n",
       "      <td>27979</td>\n",
       "      <td>Easy going landlord,easy place</td>\n",
       "      <td>120541</td>\n",
       "      <td>Emy</td>\n",
       "      <td>Bang Na</td>\n",
       "      <td>13.668180</td>\n",
       "      <td>100.616740</td>\n",
       "      <td>Private room</td>\n",
       "      <td>1316</td>\n",
       "      <td>1</td>\n",
       "      <td>0</td>\n",
       "      <td>No Review</td>\n",
       "      <td>0.00</td>\n",
       "      <td>2</td>\n",
       "      <td>358</td>\n",
       "      <td>0</td>\n",
       "      <td>Southeast</td>\n",
       "    </tr>\n",
       "    <tr>\n",
       "      <th>2</th>\n",
       "      <td>28745</td>\n",
       "      <td>modern-style apartment in Bangkok</td>\n",
       "      <td>123784</td>\n",
       "      <td>Familyroom</td>\n",
       "      <td>Bang Kapi</td>\n",
       "      <td>13.752320</td>\n",
       "      <td>100.624020</td>\n",
       "      <td>Entire home/apt</td>\n",
       "      <td>800</td>\n",
       "      <td>60</td>\n",
       "      <td>0</td>\n",
       "      <td>No Review</td>\n",
       "      <td>0.00</td>\n",
       "      <td>1</td>\n",
       "      <td>365</td>\n",
       "      <td>0</td>\n",
       "      <td>Northeast</td>\n",
       "    </tr>\n",
       "    <tr>\n",
       "      <th>3</th>\n",
       "      <td>35780</td>\n",
       "      <td>Spacious one bedroom at The Kris Condo Bldg. 3</td>\n",
       "      <td>153730</td>\n",
       "      <td>Sirilak</td>\n",
       "      <td>Din Daeng</td>\n",
       "      <td>13.788230</td>\n",
       "      <td>100.572560</td>\n",
       "      <td>Entire home/apt</td>\n",
       "      <td>1286</td>\n",
       "      <td>7</td>\n",
       "      <td>2</td>\n",
       "      <td>2022-04-01</td>\n",
       "      <td>0.03</td>\n",
       "      <td>1</td>\n",
       "      <td>323</td>\n",
       "      <td>1</td>\n",
       "      <td>Northeast</td>\n",
       "    </tr>\n",
       "    <tr>\n",
       "      <th>4</th>\n",
       "      <td>941865</td>\n",
       "      <td>Suite Room 3 at MetroPoint</td>\n",
       "      <td>610315</td>\n",
       "      <td>Kasem</td>\n",
       "      <td>Bang Kapi</td>\n",
       "      <td>13.768720</td>\n",
       "      <td>100.633380</td>\n",
       "      <td>Private room</td>\n",
       "      <td>1905</td>\n",
       "      <td>1</td>\n",
       "      <td>0</td>\n",
       "      <td>No Review</td>\n",
       "      <td>0.00</td>\n",
       "      <td>3</td>\n",
       "      <td>365</td>\n",
       "      <td>0</td>\n",
       "      <td>Northeast</td>\n",
       "    </tr>\n",
       "    <tr>\n",
       "      <th>...</th>\n",
       "      <td>...</td>\n",
       "      <td>...</td>\n",
       "      <td>...</td>\n",
       "      <td>...</td>\n",
       "      <td>...</td>\n",
       "      <td>...</td>\n",
       "      <td>...</td>\n",
       "      <td>...</td>\n",
       "      <td>...</td>\n",
       "      <td>...</td>\n",
       "      <td>...</td>\n",
       "      <td>...</td>\n",
       "      <td>...</td>\n",
       "      <td>...</td>\n",
       "      <td>...</td>\n",
       "      <td>...</td>\n",
       "      <td>...</td>\n",
       "    </tr>\n",
       "    <tr>\n",
       "      <th>15849</th>\n",
       "      <td>790465040741092826</td>\n",
       "      <td>素坤逸核心两房公寓42楼，靠近BTSon nut/无边天际泳池观赏曼谷夜景/出门当地美食街</td>\n",
       "      <td>94899359</td>\n",
       "      <td>Renee</td>\n",
       "      <td>Pra Wet</td>\n",
       "      <td>13.715132</td>\n",
       "      <td>100.653458</td>\n",
       "      <td>Private room</td>\n",
       "      <td>2298</td>\n",
       "      <td>28</td>\n",
       "      <td>0</td>\n",
       "      <td>No Review</td>\n",
       "      <td>0.00</td>\n",
       "      <td>1</td>\n",
       "      <td>362</td>\n",
       "      <td>0</td>\n",
       "      <td>Southeast</td>\n",
       "    </tr>\n",
       "    <tr>\n",
       "      <th>15850</th>\n",
       "      <td>790474503157243541</td>\n",
       "      <td>Euro LuxuryHotel PratunamMKt TripleBdNrShoping...</td>\n",
       "      <td>491526222</td>\n",
       "      <td>Phakhamon</td>\n",
       "      <td>Ratchathewi</td>\n",
       "      <td>13.753052</td>\n",
       "      <td>100.538738</td>\n",
       "      <td>Hotel room</td>\n",
       "      <td>1429</td>\n",
       "      <td>1</td>\n",
       "      <td>0</td>\n",
       "      <td>No Review</td>\n",
       "      <td>0.00</td>\n",
       "      <td>14</td>\n",
       "      <td>365</td>\n",
       "      <td>0</td>\n",
       "      <td>Central</td>\n",
       "    </tr>\n",
       "    <tr>\n",
       "      <th>15851</th>\n",
       "      <td>790475335086864240</td>\n",
       "      <td>Euro LuxuryHotel PratunamMKt TwinBedNrShopingArea</td>\n",
       "      <td>491526222</td>\n",
       "      <td>Phakhamon</td>\n",
       "      <td>Ratchathewi</td>\n",
       "      <td>13.753169</td>\n",
       "      <td>100.538700</td>\n",
       "      <td>Hotel room</td>\n",
       "      <td>1214</td>\n",
       "      <td>1</td>\n",
       "      <td>0</td>\n",
       "      <td>No Review</td>\n",
       "      <td>0.00</td>\n",
       "      <td>14</td>\n",
       "      <td>365</td>\n",
       "      <td>0</td>\n",
       "      <td>Central</td>\n",
       "    </tr>\n",
       "    <tr>\n",
       "      <th>15852</th>\n",
       "      <td>790475546213717328</td>\n",
       "      <td>Euro LuxuryHotel PratunamMKt TwinBedNrShopingArea</td>\n",
       "      <td>491526222</td>\n",
       "      <td>Phakhamon</td>\n",
       "      <td>Ratchathewi</td>\n",
       "      <td>13.754789</td>\n",
       "      <td>100.538757</td>\n",
       "      <td>Hotel room</td>\n",
       "      <td>1214</td>\n",
       "      <td>1</td>\n",
       "      <td>0</td>\n",
       "      <td>No Review</td>\n",
       "      <td>0.00</td>\n",
       "      <td>14</td>\n",
       "      <td>365</td>\n",
       "      <td>0</td>\n",
       "      <td>Central</td>\n",
       "    </tr>\n",
       "    <tr>\n",
       "      <th>15853</th>\n",
       "      <td>790476492384199044</td>\n",
       "      <td>Euro LuxuryHotel PratunamMKt TwinBedNrShopingArea</td>\n",
       "      <td>491526222</td>\n",
       "      <td>Phakhamon</td>\n",
       "      <td>Ratchathewi</td>\n",
       "      <td>13.752960</td>\n",
       "      <td>100.540820</td>\n",
       "      <td>Hotel room</td>\n",
       "      <td>1214</td>\n",
       "      <td>1</td>\n",
       "      <td>0</td>\n",
       "      <td>No Review</td>\n",
       "      <td>0.00</td>\n",
       "      <td>14</td>\n",
       "      <td>365</td>\n",
       "      <td>0</td>\n",
       "      <td>Central</td>\n",
       "    </tr>\n",
       "  </tbody>\n",
       "</table>\n",
       "<p>15854 rows × 17 columns</p>\n",
       "</div>"
      ],
      "text/plain": [
       "                       id                                               name  \\\n",
       "0                   27934                    Nice room with superb city view   \n",
       "1                   27979                     Easy going landlord,easy place   \n",
       "2                   28745                  modern-style apartment in Bangkok   \n",
       "3                   35780     Spacious one bedroom at The Kris Condo Bldg. 3   \n",
       "4                  941865                         Suite Room 3 at MetroPoint   \n",
       "...                   ...                                                ...   \n",
       "15849  790465040741092826      素坤逸核心两房公寓42楼，靠近BTSon nut/无边天际泳池观赏曼谷夜景/出门当地美食街   \n",
       "15850  790474503157243541  Euro LuxuryHotel PratunamMKt TripleBdNrShoping...   \n",
       "15851  790475335086864240  Euro LuxuryHotel PratunamMKt TwinBedNrShopingArea   \n",
       "15852  790475546213717328  Euro LuxuryHotel PratunamMKt TwinBedNrShopingArea   \n",
       "15853  790476492384199044  Euro LuxuryHotel PratunamMKt TwinBedNrShopingArea   \n",
       "\n",
       "         host_id   host_name neighbourhood   latitude   longitude  \\\n",
       "0         120437      Nuttee   Ratchathewi  13.759830  100.541340   \n",
       "1         120541         Emy       Bang Na  13.668180  100.616740   \n",
       "2         123784  Familyroom     Bang Kapi  13.752320  100.624020   \n",
       "3         153730     Sirilak     Din Daeng  13.788230  100.572560   \n",
       "4         610315       Kasem     Bang Kapi  13.768720  100.633380   \n",
       "...          ...         ...           ...        ...         ...   \n",
       "15849   94899359       Renee       Pra Wet  13.715132  100.653458   \n",
       "15850  491526222   Phakhamon   Ratchathewi  13.753052  100.538738   \n",
       "15851  491526222   Phakhamon   Ratchathewi  13.753169  100.538700   \n",
       "15852  491526222   Phakhamon   Ratchathewi  13.754789  100.538757   \n",
       "15853  491526222   Phakhamon   Ratchathewi  13.752960  100.540820   \n",
       "\n",
       "             room_type  price  minimum_nights  number_of_reviews last_review  \\\n",
       "0      Entire home/apt   1905               3                 65  2020-01-06   \n",
       "1         Private room   1316               1                  0   No Review   \n",
       "2      Entire home/apt    800              60                  0   No Review   \n",
       "3      Entire home/apt   1286               7                  2  2022-04-01   \n",
       "4         Private room   1905               1                  0   No Review   \n",
       "...                ...    ...             ...                ...         ...   \n",
       "15849     Private room   2298              28                  0   No Review   \n",
       "15850       Hotel room   1429               1                  0   No Review   \n",
       "15851       Hotel room   1214               1                  0   No Review   \n",
       "15852       Hotel room   1214               1                  0   No Review   \n",
       "15853       Hotel room   1214               1                  0   No Review   \n",
       "\n",
       "       reviews_per_month  calculated_host_listings_count  availability_365  \\\n",
       "0                   0.50                               2               353   \n",
       "1                   0.00                               2               358   \n",
       "2                   0.00                               1               365   \n",
       "3                   0.03                               1               323   \n",
       "4                   0.00                               3               365   \n",
       "...                  ...                             ...               ...   \n",
       "15849               0.00                               1               362   \n",
       "15850               0.00                              14               365   \n",
       "15851               0.00                              14               365   \n",
       "15852               0.00                              14               365   \n",
       "15853               0.00                              14               365   \n",
       "\n",
       "       number_of_reviews_ltm     region  \n",
       "0                          0    Central  \n",
       "1                          0  Southeast  \n",
       "2                          0  Northeast  \n",
       "3                          1  Northeast  \n",
       "4                          0  Northeast  \n",
       "...                      ...        ...  \n",
       "15849                      0  Southeast  \n",
       "15850                      0    Central  \n",
       "15851                      0    Central  \n",
       "15852                      0    Central  \n",
       "15853                      0    Central  \n",
       "\n",
       "[15854 rows x 17 columns]"
      ]
     },
     "execution_count": 387,
     "metadata": {},
     "output_type": "execute_result"
    }
   ],
   "source": [
    "df"
   ]
  },
  {
   "cell_type": "markdown",
   "metadata": {},
   "source": [
    "# Central"
   ]
  },
  {
   "cell_type": "code",
   "execution_count": 388,
   "metadata": {},
   "outputs": [],
   "source": [
    "# central_df.head()"
   ]
  },
  {
   "cell_type": "code",
   "execution_count": 389,
   "metadata": {},
   "outputs": [],
   "source": [
    "# central_df[\"neighbourhood\"].value_counts()"
   ]
  },
  {
   "cell_type": "code",
   "execution_count": 390,
   "metadata": {},
   "outputs": [],
   "source": [
    "# central_df[\"room_type\"].value_counts()"
   ]
  },
  {
   "cell_type": "code",
   "execution_count": 391,
   "metadata": {},
   "outputs": [],
   "source": [
    "# room_type price mean\n",
    "# central_df.groupby(\"room_type\")[\"price\"].mean()"
   ]
  },
  {
   "cell_type": "code",
   "execution_count": 392,
   "metadata": {},
   "outputs": [],
   "source": [
    "# # mean price of room_types in central\n",
    "# plt.figure(figsize=(7, 7))\n",
    "# sns.barplot(x = \"room_type\", y = \"price\", hue = \"room_type\", data = central_df, estimator=np.mean, errorbar= None, palette=\"Set2\")\n",
    "# plt.title(\"Mean Price of Room Types in Central Area\")\n",
    "# plt.xlabel(\"Room Types\")\n",
    "# plt.ylabel(\"Price Mean\")"
   ]
  },
  {
   "cell_type": "code",
   "execution_count": 393,
   "metadata": {},
   "outputs": [],
   "source": [
    "# room_type price median\n",
    "# central_df.groupby(\"room_type\")[\"price\"].median()"
   ]
  },
  {
   "cell_type": "code",
   "execution_count": 394,
   "metadata": {},
   "outputs": [],
   "source": [
    "# # median price of room_types in central\n",
    "# plt.figure(figsize=(7, 7))\n",
    "# sns.barplot(x = \"room_type\", y = \"price\", hue = \"room_type\", data = central_df, estimator=np.median, errorbar= None, palette=\"viridis\")\n",
    "# plt.title(\"Median Price of Room Types in Central Area\")\n",
    "# plt.xlabel(\"Room Types\")\n",
    "# plt.ylabel(\"Price Mean\")"
   ]
  },
  {
   "cell_type": "code",
   "execution_count": 395,
   "metadata": {},
   "outputs": [],
   "source": [
    "# # create boxplot to see distribution of room_type price side by side\n",
    "# plt.figure(figsize=(7, 7))\n",
    "# sns.boxplot(x = \"room_type\", y = \"price\", hue = \"room_type\", data = central_df, palette=\"viridis\")\n",
    "# plt.title(\"Distribution of Prices by Room Types in Central Area\")\n",
    "# plt.xlabel(\"Room Types\")\n",
    "# plt.ylabel(\"Price\")"
   ]
  },
  {
   "cell_type": "markdown",
   "metadata": {},
   "source": [
    "not normal distribution\n",
    "<br>\n",
    "there are outliers that needs to be addressed"
   ]
  },
  {
   "cell_type": "code",
   "execution_count": 396,
   "metadata": {},
   "outputs": [],
   "source": [
    "# create dataframes for each room_type in central_df\n",
    "central_eha = central_df[central_df[\"room_type\"] == \"Entire home/apt\"]\n",
    "central_pr = central_df[central_df[\"room_type\"] == \"Private room\"]\n",
    "central_hr = central_df[central_df[\"room_type\"] == \"Hotel room\"]\n",
    "central_sr = central_df[central_df[\"room_type\"] == \"Shared room\"]"
   ]
  },
  {
   "cell_type": "code",
   "execution_count": 397,
   "metadata": {},
   "outputs": [],
   "source": [
    "# check if dataframes created correctly\n",
    "# len(central_eha)\n",
    "# len(central_pr)\n",
    "# len(central_hr)\n",
    "# len(central_sr)"
   ]
  },
  {
   "cell_type": "markdown",
   "metadata": {},
   "source": [
    "### entire home/apt"
   ]
  },
  {
   "cell_type": "code",
   "execution_count": 398,
   "metadata": {},
   "outputs": [],
   "source": [
    "# len(central_eha)"
   ]
  },
  {
   "cell_type": "code",
   "execution_count": 399,
   "metadata": {},
   "outputs": [],
   "source": [
    "# central_eha.head()"
   ]
  },
  {
   "cell_type": "code",
   "execution_count": 400,
   "metadata": {},
   "outputs": [],
   "source": [
    "# central_eha.sort_values(by=\"price\", ascending = False).head()"
   ]
  },
  {
   "cell_type": "code",
   "execution_count": 401,
   "metadata": {},
   "outputs": [],
   "source": [
    "# # create histogram to see the distribution of price\n",
    "# plt.figure(figsize=(10, 7))\n",
    "# sns.histplot(data = central_eha, x=\"price\", color = \"#006884\")\n",
    "# plt.title(\"Distribution of Entire Home/Apt Prices in Central Area\")\n",
    "# plt.xlabel(\"Price\")\n",
    "# plt.ylabel(\"Count\")\n",
    "# plt.show()"
   ]
  },
  {
   "cell_type": "markdown",
   "metadata": {},
   "source": [
    "remove extreme outliers manually"
   ]
  },
  {
   "cell_type": "code",
   "execution_count": 402,
   "metadata": {},
   "outputs": [],
   "source": [
    "# central_eha.sort_values(by=\"price\", ascending = False).head(10)"
   ]
  },
  {
   "cell_type": "code",
   "execution_count": 403,
   "metadata": {},
   "outputs": [],
   "source": [
    "central_eha = central_eha[central_eha[\"price\"] < 200000]"
   ]
  },
  {
   "cell_type": "code",
   "execution_count": 404,
   "metadata": {},
   "outputs": [],
   "source": [
    "# plt.figure(figsize=(10, 7))\n",
    "# sns.histplot(data = central_eha, x=\"price\", color = \"#006884\")\n",
    "# plt.title(\"Distribution of Entire Home/Apt Prices in Central Area\")\n",
    "# plt.xlabel(\"Price\")\n",
    "# plt.ylabel(\"Count\")\n",
    "# plt.show()"
   ]
  },
  {
   "cell_type": "code",
   "execution_count": 405,
   "metadata": {},
   "outputs": [],
   "source": [
    "# central_eha.sort_values(by=\"price\", ascending = False).head(10)"
   ]
  },
  {
   "cell_type": "markdown",
   "metadata": {},
   "source": [
    "calculate iqr"
   ]
  },
  {
   "cell_type": "code",
   "execution_count": 406,
   "metadata": {},
   "outputs": [],
   "source": [
    "# function to find the price outliers\n",
    "def price_outlier(df):\n",
    "    Q1 = df[\"price\"].quantile(0.25)\n",
    "    Q3 = df[\"price\"].quantile(0.75)\n",
    "    IQR = Q3 - Q1\n",
    "\n",
    "    lower_bound = Q1 - 1.5 * IQR\n",
    "    upper_bound = Q3 + 1.5 * IQR\n",
    "\n",
    "    lower_outliers = df[df[\"price\"] < lower_bound]\n",
    "    upper_outliers = df[df[\"price\"] > upper_bound]\n",
    "\n",
    "    return lower_outliers, upper_outliers, lower_bound, upper_bound"
   ]
  },
  {
   "cell_type": "code",
   "execution_count": 407,
   "metadata": {},
   "outputs": [],
   "source": [
    "# len(price_outlier(central_eha)[0])\n",
    "# no lower outliers"
   ]
  },
  {
   "cell_type": "code",
   "execution_count": 408,
   "metadata": {},
   "outputs": [],
   "source": [
    "# len(price_outlier(central_eha)[1])\n",
    "# 341 upper outliers"
   ]
  },
  {
   "cell_type": "markdown",
   "metadata": {},
   "source": [
    "remove outliers based on iqr"
   ]
  },
  {
   "cell_type": "code",
   "execution_count": 409,
   "metadata": {},
   "outputs": [],
   "source": [
    "central_eha_cleaned = central_eha[central_eha[\"price\"] < price_outlier(central_eha)[-1]]"
   ]
  },
  {
   "cell_type": "code",
   "execution_count": 410,
   "metadata": {},
   "outputs": [],
   "source": [
    "# # histogram of cleaned central entire home/apt price distribution\n",
    "# plt.figure(figsize=(10, 7))\n",
    "# sns.histplot(data = central_eha_cleaned, x=\"price\", color = \"#006884\")\n",
    "# plt.title(\"Distribution of Entire Home/Apt Prices in Central Area\")\n",
    "# plt.xlabel(\"Price\")\n",
    "# plt.ylabel(\"Count\")\n",
    "# plt.show()"
   ]
  },
  {
   "cell_type": "markdown",
   "metadata": {},
   "source": [
    "### hotel room"
   ]
  },
  {
   "cell_type": "code",
   "execution_count": 411,
   "metadata": {},
   "outputs": [],
   "source": [
    "# len(central_hr)"
   ]
  },
  {
   "cell_type": "code",
   "execution_count": 412,
   "metadata": {},
   "outputs": [],
   "source": [
    "# central_hr.head()"
   ]
  },
  {
   "cell_type": "code",
   "execution_count": 413,
   "metadata": {},
   "outputs": [],
   "source": [
    "# central_hr.sort_values(by = \"price\", ascending = False).head()"
   ]
  },
  {
   "cell_type": "code",
   "execution_count": 414,
   "metadata": {},
   "outputs": [],
   "source": [
    "# # create histogram to see the distribution of price\n",
    "# plt.figure(figsize=(10, 7))\n",
    "# sns.histplot(data = central_hr, x=\"price\", color = \"#006884\")\n",
    "# plt.title(\"Distribution of Hotel Room Prices in Central Area\")\n",
    "# plt.xlabel(\"Price\")\n",
    "# plt.ylabel(\"Count\")\n",
    "# plt.show()"
   ]
  },
  {
   "cell_type": "markdown",
   "metadata": {},
   "source": [
    "remove extreme outliers"
   ]
  },
  {
   "cell_type": "code",
   "execution_count": 415,
   "metadata": {},
   "outputs": [],
   "source": [
    "central_hr = central_hr[central_hr[\"price\"] < 15000]"
   ]
  },
  {
   "cell_type": "code",
   "execution_count": 416,
   "metadata": {},
   "outputs": [],
   "source": [
    "# plt.figure(figsize=(10, 7))\n",
    "# sns.histplot(data = central_hr, x=\"price\", color = \"#006884\")\n",
    "# plt.title(\"Distribution of Hotel Room Prices in Central Area\")\n",
    "# plt.xlabel(\"Price\")\n",
    "# plt.ylabel(\"Count\")\n",
    "# plt.show()"
   ]
  },
  {
   "cell_type": "code",
   "execution_count": 417,
   "metadata": {},
   "outputs": [],
   "source": [
    "# len(price_outlier(central_hr)[0])\n",
    "# len(price_outlier(central_hr)[1])"
   ]
  },
  {
   "cell_type": "markdown",
   "metadata": {},
   "source": [
    "remove outliers based on iqr"
   ]
  },
  {
   "cell_type": "code",
   "execution_count": 418,
   "metadata": {},
   "outputs": [],
   "source": [
    "central_hr_cleaned = central_hr[central_hr[\"price\"] < price_outlier(central_hr)[-1]]"
   ]
  },
  {
   "cell_type": "code",
   "execution_count": 419,
   "metadata": {},
   "outputs": [],
   "source": [
    "# # cleaned price distribtution\n",
    "# plt.figure(figsize=(10, 7))\n",
    "# sns.histplot(data = central_hr_cleaned, x=\"price\", color = \"#006884\")\n",
    "# plt.title(\"Distribution of Hotel Room Prices in Central Area\")\n",
    "# plt.xlabel(\"Price\")\n",
    "# plt.ylabel(\"Count\")\n",
    "# plt.show()"
   ]
  },
  {
   "cell_type": "markdown",
   "metadata": {},
   "source": [
    "### private room"
   ]
  },
  {
   "cell_type": "code",
   "execution_count": 420,
   "metadata": {},
   "outputs": [],
   "source": [
    "# len(central_pr)"
   ]
  },
  {
   "cell_type": "code",
   "execution_count": 421,
   "metadata": {},
   "outputs": [],
   "source": [
    "# central_pr.head()"
   ]
  },
  {
   "cell_type": "code",
   "execution_count": 422,
   "metadata": {},
   "outputs": [],
   "source": [
    "# central_pr.sort_values(by = \"price\", ascending = False).head()"
   ]
  },
  {
   "cell_type": "code",
   "execution_count": 423,
   "metadata": {},
   "outputs": [],
   "source": [
    "# # histogram to see raw distribution\n",
    "# plt.figure(figsize=(10, 7))\n",
    "# sns.histplot(data = central_pr, x=\"price\", color = \"#006884\")\n",
    "# plt.title(\"Distribution of Private Room Prices in Central Area\")\n",
    "# plt.xlabel(\"Price\")\n",
    "# plt.ylabel(\"Count\")\n",
    "# plt.show()"
   ]
  },
  {
   "cell_type": "markdown",
   "metadata": {},
   "source": [
    "remove extreme outliers"
   ]
  },
  {
   "cell_type": "code",
   "execution_count": 424,
   "metadata": {},
   "outputs": [],
   "source": [
    "central_pr = central_pr[central_pr[\"price\"] < 50000]"
   ]
  },
  {
   "cell_type": "code",
   "execution_count": 425,
   "metadata": {},
   "outputs": [],
   "source": [
    "# plt.figure(figsize=(10, 7))\n",
    "# sns.histplot(data = central_pr, x=\"price\", color = \"#006884\")\n",
    "# plt.title(\"Distribution of Private Room Prices in Central Area\")\n",
    "# plt.xlabel(\"Price\")\n",
    "# plt.ylabel(\"Count\")\n",
    "# plt.show()"
   ]
  },
  {
   "cell_type": "code",
   "execution_count": 426,
   "metadata": {},
   "outputs": [],
   "source": [
    "# len(price_outlier(central_pr)[0])\n",
    "# len(price_outlier(central_pr)[1])"
   ]
  },
  {
   "cell_type": "markdown",
   "metadata": {},
   "source": [
    "remove outliers based on iqr"
   ]
  },
  {
   "cell_type": "code",
   "execution_count": 427,
   "metadata": {},
   "outputs": [],
   "source": [
    "central_pr_cleaned = central_pr[central_pr[\"price\"] < price_outlier(central_pr)[-1]]"
   ]
  },
  {
   "cell_type": "code",
   "execution_count": 428,
   "metadata": {},
   "outputs": [],
   "source": [
    "# # cleaned distribution\n",
    "# plt.figure(figsize=(10, 7))\n",
    "# sns.histplot(data = central_pr_cleaned, x=\"price\", color = \"#006884\")\n",
    "# plt.title(\"Distribution of Private Room Prices in Central Area\")\n",
    "# plt.xlabel(\"Price\")\n",
    "# plt.ylabel(\"Count\")\n",
    "# plt.show()"
   ]
  },
  {
   "cell_type": "markdown",
   "metadata": {},
   "source": [
    "### shared room"
   ]
  },
  {
   "cell_type": "code",
   "execution_count": 429,
   "metadata": {},
   "outputs": [],
   "source": [
    "# len(central_sr)"
   ]
  },
  {
   "cell_type": "code",
   "execution_count": 430,
   "metadata": {},
   "outputs": [],
   "source": [
    "# central_sr.head()"
   ]
  },
  {
   "cell_type": "code",
   "execution_count": 431,
   "metadata": {},
   "outputs": [],
   "source": [
    "# central_sr.sort_values(by = \"price\", ascending = False).head()"
   ]
  },
  {
   "cell_type": "code",
   "execution_count": 432,
   "metadata": {},
   "outputs": [],
   "source": [
    "# # raw data distribution\n",
    "# plt.figure(figsize=(10, 7))\n",
    "# sns.histplot(data = central_sr, x=\"price\", color = \"#006884\")\n",
    "# plt.title(\"Distribution of Shared Room Prices in Central Area\")\n",
    "# plt.xlabel(\"Price\")\n",
    "# plt.ylabel(\"Count\")\n",
    "# plt.show()"
   ]
  },
  {
   "cell_type": "markdown",
   "metadata": {},
   "source": [
    "remove extreme outliers"
   ]
  },
  {
   "cell_type": "code",
   "execution_count": 433,
   "metadata": {},
   "outputs": [],
   "source": [
    "central_sr = central_sr[central_sr[\"price\"] < 10000]"
   ]
  },
  {
   "cell_type": "code",
   "execution_count": 434,
   "metadata": {},
   "outputs": [],
   "source": [
    "# plt.figure(figsize=(10, 7))\n",
    "# sns.histplot(data = central_sr, x=\"price\", color = \"#006884\")\n",
    "# plt.title(\"Distribution of Shared Room Prices in Central Area\")\n",
    "# plt.xlabel(\"Price\")\n",
    "# plt.ylabel(\"Count\")\n",
    "# plt.show()"
   ]
  },
  {
   "cell_type": "code",
   "execution_count": 435,
   "metadata": {},
   "outputs": [],
   "source": [
    "# len(price_outlier(central_sr)[0])\n",
    "# len(price_outlier(central_sr)[1])"
   ]
  },
  {
   "cell_type": "markdown",
   "metadata": {},
   "source": [
    "remove outliers based on iqr"
   ]
  },
  {
   "cell_type": "code",
   "execution_count": 436,
   "metadata": {},
   "outputs": [],
   "source": [
    "central_sr_cleaned = central_sr[central_sr[\"price\"] < price_outlier(central_sr)[-1]]"
   ]
  },
  {
   "cell_type": "code",
   "execution_count": 437,
   "metadata": {},
   "outputs": [],
   "source": [
    "# # cleaned data distribution\n",
    "# plt.figure(figsize=(10, 7))\n",
    "# sns.histplot(data = central_sr_cleaned, x=\"price\", color = \"#006884\")\n",
    "# plt.title(\"Distribution of Shared Room Prices in Central Area\")\n",
    "# plt.xlabel(\"Price\")\n",
    "# plt.ylabel(\"Count\")\n",
    "# plt.show()"
   ]
  },
  {
   "cell_type": "markdown",
   "metadata": {},
   "source": [
    "#### combine all cleaned room_type dataframes for central"
   ]
  },
  {
   "cell_type": "code",
   "execution_count": 438,
   "metadata": {},
   "outputs": [],
   "source": [
    "central_df_cleaned = pd.concat([central_eha_cleaned, central_hr_cleaned, central_pr_cleaned, central_sr_cleaned])"
   ]
  },
  {
   "cell_type": "code",
   "execution_count": 439,
   "metadata": {},
   "outputs": [],
   "source": [
    "# len(central_df_cleaned)"
   ]
  },
  {
   "cell_type": "code",
   "execution_count": 440,
   "metadata": {},
   "outputs": [],
   "source": [
    "# # double check if concat worked properly\n",
    "# len(central_eha_cleaned) + len(central_hr_cleaned) + len(central_pr_cleaned) + len(central_sr_cleaned)"
   ]
  },
  {
   "cell_type": "code",
   "execution_count": 441,
   "metadata": {},
   "outputs": [
    {
     "data": {
      "text/plain": [
       "Text(0, 0.5, 'Price')"
      ]
     },
     "execution_count": 441,
     "metadata": {},
     "output_type": "execute_result"
    },
    {
     "data": {
      "image/png": "[encoded data removed]",
      "text/plain": [
       "<Figure size 700x700 with 1 Axes>"
      ]
     },
     "metadata": {},
     "output_type": "display_data"
    }
   ],
   "source": [
    "# clean boxplot to see distribution of room_type price side by side\n",
    "plt.figure(figsize=(7, 7))\n",
    "sns.boxplot(x = \"room_type\", y = \"price\", hue = \"room_type\", data = central_df_cleaned, palette=\"viridis\")\n",
    "plt.title(\"Distribution of Prices by Room Types in Central Area\")\n",
    "plt.xlabel(\"Room Types\")\n",
    "plt.ylabel(\"Price\")"
   ]
  },
  {
   "cell_type": "markdown",
   "metadata": {},
   "source": [
    "# Northwest"
   ]
  },
  {
   "cell_type": "code",
   "execution_count": 442,
   "metadata": {},
   "outputs": [],
   "source": [
    "# len(northwest_df)"
   ]
  },
  {
   "cell_type": "code",
   "execution_count": 443,
   "metadata": {},
   "outputs": [],
   "source": [
    "# northwest_df.head()"
   ]
  },
  {
   "cell_type": "code",
   "execution_count": 444,
   "metadata": {},
   "outputs": [],
   "source": [
    "# northwest_df[\"neighbourhood\"].value_counts()"
   ]
  },
  {
   "cell_type": "code",
   "execution_count": 445,
   "metadata": {},
   "outputs": [],
   "source": [
    "# northwest_df[\"room_type\"].value_counts()"
   ]
  },
  {
   "cell_type": "code",
   "execution_count": 446,
   "metadata": {},
   "outputs": [],
   "source": [
    "# room_type price mean\n",
    "# northwest_df.groupby(\"room_type\")[\"price\"].mean()"
   ]
  },
  {
   "cell_type": "code",
   "execution_count": 447,
   "metadata": {},
   "outputs": [],
   "source": [
    "# # mean price of room_types in northwest\n",
    "# plt.figure(figsize=(7, 7))\n",
    "# sns.barplot(x = \"room_type\", y = \"price\", hue = \"room_type\", data = northwest_df, estimator=np.mean, errorbar= None, palette=\"viridis\")\n",
    "# plt.title(\"Mean Price of Room Types in Northwest Area\")\n",
    "# plt.xlabel(\"Room Types\")\n",
    "# plt.ylabel(\"Price Mean\")"
   ]
  },
  {
   "cell_type": "code",
   "execution_count": 448,
   "metadata": {},
   "outputs": [],
   "source": [
    "# # room_type price median\n",
    "# northwest_df.groupby(\"room_type\")[\"price\"].median()"
   ]
  },
  {
   "cell_type": "code",
   "execution_count": 449,
   "metadata": {},
   "outputs": [],
   "source": [
    "# # median price of room_types in northwest\n",
    "# plt.figure(figsize=(7, 7))\n",
    "# sns.barplot(x = \"room_type\", y = \"price\", hue = \"room_type\", data = northwest_df, estimator=np.median, errorbar= None, palette=\"viridis\")\n",
    "# plt.title(\"Median Price of Room Types in Northwest Area\")\n",
    "# plt.xlabel(\"Room Types\")\n",
    "# plt.ylabel(\"Price Mean\")\n"
   ]
  },
  {
   "cell_type": "code",
   "execution_count": 450,
   "metadata": {},
   "outputs": [],
   "source": [
    "# # create boxplot to see distribution of room_type price side by side\n",
    "# plt.figure(figsize=(7, 7))\n",
    "# sns.boxplot(x = \"room_type\", y = \"price\", hue = \"room_type\", data = northwest_df, palette=\"viridis\")\n",
    "# plt.title(\"Distribution of Prices by Room Types in Northwest Area\")\n",
    "# plt.xlabel(\"Room Types\")\n",
    "# plt.ylabel(\"Price\")"
   ]
  },
  {
   "cell_type": "markdown",
   "metadata": {},
   "source": [
    "not normally distributed\n",
    "<br>\n",
    "outliers need to be addressed"
   ]
  },
  {
   "cell_type": "code",
   "execution_count": 451,
   "metadata": {},
   "outputs": [],
   "source": [
    "# create dataframes for each room_type in northwest_df\n",
    "nw_eha = northwest_df[northwest_df[\"room_type\"] == \"Entire home/apt\"]\n",
    "nw_pr = northwest_df[northwest_df[\"room_type\"] == \"Private room\"]\n",
    "nw_hr = northwest_df[northwest_df[\"room_type\"] == \"Hotel room\"]\n",
    "nw_sr = northwest_df[northwest_df[\"room_type\"] == \"Shared room\"]"
   ]
  },
  {
   "cell_type": "markdown",
   "metadata": {},
   "source": [
    "### entire home/apt"
   ]
  },
  {
   "cell_type": "code",
   "execution_count": 452,
   "metadata": {},
   "outputs": [],
   "source": [
    "# len(nw_eha)"
   ]
  },
  {
   "cell_type": "code",
   "execution_count": 453,
   "metadata": {},
   "outputs": [],
   "source": [
    "# nw_eha.head()"
   ]
  },
  {
   "cell_type": "code",
   "execution_count": 454,
   "metadata": {},
   "outputs": [],
   "source": [
    "# nw_eha.sort_values(by = \"price\", ascending = False).head()"
   ]
  },
  {
   "cell_type": "code",
   "execution_count": 455,
   "metadata": {},
   "outputs": [],
   "source": [
    "# # raw data histogram for prices of entire home/apt in northwest area\n",
    "# plt.figure(figsize=(10, 7))\n",
    "# sns.histplot(data = nw_eha, x=\"price\", color = \"#006884\")\n",
    "# plt.title(\"Distribution of Entire Home/Apt Prices in Northwest Area\")\n",
    "# plt.xlabel(\"Price\")\n",
    "# plt.ylabel(\"Count\")\n",
    "# plt.show()"
   ]
  },
  {
   "cell_type": "markdown",
   "metadata": {},
   "source": [
    "remove extreme outliers"
   ]
  },
  {
   "cell_type": "code",
   "execution_count": 456,
   "metadata": {},
   "outputs": [],
   "source": [
    "nw_eha = nw_eha[nw_eha[\"price\"] < 15000]"
   ]
  },
  {
   "cell_type": "code",
   "execution_count": 457,
   "metadata": {},
   "outputs": [],
   "source": [
    "# plt.figure(figsize=(10, 7))\n",
    "# sns.histplot(data = nw_eha, x=\"price\", color = \"#006884\")\n",
    "# plt.title(\"Distribution of Entire Home/Apt Prices in Northwest Area\")\n",
    "# plt.xlabel(\"Price\")\n",
    "# plt.ylabel(\"Count\")\n",
    "# plt.show()"
   ]
  },
  {
   "cell_type": "code",
   "execution_count": 458,
   "metadata": {},
   "outputs": [
    {
     "data": {
      "text/plain": [
       "80"
      ]
     },
     "execution_count": 458,
     "metadata": {},
     "output_type": "execute_result"
    }
   ],
   "source": [
    "len(price_outlier(nw_eha)[0])\n",
    "len(price_outlier(nw_eha)[1])"
   ]
  },
  {
   "cell_type": "markdown",
   "metadata": {},
   "source": [
    "remove outliers based on iqr"
   ]
  },
  {
   "cell_type": "code",
   "execution_count": 459,
   "metadata": {},
   "outputs": [],
   "source": [
    "nw_eha_cleaned = nw_eha[nw_eha[\"price\"] < price_outlier(nw_eha)[-1]]"
   ]
  },
  {
   "cell_type": "code",
   "execution_count": 460,
   "metadata": {},
   "outputs": [],
   "source": [
    "# # cleaned distribution of price\n",
    "# plt.figure(figsize=(10, 7))\n",
    "# sns.histplot(data = nw_eha_cleaned, x=\"price\", color = \"#006884\")\n",
    "# plt.title(\"Distribution of Entire Home/Apt Prices in Northwest Area\")\n",
    "# plt.xlabel(\"Price\")\n",
    "# plt.ylabel(\"Count\")\n",
    "# plt.show()"
   ]
  },
  {
   "cell_type": "markdown",
   "metadata": {},
   "source": [
    "### hotel room"
   ]
  },
  {
   "cell_type": "code",
   "execution_count": 461,
   "metadata": {},
   "outputs": [],
   "source": [
    "# len(nw_hr)"
   ]
  },
  {
   "cell_type": "code",
   "execution_count": 462,
   "metadata": {},
   "outputs": [],
   "source": [
    "# nw_hr.head()"
   ]
  },
  {
   "cell_type": "code",
   "execution_count": 463,
   "metadata": {},
   "outputs": [],
   "source": [
    "# nw_hr.sort_values(by = \"price\", ascending = False).head()"
   ]
  },
  {
   "cell_type": "code",
   "execution_count": 464,
   "metadata": {},
   "outputs": [],
   "source": [
    "# # raw data histogram\n",
    "# plt.figure(figsize=(10, 7))\n",
    "# sns.histplot(data = nw_hr, x=\"price\", color = \"#006884\")\n",
    "# plt.title(\"Distribution of Hotel Room Prices in Northwest Area\")\n",
    "# plt.xlabel(\"Price\")\n",
    "# plt.ylabel(\"Count\")\n",
    "# plt.show()"
   ]
  },
  {
   "cell_type": "markdown",
   "metadata": {},
   "source": [
    "remove extreme outliers"
   ]
  },
  {
   "cell_type": "code",
   "execution_count": 465,
   "metadata": {},
   "outputs": [],
   "source": [
    "nw_hr = nw_hr[nw_hr[\"price\"] < 12000]"
   ]
  },
  {
   "cell_type": "code",
   "execution_count": 466,
   "metadata": {},
   "outputs": [],
   "source": [
    "# plt.figure(figsize=(10, 7))\n",
    "# sns.histplot(data = nw_hr, x=\"price\", color = \"#006884\")\n",
    "# plt.title(\"Distribution of Hotel Room Prices in Northwest Area\")\n",
    "# plt.xlabel(\"Price\")\n",
    "# plt.ylabel(\"Count\")\n",
    "# plt.show()"
   ]
  },
  {
   "cell_type": "code",
   "execution_count": 467,
   "metadata": {},
   "outputs": [],
   "source": [
    "# len(price_outlier(nw_hr)[0])\n",
    "# len(price_outlier(nw_hr)[1])"
   ]
  },
  {
   "cell_type": "markdown",
   "metadata": {},
   "source": [
    "remove outliers based on iqr"
   ]
  },
  {
   "cell_type": "code",
   "execution_count": 468,
   "metadata": {},
   "outputs": [],
   "source": [
    "nw_hr_cleaned = nw_hr[nw_hr[\"price\"] < price_outlier(nw_hr)[-1]]"
   ]
  },
  {
   "cell_type": "code",
   "execution_count": 469,
   "metadata": {},
   "outputs": [],
   "source": [
    "# # cleaned distribution\n",
    "# plt.figure(figsize=(10, 7))\n",
    "# sns.histplot(data = nw_hr_cleaned, x=\"price\", color = \"#006884\")\n",
    "# plt.title(\"Distribution of Hotel Room Prices in Northwest Area\")\n",
    "# plt.xlabel(\"Price\")\n",
    "# plt.ylabel(\"Count\")\n",
    "# plt.show()"
   ]
  },
  {
   "cell_type": "markdown",
   "metadata": {},
   "source": [
    "### private room"
   ]
  },
  {
   "cell_type": "code",
   "execution_count": 470,
   "metadata": {},
   "outputs": [],
   "source": [
    "# len(nw_pr)"
   ]
  },
  {
   "cell_type": "code",
   "execution_count": 471,
   "metadata": {},
   "outputs": [],
   "source": [
    "# nw_pr.head()"
   ]
  },
  {
   "cell_type": "code",
   "execution_count": 472,
   "metadata": {},
   "outputs": [],
   "source": [
    "# nw_pr.sort_values(by = \"price\", ascending = False).head()"
   ]
  },
  {
   "cell_type": "code",
   "execution_count": 473,
   "metadata": {},
   "outputs": [],
   "source": [
    "# # raw data histogram\n",
    "# plt.figure(figsize=(10, 7))\n",
    "# sns.histplot(data = nw_pr, x=\"price\", color = \"#006884\")\n",
    "# plt.title(\"Distribution of Private Room Prices in Northwest Area\")\n",
    "# plt.xlabel(\"Price\")\n",
    "# plt.ylabel(\"Count\")\n",
    "# plt.show()"
   ]
  },
  {
   "cell_type": "markdown",
   "metadata": {},
   "source": [
    "remove extreme outliers"
   ]
  },
  {
   "cell_type": "code",
   "execution_count": 474,
   "metadata": {},
   "outputs": [],
   "source": [
    "nw_pr = nw_pr[nw_pr[\"price\"] < 100000]"
   ]
  },
  {
   "cell_type": "code",
   "execution_count": 475,
   "metadata": {},
   "outputs": [],
   "source": [
    "# plt.figure(figsize=(10, 7))\n",
    "# sns.histplot(data = nw_pr, x=\"price\", color = \"#006884\")\n",
    "# plt.title(\"Distribution of Private Room Prices in Northwest Area\")\n",
    "# plt.xlabel(\"Price\")\n",
    "# plt.ylabel(\"Count\")\n",
    "# plt.show()"
   ]
  },
  {
   "cell_type": "code",
   "execution_count": 476,
   "metadata": {},
   "outputs": [],
   "source": [
    "# len(price_outlier(nw_pr)[0])\n",
    "# len(price_outlier(nw_pr)[1])"
   ]
  },
  {
   "cell_type": "markdown",
   "metadata": {},
   "source": [
    "remove outliers based on iqr"
   ]
  },
  {
   "cell_type": "code",
   "execution_count": 477,
   "metadata": {},
   "outputs": [],
   "source": [
    "nw_pr_cleaned = nw_pr[nw_pr[\"price\"] < price_outlier(nw_pr)[-1]]"
   ]
  },
  {
   "cell_type": "code",
   "execution_count": 478,
   "metadata": {},
   "outputs": [],
   "source": [
    "# # cleaned distribution\n",
    "# plt.figure(figsize=(10, 7))\n",
    "# sns.histplot(data = nw_pr_cleaned, x=\"price\", color = \"#006884\")\n",
    "# plt.title(\"Distribution of Private Room Prices in Northwest Area\")\n",
    "# plt.xlabel(\"Price\")\n",
    "# plt.ylabel(\"Count\")\n",
    "# plt.show()"
   ]
  },
  {
   "cell_type": "markdown",
   "metadata": {},
   "source": [
    "### shared room"
   ]
  },
  {
   "cell_type": "code",
   "execution_count": 479,
   "metadata": {},
   "outputs": [],
   "source": [
    "# len(nw_sr)"
   ]
  },
  {
   "cell_type": "code",
   "execution_count": 480,
   "metadata": {},
   "outputs": [],
   "source": [
    "# nw_sr.head()"
   ]
  },
  {
   "cell_type": "code",
   "execution_count": 481,
   "metadata": {},
   "outputs": [],
   "source": [
    "# # raw data distribution\n",
    "# plt.figure(figsize=(10, 7))\n",
    "# sns.histplot(data = nw_sr, x=\"price\", color = \"#006884\")\n",
    "# plt.title(\"Distribution of Shared Room Prices in Northwest Area\")\n",
    "# plt.xlabel(\"Price\")\n",
    "# plt.ylabel(\"Count\")\n",
    "# plt.show()"
   ]
  },
  {
   "cell_type": "markdown",
   "metadata": {},
   "source": [
    "remove extreme outliers"
   ]
  },
  {
   "cell_type": "code",
   "execution_count": 482,
   "metadata": {},
   "outputs": [],
   "source": [
    "nw_sr = nw_sr[nw_sr[\"price\"] < 7500]"
   ]
  },
  {
   "cell_type": "code",
   "execution_count": 483,
   "metadata": {},
   "outputs": [],
   "source": [
    "# plt.figure(figsize=(10, 7))\n",
    "# sns.histplot(data = nw_sr, x=\"price\", color = \"#006884\")\n",
    "# plt.title(\"Distribution of Shared Room Prices in Northwest Area\")\n",
    "# plt.xlabel(\"Price\")\n",
    "# plt.ylabel(\"Count\")\n",
    "# plt.show()"
   ]
  },
  {
   "cell_type": "code",
   "execution_count": 484,
   "metadata": {},
   "outputs": [],
   "source": [
    "# len(price_outlier(nw_sr)[0])\n",
    "# len(price_outlier(nw_sr)[1])"
   ]
  },
  {
   "cell_type": "markdown",
   "metadata": {},
   "source": [
    "remove outliers based on iqr"
   ]
  },
  {
   "cell_type": "code",
   "execution_count": 485,
   "metadata": {},
   "outputs": [],
   "source": [
    "nw_sr_cleaned = nw_sr[nw_sr[\"price\"] < price_outlier(nw_sr)[-1]]"
   ]
  },
  {
   "cell_type": "code",
   "execution_count": 486,
   "metadata": {},
   "outputs": [],
   "source": [
    "# # cleaned distribution\n",
    "# plt.figure(figsize=(10, 7))\n",
    "# sns.histplot(data = nw_sr_cleaned, x=\"price\", color = \"#006884\")\n",
    "# plt.title(\"Distribution of Shared Room Prices in Northwest Area\")\n",
    "# plt.xlabel(\"Price\")\n",
    "# plt.ylabel(\"Count\")\n",
    "# plt.show()"
   ]
  },
  {
   "cell_type": "markdown",
   "metadata": {},
   "source": [
    "#### combine all cleaned room_type dataframes for northwest"
   ]
  },
  {
   "cell_type": "code",
   "execution_count": 487,
   "metadata": {},
   "outputs": [],
   "source": [
    "northwest_df_cleaned = pd.concat([nw_eha_cleaned, nw_hr_cleaned, nw_pr_cleaned, nw_sr_cleaned])"
   ]
  },
  {
   "cell_type": "code",
   "execution_count": 488,
   "metadata": {},
   "outputs": [],
   "source": [
    "# len(northwest_df_cleaned)"
   ]
  },
  {
   "cell_type": "code",
   "execution_count": 489,
   "metadata": {},
   "outputs": [],
   "source": [
    "# double check if concat worked properly\n",
    "# len(nw_eha_cleaned) + len(nw_hr_cleaned) + len(nw_pr_cleaned) + len(nw_sr_cleaned)"
   ]
  },
  {
   "cell_type": "code",
   "execution_count": 490,
   "metadata": {},
   "outputs": [
    {
     "data": {
      "text/plain": [
       "Text(0, 0.5, 'Price')"
      ]
     },
     "execution_count": 490,
     "metadata": {},
     "output_type": "execute_result"
    },
    {
     "data": {
      "image/png": "[encoded data removed]",
      "text/plain": [
       "<Figure size 700x700 with 1 Axes>"
      ]
     },
     "metadata": {},
     "output_type": "display_data"
    }
   ],
   "source": [
    "# clean boxplot to see distribution of room_type price side by side\n",
    "plt.figure(figsize=(7, 7))\n",
    "sns.boxplot(x = \"room_type\", y = \"price\", hue = \"room_type\", data = northwest_df_cleaned, palette=\"viridis\")\n",
    "plt.title(\"Distribution of Prices by Room Types in Northwest Area\")\n",
    "plt.xlabel(\"Room Types\")\n",
    "plt.ylabel(\"Price\")"
   ]
  },
  {
   "cell_type": "markdown",
   "metadata": {},
   "source": [
    "# Northeast"
   ]
  },
  {
   "cell_type": "code",
   "execution_count": 491,
   "metadata": {},
   "outputs": [],
   "source": [
    "# len(northeast_df)"
   ]
  },
  {
   "cell_type": "code",
   "execution_count": 492,
   "metadata": {},
   "outputs": [],
   "source": [
    "# northeast_df.head()"
   ]
  },
  {
   "cell_type": "code",
   "execution_count": 493,
   "metadata": {},
   "outputs": [],
   "source": [
    "# northeast_df[\"neighbourhood\"].value_counts()"
   ]
  },
  {
   "cell_type": "code",
   "execution_count": 494,
   "metadata": {},
   "outputs": [],
   "source": [
    "# northeast_df[\"room_type\"].value_counts()"
   ]
  },
  {
   "cell_type": "code",
   "execution_count": 495,
   "metadata": {},
   "outputs": [],
   "source": [
    "# room_type price mean\n",
    "# northeast_df.groupby(\"room_type\")[\"price\"].mean()"
   ]
  },
  {
   "cell_type": "code",
   "execution_count": 496,
   "metadata": {},
   "outputs": [],
   "source": [
    "# # mean price of room_types in northeast\n",
    "# plt.figure(figsize=(7, 7))\n",
    "# sns.barplot(x = \"room_type\", y = \"price\", hue = \"room_type\", data = northeast_df, estimator=np.mean, errorbar= None, palette=\"viridis\")\n",
    "# plt.title(\"Mean Price of Room Types in Northeast Area\")\n",
    "# plt.xlabel(\"Room Types\")\n",
    "# plt.ylabel(\"Price Mean\")"
   ]
  },
  {
   "cell_type": "code",
   "execution_count": 497,
   "metadata": {},
   "outputs": [],
   "source": [
    "# room_type price median\n",
    "# northeast_df.groupby(\"room_type\")[\"price\"].median()"
   ]
  },
  {
   "cell_type": "code",
   "execution_count": 498,
   "metadata": {},
   "outputs": [],
   "source": [
    "# # median price of room_types in northeast\n",
    "# plt.figure(figsize=(7, 7))\n",
    "# sns.barplot(x = \"room_type\", y = \"price\", hue = \"room_type\", data = northeast_df, estimator=np.median, errorbar= None, palette=\"viridis\")\n",
    "# plt.title(\"Mean Price of Room Types in Northeast Area\")\n",
    "# plt.xlabel(\"Room Types\")\n",
    "# plt.ylabel(\"Price Mean\")"
   ]
  },
  {
   "cell_type": "code",
   "execution_count": 499,
   "metadata": {},
   "outputs": [],
   "source": [
    "# # create boxplot to see distribution of room_type price side by side\n",
    "# plt.figure(figsize=(7, 7))\n",
    "# sns.boxplot(x = \"room_type\", y = \"price\", hue = \"room_type\", data = northeast_df, palette=\"viridis\")\n",
    "# plt.title(\"Distribution of Prices by Room Types in Northeast Area\")\n",
    "# plt.xlabel(\"Room Types\")\n",
    "# plt.ylabel(\"Price\")"
   ]
  },
  {
   "cell_type": "markdown",
   "metadata": {},
   "source": [
    "not normally distributed\n",
    "<br>\n",
    "need to take care of outliers"
   ]
  },
  {
   "cell_type": "code",
   "execution_count": 500,
   "metadata": {},
   "outputs": [],
   "source": [
    "# create dataframes based on room_type\n",
    "ne_eha = northeast_df[northeast_df[\"room_type\"] == \"Entire home/apt\"]\n",
    "ne_hr = northeast_df[northeast_df[\"room_type\"] == \"Hotel room\"]\n",
    "ne_pr = northeast_df[northeast_df[\"room_type\"] == \"Private room\"]\n",
    "ne_sr = northeast_df[northeast_df[\"room_type\"] == \"Shared room\"]"
   ]
  },
  {
   "cell_type": "markdown",
   "metadata": {},
   "source": [
    "### entire home/apt"
   ]
  },
  {
   "cell_type": "code",
   "execution_count": 501,
   "metadata": {},
   "outputs": [],
   "source": [
    "# len(ne_eha)"
   ]
  },
  {
   "cell_type": "code",
   "execution_count": 502,
   "metadata": {},
   "outputs": [],
   "source": [
    "# ne_eha.head()"
   ]
  },
  {
   "cell_type": "code",
   "execution_count": 503,
   "metadata": {},
   "outputs": [],
   "source": [
    "# ne_eha.sort_values(by = \"price\", ascending = False).head(20)"
   ]
  },
  {
   "cell_type": "code",
   "execution_count": 504,
   "metadata": {},
   "outputs": [],
   "source": [
    "# # raw data distribution\n",
    "# plt.figure(figsize=(10, 7))\n",
    "# sns.histplot(data = ne_eha, x=\"price\", color = \"#006884\")\n",
    "# plt.title(\"Distribution of Entire Home/Apt Prices in Northeast Area\")\n",
    "# plt.xlabel(\"Price\")\n",
    "# plt.ylabel(\"Count\")\n",
    "# plt.show()"
   ]
  },
  {
   "cell_type": "markdown",
   "metadata": {},
   "source": [
    "remove extreme outliers"
   ]
  },
  {
   "cell_type": "code",
   "execution_count": 505,
   "metadata": {},
   "outputs": [],
   "source": [
    "ne_eha = ne_eha[ne_eha[\"price\"] < 60000]"
   ]
  },
  {
   "cell_type": "code",
   "execution_count": 506,
   "metadata": {},
   "outputs": [],
   "source": [
    "# plt.figure(figsize=(10, 7))\n",
    "# sns.histplot(data = ne_eha, x=\"price\", color = \"#006884\")\n",
    "# plt.title(\"Distribution of Entire Home/Apt Prices in Northeast Area\")\n",
    "# plt.xlabel(\"Price\")\n",
    "# plt.ylabel(\"Count\")\n",
    "# plt.show()"
   ]
  },
  {
   "cell_type": "code",
   "execution_count": 507,
   "metadata": {},
   "outputs": [],
   "source": [
    "# len(price_outlier(ne_eha)[0])\n",
    "# len(price_outlier(ne_eha)[1])"
   ]
  },
  {
   "cell_type": "markdown",
   "metadata": {},
   "source": [
    "remove outliers based on iqr"
   ]
  },
  {
   "cell_type": "code",
   "execution_count": 508,
   "metadata": {},
   "outputs": [],
   "source": [
    "ne_eha_cleaned = ne_eha[ne_eha[\"price\"] < price_outlier(ne_eha)[-1]]"
   ]
  },
  {
   "cell_type": "code",
   "execution_count": 509,
   "metadata": {},
   "outputs": [],
   "source": [
    "# # cleaned data distribution\n",
    "# plt.figure(figsize=(10, 7))\n",
    "# sns.histplot(data = ne_eha_cleaned, x=\"price\", color = \"#006884\")\n",
    "# plt.title(\"Distribution of Entire Home/Apt Prices in Northeast Area\")\n",
    "# plt.xlabel(\"Price\")\n",
    "# plt.ylabel(\"Count\")\n",
    "# plt.show()"
   ]
  },
  {
   "cell_type": "markdown",
   "metadata": {},
   "source": [
    "### hotel room"
   ]
  },
  {
   "cell_type": "code",
   "execution_count": 510,
   "metadata": {},
   "outputs": [],
   "source": [
    "# len(ne_hr)"
   ]
  },
  {
   "cell_type": "code",
   "execution_count": 511,
   "metadata": {},
   "outputs": [],
   "source": [
    "# ne_hr.head()"
   ]
  },
  {
   "cell_type": "code",
   "execution_count": 512,
   "metadata": {},
   "outputs": [],
   "source": [
    "# ne_hr.sort_values(by = \"price\", ascending = False).head()"
   ]
  },
  {
   "cell_type": "code",
   "execution_count": 513,
   "metadata": {},
   "outputs": [],
   "source": [
    "# # raw data distribution\n",
    "# plt.figure(figsize=(10, 7))\n",
    "# sns.histplot(data = ne_hr, x=\"price\", color = \"#006884\")\n",
    "# plt.title(\"Distribution of Hotel Room Prices in Northeast Area\")\n",
    "# plt.xlabel(\"Price\")\n",
    "# plt.ylabel(\"Count\")\n",
    "# plt.show()"
   ]
  },
  {
   "cell_type": "code",
   "execution_count": 514,
   "metadata": {},
   "outputs": [],
   "source": [
    "ne_hr = ne_hr[ne_hr[\"price\"] < 17500]"
   ]
  },
  {
   "cell_type": "code",
   "execution_count": 515,
   "metadata": {},
   "outputs": [],
   "source": [
    "# plt.figure(figsize=(10, 7))\n",
    "# sns.histplot(data = ne_hr, x=\"price\", color = \"#006884\")\n",
    "# plt.title(\"Distribution of Hotel Room Prices in Northeast Area\")\n",
    "# plt.xlabel(\"Price\")\n",
    "# plt.ylabel(\"Count\")\n",
    "# plt.show()"
   ]
  },
  {
   "cell_type": "code",
   "execution_count": 516,
   "metadata": {},
   "outputs": [],
   "source": [
    "# len(price_outlier(ne_hr)[0])\n",
    "# len(price_outlier(ne_hr)[1])"
   ]
  },
  {
   "cell_type": "markdown",
   "metadata": {},
   "source": [
    "remove outliers based on iqr"
   ]
  },
  {
   "cell_type": "code",
   "execution_count": 517,
   "metadata": {},
   "outputs": [],
   "source": [
    "ne_hr_cleaned = ne_hr[ne_hr[\"price\"] < price_outlier(ne_hr)[-1]]"
   ]
  },
  {
   "cell_type": "code",
   "execution_count": 518,
   "metadata": {},
   "outputs": [],
   "source": [
    "# # cleaned distribution\n",
    "# plt.figure(figsize=(10, 7))\n",
    "# sns.histplot(data = ne_hr_cleaned, x=\"price\", color = \"#006884\")\n",
    "# plt.title(\"Distribution of Hotel Room Prices in Northeast Area\")\n",
    "# plt.xlabel(\"Price\")\n",
    "# plt.ylabel(\"Count\")\n",
    "# plt.show()"
   ]
  },
  {
   "cell_type": "markdown",
   "metadata": {},
   "source": [
    "### private room"
   ]
  },
  {
   "cell_type": "code",
   "execution_count": 519,
   "metadata": {},
   "outputs": [],
   "source": [
    "# len(ne_pr)"
   ]
  },
  {
   "cell_type": "code",
   "execution_count": 520,
   "metadata": {},
   "outputs": [],
   "source": [
    "# ne_pr.head()"
   ]
  },
  {
   "cell_type": "code",
   "execution_count": 521,
   "metadata": {},
   "outputs": [],
   "source": [
    "# ne_pr.sort_values(by = \"price\", ascending = False).head(20)"
   ]
  },
  {
   "cell_type": "code",
   "execution_count": 522,
   "metadata": {},
   "outputs": [],
   "source": [
    "# # raw data distribution\n",
    "# plt.figure(figsize=(10, 7))\n",
    "# sns.histplot(data = ne_pr, x=\"price\", color = \"#006884\")\n",
    "# plt.title(\"Distribution of Private Room Prices in Northeast Area\")\n",
    "# plt.xlabel(\"Price\")\n",
    "# plt.ylabel(\"Count\")\n",
    "# plt.show()"
   ]
  },
  {
   "cell_type": "markdown",
   "metadata": {},
   "source": [
    "remove extreme outliers"
   ]
  },
  {
   "cell_type": "code",
   "execution_count": 523,
   "metadata": {},
   "outputs": [],
   "source": [
    "ne_pr = ne_pr[ne_pr[\"price\"] < 100000]"
   ]
  },
  {
   "cell_type": "code",
   "execution_count": 524,
   "metadata": {},
   "outputs": [],
   "source": [
    "# plt.figure(figsize=(10, 7))\n",
    "# sns.histplot(data = ne_pr, x=\"price\", color = \"#006884\")\n",
    "# plt.title(\"Distribution of Private Room Prices in Northeast Area\")\n",
    "# plt.xlabel(\"Price\")\n",
    "# plt.ylabel(\"Count\")\n",
    "# plt.show()"
   ]
  },
  {
   "cell_type": "code",
   "execution_count": 525,
   "metadata": {},
   "outputs": [],
   "source": [
    "# len(price_outlier(ne_pr)[0])\n",
    "# len(price_outlier(ne_pr)[1])"
   ]
  },
  {
   "cell_type": "markdown",
   "metadata": {},
   "source": [
    "remove outliers based on iqr"
   ]
  },
  {
   "cell_type": "code",
   "execution_count": 526,
   "metadata": {},
   "outputs": [],
   "source": [
    "ne_pr_cleaned = ne_pr[ne_pr[\"price\"] < price_outlier(ne_pr)[-1]]"
   ]
  },
  {
   "cell_type": "code",
   "execution_count": 527,
   "metadata": {},
   "outputs": [],
   "source": [
    "# # cleaned distribution\n",
    "# plt.figure(figsize=(10, 7))\n",
    "# sns.histplot(data = ne_pr_cleaned, x=\"price\", color = \"#006884\")\n",
    "# plt.title(\"Distribution of Private Room Prices in Northeast Area\")\n",
    "# plt.xlabel(\"Price\")\n",
    "# plt.ylabel(\"Count\")\n",
    "# plt.show()"
   ]
  },
  {
   "cell_type": "markdown",
   "metadata": {},
   "source": [
    "### shared room"
   ]
  },
  {
   "cell_type": "code",
   "execution_count": 528,
   "metadata": {},
   "outputs": [],
   "source": [
    "# len(ne_sr)"
   ]
  },
  {
   "cell_type": "code",
   "execution_count": 529,
   "metadata": {},
   "outputs": [],
   "source": [
    "# ne_sr.head()"
   ]
  },
  {
   "cell_type": "code",
   "execution_count": 530,
   "metadata": {},
   "outputs": [],
   "source": [
    "# ne_sr.sort_values(by = \"price\", ascending = False).head()"
   ]
  },
  {
   "cell_type": "code",
   "execution_count": 531,
   "metadata": {},
   "outputs": [],
   "source": [
    "# # raw data distribution\n",
    "# plt.figure(figsize=(10, 7))\n",
    "# sns.histplot(data = ne_sr, x=\"price\", color = \"#006884\")\n",
    "# plt.title(\"Distribution of Shared Room Prices in Northeast Area\")\n",
    "# plt.xlabel(\"Price\")\n",
    "# plt.ylabel(\"Count\")\n",
    "# plt.show()"
   ]
  },
  {
   "cell_type": "markdown",
   "metadata": {},
   "source": [
    "remove extreme outlier"
   ]
  },
  {
   "cell_type": "code",
   "execution_count": 532,
   "metadata": {},
   "outputs": [],
   "source": [
    "ne_sr = ne_sr[ne_sr[\"price\"] < 10000]"
   ]
  },
  {
   "cell_type": "code",
   "execution_count": 533,
   "metadata": {},
   "outputs": [],
   "source": [
    "# plt.figure(figsize=(10, 7))\n",
    "# sns.histplot(data = ne_sr, x=\"price\", color = \"#006884\")\n",
    "# plt.title(\"Distribution of Shared Room Prices in Northeast Area\")\n",
    "# plt.xlabel(\"Price\")\n",
    "# plt.ylabel(\"Count\")\n",
    "# plt.show()"
   ]
  },
  {
   "cell_type": "code",
   "execution_count": 534,
   "metadata": {},
   "outputs": [],
   "source": [
    "# len(price_outlier(ne_sr)[0])\n",
    "# len(price_outlier(ne_sr)[1])"
   ]
  },
  {
   "cell_type": "markdown",
   "metadata": {},
   "source": [
    "remove outliers based on iqr"
   ]
  },
  {
   "cell_type": "code",
   "execution_count": 535,
   "metadata": {},
   "outputs": [],
   "source": [
    "ne_sr_cleaned = ne_sr[ne_sr[\"price\"] < price_outlier(ne_sr)[-1]]"
   ]
  },
  {
   "cell_type": "code",
   "execution_count": 536,
   "metadata": {},
   "outputs": [],
   "source": [
    "# # cleaned distribution\n",
    "# plt.figure(figsize=(10, 7))\n",
    "# sns.histplot(data = ne_sr_cleaned, x=\"price\", color = \"#006884\")\n",
    "# plt.title(\"Distribution of Shared Room Prices in Northeast Area\")\n",
    "# plt.xlabel(\"Price\")\n",
    "# plt.ylabel(\"Count\")\n",
    "# plt.show()"
   ]
  },
  {
   "cell_type": "markdown",
   "metadata": {},
   "source": [
    "#### combine all cleaned room_type dataframes for northeast"
   ]
  },
  {
   "cell_type": "code",
   "execution_count": 537,
   "metadata": {},
   "outputs": [],
   "source": [
    "northeast_df_cleaned = pd.concat([ne_eha_cleaned, ne_hr_cleaned, ne_pr_cleaned, ne_sr_cleaned])"
   ]
  },
  {
   "cell_type": "code",
   "execution_count": 538,
   "metadata": {},
   "outputs": [],
   "source": [
    "# len(northeast_df_cleaned)"
   ]
  },
  {
   "cell_type": "code",
   "execution_count": 539,
   "metadata": {},
   "outputs": [],
   "source": [
    "# double check if concat worked properly\n",
    "# len(ne_eha_cleaned) + len(ne_hr_cleaned) + len(ne_pr_cleaned) + len(ne_sr_cleaned)"
   ]
  },
  {
   "cell_type": "code",
   "execution_count": 540,
   "metadata": {},
   "outputs": [
    {
     "data": {
      "text/plain": [
       "Text(0, 0.5, 'Price')"
      ]
     },
     "execution_count": 540,
     "metadata": {},
     "output_type": "execute_result"
    },
    {
     "data": {
      "image/png": "[encoded data removed]",
      "text/plain": [
       "<Figure size 700x700 with 1 Axes>"
      ]
     },
     "metadata": {},
     "output_type": "display_data"
    }
   ],
   "source": [
    "# clean boxplot to see distribution of room_type price side by side\n",
    "plt.figure(figsize=(7, 7))\n",
    "sns.boxplot(x = \"room_type\", y = \"price\", hue = \"room_type\", data = northeast_df_cleaned, palette=\"viridis\")\n",
    "plt.title(\"Distribution of Prices by Room Types in Northeast Area\")\n",
    "plt.xlabel(\"Room Types\")\n",
    "plt.ylabel(\"Price\")"
   ]
  },
  {
   "cell_type": "markdown",
   "metadata": {},
   "source": [
    "# Southwest"
   ]
  },
  {
   "cell_type": "code",
   "execution_count": 541,
   "metadata": {},
   "outputs": [],
   "source": [
    "# len(southwest_df)"
   ]
  },
  {
   "cell_type": "code",
   "execution_count": 542,
   "metadata": {},
   "outputs": [],
   "source": [
    "# southwest_df.head()"
   ]
  },
  {
   "cell_type": "code",
   "execution_count": 543,
   "metadata": {},
   "outputs": [],
   "source": [
    "# southwest_df[\"neighbourhood\"].value_counts()"
   ]
  },
  {
   "cell_type": "code",
   "execution_count": 544,
   "metadata": {},
   "outputs": [],
   "source": [
    "# southwest_df[\"room_type\"].value_counts()"
   ]
  },
  {
   "cell_type": "code",
   "execution_count": 545,
   "metadata": {},
   "outputs": [],
   "source": [
    "# room_type price mean\n",
    "# southwest_df.groupby(\"room_type\")[\"price\"].mean()"
   ]
  },
  {
   "cell_type": "code",
   "execution_count": 546,
   "metadata": {},
   "outputs": [],
   "source": [
    "# # mean price of room_types in southwest\n",
    "# plt.figure(figsize=(7, 7))\n",
    "# sns.barplot(x = \"room_type\", y = \"price\", hue = \"room_type\", data = southwest_df, estimator=np.mean, errorbar= None, palette=\"viridis\")\n",
    "# plt.title(\"Mean Price of Room Types in Southwest Area\")\n",
    "# plt.xlabel(\"Room Types\")\n",
    "# plt.ylabel(\"Price Mean\")\n"
   ]
  },
  {
   "cell_type": "code",
   "execution_count": 547,
   "metadata": {},
   "outputs": [],
   "source": [
    "# room_type price median\n",
    "# southwest_df.groupby(\"room_type\")[\"price\"].median()"
   ]
  },
  {
   "cell_type": "code",
   "execution_count": 548,
   "metadata": {},
   "outputs": [],
   "source": [
    "# # median price of room_types in southwest\n",
    "# plt.figure(figsize=(7, 7))\n",
    "# sns.barplot(x = \"room_type\", y = \"price\", hue = \"room_type\", data = southwest_df, estimator=np.median, errorbar= None, palette=\"viridis\")\n",
    "# plt.title(\"Mean Price of Room Types in Southwest Area\")\n",
    "# plt.xlabel(\"Room Types\")\n",
    "# plt.ylabel(\"Price Mean\")"
   ]
  },
  {
   "cell_type": "code",
   "execution_count": 549,
   "metadata": {},
   "outputs": [],
   "source": [
    "# # create boxplot to see distribution of room_type price side by side\n",
    "# plt.figure(figsize=(7, 7))\n",
    "# sns.boxplot(x = \"room_type\", y = \"price\", hue = \"room_type\", data = southwest_df, palette=\"viridis\")\n",
    "# plt.title(\"Distribution of Prices by Room Types in Southwest Area\")\n",
    "# plt.xlabel(\"Room Types\")\n",
    "# plt.ylabel(\"Price\")"
   ]
  },
  {
   "cell_type": "markdown",
   "metadata": {},
   "source": [
    "not normally distributed\n",
    "<br>\n",
    "outliers need to be handled by room_types"
   ]
  },
  {
   "cell_type": "code",
   "execution_count": 550,
   "metadata": {},
   "outputs": [],
   "source": [
    "# create dataframes based on room_type\n",
    "sw_eha = southwest_df[southwest_df[\"room_type\"] == \"Entire home/apt\"]\n",
    "sw_hr = southwest_df[southwest_df[\"room_type\"] == \"Hotel room\"]\n",
    "sw_pr = southwest_df[southwest_df[\"room_type\"] == \"Private room\"]\n",
    "sw_sr = southwest_df[southwest_df[\"room_type\"] == \"Shared room\"]"
   ]
  },
  {
   "cell_type": "markdown",
   "metadata": {},
   "source": [
    "### entire home/apt"
   ]
  },
  {
   "cell_type": "code",
   "execution_count": 551,
   "metadata": {},
   "outputs": [],
   "source": [
    "# len(sw_eha)"
   ]
  },
  {
   "cell_type": "code",
   "execution_count": 552,
   "metadata": {},
   "outputs": [],
   "source": [
    "# sw_eha.head()"
   ]
  },
  {
   "cell_type": "code",
   "execution_count": 553,
   "metadata": {},
   "outputs": [],
   "source": [
    "# sw_eha.sort_values(by = \"price\", ascending = False).head(10)"
   ]
  },
  {
   "cell_type": "code",
   "execution_count": 554,
   "metadata": {},
   "outputs": [],
   "source": [
    "# # raw data distribution\n",
    "# plt.figure(figsize=(10, 7))\n",
    "# sns.histplot(data = sw_eha, x=\"price\", color = \"#006884\")\n",
    "# plt.title(\"Distribution of Entire Home/Apt Prices in Southwest Area\")\n",
    "# plt.xlabel(\"Price\")\n",
    "# plt.ylabel(\"Count\")\n",
    "# plt.show()"
   ]
  },
  {
   "cell_type": "markdown",
   "metadata": {},
   "source": [
    "remove extreme outliers"
   ]
  },
  {
   "cell_type": "code",
   "execution_count": 555,
   "metadata": {},
   "outputs": [],
   "source": [
    "sw_eha = sw_eha[sw_eha[\"price\"] < 100000]"
   ]
  },
  {
   "cell_type": "code",
   "execution_count": 556,
   "metadata": {},
   "outputs": [],
   "source": [
    "# plt.figure(figsize=(10, 7))\n",
    "# sns.histplot(data = sw_eha, x=\"price\", color = \"#006884\")\n",
    "# plt.title(\"Distribution of Entire Home/Apt Prices in Southwest Area\")\n",
    "# plt.xlabel(\"Price\")\n",
    "# plt.ylabel(\"Count\")\n",
    "# plt.show()"
   ]
  },
  {
   "cell_type": "code",
   "execution_count": 557,
   "metadata": {},
   "outputs": [
    {
     "data": {
      "text/plain": [
       "150"
      ]
     },
     "execution_count": 557,
     "metadata": {},
     "output_type": "execute_result"
    }
   ],
   "source": [
    "len(price_outlier(sw_eha)[0])\n",
    "len(price_outlier(sw_eha)[1])"
   ]
  },
  {
   "cell_type": "markdown",
   "metadata": {},
   "source": [
    "remove outliers based on iqr"
   ]
  },
  {
   "cell_type": "code",
   "execution_count": 558,
   "metadata": {},
   "outputs": [],
   "source": [
    "sw_eha_cleaned = sw_eha[sw_eha[\"price\"] < price_outlier(sw_eha)[-1]]"
   ]
  },
  {
   "cell_type": "code",
   "execution_count": 559,
   "metadata": {},
   "outputs": [],
   "source": [
    "# # cleaned distribution\n",
    "# plt.figure(figsize=(10, 7))\n",
    "# sns.histplot(data = sw_eha_cleaned, x=\"price\", color = \"#006884\")\n",
    "# plt.title(\"Distribution of Entire Home/Apt Prices in Southwest Area\")\n",
    "# plt.xlabel(\"Price\")\n",
    "# plt.ylabel(\"Count\")\n",
    "# plt.show()"
   ]
  },
  {
   "cell_type": "markdown",
   "metadata": {},
   "source": [
    "### hotel room"
   ]
  },
  {
   "cell_type": "code",
   "execution_count": 560,
   "metadata": {},
   "outputs": [],
   "source": [
    "# len(sw_hr)"
   ]
  },
  {
   "cell_type": "code",
   "execution_count": 561,
   "metadata": {},
   "outputs": [],
   "source": [
    "# sw_hr.head()"
   ]
  },
  {
   "cell_type": "code",
   "execution_count": 562,
   "metadata": {},
   "outputs": [],
   "source": [
    "# sw_hr.sort_values(by = \"price\", ascending = False).head(10)"
   ]
  },
  {
   "cell_type": "code",
   "execution_count": 563,
   "metadata": {},
   "outputs": [],
   "source": [
    "# # raw data distribution\n",
    "# plt.figure(figsize=(10, 7))\n",
    "# sns.histplot(data = sw_hr, x=\"price\", color = \"#006884\")\n",
    "# plt.title(\"Distribution of Hotel Room Prices in Southwest Area\")\n",
    "# plt.xlabel(\"Price\")\n",
    "# plt.ylabel(\"Count\")\n",
    "# plt.show()"
   ]
  },
  {
   "cell_type": "code",
   "execution_count": 564,
   "metadata": {},
   "outputs": [],
   "source": [
    "# len(price_outlier(sw_hr)[0])\n",
    "# len(price_outlier(sw_hr)[1])"
   ]
  },
  {
   "cell_type": "markdown",
   "metadata": {},
   "source": [
    "remove outliers based on iqr"
   ]
  },
  {
   "cell_type": "code",
   "execution_count": 565,
   "metadata": {},
   "outputs": [],
   "source": [
    "sw_hr_cleaned = sw_hr[sw_hr[\"price\"] < price_outlier(sw_hr)[-1]]"
   ]
  },
  {
   "cell_type": "code",
   "execution_count": 566,
   "metadata": {},
   "outputs": [],
   "source": [
    "# # cleaned data distribution\n",
    "# plt.figure(figsize=(10, 7))\n",
    "# sns.histplot(data = sw_hr_cleaned, x=\"price\", color = \"#006884\")\n",
    "# plt.title(\"Distribution of Hotel Room Prices in Southwest Area\")\n",
    "# plt.xlabel(\"Price\")\n",
    "# plt.ylabel(\"Count\")\n",
    "# plt.show()"
   ]
  },
  {
   "cell_type": "markdown",
   "metadata": {},
   "source": [
    "### private room"
   ]
  },
  {
   "cell_type": "code",
   "execution_count": 567,
   "metadata": {},
   "outputs": [],
   "source": [
    "# len(sw_pr)"
   ]
  },
  {
   "cell_type": "code",
   "execution_count": 568,
   "metadata": {},
   "outputs": [],
   "source": [
    "# sw_pr.head()"
   ]
  },
  {
   "cell_type": "code",
   "execution_count": 569,
   "metadata": {},
   "outputs": [],
   "source": [
    "# sw_pr.sort_values(by = \"price\", ascending = False).head()"
   ]
  },
  {
   "cell_type": "code",
   "execution_count": 570,
   "metadata": {},
   "outputs": [],
   "source": [
    "# # raw data distribution\n",
    "# plt.figure(figsize=(10, 7))\n",
    "# sns.histplot(data = sw_pr, x=\"price\", color = \"#006884\")\n",
    "# plt.title(\"Distribution of Private Room Prices in Southwest Area\")\n",
    "# plt.xlabel(\"Price\")\n",
    "# plt.ylabel(\"Count\")\n",
    "# plt.show()"
   ]
  },
  {
   "cell_type": "markdown",
   "metadata": {},
   "source": [
    "remove extreme outliers"
   ]
  },
  {
   "cell_type": "code",
   "execution_count": 571,
   "metadata": {},
   "outputs": [],
   "source": [
    "sw_pr = sw_pr[sw_pr[\"price\"] < 40000]"
   ]
  },
  {
   "cell_type": "code",
   "execution_count": 572,
   "metadata": {},
   "outputs": [],
   "source": [
    "# plt.figure(figsize=(10, 7))\n",
    "# sns.histplot(data = sw_pr, x=\"price\", color = \"#006884\")\n",
    "# plt.title(\"Distribution of Private Room Prices in Southwest Area\")\n",
    "# plt.xlabel(\"Price\")\n",
    "# plt.ylabel(\"Count\")\n",
    "# plt.show()"
   ]
  },
  {
   "cell_type": "code",
   "execution_count": 573,
   "metadata": {},
   "outputs": [
    {
     "data": {
      "text/plain": [
       "65"
      ]
     },
     "execution_count": 573,
     "metadata": {},
     "output_type": "execute_result"
    }
   ],
   "source": [
    "len(price_outlier(sw_pr)[0])\n",
    "len(price_outlier(sw_pr)[1])"
   ]
  },
  {
   "cell_type": "markdown",
   "metadata": {},
   "source": [
    "remove outliers based on iqr"
   ]
  },
  {
   "cell_type": "code",
   "execution_count": 574,
   "metadata": {},
   "outputs": [],
   "source": [
    "sw_pr_cleaned = sw_pr[sw_pr[\"price\"] < price_outlier(sw_pr)[-1]]"
   ]
  },
  {
   "cell_type": "code",
   "execution_count": 575,
   "metadata": {},
   "outputs": [],
   "source": [
    "# # cleaned distribution\n",
    "# plt.figure(figsize=(10, 7))\n",
    "# sns.histplot(data = sw_pr_cleaned, x=\"price\", color = \"#006884\")\n",
    "# plt.title(\"Distribution of Private Room Prices in Southwest Area\")\n",
    "# plt.xlabel(\"Price\")\n",
    "# plt.ylabel(\"Count\")\n",
    "# plt.show()"
   ]
  },
  {
   "cell_type": "markdown",
   "metadata": {},
   "source": [
    "### shared room"
   ]
  },
  {
   "cell_type": "code",
   "execution_count": 576,
   "metadata": {},
   "outputs": [],
   "source": [
    "# len(sw_sr)"
   ]
  },
  {
   "cell_type": "code",
   "execution_count": 577,
   "metadata": {},
   "outputs": [],
   "source": [
    "# sw_sr.head()"
   ]
  },
  {
   "cell_type": "code",
   "execution_count": 578,
   "metadata": {},
   "outputs": [],
   "source": [
    "# sw_sr.sort_values(by = \"price\", ascending = False).head()"
   ]
  },
  {
   "cell_type": "code",
   "execution_count": 579,
   "metadata": {},
   "outputs": [],
   "source": [
    "# # raw data distribution\n",
    "# plt.figure(figsize=(10, 7))\n",
    "# sns.histplot(data = sw_sr, x=\"price\", color = \"#006884\")\n",
    "# plt.title(\"Distribution of Shared Room Prices in Southwest Area\")\n",
    "# plt.xlabel(\"Price\")\n",
    "# plt.ylabel(\"Count\")\n",
    "# plt.show()"
   ]
  },
  {
   "cell_type": "markdown",
   "metadata": {},
   "source": [
    "remove extreme outliers"
   ]
  },
  {
   "cell_type": "code",
   "execution_count": 580,
   "metadata": {},
   "outputs": [],
   "source": [
    "sw_sr = sw_sr[sw_sr[\"price\"] < 6000]"
   ]
  },
  {
   "cell_type": "code",
   "execution_count": 581,
   "metadata": {},
   "outputs": [],
   "source": [
    "# plt.figure(figsize=(10, 7))\n",
    "# sns.histplot(data = sw_sr, x=\"price\", color = \"#006884\")\n",
    "# plt.title(\"Distribution of Shared Room Prices in Southwest Area\")\n",
    "# plt.xlabel(\"Price\")\n",
    "# plt.ylabel(\"Count\")\n",
    "# plt.show()"
   ]
  },
  {
   "cell_type": "code",
   "execution_count": 582,
   "metadata": {},
   "outputs": [],
   "source": [
    "# len(price_outlier(sw_sr)[0])\n",
    "# len(price_outlier(sw_sr)[1])"
   ]
  },
  {
   "cell_type": "markdown",
   "metadata": {},
   "source": [
    "remove outliers based on iqr"
   ]
  },
  {
   "cell_type": "code",
   "execution_count": 583,
   "metadata": {},
   "outputs": [],
   "source": [
    "sw_sr_cleaned = sw_sr[sw_sr[\"price\"] < price_outlier(sw_sr)[-1]]"
   ]
  },
  {
   "cell_type": "code",
   "execution_count": 584,
   "metadata": {},
   "outputs": [],
   "source": [
    "# # cleaned distribution\n",
    "# plt.figure(figsize=(10, 7))\n",
    "# sns.histplot(data = sw_sr_cleaned, x=\"price\", color = \"#006884\")\n",
    "# plt.title(\"Distribution of Shared Room Prices in Southwest Area\")\n",
    "# plt.xlabel(\"Price\")\n",
    "# plt.ylabel(\"Count\")\n",
    "# plt.show()"
   ]
  },
  {
   "cell_type": "markdown",
   "metadata": {},
   "source": [
    "#### combine all cleaned room_type dataframe for southwest"
   ]
  },
  {
   "cell_type": "code",
   "execution_count": 585,
   "metadata": {},
   "outputs": [],
   "source": [
    "southwest_df_cleaned = pd.concat([sw_eha_cleaned, sw_hr_cleaned, sw_pr_cleaned, sw_sr_cleaned])"
   ]
  },
  {
   "cell_type": "code",
   "execution_count": 586,
   "metadata": {},
   "outputs": [],
   "source": [
    "# len(southwest_df_cleaned)"
   ]
  },
  {
   "cell_type": "code",
   "execution_count": 587,
   "metadata": {},
   "outputs": [],
   "source": [
    "# check if concat worked properly\n",
    "# len(sw_eha_cleaned) + len(sw_hr_cleaned) + len(sw_pr_cleaned) + len(sw_sr_cleaned)"
   ]
  },
  {
   "cell_type": "code",
   "execution_count": 588,
   "metadata": {},
   "outputs": [
    {
     "data": {
      "text/plain": [
       "Text(0, 0.5, 'Price')"
      ]
     },
     "execution_count": 588,
     "metadata": {},
     "output_type": "execute_result"
    },
    {
     "data": {
      "image/png": "[encoded data removed]",
      "text/plain": [
       "<Figure size 700x700 with 1 Axes>"
      ]
     },
     "metadata": {},
     "output_type": "display_data"
    }
   ],
   "source": [
    "# clean boxplot to see distribution of room_type price side by side\n",
    "plt.figure(figsize=(7, 7))\n",
    "sns.boxplot(x = \"room_type\", y = \"price\", hue = \"room_type\", data = southwest_df_cleaned, palette=\"viridis\")\n",
    "plt.title(\"Distribution of Prices by Room Types in Southwest Area\")\n",
    "plt.xlabel(\"Room Types\")\n",
    "plt.ylabel(\"Price\")"
   ]
  },
  {
   "cell_type": "markdown",
   "metadata": {},
   "source": [
    "# Southeast"
   ]
  },
  {
   "cell_type": "code",
   "execution_count": 589,
   "metadata": {},
   "outputs": [],
   "source": [
    "# len(southeast_df)"
   ]
  },
  {
   "cell_type": "code",
   "execution_count": 590,
   "metadata": {},
   "outputs": [],
   "source": [
    "# southeast_df.head()"
   ]
  },
  {
   "cell_type": "code",
   "execution_count": 591,
   "metadata": {},
   "outputs": [],
   "source": [
    "# southeast_df[\"neighbourhood\"].value_counts()"
   ]
  },
  {
   "cell_type": "code",
   "execution_count": 592,
   "metadata": {},
   "outputs": [],
   "source": [
    "# southeast_df[\"room_type\"].value_counts()"
   ]
  },
  {
   "cell_type": "code",
   "execution_count": 593,
   "metadata": {},
   "outputs": [],
   "source": [
    "# room_type price mean\n",
    "# southeast_df.groupby(\"room_type\")[\"price\"].mean()"
   ]
  },
  {
   "cell_type": "code",
   "execution_count": 594,
   "metadata": {},
   "outputs": [],
   "source": [
    "# # mean price of room_types in central\n",
    "# plt.figure(figsize=(7, 7))\n",
    "# sns.barplot(x = \"room_type\", y = \"price\", hue = \"room_type\", data = southeast_df, estimator=np.mean, errorbar= None, palette=\"viridis\")\n",
    "# plt.title(\"Mean Price of Room Types in Southeast Area\")\n",
    "# plt.xlabel(\"Room Types\")\n",
    "# plt.ylabel(\"Price Mean\")"
   ]
  },
  {
   "cell_type": "code",
   "execution_count": 595,
   "metadata": {},
   "outputs": [],
   "source": [
    "# room_type price median\n",
    "# central_df.groupby(\"room_type\")[\"price\"].median()"
   ]
  },
  {
   "cell_type": "code",
   "execution_count": 596,
   "metadata": {},
   "outputs": [],
   "source": [
    "# # median price of room_types in central\n",
    "# plt.figure(figsize=(7, 7))\n",
    "# sns.barplot(x = \"room_type\", y = \"price\", hue = \"room_type\", data = southeast_df, estimator=np.median, errorbar= None, palette=\"viridis\")\n",
    "# plt.title(\"Mean Price of Room Types in Southeast Area\")\n",
    "# plt.xlabel(\"Room Types\")\n",
    "# plt.ylabel(\"Price Mean\")\n"
   ]
  },
  {
   "cell_type": "code",
   "execution_count": 597,
   "metadata": {},
   "outputs": [],
   "source": [
    "# # create boxplot to see distribution of room_type price side by side\n",
    "# plt.figure(figsize=(7, 7))\n",
    "# sns.boxplot(x = \"room_type\", y = \"price\", hue = \"room_type\", data = southeast_df, palette=\"viridis\")\n",
    "# plt.title(\"Distribution of Prices by Room Types in Southeast Area\")\n",
    "# plt.xlabel(\"Room Types\")\n",
    "# plt.ylabel(\"Price\")"
   ]
  },
  {
   "cell_type": "markdown",
   "metadata": {},
   "source": [
    "not normally distributed\n",
    "<br>\n",
    "handle outliers per room_type"
   ]
  },
  {
   "cell_type": "code",
   "execution_count": 598,
   "metadata": {},
   "outputs": [],
   "source": [
    "# create dataframes based on room_type\n",
    "se_eha = southeast_df[southeast_df[\"room_type\"] == \"Entire home/apt\"]\n",
    "se_hr = southeast_df[southeast_df[\"room_type\"] == \"Hotel room\"]\n",
    "se_pr = southeast_df[southeast_df[\"room_type\"] == \"Private room\"]\n",
    "se_sr = southeast_df[southeast_df[\"room_type\"] == \"Shared room\"]"
   ]
  },
  {
   "cell_type": "markdown",
   "metadata": {},
   "source": [
    "### entire home/apt"
   ]
  },
  {
   "cell_type": "code",
   "execution_count": 599,
   "metadata": {},
   "outputs": [],
   "source": [
    "# len(se_eha)"
   ]
  },
  {
   "cell_type": "code",
   "execution_count": 600,
   "metadata": {},
   "outputs": [],
   "source": [
    "# se_eha.head()"
   ]
  },
  {
   "cell_type": "code",
   "execution_count": 601,
   "metadata": {},
   "outputs": [],
   "source": [
    "# se_eha.sort_values(by = \"price\", ascending = False).head()"
   ]
  },
  {
   "cell_type": "code",
   "execution_count": 602,
   "metadata": {},
   "outputs": [],
   "source": [
    "# # raw data distribution\n",
    "# plt.figure(figsize=(10, 7))\n",
    "# sns.histplot(data = se_eha, x=\"price\", color = \"#006884\")\n",
    "# plt.title(\"Distribution of Entire Home/Apt Prices in Southeast Area\")\n",
    "# plt.xlabel(\"Price\")\n",
    "# plt.ylabel(\"Count\")\n",
    "# plt.show()"
   ]
  },
  {
   "cell_type": "markdown",
   "metadata": {},
   "source": [
    "remove extreme outliers"
   ]
  },
  {
   "cell_type": "code",
   "execution_count": 603,
   "metadata": {},
   "outputs": [],
   "source": [
    "se_eha = se_eha[se_eha[\"price\"] < 20000]"
   ]
  },
  {
   "cell_type": "code",
   "execution_count": 604,
   "metadata": {},
   "outputs": [],
   "source": [
    "# plt.figure(figsize=(10, 7))\n",
    "# sns.histplot(data = se_eha, x=\"price\", color = \"#006884\")\n",
    "# plt.title(\"Distribution of Entire Home/Apt Prices in Southeast Area\")\n",
    "# plt.xlabel(\"Price\")\n",
    "# plt.ylabel(\"Count\")\n",
    "# plt.show()"
   ]
  },
  {
   "cell_type": "code",
   "execution_count": 605,
   "metadata": {},
   "outputs": [],
   "source": [
    "# len(price_outlier(se_eha)[0])\n",
    "# len(price_outlier(se_eha)[1])"
   ]
  },
  {
   "cell_type": "markdown",
   "metadata": {},
   "source": [
    "remove outliers based on iqr"
   ]
  },
  {
   "cell_type": "code",
   "execution_count": 606,
   "metadata": {},
   "outputs": [],
   "source": [
    "se_eha_cleaned = se_eha[se_eha[\"price\"] < price_outlier(se_eha)[-1]]"
   ]
  },
  {
   "cell_type": "code",
   "execution_count": 607,
   "metadata": {},
   "outputs": [],
   "source": [
    "# # cleaned distribution\n",
    "# plt.figure(figsize=(10, 7))\n",
    "# sns.histplot(data = se_eha_cleaned, x=\"price\", color = \"#006884\")\n",
    "# plt.title(\"Distribution of Entire Home/Apt Prices in Southeast Area\")\n",
    "# plt.xlabel(\"Price\")\n",
    "# plt.ylabel(\"Count\")\n",
    "# plt.show()"
   ]
  },
  {
   "cell_type": "markdown",
   "metadata": {},
   "source": [
    "### hotel room"
   ]
  },
  {
   "cell_type": "code",
   "execution_count": 608,
   "metadata": {},
   "outputs": [],
   "source": [
    "# len(se_hr)"
   ]
  },
  {
   "cell_type": "code",
   "execution_count": 609,
   "metadata": {},
   "outputs": [],
   "source": [
    "# se_hr.head()"
   ]
  },
  {
   "cell_type": "code",
   "execution_count": 610,
   "metadata": {},
   "outputs": [],
   "source": [
    "# se_hr.sort_values(by = \"price\", ascending = False).head()"
   ]
  },
  {
   "cell_type": "code",
   "execution_count": 611,
   "metadata": {},
   "outputs": [],
   "source": [
    "# # raw data distribution\n",
    "# plt.figure(figsize=(10, 7))\n",
    "# sns.histplot(data = se_hr, x=\"price\", color = \"#006884\")\n",
    "# plt.title(\"Distribution of Hotel Room Prices in Southeast Area\")\n",
    "# plt.xlabel(\"Price\")\n",
    "# plt.ylabel(\"Count\")\n",
    "# plt.show()"
   ]
  },
  {
   "cell_type": "code",
   "execution_count": 612,
   "metadata": {},
   "outputs": [],
   "source": [
    "# len(price_outlier(se_hr)[0])\n",
    "# len(price_outlier(se_hr)[1])"
   ]
  },
  {
   "cell_type": "markdown",
   "metadata": {},
   "source": [
    "remove outliers based on iqr"
   ]
  },
  {
   "cell_type": "code",
   "execution_count": 613,
   "metadata": {},
   "outputs": [],
   "source": [
    "se_hr_cleaned = se_hr[se_hr[\"price\"] < price_outlier(se_hr)[-1]]"
   ]
  },
  {
   "cell_type": "code",
   "execution_count": 614,
   "metadata": {},
   "outputs": [],
   "source": [
    "# # cleaned data distribution\n",
    "# plt.figure(figsize=(10, 7))\n",
    "# sns.histplot(data = se_hr_cleaned, x=\"price\", color = \"#006884\")\n",
    "# plt.title(\"Distribution of Hotel Room Prices in Southeast Area\")\n",
    "# plt.xlabel(\"Price\")\n",
    "# plt.ylabel(\"Count\")\n",
    "# plt.show()"
   ]
  },
  {
   "cell_type": "markdown",
   "metadata": {},
   "source": [
    "### private room"
   ]
  },
  {
   "cell_type": "code",
   "execution_count": 615,
   "metadata": {},
   "outputs": [],
   "source": [
    "# len(se_pr)"
   ]
  },
  {
   "cell_type": "code",
   "execution_count": 616,
   "metadata": {},
   "outputs": [],
   "source": [
    "# se_pr.head()"
   ]
  },
  {
   "cell_type": "code",
   "execution_count": 617,
   "metadata": {},
   "outputs": [],
   "source": [
    "# se_pr.sort_values(by = \"price\", ascending = False).head()"
   ]
  },
  {
   "cell_type": "code",
   "execution_count": 618,
   "metadata": {},
   "outputs": [],
   "source": [
    "# # raw data distribution\n",
    "# plt.figure(figsize=(10, 7))\n",
    "# sns.histplot(data = se_pr, x=\"price\", color = \"#006884\")\n",
    "# plt.title(\"Distribution of Private Room Prices in Southeast Area\")\n",
    "# plt.xlabel(\"Price\")\n",
    "# plt.ylabel(\"Count\")\n",
    "# plt.show()"
   ]
  },
  {
   "cell_type": "markdown",
   "metadata": {},
   "source": [
    "remove extreme outliers"
   ]
  },
  {
   "cell_type": "code",
   "execution_count": 619,
   "metadata": {},
   "outputs": [],
   "source": [
    "se_pr = se_pr[se_pr[\"price\"] < 90000]"
   ]
  },
  {
   "cell_type": "code",
   "execution_count": 620,
   "metadata": {},
   "outputs": [],
   "source": [
    "# plt.figure(figsize=(10, 7))\n",
    "# sns.histplot(data = se_pr, x=\"price\", color = \"#006884\")\n",
    "# plt.title(\"Distribution of Private Room Prices in Southeast Area\")\n",
    "# plt.xlabel(\"Price\")\n",
    "# plt.ylabel(\"Count\")\n",
    "# plt.show()"
   ]
  },
  {
   "cell_type": "code",
   "execution_count": 621,
   "metadata": {},
   "outputs": [],
   "source": [
    "# len(price_outlier(se_pr)[0])\n",
    "# len(price_outlier(se_pr)[1])"
   ]
  },
  {
   "cell_type": "markdown",
   "metadata": {},
   "source": [
    "remove outliers based on iqr"
   ]
  },
  {
   "cell_type": "code",
   "execution_count": 622,
   "metadata": {},
   "outputs": [],
   "source": [
    "se_pr_cleaned = se_pr[se_pr[\"price\"] < price_outlier(se_pr)[-1]]"
   ]
  },
  {
   "cell_type": "code",
   "execution_count": 623,
   "metadata": {},
   "outputs": [],
   "source": [
    "# # cleaned distribution\n",
    "# plt.figure(figsize=(10, 7))\n",
    "# sns.histplot(data = se_pr_cleaned, x=\"price\", color = \"#006884\")\n",
    "# plt.title(\"Distribution of Private Room Prices in Southeast Area\")\n",
    "# plt.xlabel(\"Price\")\n",
    "# plt.ylabel(\"Count\")\n",
    "# plt.show()"
   ]
  },
  {
   "cell_type": "markdown",
   "metadata": {},
   "source": [
    "### shared room"
   ]
  },
  {
   "cell_type": "code",
   "execution_count": 624,
   "metadata": {},
   "outputs": [],
   "source": [
    "# len(se_sr)"
   ]
  },
  {
   "cell_type": "code",
   "execution_count": 625,
   "metadata": {},
   "outputs": [],
   "source": [
    "# se_sr.head()"
   ]
  },
  {
   "cell_type": "code",
   "execution_count": 626,
   "metadata": {},
   "outputs": [],
   "source": [
    "# se_hr.sort_values(by = \"price\", ascending = False).head()"
   ]
  },
  {
   "cell_type": "code",
   "execution_count": 627,
   "metadata": {},
   "outputs": [],
   "source": [
    "# # raw data distribution\n",
    "# plt.figure(figsize=(10, 7))\n",
    "# sns.histplot(data = se_sr, x=\"price\", color = \"#006884\")\n",
    "# plt.title(\"Distribution of Shared Room Prices in Southeast Area\")\n",
    "# plt.xlabel(\"Price\")\n",
    "# plt.ylabel(\"Count\")\n",
    "# plt.show()"
   ]
  },
  {
   "cell_type": "markdown",
   "metadata": {},
   "source": [
    "remove extreme outlier"
   ]
  },
  {
   "cell_type": "code",
   "execution_count": 628,
   "metadata": {},
   "outputs": [],
   "source": [
    "se_sr = se_sr[se_sr[\"price\"] < 4000]"
   ]
  },
  {
   "cell_type": "code",
   "execution_count": 629,
   "metadata": {},
   "outputs": [],
   "source": [
    "# plt.figure(figsize=(10, 7))\n",
    "# sns.histplot(data = se_sr, x=\"price\", color = \"#006884\")\n",
    "# plt.title(\"Distribution of Shared Room Prices in Southeast Area\")\n",
    "# plt.xlabel(\"Price\")\n",
    "# plt.ylabel(\"Count\")\n",
    "# plt.show()"
   ]
  },
  {
   "cell_type": "code",
   "execution_count": 630,
   "metadata": {},
   "outputs": [],
   "source": [
    "# len(price_outlier(se_sr)[0])\n",
    "# len(price_outlier(se_sr)[1])"
   ]
  },
  {
   "cell_type": "markdown",
   "metadata": {},
   "source": [
    "remove outliers based on iqr"
   ]
  },
  {
   "cell_type": "code",
   "execution_count": 631,
   "metadata": {},
   "outputs": [],
   "source": [
    "se_sr_cleaned = se_sr[se_sr[\"price\"] < price_outlier(se_sr)[-1]]"
   ]
  },
  {
   "cell_type": "code",
   "execution_count": 632,
   "metadata": {},
   "outputs": [],
   "source": [
    "# # cleaned distribution\n",
    "# plt.figure(figsize=(10, 7))\n",
    "# sns.histplot(data = se_sr_cleaned, x=\"price\", color = \"#006884\")\n",
    "# plt.title(\"Distribution of Shared Room Prices in Southeast Area\")\n",
    "# plt.xlabel(\"Price\")\n",
    "# plt.ylabel(\"Count\")\n",
    "# plt.show()"
   ]
  },
  {
   "cell_type": "markdown",
   "metadata": {},
   "source": [
    "#### combine all cleaned room_type dataframes for southeast"
   ]
  },
  {
   "cell_type": "code",
   "execution_count": 633,
   "metadata": {},
   "outputs": [],
   "source": [
    "southeast_df_cleaned = pd.concat([se_eha_cleaned, se_hr_cleaned, se_pr_cleaned, se_sr_cleaned])"
   ]
  },
  {
   "cell_type": "code",
   "execution_count": 634,
   "metadata": {},
   "outputs": [],
   "source": [
    "# len(southeast_df_cleaned)"
   ]
  },
  {
   "cell_type": "code",
   "execution_count": 635,
   "metadata": {},
   "outputs": [],
   "source": [
    "# double check if concat worked properly\n",
    "# len(se_eha_cleaned) + len(se_hr_cleaned) + len(se_pr_cleaned) + len(se_sr_cleaned)"
   ]
  },
  {
   "cell_type": "code",
   "execution_count": 636,
   "metadata": {},
   "outputs": [
    {
     "data": {
      "text/plain": [
       "Text(0, 0.5, 'Price')"
      ]
     },
     "execution_count": 636,
     "metadata": {},
     "output_type": "execute_result"
    },
    {
     "data": {
      "image/png": "[encoded data removed]",
      "text/plain": [
       "<Figure size 700x700 with 1 Axes>"
      ]
     },
     "metadata": {},
     "output_type": "display_data"
    }
   ],
   "source": [
    "# clean boxplot to see distribution of room_type price side by side\n",
    "plt.figure(figsize=(7, 7))\n",
    "sns.boxplot(x = \"room_type\", y = \"price\", hue = \"room_type\", data = southeast_df_cleaned, palette=\"viridis\")\n",
    "plt.title(\"Distribution of Prices by Room Types in Southeast Area\")\n",
    "plt.xlabel(\"Room Types\")\n",
    "plt.ylabel(\"Price\")"
   ]
  },
  {
   "cell_type": "markdown",
   "metadata": {},
   "source": [
    "#### combine all regional dataframes into one clean df"
   ]
  },
  {
   "cell_type": "code",
   "execution_count": 637,
   "metadata": {},
   "outputs": [],
   "source": [
    "df = pd.concat([central_df_cleaned, northwest_df_cleaned, northeast_df_cleaned, southwest_df_cleaned, southeast_df_cleaned]).reset_index(drop = True)"
   ]
  },
  {
   "cell_type": "code",
   "execution_count": 638,
   "metadata": {},
   "outputs": [],
   "source": [
    "eha_df = df[df[\"room_type\"] == \"Entire home/apt\"]\n",
    "hr_df = df[df[\"room_type\"] == \"Hotel room\"]\n",
    "pr_df = df[df[\"room_type\"] == \"Private room\"]\n",
    "sr_df = df[df[\"room_type\"] == \"Shared room\"]"
   ]
  },
  {
   "cell_type": "markdown",
   "metadata": {},
   "source": [
    "# Cleaning Reviews Column"
   ]
  },
  {
   "cell_type": "markdown",
   "metadata": {},
   "source": [
    "since i want to see which region is the best for investment for each room type, i will group by room type first and apply the same review categories across all regions"
   ]
  },
  {
   "cell_type": "code",
   "execution_count": 639,
   "metadata": {},
   "outputs": [],
   "source": [
    "# # histplot of numner_of_reviews in all regions for all room types\n",
    "# plt.figure(figsize=(20, 10))\n",
    "# plt.title(\"Count of Number of Reviews for Each Room Type by Region\\n\")\n",
    "\n",
    "# plt.subplot(2, 2, 1)\n",
    "# sns.histplot(x = \"number_of_reviews\", data = eha_df, hue = \"region\", palette=\"viridis\")\n",
    "# plt.title(\"Entire Home/Apt\")\n",
    "\n",
    "# plt.subplot(2, 2, 2)\n",
    "# sns.histplot(x = \"number_of_reviews\", data = hr_df, hue = \"region\", palette=\"viridis\")\n",
    "# plt.title(\"Hotel Room\")\n",
    "\n",
    "# plt.subplot(2, 2, 3)\n",
    "# sns.histplot(x = \"number_of_reviews\", data = pr_df, hue = \"region\", palette=\"viridis\")\n",
    "# plt.title(\"Private Room\")\n",
    "\n",
    "# plt.subplot(2, 2, 4)\n",
    "# sns.histplot(x = \"number_of_reviews\", data = sr_df, hue = \"region\", palette=\"viridis\")\n",
    "# plt.title(\"Shared Room\")"
   ]
  },
  {
   "cell_type": "code",
   "execution_count": 640,
   "metadata": {},
   "outputs": [],
   "source": [
    "# # reviews are too skewed to the right - logging\n",
    "# eha_df.loc[:, \"log_reviews_count\"] = np.log1p(eha_df[\"number_of_reviews\"].values)\n",
    "# hr_df.loc[:,\"log_reviews_count\"] = np.log1p(hr_df[\"number_of_reviews\"].values)\n",
    "# pr_df.loc[:,\"log_reviews_count\"] = np.log1p(pr_df[\"number_of_reviews\"].values)\n",
    "# sr_df.loc[:,\"log_reviews_count\"] = np.log1p(sr_df[\"number_of_reviews\"].values)"
   ]
  },
  {
   "cell_type": "code",
   "execution_count": 641,
   "metadata": {},
   "outputs": [],
   "source": [
    "# # histplot of after logging\n",
    "# plt.figure(figsize=(20, 10))\n",
    "# plt.title(\"Logged Number of Reviews for Each Room Type by Region\\n\")\n",
    "\n",
    "# plt.subplot(2, 2, 1)\n",
    "# sns.histplot(x = \"log_reviews_count\", data = eha_df, hue = \"region\", palette=\"viridis\")\n",
    "# plt.title(\"Entire Home/Apt\")\n",
    "\n",
    "# plt.subplot(2, 2, 2)\n",
    "# sns.histplot(x = \"log_reviews_count\", data = hr_df, hue = \"region\", palette=\"viridis\")\n",
    "# plt.title(\"Hotel Room\")\n",
    "\n",
    "# plt.subplot(2, 2, 3)\n",
    "# sns.histplot(x = \"log_reviews_count\", data = pr_df, hue = \"region\", palette=\"viridis\")\n",
    "# plt.title(\"Private Room\")\n",
    "\n",
    "# plt.subplot(2, 2, 4)\n",
    "# sns.histplot(x = \"log_reviews_count\", data = sr_df, hue = \"region\", palette=\"viridis\")\n",
    "# plt.title(\"Shared Room\")"
   ]
  },
  {
   "cell_type": "code",
   "execution_count": 642,
   "metadata": {},
   "outputs": [],
   "source": [
    "# # define new column for number_of_reviews ordinal - reviews_activity came from number_of_reviews\n",
    "# def ordinal_reviews_count(df):\n",
    "#     q1 = df[\"log_reviews_count\"].quantile(0.33)\n",
    "#     q2 = df[\"log_reviews_count\"].quantile(0.66)\n",
    "\n",
    "#     bins = [df[\"log_reviews_count\"].min(), q1 + 0.01, q2, df[\"log_reviews_count\"].max()]\n",
    "#     labels = [\"Low\", \"Moderate\", \"High\"]\n",
    "#     df.loc[:, \"reviews_activity\"] = pd.cut(df[\"log_reviews_count\"], bins=bins, labels=labels, include_lowest=True)\n",
    "\n",
    "#     return df"
   ]
  },
  {
   "cell_type": "code",
   "execution_count": 643,
   "metadata": {},
   "outputs": [],
   "source": [
    "# eha_df = ordinal_reviews_count(eha_df)\n",
    "# hr_df = ordinal_reviews_count(hr_df)\n",
    "# pr_df = ordinal_reviews_count(pr_df)\n",
    "# sr_df = ordinal_reviews_count(sr_df)"
   ]
  },
  {
   "cell_type": "code",
   "execution_count": 644,
   "metadata": {},
   "outputs": [],
   "source": [
    "# # histplot of reviews_per_month in all regions for all room types\n",
    "# plt.figure(figsize=(20, 10))\n",
    "# plt.title(\"Count of Reviews per Month for Each Room Type by Region\\n\")\n",
    "\n",
    "# plt.subplot(2, 2, 1)\n",
    "# sns.histplot(x = \"reviews_per_month\", data = eha_df, hue = \"region\", palette=\"viridis\")\n",
    "# plt.title(\"Entire Home/Apt\")\n",
    "\n",
    "# plt.subplot(2, 2, 2)\n",
    "# sns.histplot(x = \"reviews_per_month\", data = hr_df, hue = \"region\", palette=\"viridis\")\n",
    "# plt.title(\"Hotel Room\")\n",
    "\n",
    "# plt.subplot(2, 2, 3)\n",
    "# sns.histplot(x = \"reviews_per_month\", data = pr_df, hue = \"region\", palette=\"viridis\")\n",
    "# plt.title(\"Private Room\")\n",
    "\n",
    "# plt.subplot(2, 2, 4)\n",
    "# sns.histplot(x = \"reviews_per_month\", data = sr_df, hue = \"region\", palette=\"viridis\")\n",
    "# plt.title(\"Shared Room\")"
   ]
  },
  {
   "cell_type": "code",
   "execution_count": 645,
   "metadata": {},
   "outputs": [],
   "source": [
    "# # reviews are too skewed to the right - logging\n",
    "# eha_df.loc[:, \"log_reviews_month\"] = np.log1p(eha_df[\"reviews_per_month\"])\n",
    "# hr_df.loc[:, \"log_reviews_month\"] = np.log1p(hr_df[\"reviews_per_month\"])\n",
    "# pr_df.loc[:, \"log_reviews_month\"] = np.log1p(pr_df[\"reviews_per_month\"])\n",
    "# sr_df.loc[:, \"log_reviews_month\"] = np.log1p(sr_df[\"reviews_per_month\"])"
   ]
  },
  {
   "cell_type": "code",
   "execution_count": 646,
   "metadata": {},
   "outputs": [],
   "source": [
    "# # histplot of after logging\n",
    "# plt.figure(figsize=(20, 10))\n",
    "# plt.title(\"Logged Reviews per Month for Each Room Type by Region\\n\")\n",
    "\n",
    "# plt.subplot(2, 2, 1)\n",
    "# sns.histplot(x = \"log_reviews_month\", data = eha_df, hue = \"region\", palette=\"viridis\")\n",
    "# plt.title(\"Entire Home/Apt\")\n",
    "\n",
    "# plt.subplot(2, 2, 2)\n",
    "# sns.histplot(x = \"log_reviews_month\", data = hr_df, hue = \"region\", palette=\"viridis\")\n",
    "# plt.title(\"Hotel Room\")\n",
    "\n",
    "# plt.subplot(2, 2, 3)\n",
    "# sns.histplot(x = \"log_reviews_month\", data = pr_df, hue = \"region\", palette=\"viridis\")\n",
    "# plt.title(\"Private Room\")\n",
    "\n",
    "# plt.subplot(2, 2, 4)\n",
    "# sns.histplot(x = \"log_reviews_month\", data = sr_df, hue = \"region\", palette=\"viridis\")\n",
    "# plt.title(\"Shared Room\")"
   ]
  },
  {
   "cell_type": "code",
   "execution_count": 647,
   "metadata": {},
   "outputs": [],
   "source": [
    "# # reviews are too still skewed to the right - squaring\n",
    "# eha_df.loc[:, \"sqrt_reviews_month\"] = np.sqrt(eha_df[\"reviews_per_month\"])\n",
    "# hr_df.loc[:, \"sqrt_reviews_month\"] = np.sqrt(hr_df[\"reviews_per_month\"])\n",
    "# pr_df.loc[:, \"sqrt_reviews_month\"] = np.sqrt(pr_df[\"reviews_per_month\"])\n",
    "# sr_df.loc[:, \"sqrt_reviews_month\"] = np.sqrt(sr_df[\"reviews_per_month\"])"
   ]
  },
  {
   "cell_type": "code",
   "execution_count": 648,
   "metadata": {},
   "outputs": [],
   "source": [
    "# # histplot of after squaring\n",
    "# plt.figure(figsize=(20, 10))\n",
    "# plt.title(\"Squared Reviews per Month for Each Room Type by Region\\n\")\n",
    "\n",
    "# plt.subplot(2, 2, 1)\n",
    "# sns.histplot(x = \"sqrt_reviews_month\", data = eha_df, hue = \"region\", palette=\"viridis\")\n",
    "# plt.title(\"Entire Home/Apt\")\n",
    "\n",
    "# plt.subplot(2, 2, 2)\n",
    "# sns.histplot(x = \"sqrt_reviews_month\", data = hr_df, hue = \"region\", palette=\"viridis\")\n",
    "# plt.title(\"Hotel Room\")\n",
    "\n",
    "# plt.subplot(2, 2, 3)\n",
    "# sns.histplot(x = \"sqrt_reviews_month\", data = pr_df, hue = \"region\", palette=\"viridis\")\n",
    "# plt.title(\"Private Room\")\n",
    "\n",
    "# plt.subplot(2, 2, 4)\n",
    "# sns.histplot(x = \"sqrt_reviews_month\", data = sr_df, hue = \"region\", palette=\"viridis\")\n",
    "# plt.title(\"Shared Room\")"
   ]
  },
  {
   "cell_type": "code",
   "execution_count": 649,
   "metadata": {},
   "outputs": [],
   "source": [
    "from scipy import stats"
   ]
  },
  {
   "cell_type": "code",
   "execution_count": 650,
   "metadata": {},
   "outputs": [
    {
     "name": "stderr",
     "output_type": "stream",
     "text": [
      "C:\\Users\\amfed\\AppData\\Local\\Temp\\ipykernel_19172\\4072897318.py:2: SettingWithCopyWarning: \n",
      "A value is trying to be set on a copy of a slice from a DataFrame.\n",
      "Try using .loc[row_indexer,col_indexer] = value instead\n",
      "\n",
      "See the caveats in the documentation: https://pandas.pydata.org/pandas-docs/stable/user_guide/indexing.html#returning-a-view-versus-a-copy\n",
      "  eha_df.loc[:, \"boxcox_reviews_count\"], _ = stats.boxcox(eha_df[\"number_of_reviews\"] + 1)\n",
      "C:\\Users\\amfed\\AppData\\Local\\Temp\\ipykernel_19172\\4072897318.py:3: SettingWithCopyWarning: \n",
      "A value is trying to be set on a copy of a slice from a DataFrame.\n",
      "Try using .loc[row_indexer,col_indexer] = value instead\n",
      "\n",
      "See the caveats in the documentation: https://pandas.pydata.org/pandas-docs/stable/user_guide/indexing.html#returning-a-view-versus-a-copy\n",
      "  hr_df.loc[:, \"boxcox_reviews_count\"], _ = stats.boxcox(hr_df[\"number_of_reviews\"] + 1)\n",
      "C:\\Users\\amfed\\AppData\\Local\\Temp\\ipykernel_19172\\4072897318.py:4: SettingWithCopyWarning: \n",
      "A value is trying to be set on a copy of a slice from a DataFrame.\n",
      "Try using .loc[row_indexer,col_indexer] = value instead\n",
      "\n",
      "See the caveats in the documentation: https://pandas.pydata.org/pandas-docs/stable/user_guide/indexing.html#returning-a-view-versus-a-copy\n",
      "  pr_df.loc[:, \"boxcox_reviews_count\"], _ = stats.boxcox(pr_df[\"number_of_reviews\"] + 1)\n",
      "C:\\Users\\amfed\\AppData\\Local\\Temp\\ipykernel_19172\\4072897318.py:5: SettingWithCopyWarning: \n",
      "A value is trying to be set on a copy of a slice from a DataFrame.\n",
      "Try using .loc[row_indexer,col_indexer] = value instead\n",
      "\n",
      "See the caveats in the documentation: https://pandas.pydata.org/pandas-docs/stable/user_guide/indexing.html#returning-a-view-versus-a-copy\n",
      "  sr_df.loc[:, \"boxcox_reviews_count\"], _ = stats.boxcox(sr_df[\"number_of_reviews\"] + 1)\n"
     ]
    }
   ],
   "source": [
    "# reviews count are too still skewed to the right - box-cox\n",
    "eha_df.loc[:, \"boxcox_reviews_count\"], _ = stats.boxcox(eha_df[\"number_of_reviews\"] + 1)\n",
    "hr_df.loc[:, \"boxcox_reviews_count\"], _ = stats.boxcox(hr_df[\"number_of_reviews\"] + 1)\n",
    "pr_df.loc[:, \"boxcox_reviews_count\"], _ = stats.boxcox(pr_df[\"number_of_reviews\"] + 1)\n",
    "sr_df.loc[:, \"boxcox_reviews_count\"], _ = stats.boxcox(sr_df[\"number_of_reviews\"] + 1)"
   ]
  },
  {
   "cell_type": "code",
   "execution_count": 651,
   "metadata": {},
   "outputs": [],
   "source": [
    "# # histplot of after boxcox\n",
    "# plt.figure(figsize=(20, 10))\n",
    "# plt.title(\"Box-Cox Number of Reviews for Each Room Type by Region\\n\")\n",
    "# plt.box(on= None)\n",
    "# plt.axis(\"off\")\n",
    "\n",
    "# plt.subplot(2, 2, 1)\n",
    "# sns.histplot(x = \"boxcox_reviews_count\", data = eha_df, hue = \"region\", palette=\"viridis\")\n",
    "# plt.title(\"Entire Home/Apt\")\n",
    "\n",
    "# plt.subplot(2, 2, 2)\n",
    "# sns.histplot(x = \"boxcox_reviews_count\", data = hr_df, hue = \"region\", palette=\"viridis\")\n",
    "# plt.title(\"Hotel Room\")\n",
    "\n",
    "# plt.subplot(2, 2, 3)\n",
    "# sns.histplot(x = \"boxcox_reviews_count\", data = pr_df, hue = \"region\", palette=\"viridis\")\n",
    "# plt.title(\"Private Room\")\n",
    "\n",
    "# plt.subplot(2, 2, 4)\n",
    "# sns.histplot(x = \"boxcox_reviews_count\", data = sr_df, hue = \"region\", palette=\"viridis\")\n",
    "# plt.title(\"Shared Room\")"
   ]
  },
  {
   "cell_type": "code",
   "execution_count": 652,
   "metadata": {},
   "outputs": [
    {
     "name": "stderr",
     "output_type": "stream",
     "text": [
      "C:\\Users\\amfed\\AppData\\Local\\Temp\\ipykernel_19172\\3827868114.py:2: SettingWithCopyWarning: \n",
      "A value is trying to be set on a copy of a slice from a DataFrame.\n",
      "Try using .loc[row_indexer,col_indexer] = value instead\n",
      "\n",
      "See the caveats in the documentation: https://pandas.pydata.org/pandas-docs/stable/user_guide/indexing.html#returning-a-view-versus-a-copy\n",
      "  eha_df.loc[:, \"boxcox_reviews_month\"], _ = stats.boxcox(eha_df[\"reviews_per_month\"] + 1)\n",
      "C:\\Users\\amfed\\AppData\\Local\\Temp\\ipykernel_19172\\3827868114.py:3: SettingWithCopyWarning: \n",
      "A value is trying to be set on a copy of a slice from a DataFrame.\n",
      "Try using .loc[row_indexer,col_indexer] = value instead\n",
      "\n",
      "See the caveats in the documentation: https://pandas.pydata.org/pandas-docs/stable/user_guide/indexing.html#returning-a-view-versus-a-copy\n",
      "  hr_df.loc[:, \"boxcox_reviews_month\"], _ = stats.boxcox(hr_df[\"reviews_per_month\"] + 1)\n",
      "C:\\Users\\amfed\\AppData\\Local\\Temp\\ipykernel_19172\\3827868114.py:4: SettingWithCopyWarning: \n",
      "A value is trying to be set on a copy of a slice from a DataFrame.\n",
      "Try using .loc[row_indexer,col_indexer] = value instead\n",
      "\n",
      "See the caveats in the documentation: https://pandas.pydata.org/pandas-docs/stable/user_guide/indexing.html#returning-a-view-versus-a-copy\n",
      "  pr_df.loc[:, \"boxcox_reviews_month\"], _ = stats.boxcox(pr_df[\"reviews_per_month\"] + 1)\n",
      "C:\\Users\\amfed\\AppData\\Local\\Temp\\ipykernel_19172\\3827868114.py:5: SettingWithCopyWarning: \n",
      "A value is trying to be set on a copy of a slice from a DataFrame.\n",
      "Try using .loc[row_indexer,col_indexer] = value instead\n",
      "\n",
      "See the caveats in the documentation: https://pandas.pydata.org/pandas-docs/stable/user_guide/indexing.html#returning-a-view-versus-a-copy\n",
      "  sr_df.loc[:, \"boxcox_reviews_month\"], _ = stats.boxcox(sr_df[\"reviews_per_month\"] + 1)\n"
     ]
    }
   ],
   "source": [
    "# reviews per month are too still skewed to the right - box-cox\n",
    "eha_df.loc[:, \"boxcox_reviews_month\"], _ = stats.boxcox(eha_df[\"reviews_per_month\"] + 1)\n",
    "hr_df.loc[:, \"boxcox_reviews_month\"], _ = stats.boxcox(hr_df[\"reviews_per_month\"] + 1)\n",
    "pr_df.loc[:, \"boxcox_reviews_month\"], _ = stats.boxcox(pr_df[\"reviews_per_month\"] + 1)\n",
    "sr_df.loc[:, \"boxcox_reviews_month\"], _ = stats.boxcox(sr_df[\"reviews_per_month\"] + 1)"
   ]
  },
  {
   "cell_type": "code",
   "execution_count": 653,
   "metadata": {},
   "outputs": [],
   "source": [
    "# # histplot of after boxcox\n",
    "# plt.figure(figsize=(20, 10))\n",
    "# plt.title(\"Box-Cox Reviews per Month for Each Room Type by Region\\n\")\n",
    "# plt.box(on= None)\n",
    "# plt.axis(\"off\")\n",
    "\n",
    "# plt.subplot(2, 2, 1)\n",
    "# sns.histplot(x = \"boxcox_reviews_month\", data = eha_df, hue = \"region\", palette=\"viridis\")\n",
    "# plt.title(\"Entire Home/Apt\")\n",
    "\n",
    "# plt.subplot(2, 2, 2)\n",
    "# sns.histplot(x = \"boxcox_reviews_month\", data = hr_df, hue = \"region\", palette=\"viridis\")\n",
    "# plt.title(\"Hotel Room\")\n",
    "\n",
    "# plt.subplot(2, 2, 3)\n",
    "# sns.histplot(x = \"boxcox_reviews_month\", data = pr_df, hue = \"region\", palette=\"viridis\")\n",
    "# plt.title(\"Private Room\")\n",
    "\n",
    "# plt.subplot(2, 2, 4)\n",
    "# sns.histplot(x = \"boxcox_reviews_month\", data = sr_df, hue = \"region\", palette=\"viridis\")\n",
    "# plt.title(\"Shared Room\")"
   ]
  },
  {
   "cell_type": "code",
   "execution_count": 654,
   "metadata": {},
   "outputs": [
    {
     "data": {
      "text/html": [
       "<div>\n",
       "<style scoped>\n",
       "    .dataframe tbody tr th:only-of-type {\n",
       "        vertical-align: middle;\n",
       "    }\n",
       "\n",
       "    .dataframe tbody tr th {\n",
       "        vertical-align: top;\n",
       "    }\n",
       "\n",
       "    .dataframe thead th {\n",
       "        text-align: right;\n",
       "    }\n",
       "</style>\n",
       "<table border=\"1\" class=\"dataframe\">\n",
       "  <thead>\n",
       "    <tr style=\"text-align: right;\">\n",
       "      <th></th>\n",
       "      <th>id</th>\n",
       "      <th>name</th>\n",
       "      <th>host_id</th>\n",
       "      <th>host_name</th>\n",
       "      <th>neighbourhood</th>\n",
       "      <th>latitude</th>\n",
       "      <th>longitude</th>\n",
       "      <th>room_type</th>\n",
       "      <th>price</th>\n",
       "      <th>minimum_nights</th>\n",
       "      <th>number_of_reviews</th>\n",
       "      <th>last_review</th>\n",
       "      <th>reviews_per_month</th>\n",
       "      <th>calculated_host_listings_count</th>\n",
       "      <th>availability_365</th>\n",
       "      <th>number_of_reviews_ltm</th>\n",
       "      <th>region</th>\n",
       "      <th>boxcox_reviews_count</th>\n",
       "      <th>boxcox_reviews_month</th>\n",
       "    </tr>\n",
       "  </thead>\n",
       "  <tbody>\n",
       "    <tr>\n",
       "      <th>0</th>\n",
       "      <td>27934</td>\n",
       "      <td>Nice room with superb city view</td>\n",
       "      <td>120437</td>\n",
       "      <td>Nuttee</td>\n",
       "      <td>Ratchathewi</td>\n",
       "      <td>13.75983</td>\n",
       "      <td>100.54134</td>\n",
       "      <td>Entire home/apt</td>\n",
       "      <td>1905</td>\n",
       "      <td>3</td>\n",
       "      <td>65</td>\n",
       "      <td>2020-01-06</td>\n",
       "      <td>0.50</td>\n",
       "      <td>2</td>\n",
       "      <td>353</td>\n",
       "      <td>0</td>\n",
       "      <td>Central</td>\n",
       "      <td>2.928458</td>\n",
       "      <td>0.301359</td>\n",
       "    </tr>\n",
       "    <tr>\n",
       "      <th>1</th>\n",
       "      <td>959254</td>\n",
       "      <td>Deluxe Condo, Nana, Pool/GYM/Sauna</td>\n",
       "      <td>5153476</td>\n",
       "      <td>Natcha</td>\n",
       "      <td>Khlong Toei</td>\n",
       "      <td>13.71516</td>\n",
       "      <td>100.56806</td>\n",
       "      <td>Entire home/apt</td>\n",
       "      <td>1400</td>\n",
       "      <td>30</td>\n",
       "      <td>0</td>\n",
       "      <td>No Review</td>\n",
       "      <td>0.00</td>\n",
       "      <td>1</td>\n",
       "      <td>365</td>\n",
       "      <td>0</td>\n",
       "      <td>Central</td>\n",
       "      <td>0.000000</td>\n",
       "      <td>0.000000</td>\n",
       "    </tr>\n",
       "    <tr>\n",
       "      <th>2</th>\n",
       "      <td>1791481</td>\n",
       "      <td>Nice and Quiet condo near BTS Onnut</td>\n",
       "      <td>9399478</td>\n",
       "      <td>Piyakorn</td>\n",
       "      <td>Khlong Toei</td>\n",
       "      <td>13.70719</td>\n",
       "      <td>100.59936</td>\n",
       "      <td>Entire home/apt</td>\n",
       "      <td>1577</td>\n",
       "      <td>30</td>\n",
       "      <td>78</td>\n",
       "      <td>2019-05-31</td>\n",
       "      <td>0.78</td>\n",
       "      <td>1</td>\n",
       "      <td>330</td>\n",
       "      <td>0</td>\n",
       "      <td>Central</td>\n",
       "      <td>3.010781</td>\n",
       "      <td>0.381783</td>\n",
       "    </tr>\n",
       "    <tr>\n",
       "      <th>3</th>\n",
       "      <td>1793000</td>\n",
       "      <td>The Duplex - Asoke- Luxury 92sqm</td>\n",
       "      <td>9407280</td>\n",
       "      <td>Timo</td>\n",
       "      <td>Vadhana</td>\n",
       "      <td>13.74668</td>\n",
       "      <td>100.56137</td>\n",
       "      <td>Entire home/apt</td>\n",
       "      <td>5034</td>\n",
       "      <td>21</td>\n",
       "      <td>287</td>\n",
       "      <td>2022-11-22</td>\n",
       "      <td>2.59</td>\n",
       "      <td>1</td>\n",
       "      <td>349</td>\n",
       "      <td>3</td>\n",
       "      <td>Central</td>\n",
       "      <td>3.529709</td>\n",
       "      <td>0.557674</td>\n",
       "    </tr>\n",
       "    <tr>\n",
       "      <th>4</th>\n",
       "      <td>1808600</td>\n",
       "      <td>Contemporary Modern Duplex-Thong Lo</td>\n",
       "      <td>9478184</td>\n",
       "      <td>Shine</td>\n",
       "      <td>Khlong Toei</td>\n",
       "      <td>13.72097</td>\n",
       "      <td>100.57823</td>\n",
       "      <td>Entire home/apt</td>\n",
       "      <td>2078</td>\n",
       "      <td>60</td>\n",
       "      <td>83</td>\n",
       "      <td>2018-09-12</td>\n",
       "      <td>0.75</td>\n",
       "      <td>1</td>\n",
       "      <td>55</td>\n",
       "      <td>0</td>\n",
       "      <td>Central</td>\n",
       "      <td>3.038267</td>\n",
       "      <td>0.374712</td>\n",
       "    </tr>\n",
       "  </tbody>\n",
       "</table>\n",
       "</div>"
      ],
      "text/plain": [
       "        id                                 name  host_id host_name  \\\n",
       "0    27934      Nice room with superb city view   120437    Nuttee   \n",
       "1   959254   Deluxe Condo, Nana, Pool/GYM/Sauna  5153476    Natcha   \n",
       "2  1791481  Nice and Quiet condo near BTS Onnut  9399478  Piyakorn   \n",
       "3  1793000     The Duplex - Asoke- Luxury 92sqm  9407280      Timo   \n",
       "4  1808600  Contemporary Modern Duplex-Thong Lo  9478184     Shine   \n",
       "\n",
       "  neighbourhood  latitude  longitude        room_type  price  minimum_nights  \\\n",
       "0   Ratchathewi  13.75983  100.54134  Entire home/apt   1905               3   \n",
       "1   Khlong Toei  13.71516  100.56806  Entire home/apt   1400              30   \n",
       "2   Khlong Toei  13.70719  100.59936  Entire home/apt   1577              30   \n",
       "3       Vadhana  13.74668  100.56137  Entire home/apt   5034              21   \n",
       "4   Khlong Toei  13.72097  100.57823  Entire home/apt   2078              60   \n",
       "\n",
       "   number_of_reviews last_review  reviews_per_month  \\\n",
       "0                 65  2020-01-06               0.50   \n",
       "1                  0   No Review               0.00   \n",
       "2                 78  2019-05-31               0.78   \n",
       "3                287  2022-11-22               2.59   \n",
       "4                 83  2018-09-12               0.75   \n",
       "\n",
       "   calculated_host_listings_count  availability_365  number_of_reviews_ltm  \\\n",
       "0                               2               353                      0   \n",
       "1                               1               365                      0   \n",
       "2                               1               330                      0   \n",
       "3                               1               349                      3   \n",
       "4                               1                55                      0   \n",
       "\n",
       "    region  boxcox_reviews_count  boxcox_reviews_month  \n",
       "0  Central              2.928458              0.301359  \n",
       "1  Central              0.000000              0.000000  \n",
       "2  Central              3.010781              0.381783  \n",
       "3  Central              3.529709              0.557674  \n",
       "4  Central              3.038267              0.374712  "
      ]
     },
     "execution_count": 654,
     "metadata": {},
     "output_type": "execute_result"
    }
   ],
   "source": [
    "eha_df.head()"
   ]
  },
  {
   "cell_type": "code",
   "execution_count": 655,
   "metadata": {},
   "outputs": [],
   "source": [
    "def ordinal_reviews_count(df):\n",
    "    q1 = df[\"boxcox_reviews_count\"].quantile(0.33)\n",
    "    q2 = df[\"boxcox_reviews_count\"].quantile(0.66)\n",
    "\n",
    "    bins = [df[\"boxcox_reviews_count\"].min(), q1 + 0.01, q2, df[\"boxcox_reviews_count\"].max()]\n",
    "    labels = [\"Low\", \"Moderate\", \"High\"]\n",
    "\n",
    "    df = df.copy()  # Ensure we're working with a copy to avoid SettingWithCopyWarning\n",
    "    df.loc[:, \"reviews_activity\"] = pd.cut(df[\"boxcox_reviews_count\"], bins=bins, labels=labels, include_lowest=True)\n",
    "\n",
    "    return df  # Return the modified DataFrame\n"
   ]
  },
  {
   "cell_type": "code",
   "execution_count": 656,
   "metadata": {},
   "outputs": [],
   "source": [
    "eha_df = ordinal_reviews_count(eha_df)\n",
    "hr_df = ordinal_reviews_count(hr_df)\n",
    "pr_df = ordinal_reviews_count(pr_df)\n",
    "sr_df = ordinal_reviews_count(sr_df)"
   ]
  },
  {
   "cell_type": "code",
   "execution_count": 657,
   "metadata": {},
   "outputs": [],
   "source": [
    "def ordinal_reviews_month(df):\n",
    "    q1 = df[\"boxcox_reviews_month\"].quantile(0.33)\n",
    "    q2 = df[\"boxcox_reviews_month\"].quantile(0.66)\n",
    "\n",
    "    bins = [df[\"boxcox_reviews_month\"].min(), q1 + 0.01, q2, df[\"boxcox_reviews_month\"].max()]\n",
    "    labels = [\"Low\", \"Moderate\", \"High\"]\n",
    "\n",
    "    df = df.copy()  # Ensure we're working with a copy to avoid SettingWithCopyWarning\n",
    "    df.loc[:, \"reviews_engagement\"] = pd.cut(df[\"boxcox_reviews_month\"], bins=bins, labels=labels, include_lowest=True)\n",
    "\n",
    "    return df  # Return the modified DataFrame"
   ]
  },
  {
   "cell_type": "code",
   "execution_count": 658,
   "metadata": {},
   "outputs": [],
   "source": [
    "eha_df = ordinal_reviews_month(eha_df)\n",
    "hr_df = ordinal_reviews_month(hr_df)\n",
    "pr_df = ordinal_reviews_month(pr_df)\n",
    "sr_df = ordinal_reviews_month(sr_df)"
   ]
  },
  {
   "cell_type": "code",
   "execution_count": 659,
   "metadata": {},
   "outputs": [
    {
     "data": {
      "text/html": [
       "<div>\n",
       "<style scoped>\n",
       "    .dataframe tbody tr th:only-of-type {\n",
       "        vertical-align: middle;\n",
       "    }\n",
       "\n",
       "    .dataframe tbody tr th {\n",
       "        vertical-align: top;\n",
       "    }\n",
       "\n",
       "    .dataframe thead th {\n",
       "        text-align: right;\n",
       "    }\n",
       "</style>\n",
       "<table border=\"1\" class=\"dataframe\">\n",
       "  <thead>\n",
       "    <tr style=\"text-align: right;\">\n",
       "      <th></th>\n",
       "      <th>id</th>\n",
       "      <th>name</th>\n",
       "      <th>host_id</th>\n",
       "      <th>host_name</th>\n",
       "      <th>neighbourhood</th>\n",
       "      <th>latitude</th>\n",
       "      <th>longitude</th>\n",
       "      <th>room_type</th>\n",
       "      <th>price</th>\n",
       "      <th>minimum_nights</th>\n",
       "      <th>...</th>\n",
       "      <th>last_review</th>\n",
       "      <th>reviews_per_month</th>\n",
       "      <th>calculated_host_listings_count</th>\n",
       "      <th>availability_365</th>\n",
       "      <th>number_of_reviews_ltm</th>\n",
       "      <th>region</th>\n",
       "      <th>boxcox_reviews_count</th>\n",
       "      <th>boxcox_reviews_month</th>\n",
       "      <th>reviews_activity</th>\n",
       "      <th>reviews_engagement</th>\n",
       "    </tr>\n",
       "  </thead>\n",
       "  <tbody>\n",
       "    <tr>\n",
       "      <th>0</th>\n",
       "      <td>27934</td>\n",
       "      <td>Nice room with superb city view</td>\n",
       "      <td>120437</td>\n",
       "      <td>Nuttee</td>\n",
       "      <td>Ratchathewi</td>\n",
       "      <td>13.75983</td>\n",
       "      <td>100.54134</td>\n",
       "      <td>Entire home/apt</td>\n",
       "      <td>1905</td>\n",
       "      <td>3</td>\n",
       "      <td>...</td>\n",
       "      <td>2020-01-06</td>\n",
       "      <td>0.50</td>\n",
       "      <td>2</td>\n",
       "      <td>353</td>\n",
       "      <td>0</td>\n",
       "      <td>Central</td>\n",
       "      <td>2.928458</td>\n",
       "      <td>0.301359</td>\n",
       "      <td>High</td>\n",
       "      <td>Moderate</td>\n",
       "    </tr>\n",
       "    <tr>\n",
       "      <th>1</th>\n",
       "      <td>959254</td>\n",
       "      <td>Deluxe Condo, Nana, Pool/GYM/Sauna</td>\n",
       "      <td>5153476</td>\n",
       "      <td>Natcha</td>\n",
       "      <td>Khlong Toei</td>\n",
       "      <td>13.71516</td>\n",
       "      <td>100.56806</td>\n",
       "      <td>Entire home/apt</td>\n",
       "      <td>1400</td>\n",
       "      <td>30</td>\n",
       "      <td>...</td>\n",
       "      <td>No Review</td>\n",
       "      <td>0.00</td>\n",
       "      <td>1</td>\n",
       "      <td>365</td>\n",
       "      <td>0</td>\n",
       "      <td>Central</td>\n",
       "      <td>0.000000</td>\n",
       "      <td>0.000000</td>\n",
       "      <td>Low</td>\n",
       "      <td>Low</td>\n",
       "    </tr>\n",
       "    <tr>\n",
       "      <th>2</th>\n",
       "      <td>1791481</td>\n",
       "      <td>Nice and Quiet condo near BTS Onnut</td>\n",
       "      <td>9399478</td>\n",
       "      <td>Piyakorn</td>\n",
       "      <td>Khlong Toei</td>\n",
       "      <td>13.70719</td>\n",
       "      <td>100.59936</td>\n",
       "      <td>Entire home/apt</td>\n",
       "      <td>1577</td>\n",
       "      <td>30</td>\n",
       "      <td>...</td>\n",
       "      <td>2019-05-31</td>\n",
       "      <td>0.78</td>\n",
       "      <td>1</td>\n",
       "      <td>330</td>\n",
       "      <td>0</td>\n",
       "      <td>Central</td>\n",
       "      <td>3.010781</td>\n",
       "      <td>0.381783</td>\n",
       "      <td>High</td>\n",
       "      <td>High</td>\n",
       "    </tr>\n",
       "    <tr>\n",
       "      <th>3</th>\n",
       "      <td>1793000</td>\n",
       "      <td>The Duplex - Asoke- Luxury 92sqm</td>\n",
       "      <td>9407280</td>\n",
       "      <td>Timo</td>\n",
       "      <td>Vadhana</td>\n",
       "      <td>13.74668</td>\n",
       "      <td>100.56137</td>\n",
       "      <td>Entire home/apt</td>\n",
       "      <td>5034</td>\n",
       "      <td>21</td>\n",
       "      <td>...</td>\n",
       "      <td>2022-11-22</td>\n",
       "      <td>2.59</td>\n",
       "      <td>1</td>\n",
       "      <td>349</td>\n",
       "      <td>3</td>\n",
       "      <td>Central</td>\n",
       "      <td>3.529709</td>\n",
       "      <td>0.557674</td>\n",
       "      <td>High</td>\n",
       "      <td>High</td>\n",
       "    </tr>\n",
       "    <tr>\n",
       "      <th>4</th>\n",
       "      <td>1808600</td>\n",
       "      <td>Contemporary Modern Duplex-Thong Lo</td>\n",
       "      <td>9478184</td>\n",
       "      <td>Shine</td>\n",
       "      <td>Khlong Toei</td>\n",
       "      <td>13.72097</td>\n",
       "      <td>100.57823</td>\n",
       "      <td>Entire home/apt</td>\n",
       "      <td>2078</td>\n",
       "      <td>60</td>\n",
       "      <td>...</td>\n",
       "      <td>2018-09-12</td>\n",
       "      <td>0.75</td>\n",
       "      <td>1</td>\n",
       "      <td>55</td>\n",
       "      <td>0</td>\n",
       "      <td>Central</td>\n",
       "      <td>3.038267</td>\n",
       "      <td>0.374712</td>\n",
       "      <td>High</td>\n",
       "      <td>High</td>\n",
       "    </tr>\n",
       "  </tbody>\n",
       "</table>\n",
       "<p>5 rows × 21 columns</p>\n",
       "</div>"
      ],
      "text/plain": [
       "        id                                 name  host_id host_name  \\\n",
       "0    27934      Nice room with superb city view   120437    Nuttee   \n",
       "1   959254   Deluxe Condo, Nana, Pool/GYM/Sauna  5153476    Natcha   \n",
       "2  1791481  Nice and Quiet condo near BTS Onnut  9399478  Piyakorn   \n",
       "3  1793000     The Duplex - Asoke- Luxury 92sqm  9407280      Timo   \n",
       "4  1808600  Contemporary Modern Duplex-Thong Lo  9478184     Shine   \n",
       "\n",
       "  neighbourhood  latitude  longitude        room_type  price  minimum_nights  \\\n",
       "0   Ratchathewi  13.75983  100.54134  Entire home/apt   1905               3   \n",
       "1   Khlong Toei  13.71516  100.56806  Entire home/apt   1400              30   \n",
       "2   Khlong Toei  13.70719  100.59936  Entire home/apt   1577              30   \n",
       "3       Vadhana  13.74668  100.56137  Entire home/apt   5034              21   \n",
       "4   Khlong Toei  13.72097  100.57823  Entire home/apt   2078              60   \n",
       "\n",
       "   ...  last_review reviews_per_month  calculated_host_listings_count  \\\n",
       "0  ...   2020-01-06              0.50                               2   \n",
       "1  ...    No Review              0.00                               1   \n",
       "2  ...   2019-05-31              0.78                               1   \n",
       "3  ...   2022-11-22              2.59                               1   \n",
       "4  ...   2018-09-12              0.75                               1   \n",
       "\n",
       "   availability_365  number_of_reviews_ltm   region boxcox_reviews_count  \\\n",
       "0               353                      0  Central             2.928458   \n",
       "1               365                      0  Central             0.000000   \n",
       "2               330                      0  Central             3.010781   \n",
       "3               349                      3  Central             3.529709   \n",
       "4                55                      0  Central             3.038267   \n",
       "\n",
       "   boxcox_reviews_month  reviews_activity reviews_engagement  \n",
       "0              0.301359              High           Moderate  \n",
       "1              0.000000               Low                Low  \n",
       "2              0.381783              High               High  \n",
       "3              0.557674              High               High  \n",
       "4              0.374712              High               High  \n",
       "\n",
       "[5 rows x 21 columns]"
      ]
     },
     "execution_count": 659,
     "metadata": {},
     "output_type": "execute_result"
    }
   ],
   "source": [
    "eha_df.head()"
   ]
  },
  {
   "cell_type": "code",
   "execution_count": 660,
   "metadata": {},
   "outputs": [],
   "source": [
    "df = pd.concat([eha_df, hr_df, pr_df, sr_df])"
   ]
  },
  {
   "cell_type": "code",
   "execution_count": 661,
   "metadata": {},
   "outputs": [
    {
     "data": {
      "text/plain": [
       "id                                0\n",
       "name                              0\n",
       "host_id                           0\n",
       "host_name                         0\n",
       "neighbourhood                     0\n",
       "latitude                          0\n",
       "longitude                         0\n",
       "room_type                         0\n",
       "price                             0\n",
       "minimum_nights                    0\n",
       "number_of_reviews                 0\n",
       "last_review                       0\n",
       "reviews_per_month                 0\n",
       "calculated_host_listings_count    0\n",
       "availability_365                  0\n",
       "number_of_reviews_ltm             0\n",
       "region                            0\n",
       "boxcox_reviews_count              0\n",
       "boxcox_reviews_month              0\n",
       "reviews_activity                  0\n",
       "reviews_engagement                0\n",
       "dtype: int64"
      ]
     },
     "execution_count": 661,
     "metadata": {},
     "output_type": "execute_result"
    }
   ],
   "source": [
    "df.isna().sum()"
   ]
  },
  {
   "cell_type": "code",
   "execution_count": 662,
   "metadata": {},
   "outputs": [],
   "source": [
    "df2 = df.drop(columns=[\"name\", \"host_name\", \"latitude\", \"longitude\", \"number_of_reviews\", \"last_review\", \"reviews_per_month\", \"calculated_host_listings_count\", \"number_of_reviews_ltm\"])"
   ]
  },
  {
   "cell_type": "code",
   "execution_count": 663,
   "metadata": {},
   "outputs": [],
   "source": [
    "df2 = df2.rename(columns={\"boxcox_reviews_count\": \"reviews_count_bc\", \"boxcox_reviews_month\": \"reviews_month_bc\"})"
   ]
  },
  {
   "cell_type": "code",
   "execution_count": 664,
   "metadata": {},
   "outputs": [],
   "source": [
    "df2 = df2[[\"id\", \"host_id\", \"neighbourhood\", \"region\", \"room_type\", \"price\", \"reviews_activity\", \"reviews_engagement\", \"availability_365\"]]"
   ]
  },
  {
   "cell_type": "code",
   "execution_count": 665,
   "metadata": {},
   "outputs": [
    {
     "data": {
      "text/html": [
       "<div>\n",
       "<style scoped>\n",
       "    .dataframe tbody tr th:only-of-type {\n",
       "        vertical-align: middle;\n",
       "    }\n",
       "\n",
       "    .dataframe tbody tr th {\n",
       "        vertical-align: top;\n",
       "    }\n",
       "\n",
       "    .dataframe thead th {\n",
       "        text-align: right;\n",
       "    }\n",
       "</style>\n",
       "<table border=\"1\" class=\"dataframe\">\n",
       "  <thead>\n",
       "    <tr style=\"text-align: right;\">\n",
       "      <th></th>\n",
       "      <th>id</th>\n",
       "      <th>host_id</th>\n",
       "      <th>neighbourhood</th>\n",
       "      <th>region</th>\n",
       "      <th>room_type</th>\n",
       "      <th>price</th>\n",
       "      <th>reviews_activity</th>\n",
       "      <th>reviews_engagement</th>\n",
       "      <th>availability_365</th>\n",
       "    </tr>\n",
       "  </thead>\n",
       "  <tbody>\n",
       "    <tr>\n",
       "      <th>0</th>\n",
       "      <td>27934</td>\n",
       "      <td>120437</td>\n",
       "      <td>Ratchathewi</td>\n",
       "      <td>Central</td>\n",
       "      <td>Entire home/apt</td>\n",
       "      <td>1905</td>\n",
       "      <td>High</td>\n",
       "      <td>Moderate</td>\n",
       "      <td>353</td>\n",
       "    </tr>\n",
       "    <tr>\n",
       "      <th>1</th>\n",
       "      <td>959254</td>\n",
       "      <td>5153476</td>\n",
       "      <td>Khlong Toei</td>\n",
       "      <td>Central</td>\n",
       "      <td>Entire home/apt</td>\n",
       "      <td>1400</td>\n",
       "      <td>Low</td>\n",
       "      <td>Low</td>\n",
       "      <td>365</td>\n",
       "    </tr>\n",
       "    <tr>\n",
       "      <th>2</th>\n",
       "      <td>1791481</td>\n",
       "      <td>9399478</td>\n",
       "      <td>Khlong Toei</td>\n",
       "      <td>Central</td>\n",
       "      <td>Entire home/apt</td>\n",
       "      <td>1577</td>\n",
       "      <td>High</td>\n",
       "      <td>High</td>\n",
       "      <td>330</td>\n",
       "    </tr>\n",
       "    <tr>\n",
       "      <th>3</th>\n",
       "      <td>1793000</td>\n",
       "      <td>9407280</td>\n",
       "      <td>Vadhana</td>\n",
       "      <td>Central</td>\n",
       "      <td>Entire home/apt</td>\n",
       "      <td>5034</td>\n",
       "      <td>High</td>\n",
       "      <td>High</td>\n",
       "      <td>349</td>\n",
       "    </tr>\n",
       "    <tr>\n",
       "      <th>4</th>\n",
       "      <td>1808600</td>\n",
       "      <td>9478184</td>\n",
       "      <td>Khlong Toei</td>\n",
       "      <td>Central</td>\n",
       "      <td>Entire home/apt</td>\n",
       "      <td>2078</td>\n",
       "      <td>High</td>\n",
       "      <td>High</td>\n",
       "      <td>55</td>\n",
       "    </tr>\n",
       "  </tbody>\n",
       "</table>\n",
       "</div>"
      ],
      "text/plain": [
       "        id  host_id neighbourhood   region        room_type  price  \\\n",
       "0    27934   120437   Ratchathewi  Central  Entire home/apt   1905   \n",
       "1   959254  5153476   Khlong Toei  Central  Entire home/apt   1400   \n",
       "2  1791481  9399478   Khlong Toei  Central  Entire home/apt   1577   \n",
       "3  1793000  9407280       Vadhana  Central  Entire home/apt   5034   \n",
       "4  1808600  9478184   Khlong Toei  Central  Entire home/apt   2078   \n",
       "\n",
       "  reviews_activity reviews_engagement  availability_365  \n",
       "0             High           Moderate               353  \n",
       "1              Low                Low               365  \n",
       "2             High               High               330  \n",
       "3             High               High               349  \n",
       "4             High               High                55  "
      ]
     },
     "execution_count": 665,
     "metadata": {},
     "output_type": "execute_result"
    }
   ],
   "source": [
    "df2.head()"
   ]
  },
  {
   "cell_type": "code",
   "execution_count": 666,
   "metadata": {},
   "outputs": [],
   "source": [
    "df2.loc[:, \"booking_activity\"] = 365 - df2[\"availability_365\"]"
   ]
  },
  {
   "cell_type": "code",
   "execution_count": 667,
   "metadata": {},
   "outputs": [],
   "source": [
    "eha_df2 = df2[df2[\"room_type\"] == \"Entire home/apt\"]\n",
    "hr_df2 = df2[df2[\"room_type\"] == \"Hotel room\"]\n",
    "pr_df2 = df2[df2[\"room_type\"] == \"Private room\"]\n",
    "sr_df2 = df2[df2[\"room_type\"] == \"Shared room\"]"
   ]
  },
  {
   "cell_type": "code",
   "execution_count": 668,
   "metadata": {},
   "outputs": [
    {
     "data": {
      "text/plain": [
       "Text(0.5, 1.0, 'Shared Room')"
      ]
     },
     "execution_count": 668,
     "metadata": {},
     "output_type": "execute_result"
    },
    {
     "data": {
      "image/png": "[encoded data removed]",
      "text/plain": [
       "<Figure size 2000x1000 with 5 Axes>"
      ]
     },
     "metadata": {},
     "output_type": "display_data"
    }
   ],
   "source": [
    "# histplot booking_activity\n",
    "plt.figure(figsize=(20, 10))\n",
    "plt.title(\"Booking Activity for Each Room Type by Region\\n\")\n",
    "plt.box(on= None)\n",
    "plt.axis(\"off\")\n",
    "\n",
    "plt.subplot(2, 2, 1)\n",
    "sns.histplot(x = \"booking_activity\", data = eha_df2, hue = \"region\", palette=\"viridis\")\n",
    "plt.title(\"Entire Home/Apt\")\n",
    "\n",
    "plt.subplot(2, 2, 2)\n",
    "sns.histplot(x = \"booking_activity\", data = hr_df2, hue = \"region\", palette=\"viridis\")\n",
    "plt.title(\"Hotel Room\")\n",
    "\n",
    "plt.subplot(2, 2, 3)\n",
    "sns.histplot(x = \"booking_activity\", data = pr_df2, hue = \"region\", palette=\"viridis\")\n",
    "plt.title(\"Private Room\")\n",
    "\n",
    "plt.subplot(2, 2, 4)\n",
    "sns.histplot(x = \"booking_activity\", data = sr_df2, hue = \"region\", palette=\"viridis\")\n",
    "plt.title(\"Shared Room\")"
   ]
  },
  {
   "cell_type": "code",
   "execution_count": 669,
   "metadata": {},
   "outputs": [
    {
     "name": "stderr",
     "output_type": "stream",
     "text": [
      "C:\\Users\\amfed\\AppData\\Local\\Temp\\ipykernel_19172\\1448651630.py:2: SettingWithCopyWarning: \n",
      "A value is trying to be set on a copy of a slice from a DataFrame.\n",
      "Try using .loc[row_indexer,col_indexer] = value instead\n",
      "\n",
      "See the caveats in the documentation: https://pandas.pydata.org/pandas-docs/stable/user_guide/indexing.html#returning-a-view-versus-a-copy\n",
      "  eha_df2.loc[:, \"bc_booking\"], _ = stats.boxcox(eha_df2[\"booking_activity\"] + 1)\n",
      "C:\\Users\\amfed\\AppData\\Local\\Temp\\ipykernel_19172\\1448651630.py:3: SettingWithCopyWarning: \n",
      "A value is trying to be set on a copy of a slice from a DataFrame.\n",
      "Try using .loc[row_indexer,col_indexer] = value instead\n",
      "\n",
      "See the caveats in the documentation: https://pandas.pydata.org/pandas-docs/stable/user_guide/indexing.html#returning-a-view-versus-a-copy\n",
      "  hr_df2.loc[:, \"bc_booking\"], _ = stats.boxcox(hr_df2[\"booking_activity\"] + 1)\n",
      "C:\\Users\\amfed\\AppData\\Local\\Temp\\ipykernel_19172\\1448651630.py:4: SettingWithCopyWarning: \n",
      "A value is trying to be set on a copy of a slice from a DataFrame.\n",
      "Try using .loc[row_indexer,col_indexer] = value instead\n",
      "\n",
      "See the caveats in the documentation: https://pandas.pydata.org/pandas-docs/stable/user_guide/indexing.html#returning-a-view-versus-a-copy\n",
      "  pr_df2.loc[:, \"bc_booking\"], _ = stats.boxcox(pr_df2[\"booking_activity\"] + 1)\n",
      "C:\\Users\\amfed\\AppData\\Local\\Temp\\ipykernel_19172\\1448651630.py:5: SettingWithCopyWarning: \n",
      "A value is trying to be set on a copy of a slice from a DataFrame.\n",
      "Try using .loc[row_indexer,col_indexer] = value instead\n",
      "\n",
      "See the caveats in the documentation: https://pandas.pydata.org/pandas-docs/stable/user_guide/indexing.html#returning-a-view-versus-a-copy\n",
      "  sr_df2.loc[:, \"bc_booking\"], _ = stats.boxcox(sr_df2[\"booking_activity\"] + 1)\n"
     ]
    }
   ],
   "source": [
    "# reviews per month are too still skewed to the right - box-cox\n",
    "eha_df2.loc[:, \"bc_booking\"], _ = stats.boxcox(eha_df2[\"booking_activity\"] + 1)\n",
    "hr_df2.loc[:, \"bc_booking\"], _ = stats.boxcox(hr_df2[\"booking_activity\"] + 1)\n",
    "pr_df2.loc[:, \"bc_booking\"], _ = stats.boxcox(pr_df2[\"booking_activity\"] + 1)\n",
    "sr_df2.loc[:, \"bc_booking\"], _ = stats.boxcox(sr_df2[\"booking_activity\"] + 1)"
   ]
  },
  {
   "cell_type": "code",
   "execution_count": 670,
   "metadata": {},
   "outputs": [
    {
     "data": {
      "text/plain": [
       "Text(0.5, 1.0, 'Shared Room')"
      ]
     },
     "execution_count": 670,
     "metadata": {},
     "output_type": "execute_result"
    },
    {
     "data": {
      "image/png": "[encoded data removed]",
      "text/plain": [
       "<Figure size 2000x1000 with 5 Axes>"
      ]
     },
     "metadata": {},
     "output_type": "display_data"
    }
   ],
   "source": [
    "# histplot booking_activity\n",
    "plt.figure(figsize=(20, 10))\n",
    "plt.title(\"Boxcox Booking Activity for Each Room Type by Region\\n\")\n",
    "plt.box(on= None)\n",
    "plt.axis(\"off\")\n",
    "\n",
    "plt.subplot(2, 2, 1)\n",
    "sns.histplot(x = \"bc_booking\", data = eha_df2, hue = \"region\", palette=\"viridis\")\n",
    "plt.title(\"Entire Home/Apt\")\n",
    "\n",
    "plt.subplot(2, 2, 2)\n",
    "sns.histplot(x = \"bc_booking\", data = hr_df2, hue = \"region\", palette=\"viridis\")\n",
    "plt.title(\"Hotel Room\")\n",
    "\n",
    "plt.subplot(2, 2, 3)\n",
    "sns.histplot(x = \"bc_booking\", data = pr_df2, hue = \"region\", palette=\"viridis\")\n",
    "plt.title(\"Private Room\")\n",
    "\n",
    "plt.subplot(2, 2, 4)\n",
    "sns.histplot(x = \"bc_booking\", data = sr_df2, hue = \"region\", palette=\"viridis\")\n",
    "plt.title(\"Shared Room\")"
   ]
  },
  {
   "cell_type": "code",
   "execution_count": 671,
   "metadata": {},
   "outputs": [],
   "source": [
    "def ordinal_booking_activity(df):\n",
    "    q1 = df[\"bc_booking\"].quantile(0.33)\n",
    "    q2 = df[\"bc_booking\"].quantile(0.66)\n",
    "\n",
    "    bins = [df[\"bc_booking\"].min(), q1 + 0.01, q2, df[\"bc_booking\"].max()]\n",
    "    labels = [\"Low\", \"Moderate\", \"High\"]\n",
    "\n",
    "    df = df.copy()  # Ensure we're working with a copy to avoid SettingWithCopyWarning\n",
    "    df.loc[:, \"booking_activity_ord\"] = pd.cut(df[\"bc_booking\"], bins=bins, labels=labels, include_lowest=True)\n",
    "\n",
    "    return df  # Return the modified DataFrame"
   ]
  },
  {
   "cell_type": "code",
   "execution_count": 672,
   "metadata": {},
   "outputs": [],
   "source": [
    "eha_df2 = ordinal_booking_activity(eha_df2)\n",
    "hr_df2 = ordinal_booking_activity(hr_df2)\n",
    "pr_df2 = ordinal_booking_activity(pr_df2)\n",
    "sr_df2 = ordinal_booking_activity(sr_df2)"
   ]
  },
  {
   "cell_type": "code",
   "execution_count": 673,
   "metadata": {},
   "outputs": [],
   "source": [
    "df3 = pd.concat([eha_df2, hr_df2, pr_df2, sr_df2])"
   ]
  },
  {
   "cell_type": "code",
   "execution_count": 674,
   "metadata": {},
   "outputs": [
    {
     "data": {
      "text/html": [
       "<div>\n",
       "<style scoped>\n",
       "    .dataframe tbody tr th:only-of-type {\n",
       "        vertical-align: middle;\n",
       "    }\n",
       "\n",
       "    .dataframe tbody tr th {\n",
       "        vertical-align: top;\n",
       "    }\n",
       "\n",
       "    .dataframe thead th {\n",
       "        text-align: right;\n",
       "    }\n",
       "</style>\n",
       "<table border=\"1\" class=\"dataframe\">\n",
       "  <thead>\n",
       "    <tr style=\"text-align: right;\">\n",
       "      <th></th>\n",
       "      <th>id</th>\n",
       "      <th>host_id</th>\n",
       "      <th>neighbourhood</th>\n",
       "      <th>region</th>\n",
       "      <th>room_type</th>\n",
       "      <th>price</th>\n",
       "      <th>reviews_activity</th>\n",
       "      <th>reviews_engagement</th>\n",
       "      <th>availability_365</th>\n",
       "      <th>booking_activity</th>\n",
       "      <th>bc_booking</th>\n",
       "      <th>booking_activity_ord</th>\n",
       "    </tr>\n",
       "  </thead>\n",
       "  <tbody>\n",
       "    <tr>\n",
       "      <th>0</th>\n",
       "      <td>27934</td>\n",
       "      <td>120437</td>\n",
       "      <td>Ratchathewi</td>\n",
       "      <td>Central</td>\n",
       "      <td>Entire home/apt</td>\n",
       "      <td>1905</td>\n",
       "      <td>High</td>\n",
       "      <td>Moderate</td>\n",
       "      <td>353</td>\n",
       "      <td>12</td>\n",
       "      <td>3.850076</td>\n",
       "      <td>Low</td>\n",
       "    </tr>\n",
       "    <tr>\n",
       "      <th>1</th>\n",
       "      <td>959254</td>\n",
       "      <td>5153476</td>\n",
       "      <td>Khlong Toei</td>\n",
       "      <td>Central</td>\n",
       "      <td>Entire home/apt</td>\n",
       "      <td>1400</td>\n",
       "      <td>Low</td>\n",
       "      <td>Low</td>\n",
       "      <td>365</td>\n",
       "      <td>0</td>\n",
       "      <td>0.000000</td>\n",
       "      <td>Low</td>\n",
       "    </tr>\n",
       "    <tr>\n",
       "      <th>2</th>\n",
       "      <td>1791481</td>\n",
       "      <td>9399478</td>\n",
       "      <td>Khlong Toei</td>\n",
       "      <td>Central</td>\n",
       "      <td>Entire home/apt</td>\n",
       "      <td>1577</td>\n",
       "      <td>High</td>\n",
       "      <td>High</td>\n",
       "      <td>330</td>\n",
       "      <td>35</td>\n",
       "      <td>6.404489</td>\n",
       "      <td>Moderate</td>\n",
       "    </tr>\n",
       "    <tr>\n",
       "      <th>3</th>\n",
       "      <td>1793000</td>\n",
       "      <td>9407280</td>\n",
       "      <td>Vadhana</td>\n",
       "      <td>Central</td>\n",
       "      <td>Entire home/apt</td>\n",
       "      <td>5034</td>\n",
       "      <td>High</td>\n",
       "      <td>High</td>\n",
       "      <td>349</td>\n",
       "      <td>16</td>\n",
       "      <td>4.449578</td>\n",
       "      <td>Low</td>\n",
       "    </tr>\n",
       "    <tr>\n",
       "      <th>4</th>\n",
       "      <td>1808600</td>\n",
       "      <td>9478184</td>\n",
       "      <td>Khlong Toei</td>\n",
       "      <td>Central</td>\n",
       "      <td>Entire home/apt</td>\n",
       "      <td>2078</td>\n",
       "      <td>High</td>\n",
       "      <td>High</td>\n",
       "      <td>55</td>\n",
       "      <td>310</td>\n",
       "      <td>15.196792</td>\n",
       "      <td>High</td>\n",
       "    </tr>\n",
       "  </tbody>\n",
       "</table>\n",
       "</div>"
      ],
      "text/plain": [
       "        id  host_id neighbourhood   region        room_type  price  \\\n",
       "0    27934   120437   Ratchathewi  Central  Entire home/apt   1905   \n",
       "1   959254  5153476   Khlong Toei  Central  Entire home/apt   1400   \n",
       "2  1791481  9399478   Khlong Toei  Central  Entire home/apt   1577   \n",
       "3  1793000  9407280       Vadhana  Central  Entire home/apt   5034   \n",
       "4  1808600  9478184   Khlong Toei  Central  Entire home/apt   2078   \n",
       "\n",
       "  reviews_activity reviews_engagement  availability_365  booking_activity  \\\n",
       "0             High           Moderate               353                12   \n",
       "1              Low                Low               365                 0   \n",
       "2             High               High               330                35   \n",
       "3             High               High               349                16   \n",
       "4             High               High                55               310   \n",
       "\n",
       "   bc_booking booking_activity_ord  \n",
       "0    3.850076                  Low  \n",
       "1    0.000000                  Low  \n",
       "2    6.404489             Moderate  \n",
       "3    4.449578                  Low  \n",
       "4   15.196792                 High  "
      ]
     },
     "execution_count": 674,
     "metadata": {},
     "output_type": "execute_result"
    }
   ],
   "source": [
    "df3.head()"
   ]
  },
  {
   "cell_type": "code",
   "execution_count": 675,
   "metadata": {},
   "outputs": [],
   "source": [
    "df3 = df3[[\"id\", \"neighbourhood\", \"region\", \"room_type\", \"price\", \"reviews_activity\", \"booking_activity_ord\"]]"
   ]
  },
  {
   "cell_type": "code",
   "execution_count": 676,
   "metadata": {},
   "outputs": [
    {
     "data": {
      "text/html": [
       "<div>\n",
       "<style scoped>\n",
       "    .dataframe tbody tr th:only-of-type {\n",
       "        vertical-align: middle;\n",
       "    }\n",
       "\n",
       "    .dataframe tbody tr th {\n",
       "        vertical-align: top;\n",
       "    }\n",
       "\n",
       "    .dataframe thead th {\n",
       "        text-align: right;\n",
       "    }\n",
       "</style>\n",
       "<table border=\"1\" class=\"dataframe\">\n",
       "  <thead>\n",
       "    <tr style=\"text-align: right;\">\n",
       "      <th></th>\n",
       "      <th>id</th>\n",
       "      <th>neighbourhood</th>\n",
       "      <th>region</th>\n",
       "      <th>room_type</th>\n",
       "      <th>price</th>\n",
       "      <th>reviews_activity</th>\n",
       "      <th>booking_activity_ord</th>\n",
       "    </tr>\n",
       "  </thead>\n",
       "  <tbody>\n",
       "    <tr>\n",
       "      <th>0</th>\n",
       "      <td>27934</td>\n",
       "      <td>Ratchathewi</td>\n",
       "      <td>Central</td>\n",
       "      <td>Entire home/apt</td>\n",
       "      <td>1905</td>\n",
       "      <td>High</td>\n",
       "      <td>Low</td>\n",
       "    </tr>\n",
       "    <tr>\n",
       "      <th>1</th>\n",
       "      <td>959254</td>\n",
       "      <td>Khlong Toei</td>\n",
       "      <td>Central</td>\n",
       "      <td>Entire home/apt</td>\n",
       "      <td>1400</td>\n",
       "      <td>Low</td>\n",
       "      <td>Low</td>\n",
       "    </tr>\n",
       "    <tr>\n",
       "      <th>2</th>\n",
       "      <td>1791481</td>\n",
       "      <td>Khlong Toei</td>\n",
       "      <td>Central</td>\n",
       "      <td>Entire home/apt</td>\n",
       "      <td>1577</td>\n",
       "      <td>High</td>\n",
       "      <td>Moderate</td>\n",
       "    </tr>\n",
       "    <tr>\n",
       "      <th>3</th>\n",
       "      <td>1793000</td>\n",
       "      <td>Vadhana</td>\n",
       "      <td>Central</td>\n",
       "      <td>Entire home/apt</td>\n",
       "      <td>5034</td>\n",
       "      <td>High</td>\n",
       "      <td>Low</td>\n",
       "    </tr>\n",
       "    <tr>\n",
       "      <th>4</th>\n",
       "      <td>1808600</td>\n",
       "      <td>Khlong Toei</td>\n",
       "      <td>Central</td>\n",
       "      <td>Entire home/apt</td>\n",
       "      <td>2078</td>\n",
       "      <td>High</td>\n",
       "      <td>High</td>\n",
       "    </tr>\n",
       "  </tbody>\n",
       "</table>\n",
       "</div>"
      ],
      "text/plain": [
       "        id neighbourhood   region        room_type  price reviews_activity  \\\n",
       "0    27934   Ratchathewi  Central  Entire home/apt   1905             High   \n",
       "1   959254   Khlong Toei  Central  Entire home/apt   1400              Low   \n",
       "2  1791481   Khlong Toei  Central  Entire home/apt   1577             High   \n",
       "3  1793000       Vadhana  Central  Entire home/apt   5034             High   \n",
       "4  1808600   Khlong Toei  Central  Entire home/apt   2078             High   \n",
       "\n",
       "  booking_activity_ord  \n",
       "0                  Low  \n",
       "1                  Low  \n",
       "2             Moderate  \n",
       "3                  Low  \n",
       "4                 High  "
      ]
     },
     "execution_count": 676,
     "metadata": {},
     "output_type": "execute_result"
    }
   ],
   "source": [
    "df3.head()"
   ]
  },
  {
   "cell_type": "code",
   "execution_count": 677,
   "metadata": {},
   "outputs": [],
   "source": [
    "df3[\"reviews_activity_num\"] = df3[\"reviews_activity\"].map({\"Low\": 1, \"Moderate\": 2, \"High\": 3})\n",
    "df3[\"booking_activity_num\"] = df3[\"booking_activity_ord\"].map({\"Low\": 1, \"Moderate\": 2, \"High\": 3})"
   ]
  },
  {
   "cell_type": "code",
   "execution_count": 678,
   "metadata": {},
   "outputs": [
    {
     "data": {
      "text/html": [
       "<div>\n",
       "<style scoped>\n",
       "    .dataframe tbody tr th:only-of-type {\n",
       "        vertical-align: middle;\n",
       "    }\n",
       "\n",
       "    .dataframe tbody tr th {\n",
       "        vertical-align: top;\n",
       "    }\n",
       "\n",
       "    .dataframe thead th {\n",
       "        text-align: right;\n",
       "    }\n",
       "</style>\n",
       "<table border=\"1\" class=\"dataframe\">\n",
       "  <thead>\n",
       "    <tr style=\"text-align: right;\">\n",
       "      <th></th>\n",
       "      <th>id</th>\n",
       "      <th>neighbourhood</th>\n",
       "      <th>region</th>\n",
       "      <th>room_type</th>\n",
       "      <th>price</th>\n",
       "      <th>reviews_activity</th>\n",
       "      <th>booking_activity_ord</th>\n",
       "      <th>reviews_activity_num</th>\n",
       "      <th>booking_activity_num</th>\n",
       "    </tr>\n",
       "  </thead>\n",
       "  <tbody>\n",
       "    <tr>\n",
       "      <th>0</th>\n",
       "      <td>27934</td>\n",
       "      <td>Ratchathewi</td>\n",
       "      <td>Central</td>\n",
       "      <td>Entire home/apt</td>\n",
       "      <td>1905</td>\n",
       "      <td>High</td>\n",
       "      <td>Low</td>\n",
       "      <td>3</td>\n",
       "      <td>1</td>\n",
       "    </tr>\n",
       "    <tr>\n",
       "      <th>1</th>\n",
       "      <td>959254</td>\n",
       "      <td>Khlong Toei</td>\n",
       "      <td>Central</td>\n",
       "      <td>Entire home/apt</td>\n",
       "      <td>1400</td>\n",
       "      <td>Low</td>\n",
       "      <td>Low</td>\n",
       "      <td>1</td>\n",
       "      <td>1</td>\n",
       "    </tr>\n",
       "    <tr>\n",
       "      <th>2</th>\n",
       "      <td>1791481</td>\n",
       "      <td>Khlong Toei</td>\n",
       "      <td>Central</td>\n",
       "      <td>Entire home/apt</td>\n",
       "      <td>1577</td>\n",
       "      <td>High</td>\n",
       "      <td>Moderate</td>\n",
       "      <td>3</td>\n",
       "      <td>2</td>\n",
       "    </tr>\n",
       "    <tr>\n",
       "      <th>3</th>\n",
       "      <td>1793000</td>\n",
       "      <td>Vadhana</td>\n",
       "      <td>Central</td>\n",
       "      <td>Entire home/apt</td>\n",
       "      <td>5034</td>\n",
       "      <td>High</td>\n",
       "      <td>Low</td>\n",
       "      <td>3</td>\n",
       "      <td>1</td>\n",
       "    </tr>\n",
       "    <tr>\n",
       "      <th>4</th>\n",
       "      <td>1808600</td>\n",
       "      <td>Khlong Toei</td>\n",
       "      <td>Central</td>\n",
       "      <td>Entire home/apt</td>\n",
       "      <td>2078</td>\n",
       "      <td>High</td>\n",
       "      <td>High</td>\n",
       "      <td>3</td>\n",
       "      <td>3</td>\n",
       "    </tr>\n",
       "  </tbody>\n",
       "</table>\n",
       "</div>"
      ],
      "text/plain": [
       "        id neighbourhood   region        room_type  price reviews_activity  \\\n",
       "0    27934   Ratchathewi  Central  Entire home/apt   1905             High   \n",
       "1   959254   Khlong Toei  Central  Entire home/apt   1400              Low   \n",
       "2  1791481   Khlong Toei  Central  Entire home/apt   1577             High   \n",
       "3  1793000       Vadhana  Central  Entire home/apt   5034             High   \n",
       "4  1808600   Khlong Toei  Central  Entire home/apt   2078             High   \n",
       "\n",
       "  booking_activity_ord reviews_activity_num booking_activity_num  \n",
       "0                  Low                    3                    1  \n",
       "1                  Low                    1                    1  \n",
       "2             Moderate                    3                    2  \n",
       "3                  Low                    3                    1  \n",
       "4                 High                    3                    3  "
      ]
     },
     "execution_count": 678,
     "metadata": {},
     "output_type": "execute_result"
    }
   ],
   "source": [
    "df3.head()"
   ]
  },
  {
   "cell_type": "code",
   "execution_count": 679,
   "metadata": {},
   "outputs": [
    {
     "name": "stdout",
     "output_type": "stream",
     "text": [
      "<class 'pandas.core.frame.DataFrame'>\n",
      "Index: 14387 entries, 0 to 14386\n",
      "Data columns (total 9 columns):\n",
      " #   Column                Non-Null Count  Dtype   \n",
      "---  ------                --------------  -----   \n",
      " 0   id                    14387 non-null  int64   \n",
      " 1   neighbourhood         14387 non-null  object  \n",
      " 2   region                14387 non-null  object  \n",
      " 3   room_type             14387 non-null  object  \n",
      " 4   price                 14387 non-null  int64   \n",
      " 5   reviews_activity      14387 non-null  category\n",
      " 6   booking_activity_ord  14387 non-null  category\n",
      " 7   reviews_activity_num  14387 non-null  category\n",
      " 8   booking_activity_num  14387 non-null  category\n",
      "dtypes: category(4), int64(2), object(3)\n",
      "memory usage: 731.1+ KB\n"
     ]
    }
   ],
   "source": [
    "df3.info()"
   ]
  },
  {
   "cell_type": "code",
   "execution_count": 680,
   "metadata": {},
   "outputs": [],
   "source": [
    "df3[\"reviews_activity_num\"] = df3[\"reviews_activity_num\"].astype(int)\n",
    "df3[\"booking_activity_num\"] = df3[\"booking_activity_num\"].astype(int)"
   ]
  },
  {
   "cell_type": "code",
   "execution_count": 681,
   "metadata": {},
   "outputs": [],
   "source": [
    "df3[\"popularity\"] = (df3[\"reviews_activity_num\"] + df3[\"booking_activity_num\"]) / 2"
   ]
  },
  {
   "cell_type": "code",
   "execution_count": 682,
   "metadata": {},
   "outputs": [
    {
     "data": {
      "text/html": [
       "<div>\n",
       "<style scoped>\n",
       "    .dataframe tbody tr th:only-of-type {\n",
       "        vertical-align: middle;\n",
       "    }\n",
       "\n",
       "    .dataframe tbody tr th {\n",
       "        vertical-align: top;\n",
       "    }\n",
       "\n",
       "    .dataframe thead th {\n",
       "        text-align: right;\n",
       "    }\n",
       "</style>\n",
       "<table border=\"1\" class=\"dataframe\">\n",
       "  <thead>\n",
       "    <tr style=\"text-align: right;\">\n",
       "      <th></th>\n",
       "      <th>id</th>\n",
       "      <th>neighbourhood</th>\n",
       "      <th>region</th>\n",
       "      <th>room_type</th>\n",
       "      <th>price</th>\n",
       "      <th>reviews_activity</th>\n",
       "      <th>booking_activity_ord</th>\n",
       "      <th>reviews_activity_num</th>\n",
       "      <th>booking_activity_num</th>\n",
       "      <th>popularity</th>\n",
       "    </tr>\n",
       "  </thead>\n",
       "  <tbody>\n",
       "    <tr>\n",
       "      <th>0</th>\n",
       "      <td>27934</td>\n",
       "      <td>Ratchathewi</td>\n",
       "      <td>Central</td>\n",
       "      <td>Entire home/apt</td>\n",
       "      <td>1905</td>\n",
       "      <td>High</td>\n",
       "      <td>Low</td>\n",
       "      <td>3</td>\n",
       "      <td>1</td>\n",
       "      <td>2.0</td>\n",
       "    </tr>\n",
       "    <tr>\n",
       "      <th>1</th>\n",
       "      <td>959254</td>\n",
       "      <td>Khlong Toei</td>\n",
       "      <td>Central</td>\n",
       "      <td>Entire home/apt</td>\n",
       "      <td>1400</td>\n",
       "      <td>Low</td>\n",
       "      <td>Low</td>\n",
       "      <td>1</td>\n",
       "      <td>1</td>\n",
       "      <td>1.0</td>\n",
       "    </tr>\n",
       "    <tr>\n",
       "      <th>2</th>\n",
       "      <td>1791481</td>\n",
       "      <td>Khlong Toei</td>\n",
       "      <td>Central</td>\n",
       "      <td>Entire home/apt</td>\n",
       "      <td>1577</td>\n",
       "      <td>High</td>\n",
       "      <td>Moderate</td>\n",
       "      <td>3</td>\n",
       "      <td>2</td>\n",
       "      <td>2.5</td>\n",
       "    </tr>\n",
       "    <tr>\n",
       "      <th>3</th>\n",
       "      <td>1793000</td>\n",
       "      <td>Vadhana</td>\n",
       "      <td>Central</td>\n",
       "      <td>Entire home/apt</td>\n",
       "      <td>5034</td>\n",
       "      <td>High</td>\n",
       "      <td>Low</td>\n",
       "      <td>3</td>\n",
       "      <td>1</td>\n",
       "      <td>2.0</td>\n",
       "    </tr>\n",
       "    <tr>\n",
       "      <th>4</th>\n",
       "      <td>1808600</td>\n",
       "      <td>Khlong Toei</td>\n",
       "      <td>Central</td>\n",
       "      <td>Entire home/apt</td>\n",
       "      <td>2078</td>\n",
       "      <td>High</td>\n",
       "      <td>High</td>\n",
       "      <td>3</td>\n",
       "      <td>3</td>\n",
       "      <td>3.0</td>\n",
       "    </tr>\n",
       "  </tbody>\n",
       "</table>\n",
       "</div>"
      ],
      "text/plain": [
       "        id neighbourhood   region        room_type  price reviews_activity  \\\n",
       "0    27934   Ratchathewi  Central  Entire home/apt   1905             High   \n",
       "1   959254   Khlong Toei  Central  Entire home/apt   1400              Low   \n",
       "2  1791481   Khlong Toei  Central  Entire home/apt   1577             High   \n",
       "3  1793000       Vadhana  Central  Entire home/apt   5034             High   \n",
       "4  1808600   Khlong Toei  Central  Entire home/apt   2078             High   \n",
       "\n",
       "  booking_activity_ord  reviews_activity_num  booking_activity_num  popularity  \n",
       "0                  Low                     3                     1         2.0  \n",
       "1                  Low                     1                     1         1.0  \n",
       "2             Moderate                     3                     2         2.5  \n",
       "3                  Low                     3                     1         2.0  \n",
       "4                 High                     3                     3         3.0  "
      ]
     },
     "execution_count": 682,
     "metadata": {},
     "output_type": "execute_result"
    }
   ],
   "source": [
    "df3.head()"
   ]
  },
  {
   "cell_type": "code",
   "execution_count": 683,
   "metadata": {},
   "outputs": [],
   "source": [
    "# revenue potential = popularity x price\n",
    "df3[\"revenue_pot\"] = df3[\"price\"] * df3[\"popularity\"]"
   ]
  },
  {
   "cell_type": "code",
   "execution_count": 684,
   "metadata": {},
   "outputs": [
    {
     "data": {
      "text/plain": [
       "Text(0.5, 1.0, 'Shared Room')"
      ]
     },
     "execution_count": 684,
     "metadata": {},
     "output_type": "execute_result"
    },
    {
     "data": {
      "image/png": "[encoded data removed]",
      "text/plain": [
       "<Figure size 2000x1000 with 5 Axes>"
      ]
     },
     "metadata": {},
     "output_type": "display_data"
    }
   ],
   "source": [
    "# histplot to see distribution of revenue potential\n",
    "plt.figure(figsize=(20, 10))\n",
    "plt.title(\"Distribution of Revenue Potential for Each Room Type by Region\\n\")\n",
    "plt.box(on= None)\n",
    "plt.axis(\"off\")\n",
    "\n",
    "plt.subplot(2, 2, 1)\n",
    "sns.histplot(x = \"revenue_pot\", data = df3[df3[\"room_type\"] == \"Entire home/apt\"], hue = \"region\", palette=\"viridis\")\n",
    "plt.title(\"Entire Home/Apt\")\n",
    "\n",
    "plt.subplot(2, 2, 2)\n",
    "sns.histplot(x = \"revenue_pot\", data = df3[df3[\"room_type\"] == \"Hotel room\"], hue = \"region\", palette=\"viridis\")\n",
    "plt.title(\"Hotel Room\")\n",
    "\n",
    "plt.subplot(2, 2, 3)\n",
    "sns.histplot(x = \"revenue_pot\", data = df3[df3[\"room_type\"] == \"Private room\"], hue = \"region\", palette=\"viridis\")\n",
    "plt.title(\"Private Room\")\n",
    "\n",
    "plt.subplot(2, 2, 4)\n",
    "sns.histplot(x = \"revenue_pot\", data = df3[df3[\"room_type\"] == \"Shared room\"], hue = \"region\", palette=\"viridis\")\n",
    "plt.title(\"Shared Room\")"
   ]
  },
  {
   "cell_type": "code",
   "execution_count": 685,
   "metadata": {},
   "outputs": [
    {
     "data": {
      "text/plain": [
       "Text(0.5, 1.0, 'Median Revenue Potential of Room Types by Region')"
      ]
     },
     "execution_count": 685,
     "metadata": {},
     "output_type": "execute_result"
    },
    {
     "data": {
      "image/png": "[encoded data removed]",
      "text/plain": [
       "<Figure size 1000x600 with 1 Axes>"
      ]
     },
     "metadata": {},
     "output_type": "display_data"
    }
   ],
   "source": [
    "# bar graph showing the difference in revenue potential for each room_type in the different regions\n",
    "plt.figure(figsize=(10, 6))\n",
    "sns.barplot(x = \"room_type\", y = \"revenue_pot\", data = df3, hue = \"region\", estimator=np.median, errorbar= None, palette=\"viridis\")\n",
    "plt.title(\"Median Revenue Potential of Room Types by Region\")"
   ]
  },
  {
   "cell_type": "code",
   "execution_count": null,
   "metadata": {},
   "outputs": [],
   "source": []
  }
 ],
 "metadata": {
  "kernelspec": {
   "display_name": "Python 3",
   "language": "python",
   "name": "python3"
  },
  "language_info": {
   "codemirror_mode": {
    "name": "ipython",
    "version": 3
   },
   "file_extension": ".py",
   "mimetype": "text/x-python",
   "name": "python",
   "nbconvert_exporter": "python",
   "pygments_lexer": "ipython3",
   "version": "3.11.9"
  }
 },
 "nbformat": 4,
 "nbformat_minor": 2
}
